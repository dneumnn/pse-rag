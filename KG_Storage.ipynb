{
 "cells": [
  {
   "cell_type": "markdown",
   "id": "a4417572-d353-4566-9b48-292c9afa18e0",
   "metadata": {},
   "source": [
    "# Construct a RAG based on a Knowledge Graph out of text using a LLM \n",
    "\n",
    "## Part 2\n",
    "\n",
    "1. Store the Graph into a Graph Database\n"
   ]
  },
  {
   "cell_type": "markdown",
   "id": "3e4a39a7-6874-4471-b327-a7b04aa76c42",
   "metadata": {},
   "source": [
    "## Initialize graph database"
   ]
  },
  {
   "cell_type": "code",
   "execution_count": 117,
   "id": "9cbdab5b-19a8-4a1a-bd56-c477ea06819d",
   "metadata": {},
   "outputs": [],
   "source": [
    "################ Start KUZU Graph DB #################\n",
    "import shutil\n",
    "shutil.rmtree(\"./kuzu\", ignore_errors=True)\n",
    "import kuzu\n",
    "db = kuzu.Database(\"kuzu\")\n",
    "conn = kuzu.Connection(db)"
   ]
  },
  {
   "cell_type": "code",
   "execution_count": 118,
   "id": "0cbdbe01-6c9a-491a-9f96-cce49d5bc273",
   "metadata": {},
   "outputs": [
    {
     "data": {
      "text/plain": [
       "<kuzu.query_result.QueryResult at 0x11fd38350>"
      ]
     },
     "execution_count": 118,
     "metadata": {},
     "output_type": "execute_result"
    }
   ],
   "source": [
    "conn.execute(\"CREATE NODE TABLE Article(page STRING, language STRING, PRIMARY KEY (page))\")\n",
    "conn.execute(\"CREATE NODE TABLE Chunk(uuid STRING, content STRING, PRIMARY KEY (uuid))\")\n",
    "conn.execute(\"CREATE NODE TABLE Concept(name STRING, importance INT32, category STRING, PRIMARY KEY (name))\")\n",
    "\n",
    "conn.execute(\"CREATE REL TABLE ChunkToArticle(FROM Chunk TO Article, relation_type STRING)\")\n",
    "conn.execute(\"CREATE REL TABLE ConceptToChunk(FROM Concept TO Chunk, relation_type STRING)\")\n",
    "conn.execute(\"CREATE REL TABLE ConceptToConcept(FROM Concept TO Concept, relation STRING, relation_type STRING, weight INT32, chunk_ids STRING)\")\n"
   ]
  },
  {
   "cell_type": "code",
   "execution_count": 119,
   "id": "2df9eb0c-0ee3-468f-b443-9100eb7e3255",
   "metadata": {},
   "outputs": [
    {
     "name": "stdout",
     "output_type": "stream",
     "text": [
      "['ConceptToConcept', 'REL', '']\n",
      "['ChunkToArticle', 'REL', '']\n",
      "['Chunk', 'NODE', '']\n",
      "['Article', 'NODE', '']\n",
      "['Concept', 'NODE', '']\n",
      "['ConceptToChunk', 'REL', '']\n"
     ]
    }
   ],
   "source": [
    "tables = []\n",
    "results = conn.execute(\"CALL SHOW_TABLES() RETURN *\")\n",
    "while results.has_next():\n",
    "    x = results.get_next()\n",
    "    print(x)\n",
    "    tables.append(x[0])\n",
    "results.close()"
   ]
  },
  {
   "cell_type": "code",
   "execution_count": 120,
   "id": "c7cbedf3-9cf5-45b8-a7d9-0b23c9049435",
   "metadata": {},
   "outputs": [
    {
     "name": "stdout",
     "output_type": "stream",
     "text": [
      "ConceptToConcept\n",
      "[1, 'relation', 'STRING']\n",
      "[2, 'relation_type', 'STRING']\n",
      "[3, 'weight', 'INT32']\n",
      "[4, 'chunk_ids', 'STRING']\n",
      "ChunkToArticle\n",
      "[1, 'relation_type', 'STRING']\n",
      "Chunk\n",
      "[0, 'uuid', 'STRING', True]\n",
      "[1, 'content', 'STRING', False]\n",
      "Article\n",
      "[0, 'page', 'STRING', True]\n",
      "[1, 'language', 'STRING', False]\n",
      "Concept\n",
      "[0, 'name', 'STRING', True]\n",
      "[1, 'importance', 'INT32', False]\n",
      "[2, 'category', 'STRING', False]\n",
      "ConceptToChunk\n",
      "[1, 'relation_type', 'STRING']\n"
     ]
    }
   ],
   "source": [
    "for table in tables:\n",
    "    print(table)\n",
    "    results = conn.execute(f\"CALL TABLE_INFO('{table}') RETURN *\")\n",
    "    while results.has_next():\n",
    "        print(results.get_next())\n",
    "    results.close()"
   ]
  },
  {
   "cell_type": "code",
   "execution_count": 121,
   "id": "84cef2ed-9de7-4554-8a55-5e1883d1499c",
   "metadata": {},
   "outputs": [],
   "source": [
    "######## insert article into data base #########\n",
    "results = conn.execute(\"CREATE (u:Article {page: 'Albert Einstein', language: 'en'})\")\n",
    "results.close()"
   ]
  },
  {
   "cell_type": "code",
   "execution_count": 122,
   "id": "9a030ca0-276c-44d4-b84d-225067001dc9",
   "metadata": {},
   "outputs": [
    {
     "name": "stdout",
     "output_type": "stream",
     "text": [
      "97\n"
     ]
    }
   ],
   "source": [
    "####### insert chunks into data base and link them to article \"Albert Einstein\" \n",
    "import re\n",
    "\n",
    "with open(\"./output/db/chunks.json\", \"r\") as f:\n",
    "    chunks = json.loads(f.read())\n",
    "print(len(chunks))\n",
    "      \n",
    "for chunk in chunks:\n",
    "    uuid = chunk['kwargs']['metadata']['uuid']\n",
    "    content = chunk['kwargs']['page_content']\n",
    "    content = re.sub('[^A-Z.a-z]+', ' ', content)\n",
    "    statement = f\"CREATE (u:Chunk {{uuid: '{uuid}', content: '{content}'}})\"\n",
    "    results = conn.execute(statement)\n",
    "    results.close()\n",
    "    statement = f\"MATCH (u1:Chunk), (u2:Article) WHERE u1.uuid = '{uuid}' AND u2.page = 'Albert Einstein' CREATE (u1)-[:ChunkToArticle {{relation_type: 'belongsTo'}}]->(u2)\"\n",
    "    results = conn.execute(statement)\n",
    "    results.close()    "
   ]
  },
  {
   "cell_type": "code",
   "execution_count": 123,
   "id": "05f1669c-93ba-48d5-b515-ec9b98f57fc9",
   "metadata": {},
   "outputs": [
    {
     "data": {
      "text/html": [
       "<div>\n",
       "<style scoped>\n",
       "    .dataframe tbody tr th:only-of-type {\n",
       "        vertical-align: middle;\n",
       "    }\n",
       "\n",
       "    .dataframe tbody tr th {\n",
       "        vertical-align: top;\n",
       "    }\n",
       "\n",
       "    .dataframe thead th {\n",
       "        text-align: right;\n",
       "    }\n",
       "</style>\n",
       "<table border=\"1\" class=\"dataframe\">\n",
       "  <thead>\n",
       "    <tr style=\"text-align: right;\">\n",
       "      <th></th>\n",
       "      <th>uuid</th>\n",
       "      <th>relation</th>\n",
       "      <th>page</th>\n",
       "    </tr>\n",
       "  </thead>\n",
       "  <tbody>\n",
       "    <tr>\n",
       "      <th>0</th>\n",
       "      <td>0af897c6-3391-496e-a93c-a5a18b350f50</td>\n",
       "      <td>belongsTo</td>\n",
       "      <td>Albert Einstein</td>\n",
       "    </tr>\n",
       "    <tr>\n",
       "      <th>1</th>\n",
       "      <td>4a87bc98-7290-4788-a482-0af3c1767dbf</td>\n",
       "      <td>belongsTo</td>\n",
       "      <td>Albert Einstein</td>\n",
       "    </tr>\n",
       "    <tr>\n",
       "      <th>2</th>\n",
       "      <td>a92380ed-183b-412b-953e-4e7039f9b30d</td>\n",
       "      <td>belongsTo</td>\n",
       "      <td>Albert Einstein</td>\n",
       "    </tr>\n",
       "    <tr>\n",
       "      <th>3</th>\n",
       "      <td>7f9dbafe-f39b-4ae5-96d1-f58e72415df2</td>\n",
       "      <td>belongsTo</td>\n",
       "      <td>Albert Einstein</td>\n",
       "    </tr>\n",
       "    <tr>\n",
       "      <th>4</th>\n",
       "      <td>57187cee-a334-4c5f-bfab-4551cf726c95</td>\n",
       "      <td>belongsTo</td>\n",
       "      <td>Albert Einstein</td>\n",
       "    </tr>\n",
       "  </tbody>\n",
       "</table>\n",
       "</div>"
      ],
      "text/plain": [
       "                                   uuid   relation             page\n",
       "0  0af897c6-3391-496e-a93c-a5a18b350f50  belongsTo  Albert Einstein\n",
       "1  4a87bc98-7290-4788-a482-0af3c1767dbf  belongsTo  Albert Einstein\n",
       "2  a92380ed-183b-412b-953e-4e7039f9b30d  belongsTo  Albert Einstein\n",
       "3  7f9dbafe-f39b-4ae5-96d1-f58e72415df2  belongsTo  Albert Einstein\n",
       "4  57187cee-a334-4c5f-bfab-4551cf726c95  belongsTo  Albert Einstein"
      ]
     },
     "execution_count": 123,
     "metadata": {},
     "output_type": "execute_result"
    }
   ],
   "source": [
    "results = conn.execute('MATCH (a:Chunk)-[f:ChunkToArticle]->(b:Article) RETURN a.uuid as uuid, f.relation_type AS relation, b.page as page;').get_as_df()\n",
    "results.head()"
   ]
  },
  {
   "cell_type": "code",
   "execution_count": 124,
   "id": "e19f5ff6-9671-422c-bf16-88b5b0c67774",
   "metadata": {},
   "outputs": [
    {
     "name": "stdout",
     "output_type": "stream",
     "text": [
      "680\n"
     ]
    }
   ],
   "source": [
    "concept_ids = {}\n",
    "with open(\"./output/db/concepts.json\", \"r\") as f:\n",
    "    concepts = json.loads(f.read())\n",
    "print(len(concepts))\n",
    "for concept in concepts:\n",
    "    name = concept['entity']\n",
    "    name = re.sub('[^A-Z.a-z]+', '_', name)\n",
    "    category = concept['category']\n",
    "    importance = concept['importance']\n",
    "    uuid = concept['uuid']\n",
    "    if name not in concept_ids:\n",
    "        concept_ids[name] = concept\n",
    "        statement = f\"CREATE (u:Concept {{name: '{name}', category: '{category}'}})\"        \n",
    "        results = conn.execute(statement)\n",
    "        results.close()\n",
    "    statement = f\"MATCH (u1:Concept), (u2:Chunk) WHERE u1.name = '{name}' AND u2.uuid = '{uuid}' CREATE (u1)-[:ConceptToChunk {{relation_type: 'occures'}}]->(u2)\"\n",
    "    results = conn.execute(statement)\n",
    "    results.close()"
   ]
  },
  {
   "cell_type": "code",
   "execution_count": 125,
   "id": "deb9814f-ca2c-4636-928e-704048d85909",
   "metadata": {},
   "outputs": [
    {
     "data": {
      "text/html": [
       "<div>\n",
       "<style scoped>\n",
       "    .dataframe tbody tr th:only-of-type {\n",
       "        vertical-align: middle;\n",
       "    }\n",
       "\n",
       "    .dataframe tbody tr th {\n",
       "        vertical-align: top;\n",
       "    }\n",
       "\n",
       "    .dataframe thead th {\n",
       "        text-align: right;\n",
       "    }\n",
       "</style>\n",
       "<table border=\"1\" class=\"dataframe\">\n",
       "  <thead>\n",
       "    <tr style=\"text-align: right;\">\n",
       "      <th></th>\n",
       "      <th>name</th>\n",
       "      <th>relation</th>\n",
       "      <th>uuid</th>\n",
       "    </tr>\n",
       "  </thead>\n",
       "  <tbody>\n",
       "    <tr>\n",
       "      <th>0</th>\n",
       "      <td>Albert_Einstein</td>\n",
       "      <td>occures</td>\n",
       "      <td>0af897c6-3391-496e-a93c-a5a18b350f50</td>\n",
       "    </tr>\n",
       "    <tr>\n",
       "      <th>1</th>\n",
       "      <td>Albert_Einstein</td>\n",
       "      <td>occures</td>\n",
       "      <td>10326035-baa9-45c3-ad5f-58de2098b98a</td>\n",
       "    </tr>\n",
       "    <tr>\n",
       "      <th>2</th>\n",
       "      <td>Albert_Einstein</td>\n",
       "      <td>occures</td>\n",
       "      <td>54dc8c74-0933-4c47-9228-9b40070a6adc</td>\n",
       "    </tr>\n",
       "    <tr>\n",
       "      <th>3</th>\n",
       "      <td>Albert_Einstein</td>\n",
       "      <td>occures</td>\n",
       "      <td>fe7f8933-eaf1-4080-97bf-ab18cadff6de</td>\n",
       "    </tr>\n",
       "    <tr>\n",
       "      <th>4</th>\n",
       "      <td>Albert_Einstein</td>\n",
       "      <td>occures</td>\n",
       "      <td>3a198290-8dcd-4840-bb95-003e1be1b1c5</td>\n",
       "    </tr>\n",
       "  </tbody>\n",
       "</table>\n",
       "</div>"
      ],
      "text/plain": [
       "              name relation                                  uuid\n",
       "0  Albert_Einstein  occures  0af897c6-3391-496e-a93c-a5a18b350f50\n",
       "1  Albert_Einstein  occures  10326035-baa9-45c3-ad5f-58de2098b98a\n",
       "2  Albert_Einstein  occures  54dc8c74-0933-4c47-9228-9b40070a6adc\n",
       "3  Albert_Einstein  occures  fe7f8933-eaf1-4080-97bf-ab18cadff6de\n",
       "4  Albert_Einstein  occures  3a198290-8dcd-4840-bb95-003e1be1b1c5"
      ]
     },
     "execution_count": 125,
     "metadata": {},
     "output_type": "execute_result"
    }
   ],
   "source": [
    "results = conn.execute('MATCH (a:Concept)-[f:ConceptToChunk]->(b:Chunk) RETURN a.name as name, f.relation_type AS relation, b.uuid as uuid;').get_as_df()\n",
    "results.head()"
   ]
  },
  {
   "cell_type": "code",
   "execution_count": 126,
   "id": "334c42e6-e44d-410f-aec0-1ecbd0b85ceb",
   "metadata": {},
   "outputs": [
    {
     "data": {
      "text/html": [
       "<div>\n",
       "<style scoped>\n",
       "    .dataframe tbody tr th:only-of-type {\n",
       "        vertical-align: middle;\n",
       "    }\n",
       "\n",
       "    .dataframe tbody tr th {\n",
       "        vertical-align: top;\n",
       "    }\n",
       "\n",
       "    .dataframe thead th {\n",
       "        text-align: right;\n",
       "    }\n",
       "</style>\n",
       "<table border=\"1\" class=\"dataframe\">\n",
       "  <thead>\n",
       "    <tr style=\"text-align: right;\">\n",
       "      <th></th>\n",
       "      <th>source</th>\n",
       "      <th>target</th>\n",
       "      <th>relation</th>\n",
       "      <th>weight</th>\n",
       "      <th>uuids</th>\n",
       "    </tr>\n",
       "  </thead>\n",
       "  <tbody>\n",
       "    <tr>\n",
       "      <th>0</th>\n",
       "      <td>Albert Einstein</td>\n",
       "      <td>theory of relativity</td>\n",
       "      <td>developed the theory of relativity</td>\n",
       "      <td>1</td>\n",
       "      <td>['0af897c6-3391-496e-a93c-a5a18b350f50']</td>\n",
       "    </tr>\n",
       "    <tr>\n",
       "      <th>1</th>\n",
       "      <td>Albert Einstein</td>\n",
       "      <td>quantum mechanics</td>\n",
       "      <td>made important contributions to quantum mechanics</td>\n",
       "      <td>1</td>\n",
       "      <td>['0af897c6-3391-496e-a93c-a5a18b350f50']</td>\n",
       "    </tr>\n",
       "    <tr>\n",
       "      <th>2</th>\n",
       "      <td>Albert Einstein</td>\n",
       "      <td>mass–energy equivalence formula E=mc2</td>\n",
       "      <td>developed the mass–energy equivalence formula ...</td>\n",
       "      <td>1</td>\n",
       "      <td>['0af897c6-3391-496e-a93c-a5a18b350f50']</td>\n",
       "    </tr>\n",
       "    <tr>\n",
       "      <th>3</th>\n",
       "      <td>Albert Einstein</td>\n",
       "      <td>photoelectric effect</td>\n",
       "      <td>discovered the law of the photoelectric effect</td>\n",
       "      <td>1</td>\n",
       "      <td>['0af897c6-3391-496e-a93c-a5a18b350f50']</td>\n",
       "    </tr>\n",
       "    <tr>\n",
       "      <th>4</th>\n",
       "      <td>Albert Einstein</td>\n",
       "      <td>quantum theory</td>\n",
       "      <td>took a pivotal step in the development of quan...</td>\n",
       "      <td>1</td>\n",
       "      <td>['0af897c6-3391-496e-a93c-a5a18b350f50']</td>\n",
       "    </tr>\n",
       "  </tbody>\n",
       "</table>\n",
       "</div>"
      ],
      "text/plain": [
       "            source                                 target  \\\n",
       "0  Albert Einstein                   theory of relativity   \n",
       "1  Albert Einstein                      quantum mechanics   \n",
       "2  Albert Einstein  mass–energy equivalence formula E=mc2   \n",
       "3  Albert Einstein                   photoelectric effect   \n",
       "4  Albert Einstein                         quantum theory   \n",
       "\n",
       "                                            relation  weight  \\\n",
       "0                 developed the theory of relativity       1   \n",
       "1  made important contributions to quantum mechanics       1   \n",
       "2  developed the mass–energy equivalence formula ...       1   \n",
       "3     discovered the law of the photoelectric effect       1   \n",
       "4  took a pivotal step in the development of quan...       1   \n",
       "\n",
       "                                      uuids  \n",
       "0  ['0af897c6-3391-496e-a93c-a5a18b350f50']  \n",
       "1  ['0af897c6-3391-496e-a93c-a5a18b350f50']  \n",
       "2  ['0af897c6-3391-496e-a93c-a5a18b350f50']  \n",
       "3  ['0af897c6-3391-496e-a93c-a5a18b350f50']  \n",
       "4  ['0af897c6-3391-496e-a93c-a5a18b350f50']  "
      ]
     },
     "execution_count": 126,
     "metadata": {},
     "output_type": "execute_result"
    }
   ],
   "source": [
    "df = pd.read_csv(\"./output/db/einstein_graph_data_cleaned.csv\", usecols=[\"source\", \"target\", \"relation\", \"weight\", \"uuids\"])\n",
    "df.head()"
   ]
  },
  {
   "cell_type": "code",
   "execution_count": 145,
   "id": "f2e95c17-14a5-4e71-8c1f-632c449f5366",
   "metadata": {},
   "outputs": [],
   "source": [
    "for index, row in df.iterrows():\n",
    "    source = row['source']\n",
    "    target = row['target']\n",
    "    relation = str(row['relation'])\n",
    "    weight = row['weight']\n",
    "    uuids = row['uuids']\n",
    "    uuids = uuids.replace(\"[\", \"\")\n",
    "    uuids = uuids.replace(\"]\", \"\")\n",
    "    uuids = uuids.split(\", \")\n",
    "    uuids = [uuid[1:-1] for uuid in uuids]\n",
    "    \n",
    "    source = re.sub('[^A-Z.a-z]+', '_', source)\n",
    "    target = re.sub('[^A-Z.a-z]+', '_', target)\n",
    "    relation = re.sub('[^A-Z.a-z]+', '_', relation)\n",
    "    if source in concept_ids and target in concept_ids:\n",
    "        statement = f\"MATCH (u1:Concept), (u2:Concept) WHERE u1.name = '{source}' AND u2.name = '{target}' CREATE (u1)-[:ConceptToConcept {{relation_type: 'relatesTo', relation: '{relation}', weight: {weight}}}]->(u2)\"\n",
    "        results = conn.execute(statement)\n",
    "        results.close()    \n",
    "        "
   ]
  },
  {
   "cell_type": "code",
   "execution_count": 146,
   "id": "6658252d-6d5b-4807-a699-562b3b9c060d",
   "metadata": {},
   "outputs": [
    {
     "data": {
      "text/html": [
       "<div>\n",
       "<style scoped>\n",
       "    .dataframe tbody tr th:only-of-type {\n",
       "        vertical-align: middle;\n",
       "    }\n",
       "\n",
       "    .dataframe tbody tr th {\n",
       "        vertical-align: top;\n",
       "    }\n",
       "\n",
       "    .dataframe thead th {\n",
       "        text-align: right;\n",
       "    }\n",
       "</style>\n",
       "<table border=\"1\" class=\"dataframe\">\n",
       "  <thead>\n",
       "    <tr style=\"text-align: right;\">\n",
       "      <th></th>\n",
       "      <th>source</th>\n",
       "      <th>relation</th>\n",
       "      <th>target</th>\n",
       "    </tr>\n",
       "  </thead>\n",
       "  <tbody>\n",
       "    <tr>\n",
       "      <th>0</th>\n",
       "      <td>Albert_Einstein</td>\n",
       "      <td>developed the theory of relativity</td>\n",
       "      <td>theory_of_relativity</td>\n",
       "    </tr>\n",
       "    <tr>\n",
       "      <th>1</th>\n",
       "      <td>Albert_Einstein</td>\n",
       "      <td>made important contributions to quantum mechanics</td>\n",
       "      <td>quantum_mechanics</td>\n",
       "    </tr>\n",
       "    <tr>\n",
       "      <th>2</th>\n",
       "      <td>Albert_Einstein</td>\n",
       "      <td>made important contributions to quantum mechanics</td>\n",
       "      <td>quantum_mechanics</td>\n",
       "    </tr>\n",
       "    <tr>\n",
       "      <th>3</th>\n",
       "      <td>Albert_Einstein</td>\n",
       "      <td>discovered the law of the photoelectric effect</td>\n",
       "      <td>photoelectric_effect</td>\n",
       "    </tr>\n",
       "    <tr>\n",
       "      <th>4</th>\n",
       "      <td>Albert_Einstein</td>\n",
       "      <td>took a pivotal step in the development of quan...</td>\n",
       "      <td>quantum_theory</td>\n",
       "    </tr>\n",
       "  </tbody>\n",
       "</table>\n",
       "</div>"
      ],
      "text/plain": [
       "            source                                           relation  \\\n",
       "0  Albert_Einstein                 developed the theory of relativity   \n",
       "1  Albert_Einstein  made important contributions to quantum mechanics   \n",
       "2  Albert_Einstein  made important contributions to quantum mechanics   \n",
       "3  Albert_Einstein     discovered the law of the photoelectric effect   \n",
       "4  Albert_Einstein  took a pivotal step in the development of quan...   \n",
       "\n",
       "                 target  \n",
       "0  theory_of_relativity  \n",
       "1     quantum_mechanics  \n",
       "2     quantum_mechanics  \n",
       "3  photoelectric_effect  \n",
       "4        quantum_theory  "
      ]
     },
     "execution_count": 146,
     "metadata": {},
     "output_type": "execute_result"
    }
   ],
   "source": [
    "results = conn.execute('MATCH (a:Concept)-[f:ConceptToConcept]->(b:Concept) RETURN a.name as source, f.relation AS relation, b.name as target;').get_as_df()\n",
    "results.head()"
   ]
  },
  {
   "cell_type": "code",
   "execution_count": null,
   "id": "5c5c83f0-830b-4dd5-a9bc-2138dc396d88",
   "metadata": {},
   "outputs": [],
   "source": [
    "#####################  Backup #################"
   ]
  },
  {
   "cell_type": "markdown",
   "id": "554492e9-1808-44bf-81bd-b2efbe07b5da",
   "metadata": {},
   "source": [
    "### Text2GraphQuery/ Text2Cypher\n",
    "\n",
    "#### What is Cypher?\n",
    "\n",
    "```cypher\n",
    "// Pattern of vertex/node\n",
    "(foo:tagA)\n",
    "\n",
    "// Pattern of edge/relationship\n",
    "()-[e:type_x]->()\n",
    "\n",
    "// Pattern Matching\n",
    "MATCH p=(foo:tagA{name: \"Jerry\"})-[:type_x]->()\n",
    "RETURN p LIMIT 5\n",
    "\n",
    "// Pattern Matching with WHERE clause, NebulaGraph Cypher\n",
    "MATCH (e1:entity)-[r:relationship]->(e2:entity)\n",
    "WHERE id(e1) == 'James Gunn'\n",
    "RETURN e2.entity.name\n",
    "\n",
    "```"
   ]
  },
  {
   "cell_type": "code",
   "execution_count": null,
   "id": "a3b5f46a-bbf3-4a48-ae0c-d68de3a6c526",
   "metadata": {},
   "outputs": [],
   "source": []
  }
 ],
 "metadata": {
  "kernelspec": {
   "display_name": "Python 3 (ipykernel)",
   "language": "python",
   "name": "python3"
  },
  "language_info": {
   "codemirror_mode": {
    "name": "ipython",
    "version": 3
   },
   "file_extension": ".py",
   "mimetype": "text/x-python",
   "name": "python",
   "nbconvert_exporter": "python",
   "pygments_lexer": "ipython3",
   "version": "3.11.5"
  }
 },
 "nbformat": 4,
 "nbformat_minor": 5
}
