{
 "cells": [
  {
   "cell_type": "markdown",
   "id": "a4417572-d353-4566-9b48-292c9afa18e0",
   "metadata": {},
   "source": [
    "# Construct a RAG based on a Knowledge Graph out of text using a LLM\n",
    "\n",
    "1. Which LLM to use?\n",
    "2. Which Prompt to use to extract nodes and edges?\n",
    "3. How to Visualize the Graph?\n",
    "4. Which Graph Database to use?\n",
    "5. What does similarity mean?\n"
   ]
  },
  {
   "cell_type": "code",
   "execution_count": 1,
   "id": "b4e3d6f6-318d-46a7-b8ad-92ebd916c2f7",
   "metadata": {},
   "outputs": [],
   "source": [
    "%load_ext autoreload\n",
    "%autoreload 2"
   ]
  },
  {
   "cell_type": "code",
   "execution_count": 2,
   "id": "0a9ab152-e054-41a3-8309-42687548f010",
   "metadata": {},
   "outputs": [],
   "source": [
    "import logging\n",
    "import sys\n",
    "import os\n",
    "import json\n",
    "logging.basicConfig(stream=sys.stdout, level=logging.INFO)"
   ]
  },
  {
   "cell_type": "code",
   "execution_count": 3,
   "id": "489e425d-ccbe-4dc7-9a25-02e290743b2c",
   "metadata": {},
   "outputs": [],
   "source": [
    "###################### some more libraries to use #######################\n",
    "# !pip install wikipedia        #Load Data from Wikipedia\n",
    "# !pip install kuzu             #install and start KUZU Graph DB\n",
    "#                               #see: https://docs.llamaindex.ai/en/stable/examples/index_structs/knowledge_graph/KuzuGraphDemo.html\n",
    "# !pip install llama-cpp-python #llama.cpp binding\n",
    "# !pip install llama-index\n",
    "# !pip install langchain\n",
    "#\n",
    "# !pip install openpyxl\n",
    "#\n",
    "# networks science\n",
    "# !pip install networkx\n",
    "# !pip install seaborn\n",
    "# !pip install git+https://github.com/WestHealth/pyvis.git\n",
    "# see: https://pyvis.readthedocs.io/en/latest/tutorial.html"
   ]
  },
  {
   "cell_type": "markdown",
   "id": "3e4a39a7-6874-4471-b327-a7b04aa76c42",
   "metadata": {},
   "source": [
    "## Load Data into Documents and chunk them"
   ]
  },
  {
   "cell_type": "code",
   "execution_count": 4,
   "id": "240188e1-df80-46c6-9e22-0596d71a2f0d",
   "metadata": {},
   "outputs": [],
   "source": [
    "################ Load some data from wikipedia using WikipediaReader from llama_hub #################\n",
    "from time import time\n",
    "from llama_index import download_loader\n",
    "WikipediaReader = download_loader(\"WikipediaReader\")\n",
    "loader = WikipediaReader()\n",
    "\n",
    "wikipedia_pages = ['Albert Einstein']\n",
    "\n",
    "documents = loader.load_data(pages=wikipedia_pages, auto_suggest=False, lang='en')\n",
    "\n",
    "for document, page in zip(documents, wikipedia_pages):\n",
    "    document.metadata = {'doc_source': 'wikipedia', 'wikipedia_page': page, 'doc_lang': 'en', 'doc_size': len(document.text), 'timestamp': time()}"
   ]
  },
  {
   "cell_type": "code",
   "execution_count": 5,
   "id": "093b5dee-2b58-4bee-bd56-45ddb9f4f932",
   "metadata": {},
   "outputs": [
    {
     "name": "stdout",
     "output_type": "stream",
     "text": [
      "{'doc_source': 'wikipedia', 'wikipedia_page': 'Albert Einstein', 'doc_lang': 'en', 'doc_size': 83894, 'timestamp': 1702739441.176578}\n",
      "Albert Einstein ( EYEN-styne; German: [ˈalbɛɐt ˈʔaɪnʃtaɪn] ; 14 March 1879 – 18 April 1955) was a German-born theoretical physicist who is widely held to be one of the greatest and most influential scientists of all time. Best known for developing the theory of relativity, Einstein also made important contributions to quantum mechanics, and was thus a central figure in the revolutionary reshaping of the scientific understanding of nature that modern physics accomplished in the first decades of the twentieth century. His mass–energy equivalence formula E = mc2, which arises from relativity theory, has been called \"the world's most famous equation\". He received the 1921 Nobel Prize in Physics \"for his services to theoretical physics, and especially for his discovery of the law of the photoelectric effect\", a pivotal step in the development of quantum theory. His work is also known for its influence on the philosophy of science. In a 1999 poll of 130 leading physicists worldwide by the British journal Physics World, Einstein was ranked the greatest physicist of all time. His intellectual achievements and originality have made the word Einstein broadly synonymous with genius.In 1905, a year sometimes described as his annus mirabilis (miracle year), Einstein published four groundbreaking papers. These outlined a theory of the photoelectric effect, explained Brownian motion, introduced his special theory of relativity—a theory which addressed the inability of classical mechanics to account satisfactorily for the behavior of the electromagnetic field—and demonstrated that if the special theory is correct, mass and energy are equivalent to each other. In 1915, he proposed a general theory of relativity that extended his system of mechanics to incorporate gravitation. A cosmological paper that he published the following year laid out the implications of general relativity for the modeling of the structure and evolution of the universe as a whole. The middle part of his career also saw him making important contributions to statistical mechanics and quantum theory. Especially notable was his work on the quantum physics of radiation, in which light consists of particles, subsequently called photons.\n",
      "For much of the last phase of his academic life, Einstein worked on two endeavors that proved ultimately unsuccessful. Firstly, he fought a long rearguard action against quantum theory's introduction of fundamental randomness into science's picture of the world, objecting that \"God does not play dice\". Secondly, he attempted to devise a unified field theory by generalizing his geometric theory of gravitation to include electromagnetism too. As a result, he became increasingly isolated from the mainstream of modern physics.\n",
      "Born in the German Empire, Einstein moved to Switzerland in 1895, forsaking his German citizenship (as a subject of the Kingdom of Württemberg) the following year. In 1897, at the age of seventeen, he enrolled in the mathematics and physics teaching diploma program at the Swiss Federal polytechnic school in Zürich, graduating in 1900. In 1901, he acquired Swiss citizenship, which he kept for the rest of his life. In 1903, he secured a permanent position at the Swiss Patent Office in Bern. In 1905, he submitted a successful PhD dissertation to the University of Zurich. In 1914, he moved to Berlin in order to join the Prussian Academy of Sciences and the Humboldt University of Berlin. In 1917, he became director of the Kaiser Wilhelm Institute for Physics; he also became a German citizen again, this time as a subject of the Kingdom of Prussia. In 1933, while he was visiting the United States, Adolf Hitler came to power in Germany. Horrified by the Nazi \"war of extermination\" against his fellow Jews, Einstein decided to remain in the US, and was granted American citizenship in 1940. On the eve of World War II, he endorsed a letter to President Franklin D. Roosevelt alerting him to the potential German nuclear weapons program and recommending that the US begin similar research. Einstein supported the Allies but generally viewed the idea of nuclear weapons with great dismay.\n",
      "\n",
      "\n",
      "== Life and career ==\n",
      "\n",
      "\n",
      "=== Childhood, youth and education ===\n",
      "\n",
      "Albert Einstein was born in Ulm, in the Kingdom of Württemberg in the German Empire, on 14 March 1879. His parents, secular Ashkenazi Jews, were Hermann Einstein, a salesman and engineer, and Pauline Koch. In 1880, the family moved to Munich, where Einstein's father and his uncle Jakob founded Elektrotechnische Fabrik J. Einstein & Cie, a company that manufactured electrical equipment based on direct current.Albert attended a Catholic elementary school in Munich from the age of five. When he was eight, he was transferred to the Luitpold-Gymnasium (now known as the Albert-Einstein-Gymnasium) where he received advanced primary and then secondary school education.In 1894, Hermann and Jakob's company tendered for a contract to install electric lighting in Munich, but without success—they lacked the capital that would have been required to update their technology from direct current to the more efficient, alternating current alternative. The failure of their bid forced them to sell their Munich factory and search for new opportunities elsewhere. The Einstein family moved to Italy, first to Milan and a few months later to Pavia, where they settled in Palazzo Cornazzani. Einstein, then fifteen, stayed behind in Munich in order to finish his schooling. His father wanted him to study electrical engineering, but he was a fractious pupil who found the Gymnasium's regimen and teaching methods far from congenial. He later wrote that the school's policy of strict rote learning was harmful to creativity. At the end of December 1894, a letter from a doctor persuaded the Luitpold's authorities to release him from its care, and he joined his family in Pavia. While in Italy as a teenager, he wrote an essay entitled \"On the Investigation of the State of the Ether in a Magnetic Field\".Einstein excelled at physics and mathematics from an early age, and soon acquired the mathematical expertise normally only found in a child several years his senior. He began teaching himself algebra, calculus and Euclidean geometry when he was twelve; he made such rapid progress that he discovered an original proof of the Pythagorean theorem before his thirteenth birthday. A family tutor, Max Talmud, said that only a short time after he had given the twelve year old Einstein a geometry textbook, the boy \"had worked through the whole book. He thereupon devoted himself to higher mathematics ... Soon the flight of his mathematical genius was so high I could not follow.\" Einstein recorded that he had \"mastered integral and differential calculus\" while still just fourteen. His love of algebra and geometry was so great that at twelve, he was already confident that nature could be understood as a \"mathematical structure\".\n",
      "At thirteen, when his range of enthusiasms had broadened to include music and philosophy, Einstein was introduced to Kant's Critique of Pure Reason. Kant became his favorite philosopher; according to his tutor, \"At the time he was still a child, only thirteen years old, yet Kant's works, incomprehensible to ordinary mortals, seemed to be clear to him.\"\n",
      "In 1895, at the age of sixteen, Einstein sat the entrance examination for the Federal polytechnic school (later the Eidgenössische Technische Hochschule, ETH) in Zürich, Switzerland. He failed to reach the required standard in the general part of the test, but performed with distinction in physics and mathematics. On the advice of the polytechnic's principal, he completed his secondary education at the Argovian cantonal school (a gymnasium) in Aarau, Switzerland, graduating in 1896. While lodging in Aarau with the family of Jost Winteler, he fell in love with Winteler's daughter, Marie. (His sister, Maja, later married Winteler's son Paul.)\n",
      "In January 1896, with his father's approval, Einstein renounced his citizenship of the German Kingdom of Württemberg in order to avoid conscription into military service. The Matura (graduation for the successful completion of higher secondary schooling) awarded to him in the September of that year acknowledged him to have performed well across most of the curriculum, allotting him a top grade of 6 for history, physics, algebra, geometry, and descriptive geometry. At seventeen, he enrolled in the four-year mathematics and physics teaching diploma program at the Federal polytechnic school. Marie Winteler, a year older than him, took up a teaching post in Olsberg, Switzerland.The five other polytechnic school freshmen following the same course as Einstein included just one woman, a twenty year old Serbian, Mileva Marić. Over the next few years, the pair spent many hours discussing their shared interests and learning about topics in physics that the polytechnic school's lectures did not cover. In his letters to Marić, Einstein confessed that exploring science with her by his side was much more enjoyable than reading a textbook in solitude. Eventually the two students became not only friends but also lovers.Historians of physics are divided on the question of the extent to which Marić contributed to the insights of Einstein's annus mirabilis publications. There is at least some evidence that he was influenced by her scientific ideas, but there are scholars who doubt whether her impact on his thought was of any great significance at all.\n",
      "\n",
      "\n",
      "=== Marriages, relationships and children ===\n",
      "Correspondence between Einstein and Marić, discovered and published in 1987, revealed that in early 1902, while Marić was visiting her parents in Novi Sad, she gave birth to a daughter, Lieserl. When Marić returned to Switzerland it was without the child, whose fate is uncertain. A letter of Einstein's that he wrote in September 1903 suggests that the girl was either given up for adoption or died of scarlet fever in infancy.Einstein and Marić married in January 1903. In May 1904, their son Hans Albert was born in Bern, Switzerland. Their son Eduard was born in Zürich in July 1910. In letters that Einstein wrote to Marie Winteler in the months before Eduard's arrival, he described his love for his wife as \"misguided\" and mourned the \"missed life\" that he imagined he would have enjoyed if he had married Winteler instead: \"I think of you in heartfelt love every spare minute and am so unhappy as only a man can be.\"In 1912, Einstein entered into a relationship with Elsa Löwenthal, who was both his first cousin on his mother's side and his second cousin on his father's. When Marić learned of his infidelity soon after moving to Berlin with him in April 1914, she returned to Zürich, taking Hans Albert and Eduard with her. Einstein and Marić were granted a divorce on 14 February 1919 on the grounds of having lived apart for five years. As part of the divorce settlement, Einstein agreed that if he were to win a Nobel Prize, he would give the money that he received to Marić; she had to wait only two years before her foresight in extracting this promise from him was rewarded.Einstein married Löwenthal in 1919. In 1923, he began a relationship with a secretary named Betty Neumann, the niece of his close friend Hans Mühsam. Löwenthal nevertheless remained loyal to him, accompanying him when he emigrated to the United States in 1933. In 1935, she was diagnosed with heart and kidney problems. She died in December 1936.A volume of Einstein's letters released by Hebrew University of Jerusalem in 2006 added further names to the catalog of women with whom he was romantically involved. They included Margarete Lebach (a blonde Austrian), Estella Katzenellenbogen (the rich owner of a florist business), Toni Mendel (a wealthy Jewish widow) and Ethel Michanowski (a Berlin socialite), with whom he spent time and from whom he accepted gifts while married to Löwenthal. After being widowed, Einstein was briefly in a relationship with Margarita Konenkova, thought by some to be a Russian spy; her husband, the Russian sculptor Sergei Konenkov, created the bronze bust of Einstein at the Institute for Advanced Study at Princeton.Following an episode of acute mental illness at about the age of twenty, Einstein's son Eduard was diagnosed with schizophrenia. He spent the remainder of his life either in the care of his mother or in temporary confinement in an asylum. After her death, he was committed permanently to Burghölzli, the Psychiatric University Hospital in Zürich.\n",
      "\n",
      "\n",
      "=== 1902–1909: Assistant at the Swiss Patent Office ===\n",
      "Einstein graduated from the Federal polytechnic school in 1900, duly certified as competent to teach mathematics and physics. His successful acquisition of Swiss citizenship in February 1901 was not followed by the usual sequel of conscription; the Swiss authorities deemed him medically unfit for military service. He found that Swiss schools too appeared to have no use for him, failing to offer him a teaching position despite the almost two years that he spent applying for one. Eventually it was with the help of Marcel Grossmann's father that he secured a post in Bern at the Swiss Patent Office, as an assistant examiner – level III.Patent applications that landed on Einstein's desk for his evaluation included ideas for a gravel sorter and an electric typewriter. His employers were pleased enough with his work to make his position permanent in 1903, although they did not think that he should be promoted until he had \"fully mastered machine technology\". It is conceivable that his labors at the patent office had a bearing on his development of his special theory of relativity. He arrived at his revolutionary ideas about space, time and light through thought experiments about the transmission of signals and the synchronization of clocks, matters which also figured in some of the inventions submitted to him for assessment.In 1902, Einstein and some friends whom he had met in Bern formed a group that held regular meetings to discuss science and philosophy. Their choice of a name for their club, the Olympia Academy, was an ironic comment upon its far from Olympian status. Sometimes they were joined by Marić, who limited her participation in their proceedings to careful listening. The thinkers whose works they reflected upon included Henri Poincaré, Ernst Mach and David Hume, all of whom significantly influenced Einstein's own subsequent ideas and beliefs.\n",
      "\n",
      "\n",
      "=== 1900–1905: First scientific papers ===\n",
      "Einstein's first paper, \"Folgerungen aus den Capillaritätserscheinungen\" (\"Conclusions drawn from the phenomena of capillarity\"), in which he proposed a model of intermolecular attraction that he afterwards disavowed as worthless, was published in the journal Annalen der Physik in 1900. His 24-page doctoral dissertation also addressed a topic in molecular physics. Titled \"Eine neue Bestimmung der Moleküldimensionen\" (\"A New Determination of Molecular Dimensions\") and dedicated to his friend Marcel Grossman, it was completed on 30 April 1905 and approved by Professor Alfred Kleiner of the University of Zurich three months later. (Einstein was formally awarded his PhD on 15 January 1906.) Four other pieces of work that Einstein completed in 1905—his famous papers on the photoelectric effect, Brownian motion, his special theory of relativity and the equivalence of mass and energy—have led to the year's being celebrated as an annus mirabilis for physics almost as wonderful as 1666 (the year in which Isaac Newton experienced his greatest epiphanies). The publications deeply impressed Einstein's contemporaries.\n",
      "\n",
      "\n",
      "=== 1908–1933: Early academic career ===\n",
      "Einstein's sabbatical as a civil servant approached its end in 1908, when he secured a junior teaching position at the University of Bern. In 1909, a lecture on relativistic electrodynamics that he gave at the University of Zurich, much admired by Alfred Kleiner, led to Zürich's luring him away from Bern with a newly created associate professorship. Promotion to a full professorship followed in April 1911, when he accepted a chair at the German Charles-Ferdinand University in Prague, a move which required him to become an Austrian citizen of the Austro-Hungarian Empire. His time in Prague saw him producing eleven research papers.\n",
      " In July 1912, he returned to his alma mater, the ETH Zurich, to take up a chair in theoretical physics. His teaching activities there centred on thermodynamics and analytical mechanics, and his research interests included the molecular theory of heat, continuum mechanics and the development of a relativistic theory of gravitation. In his work on the latter topic, he was assisted by his friend, Marcel Grossmann, whose knowledge of the kind of mathematics required was greater than his own.In the spring of 1913, two German visitors, Max Planck and Walther Nernst, called upon Einstein in Zürich in the hope of persuading him to relocate to Berlin. They offered him membership of the Prussian Academy of Sciences, the directorship of the planned Kaiser Wilhelm Institute for Physics and a chair at the Humboldt University of Berlin that would allow him to pursue his research supported by a professorial salary but with no teaching duties to burden him. Their invitation was all the more appealing to him because Berlin happened to be the home of his latest girlfriend, Elsa Löwenthal. He duly joined the Academy on 24\n",
      "July 1913, and moved into an apartment in the Berlin district of Dahlem on 1 April 1914. He was installed in his Humboldt University position shortly thereafter.The outbreak of the First World War in July 1914 marked the beginning of Einstein's gradual estrangement from the nation of his birth. When the \"Manifesto of the Ninety-Three\" was published in October 1914—a document signed by a host of prominent German thinkers that justified Germany's belligerence—Einstein was one of the few German intellectuals to distance himself from it and sign the alternative, eirenic \"Manifesto to the Europeans\" instead. But this expression of his doubts about German policy did not prevent him from being elected to a two-year term as president of the German Physical Society in 1916. And when the Kaiser Wilhelm Institute for Physics opened its doors the following year—its foundation delayed because of the war—Einstein was appointed its first director, just as Planck and Nernst had promised.Einstein was elected a Foreign Member of the Royal Netherlands Academy of Arts and Sciences in 1920, and a Foreign Member of the Royal Society in 1921. In 1922, he was awarded the 1921 Nobel Prize in Physics \"for his services to Theoretical Physics, and especially for his discovery of the law of the photoelectric effect\". At this point some physicists still regarded the general theory of relativity sceptically, and the Nobel citation displayed a degree of doubt even about the work on photoelectricity that it acknowledged: it did not assent to Einstein's notion of the particulate nature of light, which only won over the entire scientific community when S. N. Bose derived the Planck spectrum in 1924. That same year, Einstein was elected an International Honorary Member of the American Academy of Arts and Sciences. Britain's closest equivalent of the Nobel award, the Royal Society's Copley Medal, was not hung around Einstein's neck until 1925. He was elected an International Member of the American Philosophical Society in 1930.Einstein resigned from the Prussian Academy in March 1933. His accomplishments in Berlin had included the completion of the general theory of relativity, proving the Einstein–de Haas effect, contributing to the quantum theory of radiation, and the development of Bose–Einstein statistics.\n",
      "\n",
      "\n",
      "=== 1919: Putting general relativity to the test ===\n",
      "In 1907, Einstein reached a milestone on his long journey from his special theory of relativity to a new idea of gravitation with the formulation of his equivalence principle, which asserts that an observer in an infinitesimally small box falling freely in a gravitational field would be unable to find any evidence that the field exists. In 1911, he used the principle to estimate the amount by which a ray of light from a distant star would be bent by the gravitational pull of the Sun as it passed close to the Sun's photosphere (that is, the Sun's apparent surface). He reworked his calculation in 1913, having now found a way to model gravitation with the Riemann curvature tensor of a non-Euclidean four-dimensional spacetime. By the fall of 1915, his reimagining of the mathematics of gravitation in terms of Riemannian geometry was complete, and he applied his new theory not just to the behavior of the Sun as a gravitational lens but also to another astronomical phenomenon, the precession of the perihelion of Mercury (a slow drift in the point in Mercury's elliptical orbit at which it approaches the Sun most closely). A total eclipse of the Sun that took place on 29 May 1919 provided an opportunity to put his theory of gravitational lensing to the test, and observations performed by Sir Arthur Eddington yielded results that were consistent with his calculations. Eddington's work was reported at length in newspapers around the world. On 7 November 1919, for example, the leading British newspaper, The Times, printed a banner headline that read: \"Revolution in Science – New Theory of the Universe – Newtonian Ideas Overthrown\".\n",
      "\n",
      "\n",
      "=== 1921–1923: Coming to terms with fame ===\n",
      "With Eddington's eclipse observations widely reported not just in academic journals but by the popular press as well, Einstein became \"perhaps the world's first celebrity scientist\", a genius who had shattered a paradigm that had been basic to physicists' understanding of the universe since the seventeenth century.Einstein began his new life as an intellectual icon in America, where he arrived on 2 April 1921. He was welcomed to New York City by Mayor John Francis Hylan, and then spent three weeks giving lectures and attending receptions. He spoke several times at Columbia University and Princeton, and in Washington, he visited the White House with representatives of the National Academy of Sciences. He returned to Europe via London, where he was the guest of the philosopher and statesman Viscount Haldane. He used his time in the British capital to meet several people prominent in British scientific, political or intellectual life, and to deliver a lecture at King's College. In July 1921, he published an essay, \"My First Impression of the U.S.A.\", in which he sought to sketch the American character, much as had Alexis de Tocqueville in Democracy in America (1835). He wrote of his transatlantic hosts in highly approving terms: \"What strikes a visitor is the joyous, positive attitude to life ... The American is friendly, self-confident, optimistic, and without envy.\"In 1922, Einstein's travels were to the old world rather than the new. He devoted six months to a tour of Asia that saw him speaking in Japan, Singapore and Sri Lanka (then known as Ceylon). After his first public lecture in Tokyo, he met Emperor Yoshihito and his wife at the Imperial Palace, with thousands of spectators thronging the streets in the hope of catching a glimpse of him. (In a letter to his sons, he wrote that Japanese people seemed to him to be generally modest, intelligent and considerate, and to have a true appreciation of art. But his picture of them in his diary was less flattering: \"[the] intellectual needs of this nation seem to be weaker than their artistic ones – natural disposition?\" His journal also contains views of China and India which were uncomplimentary. Of Chinese people, he wrote that \"even the children are spiritless and look obtuse... It would be a pity if these Chinese supplant all other races. For the likes of us the mere thought is unspeakably dreary\".) He was greeted with even greater enthusiasm on the last leg of his tour, in which he spent twelve days in Mandatory Palestine, newly entrusted to British rule by the League of Nations in the aftermath of the First World War. Sir Herbert Samuel, the British High Commissioner, welcomed him with a degree of ceremony normally only accorded to a visiting head of state, including a cannon salute. One reception held in his honor was stormed by people determined to hear him speak: he told them that he was happy that Jews were beginning to be recognized as a force in the world.Einstein's decision to tour the eastern hemisphere in 1922 meant that he was unable to go to Stockholm in the December of that year to participate in the Nobel prize ceremony. His place at the traditional Nobel banquet was taken by a German diplomat, who gave a speech praising him not only as a physicist but also as a campaigner for peace. A two week visit to Spain that he undertook in 1923 saw him collecting another award, a membership of the Spanish Academy of Sciences signified by a diploma handed to him by King Alfonso XIII. (His Spanish trip also gave him a chance to meet a fellow Nobel laureate, the neuroanatomist Santiago Ramón y Cajal.)\n",
      "\n",
      "\n",
      "=== 1922–1932: Serving the League of Nations ===\n",
      "From 1922 until 1932, with the exception of a few months in 1923 and 1924, Einstein was a member of the Geneva-based International Committee on Intellectual Cooperation of the League of Nations, a group set up by the League to encourage scientists, artists, scholars, teachers and other people engaged in the life of the mind to work more closely with their counterparts in other countries. He was appointed as a German delegate rather than as a representative of Switzerland because of the machinations of two Catholic activists, Oskar Halecki and Giuseppe Motta. By persuading Secretary General Eric Drummond to deny Einstein the place on the committee reserved for a Swiss thinker, they created an opening for Gonzague de Reynold, who used his League of Nations position as a platform from which to promote traditional Catholic doctrine. Einstein's former physics professor Hendrik Lorentz and the Polish chemist Marie Curie were also members of the committee.\n",
      "\n",
      "\n",
      "=== 1925: Touring South America ===\n",
      "In March and April 1925, Einstein and his wife visited South America, where they spent about a week in Brazil, a week in Uruguay and a month in Argentina. Their tour was suggested by Jorge Duclout (1856–1927) and Mauricio Nirenstein (1877–1935) with the support of several Argentine scholars, including Julio Rey Pastor, Jakob Laub, and Leopoldo Lugones. and was financed primarily by the Council of the University of Buenos Aires and the Asociación Hebraica Argentina (Argentine Hebraic Association) with a smaller contribution from the Argentine-Germanic Cultural Institution.\n",
      "\n",
      "\n",
      "=== 1930–1931: Touring the US ===\n",
      "In December 1930, Einstein began another significant sojourn in the United States, drawn back to the US by the offer of a two month research fellowship at the California Institute of Technology. Caltech supported him in his wish that he should not be exposed to quite as much attention from the media as he had experienced when visiting the US in 1921, and he therefore declined all the invitations to receive prizes or make speeches that his admirers poured down upon him. But he remained willing to allow his fans at least some of the time with him that they requested.After arriving in New York City, Einstein was taken to various places and events, including Chinatown, a lunch with the editors of The New York Times, and a performance of Carmen at the Metropolitan Opera, where he was cheered by the audience on his arrival. During the days following, he was given the keys to the city by Mayor Jimmy Walker and met Nicholas Murray Butler, the president of Columbia University, who described Einstein as \"the ruling monarch of the mind\". Harry Emerson Fosdick, pastor at New York's Riverside Church, gave Einstein a tour of the church and showed him a full-size statue that the church made of Einstein, standing at the entrance. Also during his stay in New York, he joined a crowd of 15,000 people at Madison Square Garden during a Hanukkah celebration.\n",
      "Einstein next traveled to California, where he met Caltech president and Nobel laureate Robert A. Millikan. His friendship with Millikan was \"awkward\", as Millikan \"had a penchant for patriotic militarism\", where Einstein was a pronounced pacifist. During an address to Caltech's students, Einstein noted that science was often inclined to do more harm than good.This aversion to war also led Einstein to befriend author Upton Sinclair and film star Charlie Chaplin, both noted for their pacifism. Carl Laemmle, head of Universal Studios, gave Einstein a tour of his studio and introduced him to Chaplin. They had an instant rapport, with Chaplin inviting Einstein and his wife, Elsa, to his home for dinner. Chaplin said Einstein's outward persona, calm and gentle, seemed to conceal a \"highly emotional temperament\", from which came his \"extraordinary intellectual energy\".Chaplin's film, City Lights, was to premiere a few days later in Hollywood, and Chaplin invited Einstein and Elsa to join him as his special guests. Walter Isaacson, Einstein's biographer, described this as \"one of the most memorable scenes in the new era of celebrity\". Chaplin visited Einstein at his home on a later trip to Berlin and recalled his \"modest little flat\" and the piano at which he had begun writing his theory. Chaplin speculated that it was \"possibly used as kindling wood by the Nazis\".\n",
      "\n",
      "\n",
      "=== 1933: Emigration to the US ===\n",
      "In February 1933, while on a visit to the United States, Einstein knew he could not return to Germany with the rise to power of the Nazis under Germany's new chancellor, Adolf Hitler.While at American universities in early 1933, he undertook his third two-month visiting professorship at the California Institute of Technology in Pasadena. In February and March 1933, the Gestapo repeatedly raided his family's apartment in Berlin. He and his wife Elsa returned to Europe in March, and during the trip, they learned that the German Reichstag had passed the Enabling Act on 23 March, transforming Hitler's government into a de facto legal dictatorship, and that they would not be able to proceed to Berlin. Later on, they heard that their cottage had been raided by the Nazis and Einstein's personal sailboat confiscated. Upon landing in Antwerp, Belgium on 28 March, Einstein immediately went to the German consulate and surrendered his passport, formally renouncing his German citizenship. The Nazis later sold his boat and converted his cottage into a Hitler Youth camp.\n",
      "\n",
      "\n",
      "==== Refugee status ====\n",
      "In April 1933, Einstein discovered that the new German government had passed laws barring Jews from holding any official positions, including teaching at universities. Historian Gerald Holton describes how, with \"virtually no audible protest being raised by their colleagues\", thousands of Jewish scientists were suddenly forced to give up their university positions and their names were removed from the rolls of institutions where they were employed.A month later, Einstein's works were among those targeted by the German Student Union in the Nazi book burnings, with Nazi propaganda minister Joseph Goebbels proclaiming, \"Jewish intellectualism is dead.\" One German magazine included him in a list of enemies of the German regime with the phrase, \"not yet hanged\", offering a $5,000 bounty on his head. In a subsequent letter to physicist and friend Max Born, who had already emigrated from Germany to England, Einstein wrote, \"... I must confess that the degree of their brutality and cowardice came as something of a surprise.\" After moving to the US, he described the book burnings as a \"spontaneous emotional outburst\" by those who \"shun popular enlightenment\", and \"more than anything else in the world, fear the influence of men of intellectual independence\".Einstein was now without a permanent home, unsure where he would live and work, and equally worried about the fate of countless other scientists still in Germany. Aided by the Academic Assistance Council, founded in April 1933 by British Liberal politician William Beveridge to help academics escape Nazi persecution, Einstein was able to leave Germany. He rented a house in De Haan, Belgium, where he lived for a few months. In late July 1933, he visited England for about six weeks at the invitation of the British Member of Parliament Commander Oliver Locker-Lampson, who had become friends with him in the preceding years. Locker-Lampson invited him to stay near his Cromer home in a secluded wooden cabin on Roughton Heath in the Parish of Roughton, Norfolk. To protect Einstein, Locker-Lampson had two bodyguards watch over him; a photo of them carrying shotguns and guarding Einstein was published in the Daily Herald on 24 July 1933.Locker-Lampson took Einstein to meet Winston Churchill at his home, and later, Austen Chamberlain and former Prime Minister Lloyd George. Einstein asked them to help bring Jewish scientists out of Germany. British historian Martin Gilbert notes that Churchill responded immediately, and sent his friend, physicist Frederick Lindemann, to Germany to seek out Jewish scientists and place them in British universities. Churchill later observed that as a result of Germany having driven the Jews out, they had lowered their \"technical standards\" and put the Allies' technology ahead of theirs.Einstein later contacted leaders of other nations, including Turkey's Prime Minister, İsmet İnönü, to whom he wrote in September 1933 requesting placement of unemployed German-Jewish scientists. As a result of Einstein's letter, Jewish invitees to Turkey eventually totaled over \"1,000 saved individuals\".Locker-Lampson also submitted a bill to parliament to extend British citizenship to Einstein, during which period Einstein made a number of public appearances describing the crisis brewing in Europe. In one of his speeches he denounced Germany's treatment of Jews, while at the same time he introduced a bill promoting Jewish citizenship in Palestine, as they were being denied citizenship elsewhere. In his speech he described Einstein as a \"citizen of the world\" who should be offered a temporary shelter in the UK. Both bills failed, however, and Einstein then accepted an earlier offer from the Institute for Advanced Study, in Princeton, New Jersey, US, to become a resident scholar.\n",
      "\n",
      "\n",
      "==== Resident scholar at the Institute for Advanced Study ====\n",
      "On 3 October 1933, Einstein delivered a speech on the importance of academic freedom before a packed audience at the Royal Albert Hall in London, with The Times reporting he was wildly cheered throughout. Four days later he returned to the US and took up a position at the Institute for Advanced Study, noted for having become a refuge for scientists fleeing Nazi Germany. At the time, most American universities, including Harvard, Princeton and Yale, had minimal or no Jewish faculty or students, as a result of their Jewish quotas, which lasted until the late 1940s.Einstein was still undecided on his future. He had offers from several European universities, including Christ Church, Oxford, where he stayed for three short periods between May 1931 and June 1933 and was offered a five-year research fellowship (called a \"studentship\" at Christ Church), but in 1935, he arrived at the decision to remain permanently in the United States and apply for citizenship.Einstein's affiliation with the Institute for Advanced Study would last until his death in 1955. He was one of the four first selected (along with John von Neumann, Kurt Gödel, and Hermann Weyl) at the new Institute. He soon developed a close friendship with Gödel; the two would take long walks together discussing their work. Bruria Kaufman, his assistant, later became a physicist. During this period, Einstein tried to develop a unified field theory and to refute the accepted interpretation of quantum physics, both unsuccessfully. He lived in Princeton at his home from 1935 onwards. The Albert Einstein House was made a National Historic Landmark in 1976.\n",
      "\n",
      "\n",
      "==== World War II and the Manhattan Project ====\n",
      "\n",
      "In 1939, a group of Hungarian scientists that included émigré physicist Leó Szilárd attempted to alert Washington to ongoing Nazi atomic bomb research. The group's warnings were discounted. Einstein and Szilárd, along with other refugees such as Edward Teller and Eugene Wigner, \"regarded it as their responsibility to alert Americans to the possibility that German scientists might win the race to build an atomic bomb, and to warn that Hitler would be more than willing to resort to such a weapon.\" To make certain the US was aware of the danger, in July 1939, a few months before the beginning of World War II in Europe, Szilárd and Wigner visited Einstein to explain the possibility of atomic bombs, which Einstein, a pacifist, said he had never considered. He was asked to lend his support by writing a letter, with Szilárd, to President Roosevelt, recommending the US pay attention and engage in its own nuclear weapons research.\n",
      "The letter is believed to be \"arguably the key stimulus for the U.S. adoption of serious investigations into nuclear weapons on the eve of the U.S. entry into World War II\". In addition to the letter, Einstein used his connections with the Belgian royal family and the Belgian queen mother to get access with a personal envoy to the White House's Oval Office. Some say that as a result of Einstein's letter and his meetings with Roosevelt, the US entered the \"race\" to develop the bomb, drawing on its \"immense material, financial, and scientific resources\" to initiate the Manhattan Project.\n",
      "For Einstein, \"war was a disease ... [and] he called for resistance to war.\" By signing the letter to Roosevelt, some argue he went against his pacifist principles. In 1954, a year before his death, Einstein said to his old friend, Linus Pauling, \"I made one great mistake in my life—when I signed the letter to President Roosevelt recommending that atom bombs be made; but there was some justification—the danger that the Germans would make them ...\" In 1955, Einstein and ten other intellectuals and scientists, including British philosopher Bertrand Russell, signed a manifesto highlighting the danger of nuclear weapons. In 1960 Einstein was included posthumously as a charter member of the World Academy of Art and Science (WAAS), an organization founded by distinguished scientists and intellectuals who committed themselves to the responsible and ethical advances of science, particularly in light of the development of nuclear weapons.\n",
      "\n",
      "\n",
      "==== US citizenship ====\n",
      "Einstein became an American citizen in 1940. Not long after settling into his career at the Institute for Advanced Study in Princeton, New Jersey, he expressed his appreciation of the meritocracy in American culture compared to Europe. He recognized the \"right of individuals to say and think what they pleased\" without social barriers. As a result, individuals were encouraged, he said, to be more creative, a trait he valued from his early education.Einstein joined the National Association for the Advancement of Colored People (NAACP) in Princeton, where he campaigned for the civil rights of African Americans. He considered racism America's \"worst disease\", seeing it as \"handed down from one generation to the next\". As part of his involvement, he corresponded with civil rights activist W. E. B. Du Bois and was prepared to testify on his behalf during his trial as an alleged foreign agent in 1951. When Einstein offered to be a character witness for Du Bois, the judge decided to drop the case.In 1946, Einstein visited Lincoln University in Pennsylvania, a historically black college, where he was awarded an honorary degree. Lincoln was the first university in the United States to grant college degrees to African Americans; alumni include Langston Hughes and Thurgood Marshall. Einstein gave a speech about racism in America, adding, \"I do not intend to be quiet about it.\" A resident of Princeton recalls that Einstein had once paid the college tuition for a black student. Einstein has said, \"Being a Jew myself, perhaps I can understand and empathize with how black people feel as victims of discrimination\".\n",
      "\n",
      "\n",
      "=== Personal views ===\n",
      "\n",
      "\n",
      "==== Political views ====\n",
      "\n",
      "In 1918, Einstein was one of the founding members of the German Democratic Party, a liberal party. Later in his life, Einstein's political view was in favor of socialism and critical of capitalism, which he detailed in his essays such as \"Why Socialism?\". His opinions on the Bolsheviks also changed with time. In 1925, he criticized them for not having a \"well-regulated system of government\" and called their rule a \"regime of terror and a tragedy in human history\". He later adopted a more moderated view, criticizing their methods but praising them, which is shown by his 1929 remark on Vladimir Lenin:\n",
      "\n",
      "In Lenin I honor a man, who in total sacrifice of his own person has committed his entire energy to realizing social justice. I do not find his methods advisable. One thing is certain, however: men like him are the guardians and renewers of mankind's conscience.\n",
      "Einstein offered and was called on to give judgments and opinions on matters often unrelated to theoretical physics or mathematics. He strongly advocated the idea of a democratic global government that would check the power of nation-states in the framework of a world federation. He wrote \"I advocate world government because I am convinced that there is no other possible way of eliminating the most terrible danger in which man has ever found himself.\" The FBI created a secret dossier on Einstein in 1932; by the time of his death, it was 1,427 pages long.Einstein was deeply impressed by Mahatma Gandhi, with whom he corresponded. He described Gandhi as \"a role model for the generations to come\". The initial connection was established on 27 September 1931, when Wilfrid Israel took his Indian guest V. A. Sundaram to meet his friend Einstein at his summer home in the town of Caputh. Sundaram was Gandhi's disciple and special envoy, whom Wilfrid Israel met while visiting India and visiting the Indian leader's home in 1925. During the visit, Einstein wrote a short letter to Gandhi that was delivered to him through his envoy, and Gandhi responded quickly with his own letter. Although in the end Einstein and Gandhi were unable to meet as they had hoped, the direct connection between them was established through Wilfrid Israel.\n",
      "\n",
      "\n",
      "==== Relationship with Zionism ====\n",
      "Einstein was a figurehead leader in the establishment of the Hebrew University of Jerusalem, which opened in 1925. Earlier, in 1921, he was asked by the biochemist and president of the World Zionist Organization, Chaim Weizmann, to help raise funds for the planned university. He made suggestions for the creation of an Institute of Agriculture, a Chemical Institute and an Institute of Microbiology in order to fight the various ongoing epidemics such as malaria, which he called an \"evil\" that was undermining a third of the country's development. He also promoted the establishment of an Oriental Studies Institute, to include language courses given in both Hebrew and Arabic.Einstein was not a nationalist and opposed the creation of an independent Jewish state. He felt that the waves of arriving Jews of the Aliyah could live alongside existing Arabs in Palestine. The state of Israel was established without his help in 1948; Einstein was limited to a marginal role in the Zionist movement. Upon the death of Israeli president Weizmann in November 1952, Prime Minister David Ben-Gurion offered Einstein the largely ceremonial position of President of Israel at the urging of Ezriel Carlebach. The offer was presented by Israel's ambassador in Washington, Abba Eban, who explained that the offer \"embodies the deepest respect which the Jewish people can repose in any of its sons\". Einstein wrote that he was \"deeply moved\", but \"at once saddened and ashamed\" that he could not accept it.On April 9th, 1948, a month before Israel declared independence, just over one hundred residents of Deir Yassin were massacred by members of two militant Zionist groups – Lehi and Irgun – as part of an effort to cleanse the area of its Arab population. The next day, Einstein wrote a passionate letter to Shepard Rifkin, a New York-based representative of Lehi who had recently written to Einstein in the hope of garnering some high-profile support for the group’s efforts. He believed that since Einstein publicly backed the creation of a Jewish homeland in the British Mandate of Palestine, he would agree to his suggestion but that didn't happen.Einstein wrote:\n",
      "When a real and final catastrophe should befall us in Palestine the first responsible for it would be the British and the second responsible for it would be the Terrorist organizations build up from our own ranks. I am not willing to see anybody associated with those mislead and criminal people.\n",
      "\n",
      "Einstein was one of the authors of an open letter to the New York Times in 1948 which deeply criticized Menachem Begin's Herut (Freedom) Party for the Deir Yassin massacre attributed to \"terrorist bands\", and likened Herut to \"the Nazi and Fascist parties\".\n",
      "\n",
      "\n",
      "==== Religious and philosophical views ====\n",
      "\n",
      "Einstein expounded his spiritual outlook in a wide array of writings and interviews. He said he had sympathy for the impersonal pantheistic God of Baruch Spinoza's philosophy. He did not believe in a personal god who concerns himself with fates and actions of human beings, a view which he described as naïve. He clarified, however, that \"I am not an atheist\", preferring to call himself an agnostic, or a \"deeply religious nonbeliever\". When asked if he believed in an afterlife, Einstein replied, \"No. And one life is enough for me.\"Einstein was primarily affiliated with non-religious humanist and Ethical Culture groups in both the UK and US. He served on the advisory board of the First Humanist Society of New York, and was an honorary associate of the Rationalist Association, which publishes New Humanist in Britain. For the 75th anniversary of the New York Society for Ethical Culture, he stated that the idea of Ethical Culture embodied his personal conception of what is most valuable and enduring in religious idealism. He observed, \"Without 'ethical culture' there is no salvation for humanity.\"\n",
      "In a German-language letter to philosopher Eric Gutkind, dated 3 January 1954, Einstein wrote:The word God is for me nothing more than the expression and product of human weaknesses, the Bible a collection of honorable, but still primitive legends which are nevertheless pretty childish. No interpretation no matter how subtle can (for me) change this. ... For me the Jewish religion like all other religions is an incarnation of the most childish superstitions. And the Jewish people to whom I gladly belong and with whose mentality I have a deep affinity have no different quality for me than all other people. ... I cannot see anything 'chosen' about them.\n",
      "Einstein had been sympathetic toward vegetarianism for a long time. In a letter in 1930 to Hermann Huth, vice-president of the German Vegetarian Federation (Deutsche Vegetarier-Bund), he wrote:Although I have been prevented by outward circumstances from observing a strictly vegetarian diet, I have long been an adherent to the cause in principle. Besides agreeing with the aims of vegetarianism for aesthetic and moral reasons, it is my view that a vegetarian manner of living by its purely physical effect on the human temperament would most beneficially influence the lot of mankind.\n",
      "He became a vegetarian himself only during the last part of his life. In March 1954 he wrote in a letter: \"So I am living without fats, without meat, without fish, but am feeling quite well this way. It almost seems to me that man was not born to be a carnivore.\"\n",
      "\n",
      "\n",
      "==== Love of music ====\n",
      "Einstein developed an appreciation for music at an early age. In his late journals he wrote:\n",
      "\n",
      "If I were not a physicist, I would probably be a musician. I often think in music. I live my daydreams in music. I see my life in terms of music ... I get most joy in life out of music.\n",
      "His mother played the piano reasonably well and wanted her son to learn the violin, not only to instill in him a love of music but also to help him assimilate into German culture. According to conductor Leon Botstein, Einstein began playing when he was 5. However, he did not enjoy it at that age.When he turned 13, he discovered the violin sonatas of Mozart, whereupon he became enamored of Mozart's compositions and studied music more willingly. Einstein taught himself to play without \"ever practicing systematically\". He said that \"love is a better teacher than a sense of duty\". At the age of 17, he was heard by a school examiner in Aarau while playing Beethoven's violin sonatas. The examiner stated afterward that his playing was \"remarkable and revealing of 'great insight'\". What struck the examiner, writes Botstein, was that Einstein \"displayed a deep love of the music, a quality that was and remains in short supply. Music possessed an unusual meaning for this student.\"Music took on a pivotal and permanent role in Einstein's life from that period on. Although the idea of becoming a professional musician himself was not on his mind at any time, among those with whom Einstein played chamber music were a few professionals, including Kurt Appelbaum, and he performed for private audiences and friends. Chamber music had also become a regular part of his social life while living in Bern, Zürich, and Berlin, where he played with Max Planck and his son, among others. He is sometimes erroneously credited as the editor of the 1937 edition of the Köchel catalog of Mozart's work; that edition was prepared by Alfred Einstein, who may have been a distant relation.In 1931, while engaged in research at the California Institute of Technology, he visited the Zoellner family conservatory in Los Angeles, where he played some of Beethoven and Mozart's works with members of the Zoellner Quartet. Near the end of his life, when the young Juilliard Quartet visited him in Princeton, he played his violin with them, and the quartet was \"impressed by Einstein's level of coordination and intonation\".\n",
      "\n",
      "\n",
      "=== Death ===\n",
      "On 17 April 1955, Einstein experienced internal bleeding caused by the rupture of an abdominal aortic aneurysm, which had previously been reinforced surgically by Rudolph Nissen in 1948. He took the draft of a speech he was preparing for a television appearance commemorating the state of Israel's seventh anniversary with him to the hospital, but he did not live to complete it.Einstein refused surgery, saying, \"I want to go when I want. It is tasteless to prolong life artificially. I have done my share; it is time to go. I will do it elegantly.\" He died in the University Medical Center of Princeton at Plainsboro early the next morning at the age of 76, having continued to work until near the end.During the autopsy, the pathologist Thomas Stoltz Harvey removed Einstein's brain for preservation without the permission of his family, in the hope that the neuroscience of the future would be able to discover what made Einstein so intelligent. Einstein's remains were cremated in Trenton, New Jersey, and his ashes were scattered at an undisclosed location.In a memorial lecture delivered on 13 December 1965 at UNESCO headquarters, nuclear physicist J. Robert Oppenheimer summarized his impression of Einstein as a person: \"He was almost wholly without sophistication and wholly without worldliness ... There was always with him a wonderful purity at once childlike and profoundly stubborn.\"Einstein bequeathed his personal archives, library, and intellectual assets to the Hebrew University of Jerusalem in Israel.\n",
      "\n",
      "\n",
      "== Scientific career ==\n",
      "Throughout his life, Einstein published hundreds of books and articles. He published more than 300 scientific papers and 150 non-scientific ones. On 5 December 2014, universities and archives announced the release of Einstein's papers, comprising more than 30,000 unique documents. Einstein's intellectual achievements and originality have made the word \"Einstein\" synonymous with \"genius\". In addition to the work he did by himself he also collaborated with other scientists on additional projects including the Bose–Einstein statistics, the Einstein refrigerator and others.There is some evidence from Einstein's writings that he collaborated with his first wife, Mileva Marić. In 13 December 1900, a first article on capillarity signed only under his name was submitted. The decision to publish only under his name seems to have been mutual, but the exact reason is unknown.\n",
      "\n",
      "\n",
      "=== 1905 – Annus Mirabilis papers ===\n",
      "The Annus Mirabilis papers are four articles pertaining to the photoelectric effect (which gave rise to quantum theory), Brownian motion, the special theory of relativity, and E = mc2 that Einstein published in the Annalen der Physik scientific journal in 1905. These four works contributed substantially to the foundation of modern physics and changed views on space, time, and matter. The four papers are:\n",
      "\n",
      "\n",
      "=== Statistical mechanics ===\n",
      "\n",
      "\n",
      "==== Thermodynamic fluctuations and statistical physics ====\n",
      "\n",
      "Einstein's first paper submitted in 1900 to Annalen der Physik was on capillary attraction. It was published in 1901 with the title \"Folgerungen aus den Capillaritätserscheinungen\", which translates as \"Conclusions from the capillarity phenomena\". Two papers he published in 1902–1903 (thermodynamics) attempted to interpret atomic phenomena from a statistical point of view. These papers were the foundation for the 1905 paper on Brownian motion, which showed that Brownian movement can be construed as firm evidence that molecules exist. His research in 1903 and 1904 was mainly concerned with the effect of finite atomic size on diffusion phenomena.\n",
      "\n",
      "\n",
      "==== Theory of critical opalescence ====\n",
      "\n",
      "Einstein returned to the problem of thermodynamic fluctuations, giving a treatment of the density variations in a fluid at its critical point. Ordinarily the density fluctuations are controlled by the second derivative of the free energy with respect to the density. At the critical point, this derivative is zero, leading to large fluctuations. The effect of density fluctuations is that light of all wavelengths is scattered, making the fluid look milky white. Einstein relates this to Rayleigh scattering, which is what happens when the fluctuation size is much smaller than the wavelength, and which explains why the sky is blue. Einstein quantitatively derived critical opalescence from a treatment of density fluctuations, and demonstrated how both the effect and Rayleigh scattering originate from the atomistic constitution of matter.\n",
      "\n",
      "\n",
      "=== Special relativity ===\n",
      "\n",
      "Einstein's \"Zur Elektrodynamik bewegter Körper\" (\"On the Electrodynamics of Moving Bodies\") was received on 30 June 1905 and published 26 September of that same year. It reconciled conflicts between Maxwell's equations (the laws of electricity and magnetism) and the laws of Newtonian mechanics by introducing changes to the laws of mechanics. Observationally, the effects of these changes are most apparent at high speeds (where objects are moving at speeds close to the speed of light). The theory developed in this paper later became known as Einstein's special theory of relativity.\n",
      "This paper predicted that, when measured in the frame of a relatively moving observer, a clock carried by a moving body would appear to slow down, and the body itself would contract in its direction of motion. This paper also argued that the idea of a luminiferous aether—one of the leading theoretical entities in physics at the time—was superfluous.In his paper on mass–energy equivalence, Einstein produced E = mc2 as a consequence of his special relativity equations. Einstein's 1905 work on relativity remained controversial for many years, but was accepted by leading physicists, starting with Max Planck.Einstein originally framed special relativity in terms of kinematics (the study of moving bodies). In 1908, Hermann Minkowski reinterpreted special relativity in geometric terms as a theory of spacetime. Einstein adopted Minkowski's formalism in his 1915 general theory of relativity.\n",
      "\n",
      "\n",
      "=== General relativity ===\n",
      "\n",
      "\n",
      "==== General relativity and the equivalence principle ====\n",
      "\n",
      "General relativity (GR) is a theory of gravitation that was developed by Einstein between 1907 and 1915. According to it, the observed gravitational attraction between masses results from the warping of spacetime by those masses. General relativity has developed into an essential tool in modern astrophysics; it provides the foundation for the current understanding of black holes, regions of space where gravitational attraction is so strong that not even light can escape.As Einstein later said, the reason for the development of general relativity was that the preference of inertial motions within special relativity was unsatisfactory, while a theory which from the outset prefers no state of motion (even accelerated ones) should appear more satisfactory. Consequently, in 1907 he published an article on acceleration under special relativity. In that article titled \"On the Relativity Principle and the Conclusions Drawn from It\", he argued that free fall is really inertial motion, and that for a free-falling observer the rules of special relativity must apply. This argument is called the equivalence principle. In the same article, Einstein also predicted the phenomena of gravitational time dilation, gravitational redshift and gravitational lensing.In 1911, Einstein published another article \"On the Influence of Gravitation on the Propagation of Light\" expanding on the 1907 article, in which he estimated the amount of deflection of light by massive bodies. Thus, the theoretical prediction of general relativity could for the first time be tested experimentally.\n",
      "\n",
      "\n",
      "==== Gravitational waves ====\n",
      "In 1916, Einstein predicted gravitational waves, ripples in the curvature of spacetime which propagate as waves, traveling outward from the source, transporting energy as gravitational radiation. The existence of gravitational waves is possible under general relativity due to its Lorentz invariance which brings the concept of a finite speed of propagation of the physical interactions of gravity with it. By contrast, gravitational waves cannot exist in the Newtonian theory of gravitation, which postulates that the physical interactions of gravity propagate at infinite speed.\n",
      "The first, indirect, detection of gravitational waves came in the 1970s through observation of a pair of closely orbiting neutron stars, PSR B1913+16. The explanation for the decay in their orbital period was that they were emitting gravitational waves. Einstein's prediction was confirmed on 11 February 2016, when researchers at LIGO published the first observation of gravitational waves, detected on Earth on 14 September 2015, nearly one hundred years after the prediction.\n",
      "\n",
      "\n",
      "==== Hole argument and Entwurf theory ====\n",
      "While developing general relativity, Einstein became confused about the gauge invariance in the theory. He formulated an argument that led him to conclude that a general relativistic field theory is impossible. He gave up looking for fully generally covariant tensor equations and searched for equations that would be invariant under general linear transformations only.In June 1913, the Entwurf ('draft') theory was the result of these investigations. As its name suggests, it was a sketch of a theory, less elegant and more difficult than general relativity, with the equations of motion supplemented by additional gauge fixing conditions. After more than two years of intensive work, Einstein realized that the hole argument was mistaken and abandoned the theory in November 1915.\n",
      "\n",
      "\n",
      "==== Physical cosmology ====\n",
      "\n",
      "In 1917, Einstein applied the general theory of relativity to the structure of the universe as a whole. He discovered that the general field equations predicted a universe that was dynamic, either contracting or expanding. As observational evidence for a dynamic universe was lacking at the time, Einstein introduced a new term, the cosmological constant, into the field equations, in order to allow the theory to predict a static universe. The modified field equations predicted a static universe of closed curvature, in accordance with Einstein's understanding of Mach's principle in these years. This model became known as the Einstein World or Einstein's static universe.Following the discovery of the recession of the galaxies by Edwin Hubble in 1929, Einstein abandoned his static model of the universe, and proposed two dynamic models of the cosmos, the Friedmann–Einstein universe of 1931 and the Einstein–de Sitter universe of 1932. In each of these models, Einstein discarded the cosmological constant, claiming that it was \"in any case theoretically unsatisfactory\".In many Einstein biographies, it is claimed that Einstein referred to the cosmological constant in later years as his \"biggest blunder\", based on a letter George Gamow claimed to have received from him. The astrophysicist Mario Livio has cast doubt on this claim.In late 2013, a team led by the Irish physicist Cormac O'Raifeartaigh discovered evidence that, shortly after learning of Hubble's observations of the recession of the galaxies, Einstein considered a steady-state model of the universe. In a hitherto overlooked manuscript, apparently written in early 1931, Einstein explored a model of the expanding universe in which the density of matter remains constant due to a continuous creation of matter, a process that he associated with the cosmological constant. As he stated in the paper, \"In what follows, I would like to draw attention to a solution to equation (1) that can account for Hubbel's [sic] facts, and in which the density is constant over time\" ... \"If one considers a physically bounded volume, particles of matter will be continually leaving it. For the density to remain constant, new particles of matter must be continually formed in the volume from space.\"\n",
      "It thus appears that Einstein considered a steady-state model of the expanding universe many years before Hoyle, Bondi and Gold. However, Einstein's steady-state model contained a fundamental flaw and he quickly abandoned the idea.\n",
      "\n",
      "\n",
      "==== Energy momentum pseudotensor ====\n",
      "\n",
      "General relativity includes a dynamical spacetime, so it is difficult to see how to identify the conserved energy and momentum. Noether's theorem allows these quantities to be determined from a Lagrangian with translation invariance, but general covariance makes translation invariance into something of a gauge symmetry. The energy and momentum derived within general relativity by Noether's prescriptions do not make a real tensor for this reason.Einstein argued that this is true for a fundamental reason: the gravitational field could be made to vanish by a choice of coordinates. He maintained that the non-covariant energy momentum pseudotensor was, in fact, the best description of the energy momentum distribution in a gravitational field. While the use of non-covariant objects like pseudotensors was criticized by Erwin Schrödinger and others, Einstein's approach has been echoed by physicists including Lev Landau and Evgeny Lifshitz.\n",
      "\n",
      "\n",
      "==== Wormholes ====\n",
      "In 1935, Einstein collaborated with Nathan Rosen to produce a model of a wormhole, often called Einstein–Rosen bridges. His motivation was to model elementary particles with charge as a solution of gravitational field equations, in line with the program outlined in the paper \"Do Gravitational Fields play an Important Role in the Constitution of the Elementary Particles?\". These solutions cut and pasted Schwarzschild black holes to make a bridge between two patches. Because these solutions included spacetime curvature without the presence of a physical body, Einstein and Rosen suggested that they could provide the beginnings of a theory that avoided the notion of point particles. However, it was later found that Einstein–Rosen bridges are not stable.\n",
      "\n",
      "\n",
      "==== Einstein–Cartan theory ====\n",
      "\n",
      "In order to incorporate spinning point particles into general relativity, the affine connection needed to be generalized to include an antisymmetric part, called the torsion. This modification was made by Einstein and Cartan in the 1920s.\n",
      "\n",
      "\n",
      "==== Equations of motion ====\n",
      "\n",
      "In general relativity, gravitational force is reimagined as curvature of spacetime. A curved path like an orbit is not the result of a force deflecting a body from an ideal straight-line path, but rather the body's attempt to fall freely through a background that is itself curved by the presence of other masses. A remark by John Archibald Wheeler that has become proverbial among physicists summarizes the theory: \"Spacetime tells matter how to move; matter tells spacetime how to curve.\" The Einstein field equations cover the latter aspect of the theory, relating the curvature of spacetime to the distribution of matter and energy. The geodesic equation covers the former aspect, stating that freely falling bodies follow lines that are as straight as possible in a curved spacetime. Einstein regarded this as an \"independent fundamental assumption\" that had to be postulated in addition to the field equations in order to complete the theory. Believing this to be a shortcoming in how general relativity was originally presented, he wished to derive it from the field equations themselves. Since the equations of general relativity are non-linear, a lump of energy made out of pure gravitational fields, like a black hole, would move on a trajectory which is determined by the Einstein field equations themselves, not by a new law. Accordingly, Einstein proposed that the field equations would determine the path of a singular solution, like a black hole, to be a geodesic. Both physicists and philosophers have often repeated the assertion that the geodesic equation can be obtained from applying the field equations to the motion of a gravitational singularity, but this claim remains disputed.\n",
      "\n",
      "\n",
      "=== Old quantum theory ===\n",
      "\n",
      "\n",
      "==== Photons and energy quanta ====\n",
      "In a 1905 paper, Einstein postulated that light itself consists of localized particles (quanta). Einstein's light quanta were nearly universally rejected by all physicists, including Max Planck and Niels Bohr. This idea only became universally accepted in 1919, with Robert Millikan's detailed experiments on the photoelectric effect, and with the measurement of Compton scattering.\n",
      "Einstein concluded that each wave of frequency f is associated with a collection of photons with energy hf each, where h is Planck's constant. He did not say much more, because he was not sure how the particles were related to the wave. But he did suggest that this idea would explain certain experimental results, notably the photoelectric effect.\n",
      "\n",
      "\n",
      "==== Quantized atomic vibrations ====\n",
      "\n",
      "In 1907, Einstein proposed a model of matter where each atom in a lattice structure is an independent harmonic oscillator. In the Einstein model, each atom oscillates independently—a series of equally spaced quantized states for each oscillator. Einstein was aware that getting the frequency of the actual oscillations would be difficult, but he nevertheless proposed this theory because it was a particularly clear demonstration that quantum mechanics could solve the specific heat problem in classical mechanics. Peter Debye refined this model.\n",
      "\n",
      "\n",
      "==== Bose–Einstein statistics ====\n",
      "\n",
      "In 1924, Einstein received a description of a statistical model from Indian physicist Satyendra Nath Bose, based on a counting method that assumed that light could be understood as a gas of indistinguishable particles. Einstein noted that Bose's statistics applied to some atoms as well as to the proposed light particles, and submitted his translation of Bose's paper to the Zeitschrift für Physik. Einstein also published his own articles describing the model and its implications, among them the Bose–Einstein condensate phenomenon that some particulates should appear at very low temperatures. It was not until 1995 that the first such condensate was produced experimentally by Eric Allin Cornell and Carl Wieman using ultra-cooling equipment built at the NIST–JILA laboratory at the University of Colorado at Boulder. Bose–Einstein statistics are now used to describe the behaviors of any assembly of bosons. Einstein's sketches for this project may be seen in the Einstein Archive in the library of the Leiden University.\n",
      "\n",
      "\n",
      "==== Wave–particle duality ====\n",
      "Although the patent office promoted Einstein to Technical Examiner Second Class in 1906, he had not given up on academia. In 1908, he became a Privatdozent at the University of Bern. In \"Über die Entwicklung unserer Anschauungen über das Wesen und die Konstitution der Strahlung\" (\"The Development of our Views on the Composition and Essence of Radiation\"), on the quantization of light, and in an earlier 1909 paper, Einstein showed that Max Planck's energy quanta must have well-defined momenta and act in some respects as independent, point-like particles. This paper introduced the photon concept (although the name photon was introduced later by Gilbert N. Lewis in 1926) and inspired the notion of wave–particle duality in quantum mechanics. Einstein saw this wave–particle duality in radiation as concrete evidence for his conviction that physics needed a new, unified foundation.\n",
      "\n",
      "\n",
      "==== Zero-point energy ====\n",
      "In a series of works completed from 1911 to 1913, Planck reformulated his 1900 quantum theory and introduced the idea of zero-point energy in his \"second quantum theory\". Soon, this idea attracted the attention of Einstein and his assistant Otto Stern. Assuming the energy of rotating diatomic molecules contains zero-point energy, they then compared the theoretical specific heat of hydrogen gas with the experimental data. The numbers matched nicely. However, after publishing the findings, they promptly withdrew their support, because they no longer had confidence in the correctness of the idea of zero-point energy.\n",
      "\n",
      "\n",
      "==== Stimulated emission ====\n",
      "In 1917, at the height of his work on relativity, Einstein published an article in Physikalische Zeitschrift that proposed the possibility of stimulated emission, the physical process that makes possible the maser and the laser.\n",
      "This article showed that the statistics of absorption and emission of light would only be consistent with Planck's distribution law if the emission of light into a mode with n photons would be enhanced statistically compared to the emission of light into an empty mode. This paper was enormously influential in the later development of quantum mechanics, because it was the first paper to show that the statistics of atomic transitions had simple laws.\n",
      "\n",
      "\n",
      "==== Matter waves ====\n",
      "Einstein discovered Louis de Broglie's work and supported his ideas, which were received skeptically at first. In another major paper from this era, Einstein observed that de Broglie waves could explain the quantization rules of Bohr and Sommerfeld. This paper would inspire Schrödinger's work of 1926.\n",
      "\n",
      "\n",
      "=== Quantum mechanics ===\n",
      "\n",
      "\n",
      "==== Einstein's objections to quantum mechanics ====\n",
      "Einstein played a major role in developing quantum theory, beginning with his 1905 paper on the photoelectric effect. However, he became displeased with modern quantum mechanics as it had evolved after 1925, despite its acceptance by other physicists. He was skeptical that the randomness of quantum mechanics was fundamental rather than the result of determinism, stating that God \"is not playing at dice\". Until the end of his life, he continued to maintain that quantum mechanics was incomplete.\n",
      "\n",
      "\n",
      "==== Bohr versus Einstein ====\n",
      "\n",
      " The Bohr–Einstein debates were a series of public disputes about quantum mechanics between Einstein and Niels Bohr, who were two of its founders. Their debates are remembered because of their importance to the philosophy of science. Their debates would influence later interpretations of quantum mechanics.\n",
      "\n",
      "\n",
      "==== Einstein–Podolsky–Rosen paradox ====\n",
      "\n",
      "Einstein never fully accepted quantum mechanics. While he recognized that it made correct predictions, he believed a more fundamental description of nature must be possible. Over the years he presented multiple arguments to this effect, but the one he preferred most dated to a debate with Bohr in 1930. Einstein suggested a thought experiment in which two objects are allowed to interact and then moved apart a great distance from each other. The quantum-mechanical description of the two objects is a mathematical entity known as a wavefunction. If the wavefunction that describes the two objects before their interaction is given, then the Schrödinger equation provides the wavefunction that describes them after their interaction. But because of what would later be called quantum entanglement, measuring one object would lead to an instantaneous change of the wavefunction describing the other object, no matter how far away it is. Moreover, the choice of which measurement to perform upon the first object would affect what wavefunction could result for the second object. Einstein reasoned that no influence could propagate from the first object to the second instantaneously fast. Indeed, he argued, physics depends on being able to tell one thing apart from another, and such instantaneous influences would call that into question. Because the true \"physical condition\" of the second object could not be immediately altered by an action done to the first, Einstein concluded, the wavefunction could not be that true physical condition, only an incomplete description of it.A more famous version of this argument came in 1935, when Einstein published a paper with Boris Podolsky and Nathan Rosen that laid out what would become known as the EPR paradox. In this thought experiment, two particles interact in such a way that the wavefunction describing them is entangled. Then, no matter how far the two particles were separated, a precise position measurement on one particle would imply the ability to predict, perfectly, the result of measuring the position of the other particle. Likewise, a precise momentum measurement of one particle would result in an equally precise prediction for of the momentum of the other particle, without needing to disturb the other particle in any way. They argued that no action taken on the first particle could instantaneously affect the other, since this would involve information being transmitted faster than light, which is forbidden by the theory of relativity. They invoked a principle, later known as the \"EPR criterion of reality\", positing that: \"If, without in any way disturbing a system, we can predict with certainty (i.e., with probability equal to unity) the value of a physical quantity, then there exists an element of reality corresponding to that quantity.\" From this, they inferred that the second particle must have a definite value of both position and of momentum prior to either quantity being measured. But quantum mechanics considers these two observables incompatible and thus does not associate simultaneous values for both to any system. Einstein, Podolsky, and Rosen therefore concluded that quantum theory does not provide a complete description of reality.In 1964, John Stewart Bell carried the analysis of quantum entanglement much further. He deduced that if measurements are performed independently on the two separated particles of an entangled pair, then the assumption that the outcomes depend upon hidden variables within each half implies a mathematical constraint on how the outcomes on the two measurements are correlated. This constraint would later be called a Bell inequality. Bell then showed that quantum physics predicts correlations that violate this inequality. Consequently, the only way that hidden variables could explain the predictions of quantum physics is if they are \"nonlocal\", which is to say that somehow the two particles are able to interact instantaneously no matter how widely they ever become separated. Bell argued that because an explanation of quantum phenomena in terms of hidden variables would require nonlocality, the EPR paradox \"is resolved in the way which Einstein would have liked least\".Despite this, and although Einstein personally found the argument in the EPR paper overly complicated, that paper became among the most influential papers published in Physical Review. It is considered a centerpiece of the development of quantum information theory.\n",
      "\n",
      "\n",
      "=== Unified field theory ===\n",
      "\n",
      "Encouraged by his success with general relativity, Einstein sought an even more ambitious geometrical theory that would treat gravitation and electromagnetism as aspects of a single entity. In 1950, he described his unified field theory in a Scientific American article titled \"On the Generalized Theory of Gravitation\". His attempt to find the most fundamental laws of nature won him praise but not success: a particularly conspicuous blemish of his model was that it did not accommodate the strong and weak nuclear forces, neither of which was well understood until many years after his death. Although most researchers now believe that Einstein's approach to unifying physics was mistaken, his goal of a theory of everything is one to which his successors still aspire.\n",
      "\n",
      "\n",
      "=== Other investigations ===\n",
      "\n",
      "Einstein conducted other investigations that were unsuccessful and abandoned. These pertain to force, superconductivity, and other research.\n",
      "\n",
      "\n",
      "=== Collaboration with other scientists ===\n",
      "In addition to longtime collaborators Leopold Infeld, Nathan Rosen, Peter Bergmann and others, Einstein also had some one-shot collaborations with various scientists.\n",
      "\n",
      "\n",
      "==== Einstein–de Haas experiment ====\n",
      "\n",
      "In 1908, Owen Willans Richardson predicted that a change in the magnetic moment of a free body will cause this body to rotate. This effect is a consequence of the conservation of angular momentum and is strong enough to be observable in ferromagnetic materials. Einstein and Wander Johannes de Haas published two papers in 1915 claiming the first experimental observation of the effect. Measurements of this kind demonstrate that the phenomenon of magnetization is caused by the alignment (polarization) of the angular momenta of the electrons in the material along the axis of magnetization. These measurements also allow the separation of the two contributions to the magnetization: that which is associated with the spin and with the orbital motion of the electrons.\n",
      "\n",
      "\n",
      "==== Einstein as an inventor ====\n",
      "In 1926, Einstein and his former student Leó Szilárd co-invented (and in 1930, patented) the Einstein refrigerator. This absorption refrigerator was then revolutionary for having no moving parts and using only heat as an input. On 11 November 1930, U.S. Patent 1,781,541 was awarded to Einstein and Leó Szilárd for the refrigerator. Their invention was not immediately put into commercial production, but the most promising of their patents were acquired by the Swedish company Electrolux.Einstein also invented an electromagnetic pump, sound reproduction device, and several other household devices.\n",
      "\n",
      "\n",
      "== Non-scientific legacy ==\n",
      "While traveling, Einstein wrote daily to his wife Elsa and adopted stepdaughters Margot and Ilse. The letters were included in the papers bequeathed to the Hebrew University of Jerusalem. Margot Einstein permitted the personal letters to be made available to the public, but requested that it not be done until twenty years after her death (she died in 1986). Barbara Wolff, of the Hebrew University's Albert Einstein Archives, told the BBC that there are about 3,500 pages of private correspondence written between 1912 and 1955.Einstein's right of publicity was litigated in 2015 in a federal district court in California. Although the court initially held that the right had expired, that ruling was immediately appealed, and the decision was later vacated in its entirety. The underlying claims between the parties in that lawsuit were ultimately settled. The right is enforceable, and the Hebrew University of Jerusalem is the exclusive representative of that right. Corbis, successor to The Roger Richman Agency, licenses the use of his name and associated imagery, as agent for the university.Mount Einstein in the Chugach Mountains of Alaska was named in 1955.\n",
      "Mount Einstein in New Zealand's Paparoa Range was named after him in 1970 by the Department of Scientific and Industrial Research.\n",
      "\n",
      "\n",
      "== In popular culture ==\n",
      "\n",
      "Einstein became one of the most famous scientific celebrities after the confirmation of his general theory of relativity in 1919. Although most of the public had little understanding of his work, he was widely recognized and admired. In the period before World War II, The New Yorker published a vignette in their \"The Talk of the Town\" feature saying that Einstein was so well known in America that he would be stopped on the street by people wanting him to explain \"that theory\". Eventually he came to cope with unwanted enquirers by pretending to be someone else: \"Pardon me, sorry! Always I am mistaken for Professor Einstein.\"Einstein has been the subject of or inspiration for many novels, films, plays, and works of music. He is a favorite model for depictions of absent-minded professors; his expressive face and distinctive hairstyle have been widely copied and exaggerated. Time magazine's Frederic Golden wrote that Einstein was \"a cartoonist's dream come true\".Many popular quotations are often misattributed to him. For example, it is often claimed, erroneously, that he said, \"The definition of insanity is doing the same thing over and over and expecting different results.\"\n",
      "\n",
      "\n",
      "== Awards and honors ==\n",
      "\n",
      "Einstein received numerous awards and honors, and in 1922, he was awarded the 1921 Nobel Prize in Physics \"for his services to Theoretical Physics, and especially for his discovery of the law of the photoelectric effect\". None of the nominations in 1921 met the criteria set by Alfred Nobel, so the 1921 prize was carried forward and awarded to Einstein in 1922.Einsteinium, one of the synthetic elements in the periodic table, was named in his honor.\n",
      "\n",
      "\n",
      "== Publications ==\n",
      "\n",
      "\n",
      "=== Scientific ===\n",
      "\n",
      "\n",
      "=== Others ===\n",
      "\n",
      "\n",
      "== See also ==\n",
      "\n",
      "\n",
      "== Notes ==\n",
      "\n",
      "\n",
      "== References ==\n",
      "\n",
      "\n",
      "=== Works cited ===\n",
      "\n",
      "\n",
      "== Further reading ==\n",
      "\n",
      "\n",
      "== External links ==\n",
      "\n",
      "Albert Einstein at Curlie\n",
      "Works by Albert Einstein at Project Gutenberg\n",
      "Works by or about Albert Einstein at Internet Archive\n",
      "Works by Albert Einstein at LibriVox (public domain audiobooks) \n",
      "Einstein's Personal Correspondence: Religion, Politics, The Holocaust, and Philosophy Shapell Manuscript Foundation\n",
      "Federal Bureau of Investigation file on Albert Einstein\n",
      "Einstein and his love of music, Physics World\n",
      "Albert Einstein on Nobelprize.org  including the Nobel Lecture 11 July 1923 Fundamental ideas and problems of the theory of relativity\n",
      "Albert Einstein Archives Online (80,000+ Documents) Archived 11 August 2011 at the Wayback Machine (MSNBC, 19 March 2012)\n",
      "Einstein's declaration of intention for American citizenship on the World Digital Library\n",
      "Albert Einstein Collection at Brandeis University\n",
      "The Collected Papers of Albert Einstein \"Digital Einstein\" at Princeton University\n",
      "Newspaper clippings about Albert Einstein in the 20th Century Press Archives of the ZBW\n",
      "Home page of Albert Einstein at The Institute for Advanced Study\n",
      "Albert – The Digital Repository of the IAS, which contains many digitized original documents and photographs\n"
     ]
    }
   ],
   "source": [
    "print(documents[0].metadata)\n",
    "print(documents[0].text)"
   ]
  },
  {
   "cell_type": "code",
   "execution_count": 6,
   "id": "ae3cd6a4-d42a-4e8d-a738-c70dc6ef94b0",
   "metadata": {},
   "outputs": [],
   "source": [
    "######### save the document as json\n",
    "doc_as_json = [document.to_json() for document in documents]\n",
    "with open(\"./output/db/documents.json\", \"w\") as f:\n",
    "    f.write(json.dumps(doc_as_json))"
   ]
  },
  {
   "cell_type": "code",
   "execution_count": 7,
   "id": "5f2b4b82-f40e-4bf7-b944-8055e8a3310a",
   "metadata": {},
   "outputs": [
    {
     "name": "stdout",
     "output_type": "stream",
     "text": [
      "Number of chunks =  97\n"
     ]
    }
   ],
   "source": [
    "######### chunk the document\n",
    "import uuid\n",
    "from langchain.docstore.document import Document\n",
    "from langchain.text_splitter import RecursiveCharacterTextSplitter\n",
    "\n",
    "\n",
    "splitter = RecursiveCharacterTextSplitter(\n",
    "    chunk_size=1500,\n",
    "    chunk_overlap=150,\n",
    "    length_function=len,\n",
    "    is_separator_regex=False,\n",
    ")\n",
    "\n",
    "\n",
    "langchain_docs = [document.to_langchain_format() for document in documents]\n",
    "\n",
    "chunks = splitter.split_documents(langchain_docs)\n",
    "\n",
    "def set_chunk_id(chunks):\n",
    "    for chunk in chunks:\n",
    "        chunk.metadata['uuid'] = str(uuid.uuid4())\n",
    "\n",
    "set_chunk_id(chunks)\n",
    "\n",
    "print(\"Number of chunks = \", len(chunks))\n",
    "\n",
    "raw_docs = [doc.text for doc in documents]\n",
    "raw_chunks =  [chunk.page_content for chunk in chunks]"
   ]
  },
  {
   "cell_type": "code",
   "execution_count": 8,
   "id": "21c8ece8-352e-4b15-91fe-7b5e1dcaa88b",
   "metadata": {},
   "outputs": [
    {
     "name": "stdout",
     "output_type": "stream",
     "text": [
      "{'doc_source': 'wikipedia', 'wikipedia_page': 'Albert Einstein', 'doc_lang': 'en', 'doc_size': 83894, 'timestamp': 1702739441.176578, 'uuid': 'e1b9b0f1-7b54-4fe7-b475-fc372faa63d4'}\n",
      "Albert Einstein ( EYEN-styne; German: [ˈalbɛɐt ˈʔaɪnʃtaɪn] ; 14 March 1879 – 18 April 1955) was a German-born theoretical physicist who is widely held to be one of the greatest and most influential scientists of all time. Best known for developing the theory of relativity, Einstein also made important contributions to quantum mechanics, and was thus a central figure in the revolutionary reshaping of the scientific understanding of nature that modern physics accomplished in the first decades of the twentieth century. His mass–energy equivalence formula E = mc2, which arises from relativity theory, has been called \"the world's most famous equation\". He received the 1921 Nobel Prize in Physics \"for his services to theoretical physics, and especially for his discovery of the law of the photoelectric effect\", a pivotal step in the development of quantum theory. His work is also known for its influence on the philosophy of science. In a 1999 poll of 130 leading physicists worldwide by the British journal Physics World, Einstein was ranked the greatest physicist of all time. His intellectual achievements and originality have made the word Einstein broadly synonymous with genius.In 1905, a year sometimes described as his annus mirabilis (miracle year), Einstein published four groundbreaking papers. These outlined a theory of the photoelectric effect, explained Brownian motion, introduced his special theory of relativity—a theory which addressed the inability of classical mechanics to\n"
     ]
    }
   ],
   "source": [
    "print(chunks[0].metadata)\n",
    "print(chunks[0].page_content)"
   ]
  },
  {
   "cell_type": "code",
   "execution_count": 9,
   "id": "6d306421-4b4d-4171-b98d-f7f6501acb23",
   "metadata": {},
   "outputs": [],
   "source": [
    "######### save the chunks as json\n",
    "chunks_as_json = [chunk.to_json() for chunk in chunks]\n",
    "with open(\"./output/db/chunks.json\", \"w\") as f:\n",
    "    f.write(json.dumps(chunks_as_json))"
   ]
  },
  {
   "cell_type": "markdown",
   "id": "07d36d14-ea21-469c-b2da-9bfaaa4db892",
   "metadata": {},
   "source": [
    "## Use a LLM to extract concepts from chunked data"
   ]
  },
  {
   "cell_type": "code",
   "execution_count": 10,
   "id": "f077a388-6cc2-4262-bc4a-7aa943975291",
   "metadata": {},
   "outputs": [],
   "source": [
    "############### which model to use\n",
    "#model = \"llama-2-13b-chat.Q5_K_M.gguf\"\n",
    "model = \"mistral-7b-openorca.Q5_K_M.gguf\" #https://huggingface.co/TheBloke/Mistral-7B-OpenOrca-GGUF\n",
    "llama_cpp_path = \"/Users/done/Documents/dneumnn/llama.cpp/models\"\n",
    "model_path = os.path.join(llama_cpp_path, model)"
   ]
  },
  {
   "cell_type": "code",
   "execution_count": 11,
   "id": "1fdcbf8b-adca-4e35-ad0a-9176e3a4ad2c",
   "metadata": {},
   "outputs": [
    {
     "name": "stderr",
     "output_type": "stream",
     "text": [
      "llama_model_loader: loaded meta data with 20 key-value pairs and 291 tensors from /Users/done/Documents/dneumnn/llama.cpp/models/mistral-7b-openorca.Q5_K_M.gguf (version GGUF V2)\n",
      "llama_model_loader: - tensor    0:                token_embd.weight q5_K     [  4096, 32002,     1,     1 ]\n",
      "llama_model_loader: - tensor    1:              blk.0.attn_q.weight q5_K     [  4096,  4096,     1,     1 ]\n",
      "llama_model_loader: - tensor    2:              blk.0.attn_k.weight q5_K     [  4096,  1024,     1,     1 ]\n",
      "llama_model_loader: - tensor    3:              blk.0.attn_v.weight q6_K     [  4096,  1024,     1,     1 ]\n",
      "llama_model_loader: - tensor    4:         blk.0.attn_output.weight q5_K     [  4096,  4096,     1,     1 ]\n",
      "llama_model_loader: - tensor    5:            blk.0.ffn_gate.weight q5_K     [  4096, 14336,     1,     1 ]\n",
      "llama_model_loader: - tensor    6:              blk.0.ffn_up.weight q5_K     [  4096, 14336,     1,     1 ]\n",
      "llama_model_loader: - tensor    7:            blk.0.ffn_down.weight q6_K     [ 14336,  4096,     1,     1 ]\n",
      "llama_model_loader: - tensor    8:           blk.0.attn_norm.weight f32      [  4096,     1,     1,     1 ]\n",
      "llama_model_loader: - tensor    9:            blk.0.ffn_norm.weight f32      [  4096,     1,     1,     1 ]\n",
      "llama_model_loader: - tensor   10:              blk.1.attn_q.weight q5_K     [  4096,  4096,     1,     1 ]\n",
      "llama_model_loader: - tensor   11:              blk.1.attn_k.weight q5_K     [  4096,  1024,     1,     1 ]\n",
      "llama_model_loader: - tensor   12:              blk.1.attn_v.weight q6_K     [  4096,  1024,     1,     1 ]\n",
      "llama_model_loader: - tensor   13:         blk.1.attn_output.weight q5_K     [  4096,  4096,     1,     1 ]\n",
      "llama_model_loader: - tensor   14:            blk.1.ffn_gate.weight q5_K     [  4096, 14336,     1,     1 ]\n",
      "llama_model_loader: - tensor   15:              blk.1.ffn_up.weight q5_K     [  4096, 14336,     1,     1 ]\n",
      "llama_model_loader: - tensor   16:            blk.1.ffn_down.weight q6_K     [ 14336,  4096,     1,     1 ]\n",
      "llama_model_loader: - tensor   17:           blk.1.attn_norm.weight f32      [  4096,     1,     1,     1 ]\n",
      "llama_model_loader: - tensor   18:            blk.1.ffn_norm.weight f32      [  4096,     1,     1,     1 ]\n",
      "llama_model_loader: - tensor   19:              blk.2.attn_q.weight q5_K     [  4096,  4096,     1,     1 ]\n",
      "llama_model_loader: - tensor   20:              blk.2.attn_k.weight q5_K     [  4096,  1024,     1,     1 ]\n",
      "llama_model_loader: - tensor   21:              blk.2.attn_v.weight q6_K     [  4096,  1024,     1,     1 ]\n",
      "llama_model_loader: - tensor   22:         blk.2.attn_output.weight q5_K     [  4096,  4096,     1,     1 ]\n",
      "llama_model_loader: - tensor   23:            blk.2.ffn_gate.weight q5_K     [  4096, 14336,     1,     1 ]\n",
      "llama_model_loader: - tensor   24:              blk.2.ffn_up.weight q5_K     [  4096, 14336,     1,     1 ]\n",
      "llama_model_loader: - tensor   25:            blk.2.ffn_down.weight q6_K     [ 14336,  4096,     1,     1 ]\n",
      "llama_model_loader: - tensor   26:           blk.2.attn_norm.weight f32      [  4096,     1,     1,     1 ]\n",
      "llama_model_loader: - tensor   27:            blk.2.ffn_norm.weight f32      [  4096,     1,     1,     1 ]\n",
      "llama_model_loader: - tensor   28:              blk.3.attn_q.weight q5_K     [  4096,  4096,     1,     1 ]\n",
      "llama_model_loader: - tensor   29:              blk.3.attn_k.weight q5_K     [  4096,  1024,     1,     1 ]\n",
      "llama_model_loader: - tensor   30:              blk.3.attn_v.weight q6_K     [  4096,  1024,     1,     1 ]\n",
      "llama_model_loader: - tensor   31:         blk.3.attn_output.weight q5_K     [  4096,  4096,     1,     1 ]\n",
      "llama_model_loader: - tensor   32:            blk.3.ffn_gate.weight q5_K     [  4096, 14336,     1,     1 ]\n",
      "llama_model_loader: - tensor   33:              blk.3.ffn_up.weight q5_K     [  4096, 14336,     1,     1 ]\n",
      "llama_model_loader: - tensor   34:            blk.3.ffn_down.weight q6_K     [ 14336,  4096,     1,     1 ]\n",
      "llama_model_loader: - tensor   35:           blk.3.attn_norm.weight f32      [  4096,     1,     1,     1 ]\n",
      "llama_model_loader: - tensor   36:            blk.3.ffn_norm.weight f32      [  4096,     1,     1,     1 ]\n",
      "llama_model_loader: - tensor   37:              blk.4.attn_q.weight q5_K     [  4096,  4096,     1,     1 ]\n",
      "llama_model_loader: - tensor   38:              blk.4.attn_k.weight q5_K     [  4096,  1024,     1,     1 ]\n",
      "llama_model_loader: - tensor   39:              blk.4.attn_v.weight q5_K     [  4096,  1024,     1,     1 ]\n",
      "llama_model_loader: - tensor   40:         blk.4.attn_output.weight q5_K     [  4096,  4096,     1,     1 ]\n",
      "llama_model_loader: - tensor   41:            blk.4.ffn_gate.weight q5_K     [  4096, 14336,     1,     1 ]\n",
      "llama_model_loader: - tensor   42:              blk.4.ffn_up.weight q5_K     [  4096, 14336,     1,     1 ]\n",
      "llama_model_loader: - tensor   43:            blk.4.ffn_down.weight q5_K     [ 14336,  4096,     1,     1 ]\n",
      "llama_model_loader: - tensor   44:           blk.4.attn_norm.weight f32      [  4096,     1,     1,     1 ]\n",
      "llama_model_loader: - tensor   45:            blk.4.ffn_norm.weight f32      [  4096,     1,     1,     1 ]\n",
      "llama_model_loader: - tensor   46:              blk.5.attn_q.weight q5_K     [  4096,  4096,     1,     1 ]\n",
      "llama_model_loader: - tensor   47:              blk.5.attn_k.weight q5_K     [  4096,  1024,     1,     1 ]\n",
      "llama_model_loader: - tensor   48:              blk.5.attn_v.weight q5_K     [  4096,  1024,     1,     1 ]\n",
      "llama_model_loader: - tensor   49:         blk.5.attn_output.weight q5_K     [  4096,  4096,     1,     1 ]\n",
      "llama_model_loader: - tensor   50:            blk.5.ffn_gate.weight q5_K     [  4096, 14336,     1,     1 ]\n",
      "llama_model_loader: - tensor   51:              blk.5.ffn_up.weight q5_K     [  4096, 14336,     1,     1 ]\n",
      "llama_model_loader: - tensor   52:            blk.5.ffn_down.weight q5_K     [ 14336,  4096,     1,     1 ]\n",
      "llama_model_loader: - tensor   53:           blk.5.attn_norm.weight f32      [  4096,     1,     1,     1 ]\n",
      "llama_model_loader: - tensor   54:            blk.5.ffn_norm.weight f32      [  4096,     1,     1,     1 ]\n",
      "llama_model_loader: - tensor   55:              blk.6.attn_q.weight q5_K     [  4096,  4096,     1,     1 ]\n",
      "llama_model_loader: - tensor   56:              blk.6.attn_k.weight q5_K     [  4096,  1024,     1,     1 ]\n",
      "llama_model_loader: - tensor   57:              blk.6.attn_v.weight q6_K     [  4096,  1024,     1,     1 ]\n",
      "llama_model_loader: - tensor   58:         blk.6.attn_output.weight q5_K     [  4096,  4096,     1,     1 ]\n",
      "llama_model_loader: - tensor   59:            blk.6.ffn_gate.weight q5_K     [  4096, 14336,     1,     1 ]\n",
      "llama_model_loader: - tensor   60:              blk.6.ffn_up.weight q5_K     [  4096, 14336,     1,     1 ]\n",
      "llama_model_loader: - tensor   61:            blk.6.ffn_down.weight q6_K     [ 14336,  4096,     1,     1 ]\n",
      "llama_model_loader: - tensor   62:           blk.6.attn_norm.weight f32      [  4096,     1,     1,     1 ]\n",
      "llama_model_loader: - tensor   63:            blk.6.ffn_norm.weight f32      [  4096,     1,     1,     1 ]\n",
      "llama_model_loader: - tensor   64:              blk.7.attn_q.weight q5_K     [  4096,  4096,     1,     1 ]\n",
      "llama_model_loader: - tensor   65:              blk.7.attn_k.weight q5_K     [  4096,  1024,     1,     1 ]\n",
      "llama_model_loader: - tensor   66:              blk.7.attn_v.weight q5_K     [  4096,  1024,     1,     1 ]\n",
      "llama_model_loader: - tensor   67:         blk.7.attn_output.weight q5_K     [  4096,  4096,     1,     1 ]\n",
      "llama_model_loader: - tensor   68:            blk.7.ffn_gate.weight q5_K     [  4096, 14336,     1,     1 ]\n",
      "llama_model_loader: - tensor   69:              blk.7.ffn_up.weight q5_K     [  4096, 14336,     1,     1 ]\n",
      "llama_model_loader: - tensor   70:            blk.7.ffn_down.weight q5_K     [ 14336,  4096,     1,     1 ]\n",
      "llama_model_loader: - tensor   71:           blk.7.attn_norm.weight f32      [  4096,     1,     1,     1 ]\n",
      "llama_model_loader: - tensor   72:            blk.7.ffn_norm.weight f32      [  4096,     1,     1,     1 ]\n",
      "llama_model_loader: - tensor   73:              blk.8.attn_q.weight q5_K     [  4096,  4096,     1,     1 ]\n",
      "llama_model_loader: - tensor   74:              blk.8.attn_k.weight q5_K     [  4096,  1024,     1,     1 ]\n",
      "llama_model_loader: - tensor   75:              blk.8.attn_v.weight q5_K     [  4096,  1024,     1,     1 ]\n",
      "llama_model_loader: - tensor   76:         blk.8.attn_output.weight q5_K     [  4096,  4096,     1,     1 ]\n",
      "llama_model_loader: - tensor   77:            blk.8.ffn_gate.weight q5_K     [  4096, 14336,     1,     1 ]\n",
      "llama_model_loader: - tensor   78:              blk.8.ffn_up.weight q5_K     [  4096, 14336,     1,     1 ]\n",
      "llama_model_loader: - tensor   79:            blk.8.ffn_down.weight q5_K     [ 14336,  4096,     1,     1 ]\n",
      "llama_model_loader: - tensor   80:           blk.8.attn_norm.weight f32      [  4096,     1,     1,     1 ]\n",
      "llama_model_loader: - tensor   81:            blk.8.ffn_norm.weight f32      [  4096,     1,     1,     1 ]\n",
      "llama_model_loader: - tensor   82:              blk.9.attn_q.weight q5_K     [  4096,  4096,     1,     1 ]\n",
      "llama_model_loader: - tensor   83:              blk.9.attn_k.weight q5_K     [  4096,  1024,     1,     1 ]\n",
      "llama_model_loader: - tensor   84:              blk.9.attn_v.weight q6_K     [  4096,  1024,     1,     1 ]\n",
      "llama_model_loader: - tensor   85:         blk.9.attn_output.weight q5_K     [  4096,  4096,     1,     1 ]\n",
      "llama_model_loader: - tensor   86:            blk.9.ffn_gate.weight q5_K     [  4096, 14336,     1,     1 ]\n",
      "llama_model_loader: - tensor   87:              blk.9.ffn_up.weight q5_K     [  4096, 14336,     1,     1 ]\n",
      "llama_model_loader: - tensor   88:            blk.9.ffn_down.weight q6_K     [ 14336,  4096,     1,     1 ]\n",
      "llama_model_loader: - tensor   89:           blk.9.attn_norm.weight f32      [  4096,     1,     1,     1 ]\n",
      "llama_model_loader: - tensor   90:            blk.9.ffn_norm.weight f32      [  4096,     1,     1,     1 ]\n",
      "llama_model_loader: - tensor   91:             blk.10.attn_q.weight q5_K     [  4096,  4096,     1,     1 ]\n",
      "llama_model_loader: - tensor   92:             blk.10.attn_k.weight q5_K     [  4096,  1024,     1,     1 ]\n",
      "llama_model_loader: - tensor   93:             blk.10.attn_v.weight q5_K     [  4096,  1024,     1,     1 ]\n",
      "llama_model_loader: - tensor   94:        blk.10.attn_output.weight q5_K     [  4096,  4096,     1,     1 ]\n",
      "llama_model_loader: - tensor   95:           blk.10.ffn_gate.weight q5_K     [  4096, 14336,     1,     1 ]\n",
      "llama_model_loader: - tensor   96:             blk.10.ffn_up.weight q5_K     [  4096, 14336,     1,     1 ]\n",
      "llama_model_loader: - tensor   97:           blk.10.ffn_down.weight q5_K     [ 14336,  4096,     1,     1 ]\n",
      "llama_model_loader: - tensor   98:          blk.10.attn_norm.weight f32      [  4096,     1,     1,     1 ]\n",
      "llama_model_loader: - tensor   99:           blk.10.ffn_norm.weight f32      [  4096,     1,     1,     1 ]\n",
      "llama_model_loader: - tensor  100:             blk.11.attn_q.weight q5_K     [  4096,  4096,     1,     1 ]\n",
      "llama_model_loader: - tensor  101:             blk.11.attn_k.weight q5_K     [  4096,  1024,     1,     1 ]\n",
      "llama_model_loader: - tensor  102:             blk.11.attn_v.weight q5_K     [  4096,  1024,     1,     1 ]\n",
      "llama_model_loader: - tensor  103:        blk.11.attn_output.weight q5_K     [  4096,  4096,     1,     1 ]\n",
      "llama_model_loader: - tensor  104:           blk.11.ffn_gate.weight q5_K     [  4096, 14336,     1,     1 ]\n",
      "llama_model_loader: - tensor  105:             blk.11.ffn_up.weight q5_K     [  4096, 14336,     1,     1 ]\n",
      "llama_model_loader: - tensor  106:           blk.11.ffn_down.weight q5_K     [ 14336,  4096,     1,     1 ]\n",
      "llama_model_loader: - tensor  107:          blk.11.attn_norm.weight f32      [  4096,     1,     1,     1 ]\n",
      "llama_model_loader: - tensor  108:           blk.11.ffn_norm.weight f32      [  4096,     1,     1,     1 ]\n",
      "llama_model_loader: - tensor  109:             blk.12.attn_q.weight q5_K     [  4096,  4096,     1,     1 ]\n",
      "llama_model_loader: - tensor  110:             blk.12.attn_k.weight q5_K     [  4096,  1024,     1,     1 ]\n",
      "llama_model_loader: - tensor  111:             blk.12.attn_v.weight q6_K     [  4096,  1024,     1,     1 ]\n",
      "llama_model_loader: - tensor  112:        blk.12.attn_output.weight q5_K     [  4096,  4096,     1,     1 ]\n",
      "llama_model_loader: - tensor  113:           blk.12.ffn_gate.weight q5_K     [  4096, 14336,     1,     1 ]\n",
      "llama_model_loader: - tensor  114:             blk.12.ffn_up.weight q5_K     [  4096, 14336,     1,     1 ]\n",
      "llama_model_loader: - tensor  115:           blk.12.ffn_down.weight q6_K     [ 14336,  4096,     1,     1 ]\n",
      "llama_model_loader: - tensor  116:          blk.12.attn_norm.weight f32      [  4096,     1,     1,     1 ]\n",
      "llama_model_loader: - tensor  117:           blk.12.ffn_norm.weight f32      [  4096,     1,     1,     1 ]\n",
      "llama_model_loader: - tensor  118:             blk.13.attn_q.weight q5_K     [  4096,  4096,     1,     1 ]\n",
      "llama_model_loader: - tensor  119:             blk.13.attn_k.weight q5_K     [  4096,  1024,     1,     1 ]\n",
      "llama_model_loader: - tensor  120:             blk.13.attn_v.weight q5_K     [  4096,  1024,     1,     1 ]\n",
      "llama_model_loader: - tensor  121:        blk.13.attn_output.weight q5_K     [  4096,  4096,     1,     1 ]\n",
      "llama_model_loader: - tensor  122:           blk.13.ffn_gate.weight q5_K     [  4096, 14336,     1,     1 ]\n",
      "llama_model_loader: - tensor  123:             blk.13.ffn_up.weight q5_K     [  4096, 14336,     1,     1 ]\n",
      "llama_model_loader: - tensor  124:           blk.13.ffn_down.weight q5_K     [ 14336,  4096,     1,     1 ]\n",
      "llama_model_loader: - tensor  125:          blk.13.attn_norm.weight f32      [  4096,     1,     1,     1 ]\n",
      "llama_model_loader: - tensor  126:           blk.13.ffn_norm.weight f32      [  4096,     1,     1,     1 ]\n",
      "llama_model_loader: - tensor  127:             blk.14.attn_q.weight q5_K     [  4096,  4096,     1,     1 ]\n",
      "llama_model_loader: - tensor  128:             blk.14.attn_k.weight q5_K     [  4096,  1024,     1,     1 ]\n",
      "llama_model_loader: - tensor  129:             blk.14.attn_v.weight q5_K     [  4096,  1024,     1,     1 ]\n",
      "llama_model_loader: - tensor  130:        blk.14.attn_output.weight q5_K     [  4096,  4096,     1,     1 ]\n",
      "llama_model_loader: - tensor  131:           blk.14.ffn_gate.weight q5_K     [  4096, 14336,     1,     1 ]\n",
      "llama_model_loader: - tensor  132:             blk.14.ffn_up.weight q5_K     [  4096, 14336,     1,     1 ]\n",
      "llama_model_loader: - tensor  133:           blk.14.ffn_down.weight q5_K     [ 14336,  4096,     1,     1 ]\n",
      "llama_model_loader: - tensor  134:          blk.14.attn_norm.weight f32      [  4096,     1,     1,     1 ]\n",
      "llama_model_loader: - tensor  135:           blk.14.ffn_norm.weight f32      [  4096,     1,     1,     1 ]\n",
      "llama_model_loader: - tensor  136:             blk.15.attn_q.weight q5_K     [  4096,  4096,     1,     1 ]\n",
      "llama_model_loader: - tensor  137:             blk.15.attn_k.weight q5_K     [  4096,  1024,     1,     1 ]\n",
      "llama_model_loader: - tensor  138:             blk.15.attn_v.weight q6_K     [  4096,  1024,     1,     1 ]\n",
      "llama_model_loader: - tensor  139:        blk.15.attn_output.weight q5_K     [  4096,  4096,     1,     1 ]\n",
      "llama_model_loader: - tensor  140:           blk.15.ffn_gate.weight q5_K     [  4096, 14336,     1,     1 ]\n",
      "llama_model_loader: - tensor  141:             blk.15.ffn_up.weight q5_K     [  4096, 14336,     1,     1 ]\n",
      "llama_model_loader: - tensor  142:           blk.15.ffn_down.weight q6_K     [ 14336,  4096,     1,     1 ]\n",
      "llama_model_loader: - tensor  143:          blk.15.attn_norm.weight f32      [  4096,     1,     1,     1 ]\n",
      "llama_model_loader: - tensor  144:           blk.15.ffn_norm.weight f32      [  4096,     1,     1,     1 ]\n",
      "llama_model_loader: - tensor  145:             blk.16.attn_q.weight q5_K     [  4096,  4096,     1,     1 ]\n",
      "llama_model_loader: - tensor  146:             blk.16.attn_k.weight q5_K     [  4096,  1024,     1,     1 ]\n",
      "llama_model_loader: - tensor  147:             blk.16.attn_v.weight q5_K     [  4096,  1024,     1,     1 ]\n",
      "llama_model_loader: - tensor  148:        blk.16.attn_output.weight q5_K     [  4096,  4096,     1,     1 ]\n",
      "llama_model_loader: - tensor  149:           blk.16.ffn_gate.weight q5_K     [  4096, 14336,     1,     1 ]\n",
      "llama_model_loader: - tensor  150:             blk.16.ffn_up.weight q5_K     [  4096, 14336,     1,     1 ]\n",
      "llama_model_loader: - tensor  151:           blk.16.ffn_down.weight q5_K     [ 14336,  4096,     1,     1 ]\n",
      "llama_model_loader: - tensor  152:          blk.16.attn_norm.weight f32      [  4096,     1,     1,     1 ]\n",
      "llama_model_loader: - tensor  153:           blk.16.ffn_norm.weight f32      [  4096,     1,     1,     1 ]\n",
      "llama_model_loader: - tensor  154:             blk.17.attn_q.weight q5_K     [  4096,  4096,     1,     1 ]\n",
      "llama_model_loader: - tensor  155:             blk.17.attn_k.weight q5_K     [  4096,  1024,     1,     1 ]\n",
      "llama_model_loader: - tensor  156:             blk.17.attn_v.weight q5_K     [  4096,  1024,     1,     1 ]\n",
      "llama_model_loader: - tensor  157:        blk.17.attn_output.weight q5_K     [  4096,  4096,     1,     1 ]\n",
      "llama_model_loader: - tensor  158:           blk.17.ffn_gate.weight q5_K     [  4096, 14336,     1,     1 ]\n",
      "llama_model_loader: - tensor  159:             blk.17.ffn_up.weight q5_K     [  4096, 14336,     1,     1 ]\n",
      "llama_model_loader: - tensor  160:           blk.17.ffn_down.weight q5_K     [ 14336,  4096,     1,     1 ]\n",
      "llama_model_loader: - tensor  161:          blk.17.attn_norm.weight f32      [  4096,     1,     1,     1 ]\n",
      "llama_model_loader: - tensor  162:           blk.17.ffn_norm.weight f32      [  4096,     1,     1,     1 ]\n",
      "llama_model_loader: - tensor  163:             blk.18.attn_q.weight q5_K     [  4096,  4096,     1,     1 ]\n",
      "llama_model_loader: - tensor  164:             blk.18.attn_k.weight q5_K     [  4096,  1024,     1,     1 ]\n",
      "llama_model_loader: - tensor  165:             blk.18.attn_v.weight q6_K     [  4096,  1024,     1,     1 ]\n",
      "llama_model_loader: - tensor  166:        blk.18.attn_output.weight q5_K     [  4096,  4096,     1,     1 ]\n",
      "llama_model_loader: - tensor  167:           blk.18.ffn_gate.weight q5_K     [  4096, 14336,     1,     1 ]\n",
      "llama_model_loader: - tensor  168:             blk.18.ffn_up.weight q5_K     [  4096, 14336,     1,     1 ]\n",
      "llama_model_loader: - tensor  169:           blk.18.ffn_down.weight q6_K     [ 14336,  4096,     1,     1 ]\n",
      "llama_model_loader: - tensor  170:          blk.18.attn_norm.weight f32      [  4096,     1,     1,     1 ]\n",
      "llama_model_loader: - tensor  171:           blk.18.ffn_norm.weight f32      [  4096,     1,     1,     1 ]\n",
      "llama_model_loader: - tensor  172:             blk.19.attn_q.weight q5_K     [  4096,  4096,     1,     1 ]\n",
      "llama_model_loader: - tensor  173:             blk.19.attn_k.weight q5_K     [  4096,  1024,     1,     1 ]\n",
      "llama_model_loader: - tensor  174:             blk.19.attn_v.weight q5_K     [  4096,  1024,     1,     1 ]\n",
      "llama_model_loader: - tensor  175:        blk.19.attn_output.weight q5_K     [  4096,  4096,     1,     1 ]\n",
      "llama_model_loader: - tensor  176:           blk.19.ffn_gate.weight q5_K     [  4096, 14336,     1,     1 ]\n",
      "llama_model_loader: - tensor  177:             blk.19.ffn_up.weight q5_K     [  4096, 14336,     1,     1 ]\n",
      "llama_model_loader: - tensor  178:           blk.19.ffn_down.weight q5_K     [ 14336,  4096,     1,     1 ]\n",
      "llama_model_loader: - tensor  179:          blk.19.attn_norm.weight f32      [  4096,     1,     1,     1 ]\n",
      "llama_model_loader: - tensor  180:           blk.19.ffn_norm.weight f32      [  4096,     1,     1,     1 ]\n",
      "llama_model_loader: - tensor  181:             blk.20.attn_q.weight q5_K     [  4096,  4096,     1,     1 ]\n",
      "llama_model_loader: - tensor  182:             blk.20.attn_k.weight q5_K     [  4096,  1024,     1,     1 ]\n",
      "llama_model_loader: - tensor  183:             blk.20.attn_v.weight q5_K     [  4096,  1024,     1,     1 ]\n",
      "llama_model_loader: - tensor  184:        blk.20.attn_output.weight q5_K     [  4096,  4096,     1,     1 ]\n",
      "llama_model_loader: - tensor  185:           blk.20.ffn_gate.weight q5_K     [  4096, 14336,     1,     1 ]\n",
      "llama_model_loader: - tensor  186:             blk.20.ffn_up.weight q5_K     [  4096, 14336,     1,     1 ]\n",
      "llama_model_loader: - tensor  187:           blk.20.ffn_down.weight q5_K     [ 14336,  4096,     1,     1 ]\n",
      "llama_model_loader: - tensor  188:          blk.20.attn_norm.weight f32      [  4096,     1,     1,     1 ]\n",
      "llama_model_loader: - tensor  189:           blk.20.ffn_norm.weight f32      [  4096,     1,     1,     1 ]\n",
      "llama_model_loader: - tensor  190:             blk.21.attn_q.weight q5_K     [  4096,  4096,     1,     1 ]\n",
      "llama_model_loader: - tensor  191:             blk.21.attn_k.weight q5_K     [  4096,  1024,     1,     1 ]\n",
      "llama_model_loader: - tensor  192:             blk.21.attn_v.weight q6_K     [  4096,  1024,     1,     1 ]\n",
      "llama_model_loader: - tensor  193:        blk.21.attn_output.weight q5_K     [  4096,  4096,     1,     1 ]\n",
      "llama_model_loader: - tensor  194:           blk.21.ffn_gate.weight q5_K     [  4096, 14336,     1,     1 ]\n",
      "llama_model_loader: - tensor  195:             blk.21.ffn_up.weight q5_K     [  4096, 14336,     1,     1 ]\n",
      "llama_model_loader: - tensor  196:           blk.21.ffn_down.weight q6_K     [ 14336,  4096,     1,     1 ]\n",
      "llama_model_loader: - tensor  197:          blk.21.attn_norm.weight f32      [  4096,     1,     1,     1 ]\n",
      "llama_model_loader: - tensor  198:           blk.21.ffn_norm.weight f32      [  4096,     1,     1,     1 ]\n",
      "llama_model_loader: - tensor  199:             blk.22.attn_q.weight q5_K     [  4096,  4096,     1,     1 ]\n",
      "llama_model_loader: - tensor  200:             blk.22.attn_k.weight q5_K     [  4096,  1024,     1,     1 ]\n",
      "llama_model_loader: - tensor  201:             blk.22.attn_v.weight q5_K     [  4096,  1024,     1,     1 ]\n",
      "llama_model_loader: - tensor  202:        blk.22.attn_output.weight q5_K     [  4096,  4096,     1,     1 ]\n",
      "llama_model_loader: - tensor  203:           blk.22.ffn_gate.weight q5_K     [  4096, 14336,     1,     1 ]\n",
      "llama_model_loader: - tensor  204:             blk.22.ffn_up.weight q5_K     [  4096, 14336,     1,     1 ]\n",
      "llama_model_loader: - tensor  205:           blk.22.ffn_down.weight q5_K     [ 14336,  4096,     1,     1 ]\n",
      "llama_model_loader: - tensor  206:          blk.22.attn_norm.weight f32      [  4096,     1,     1,     1 ]\n",
      "llama_model_loader: - tensor  207:           blk.22.ffn_norm.weight f32      [  4096,     1,     1,     1 ]\n",
      "llama_model_loader: - tensor  208:             blk.23.attn_q.weight q5_K     [  4096,  4096,     1,     1 ]\n",
      "llama_model_loader: - tensor  209:             blk.23.attn_k.weight q5_K     [  4096,  1024,     1,     1 ]\n",
      "llama_model_loader: - tensor  210:             blk.23.attn_v.weight q5_K     [  4096,  1024,     1,     1 ]\n",
      "llama_model_loader: - tensor  211:        blk.23.attn_output.weight q5_K     [  4096,  4096,     1,     1 ]\n",
      "llama_model_loader: - tensor  212:           blk.23.ffn_gate.weight q5_K     [  4096, 14336,     1,     1 ]\n",
      "llama_model_loader: - tensor  213:             blk.23.ffn_up.weight q5_K     [  4096, 14336,     1,     1 ]\n",
      "llama_model_loader: - tensor  214:           blk.23.ffn_down.weight q5_K     [ 14336,  4096,     1,     1 ]\n",
      "llama_model_loader: - tensor  215:          blk.23.attn_norm.weight f32      [  4096,     1,     1,     1 ]\n",
      "llama_model_loader: - tensor  216:           blk.23.ffn_norm.weight f32      [  4096,     1,     1,     1 ]\n",
      "llama_model_loader: - tensor  217:             blk.24.attn_q.weight q5_K     [  4096,  4096,     1,     1 ]\n",
      "llama_model_loader: - tensor  218:             blk.24.attn_k.weight q5_K     [  4096,  1024,     1,     1 ]\n",
      "llama_model_loader: - tensor  219:             blk.24.attn_v.weight q6_K     [  4096,  1024,     1,     1 ]\n",
      "llama_model_loader: - tensor  220:        blk.24.attn_output.weight q5_K     [  4096,  4096,     1,     1 ]\n",
      "llama_model_loader: - tensor  221:           blk.24.ffn_gate.weight q5_K     [  4096, 14336,     1,     1 ]\n",
      "llama_model_loader: - tensor  222:             blk.24.ffn_up.weight q5_K     [  4096, 14336,     1,     1 ]\n",
      "llama_model_loader: - tensor  223:           blk.24.ffn_down.weight q6_K     [ 14336,  4096,     1,     1 ]\n",
      "llama_model_loader: - tensor  224:          blk.24.attn_norm.weight f32      [  4096,     1,     1,     1 ]\n",
      "llama_model_loader: - tensor  225:           blk.24.ffn_norm.weight f32      [  4096,     1,     1,     1 ]\n",
      "llama_model_loader: - tensor  226:             blk.25.attn_q.weight q5_K     [  4096,  4096,     1,     1 ]\n",
      "llama_model_loader: - tensor  227:             blk.25.attn_k.weight q5_K     [  4096,  1024,     1,     1 ]\n",
      "llama_model_loader: - tensor  228:             blk.25.attn_v.weight q5_K     [  4096,  1024,     1,     1 ]\n",
      "llama_model_loader: - tensor  229:        blk.25.attn_output.weight q5_K     [  4096,  4096,     1,     1 ]\n",
      "llama_model_loader: - tensor  230:           blk.25.ffn_gate.weight q5_K     [  4096, 14336,     1,     1 ]\n",
      "llama_model_loader: - tensor  231:             blk.25.ffn_up.weight q5_K     [  4096, 14336,     1,     1 ]\n",
      "llama_model_loader: - tensor  232:           blk.25.ffn_down.weight q5_K     [ 14336,  4096,     1,     1 ]\n",
      "llama_model_loader: - tensor  233:          blk.25.attn_norm.weight f32      [  4096,     1,     1,     1 ]\n",
      "llama_model_loader: - tensor  234:           blk.25.ffn_norm.weight f32      [  4096,     1,     1,     1 ]\n",
      "llama_model_loader: - tensor  235:             blk.26.attn_q.weight q5_K     [  4096,  4096,     1,     1 ]\n",
      "llama_model_loader: - tensor  236:             blk.26.attn_k.weight q5_K     [  4096,  1024,     1,     1 ]\n",
      "llama_model_loader: - tensor  237:             blk.26.attn_v.weight q5_K     [  4096,  1024,     1,     1 ]\n",
      "llama_model_loader: - tensor  238:        blk.26.attn_output.weight q5_K     [  4096,  4096,     1,     1 ]\n",
      "llama_model_loader: - tensor  239:           blk.26.ffn_gate.weight q5_K     [  4096, 14336,     1,     1 ]\n",
      "llama_model_loader: - tensor  240:             blk.26.ffn_up.weight q5_K     [  4096, 14336,     1,     1 ]\n",
      "llama_model_loader: - tensor  241:           blk.26.ffn_down.weight q5_K     [ 14336,  4096,     1,     1 ]\n",
      "llama_model_loader: - tensor  242:          blk.26.attn_norm.weight f32      [  4096,     1,     1,     1 ]\n",
      "llama_model_loader: - tensor  243:           blk.26.ffn_norm.weight f32      [  4096,     1,     1,     1 ]\n",
      "llama_model_loader: - tensor  244:             blk.27.attn_q.weight q5_K     [  4096,  4096,     1,     1 ]\n",
      "llama_model_loader: - tensor  245:             blk.27.attn_k.weight q5_K     [  4096,  1024,     1,     1 ]\n",
      "llama_model_loader: - tensor  246:             blk.27.attn_v.weight q6_K     [  4096,  1024,     1,     1 ]\n",
      "llama_model_loader: - tensor  247:        blk.27.attn_output.weight q5_K     [  4096,  4096,     1,     1 ]\n",
      "llama_model_loader: - tensor  248:           blk.27.ffn_gate.weight q5_K     [  4096, 14336,     1,     1 ]\n",
      "llama_model_loader: - tensor  249:             blk.27.ffn_up.weight q5_K     [  4096, 14336,     1,     1 ]\n",
      "llama_model_loader: - tensor  250:           blk.27.ffn_down.weight q6_K     [ 14336,  4096,     1,     1 ]\n",
      "llama_model_loader: - tensor  251:          blk.27.attn_norm.weight f32      [  4096,     1,     1,     1 ]\n",
      "llama_model_loader: - tensor  252:           blk.27.ffn_norm.weight f32      [  4096,     1,     1,     1 ]\n",
      "llama_model_loader: - tensor  253:             blk.28.attn_q.weight q5_K     [  4096,  4096,     1,     1 ]\n",
      "llama_model_loader: - tensor  254:             blk.28.attn_k.weight q5_K     [  4096,  1024,     1,     1 ]\n",
      "llama_model_loader: - tensor  255:             blk.28.attn_v.weight q6_K     [  4096,  1024,     1,     1 ]\n",
      "llama_model_loader: - tensor  256:        blk.28.attn_output.weight q5_K     [  4096,  4096,     1,     1 ]\n",
      "llama_model_loader: - tensor  257:           blk.28.ffn_gate.weight q5_K     [  4096, 14336,     1,     1 ]\n",
      "llama_model_loader: - tensor  258:             blk.28.ffn_up.weight q5_K     [  4096, 14336,     1,     1 ]\n",
      "llama_model_loader: - tensor  259:           blk.28.ffn_down.weight q6_K     [ 14336,  4096,     1,     1 ]\n",
      "llama_model_loader: - tensor  260:          blk.28.attn_norm.weight f32      [  4096,     1,     1,     1 ]\n",
      "llama_model_loader: - tensor  261:           blk.28.ffn_norm.weight f32      [  4096,     1,     1,     1 ]\n",
      "llama_model_loader: - tensor  262:             blk.29.attn_q.weight q5_K     [  4096,  4096,     1,     1 ]\n",
      "llama_model_loader: - tensor  263:             blk.29.attn_k.weight q5_K     [  4096,  1024,     1,     1 ]\n",
      "llama_model_loader: - tensor  264:             blk.29.attn_v.weight q6_K     [  4096,  1024,     1,     1 ]\n",
      "llama_model_loader: - tensor  265:        blk.29.attn_output.weight q5_K     [  4096,  4096,     1,     1 ]\n",
      "llama_model_loader: - tensor  266:           blk.29.ffn_gate.weight q5_K     [  4096, 14336,     1,     1 ]\n",
      "llama_model_loader: - tensor  267:             blk.29.ffn_up.weight q5_K     [  4096, 14336,     1,     1 ]\n",
      "llama_model_loader: - tensor  268:           blk.29.ffn_down.weight q6_K     [ 14336,  4096,     1,     1 ]\n",
      "llama_model_loader: - tensor  269:          blk.29.attn_norm.weight f32      [  4096,     1,     1,     1 ]\n",
      "llama_model_loader: - tensor  270:           blk.29.ffn_norm.weight f32      [  4096,     1,     1,     1 ]\n",
      "llama_model_loader: - tensor  271:             blk.30.attn_q.weight q5_K     [  4096,  4096,     1,     1 ]\n",
      "llama_model_loader: - tensor  272:             blk.30.attn_k.weight q5_K     [  4096,  1024,     1,     1 ]\n",
      "llama_model_loader: - tensor  273:             blk.30.attn_v.weight q6_K     [  4096,  1024,     1,     1 ]\n",
      "llama_model_loader: - tensor  274:        blk.30.attn_output.weight q5_K     [  4096,  4096,     1,     1 ]\n",
      "llama_model_loader: - tensor  275:           blk.30.ffn_gate.weight q5_K     [  4096, 14336,     1,     1 ]\n",
      "llama_model_loader: - tensor  276:             blk.30.ffn_up.weight q5_K     [  4096, 14336,     1,     1 ]\n",
      "llama_model_loader: - tensor  277:           blk.30.ffn_down.weight q6_K     [ 14336,  4096,     1,     1 ]\n",
      "llama_model_loader: - tensor  278:          blk.30.attn_norm.weight f32      [  4096,     1,     1,     1 ]\n",
      "llama_model_loader: - tensor  279:           blk.30.ffn_norm.weight f32      [  4096,     1,     1,     1 ]\n",
      "llama_model_loader: - tensor  280:             blk.31.attn_q.weight q5_K     [  4096,  4096,     1,     1 ]\n",
      "llama_model_loader: - tensor  281:             blk.31.attn_k.weight q5_K     [  4096,  1024,     1,     1 ]\n",
      "llama_model_loader: - tensor  282:             blk.31.attn_v.weight q6_K     [  4096,  1024,     1,     1 ]\n",
      "llama_model_loader: - tensor  283:        blk.31.attn_output.weight q5_K     [  4096,  4096,     1,     1 ]\n",
      "llama_model_loader: - tensor  284:           blk.31.ffn_gate.weight q5_K     [  4096, 14336,     1,     1 ]\n",
      "llama_model_loader: - tensor  285:             blk.31.ffn_up.weight q5_K     [  4096, 14336,     1,     1 ]\n",
      "llama_model_loader: - tensor  286:           blk.31.ffn_down.weight q6_K     [ 14336,  4096,     1,     1 ]\n",
      "llama_model_loader: - tensor  287:          blk.31.attn_norm.weight f32      [  4096,     1,     1,     1 ]\n",
      "llama_model_loader: - tensor  288:           blk.31.ffn_norm.weight f32      [  4096,     1,     1,     1 ]\n",
      "llama_model_loader: - tensor  289:               output_norm.weight f32      [  4096,     1,     1,     1 ]\n",
      "llama_model_loader: - tensor  290:                    output.weight q6_K     [  4096, 32002,     1,     1 ]\n",
      "llama_model_loader: - kv   0:                       general.architecture str              = llama\n",
      "llama_model_loader: - kv   1:                               general.name str              = open-orca_mistral-7b-openorca\n",
      "llama_model_loader: - kv   2:                       llama.context_length u32              = 32768\n",
      "llama_model_loader: - kv   3:                     llama.embedding_length u32              = 4096\n",
      "llama_model_loader: - kv   4:                          llama.block_count u32              = 32\n",
      "llama_model_loader: - kv   5:                  llama.feed_forward_length u32              = 14336\n",
      "llama_model_loader: - kv   6:                 llama.rope.dimension_count u32              = 128\n",
      "llama_model_loader: - kv   7:                 llama.attention.head_count u32              = 32\n",
      "llama_model_loader: - kv   8:              llama.attention.head_count_kv u32              = 8\n",
      "llama_model_loader: - kv   9:     llama.attention.layer_norm_rms_epsilon f32              = 0.000010\n",
      "llama_model_loader: - kv  10:                       llama.rope.freq_base f32              = 10000.000000\n",
      "llama_model_loader: - kv  11:                          general.file_type u32              = 17\n",
      "llama_model_loader: - kv  12:                       tokenizer.ggml.model str              = llama\n",
      "llama_model_loader: - kv  13:                      tokenizer.ggml.tokens arr[str,32002]   = [\"<unk>\", \"<s>\", \"</s>\", \"<0x00>\", \"<...\n",
      "llama_model_loader: - kv  14:                      tokenizer.ggml.scores arr[f32,32002]   = [0.000000, 0.000000, 0.000000, 0.0000...\n",
      "llama_model_loader: - kv  15:                  tokenizer.ggml.token_type arr[i32,32002]   = [2, 3, 3, 6, 6, 6, 6, 6, 6, 6, 6, 6, ...\n",
      "llama_model_loader: - kv  16:                tokenizer.ggml.bos_token_id u32              = 1\n",
      "llama_model_loader: - kv  17:                tokenizer.ggml.eos_token_id u32              = 32000\n",
      "llama_model_loader: - kv  18:            tokenizer.ggml.unknown_token_id u32              = 0\n",
      "llama_model_loader: - kv  19:               general.quantization_version u32              = 2\n",
      "llama_model_loader: - type  f32:   65 tensors\n",
      "llama_model_loader: - type q5_K:  193 tensors\n",
      "llama_model_loader: - type q6_K:   33 tensors\n",
      "llm_load_vocab: special tokens definition check successful ( 261/32002 ).\n",
      "llm_load_print_meta: format           = GGUF V2\n",
      "llm_load_print_meta: arch             = llama\n",
      "llm_load_print_meta: vocab type       = SPM\n",
      "llm_load_print_meta: n_vocab          = 32002\n",
      "llm_load_print_meta: n_merges         = 0\n",
      "llm_load_print_meta: n_ctx_train      = 32768\n",
      "llm_load_print_meta: n_embd           = 4096\n",
      "llm_load_print_meta: n_head           = 32\n",
      "llm_load_print_meta: n_head_kv        = 8\n",
      "llm_load_print_meta: n_layer          = 32\n",
      "llm_load_print_meta: n_rot            = 128\n",
      "llm_load_print_meta: n_gqa            = 4\n",
      "llm_load_print_meta: f_norm_eps       = 0.0e+00\n",
      "llm_load_print_meta: f_norm_rms_eps   = 1.0e-05\n",
      "llm_load_print_meta: f_clamp_kqv      = 0.0e+00\n",
      "llm_load_print_meta: f_max_alibi_bias = 0.0e+00\n",
      "llm_load_print_meta: n_ff             = 14336\n",
      "llm_load_print_meta: rope scaling     = linear\n",
      "llm_load_print_meta: freq_base_train  = 10000.0\n",
      "llm_load_print_meta: freq_scale_train = 1\n",
      "llm_load_print_meta: n_yarn_orig_ctx  = 32768\n",
      "llm_load_print_meta: rope_finetuned   = unknown\n",
      "llm_load_print_meta: model type       = 7B\n",
      "llm_load_print_meta: model ftype      = mostly Q5_K - Medium\n",
      "llm_load_print_meta: model params     = 7.24 B\n",
      "llm_load_print_meta: model size       = 4.78 GiB (5.67 BPW) \n",
      "llm_load_print_meta: general.name   = open-orca_mistral-7b-openorca\n",
      "llm_load_print_meta: BOS token = 1 '<s>'\n",
      "llm_load_print_meta: EOS token = 32000 '<dummy32000>'\n",
      "llm_load_print_meta: UNK token = 0 '<unk>'\n",
      "llm_load_print_meta: LF token  = 13 '<0x0A>'\n",
      "llm_load_tensors: ggml ctx size =    0.11 MiB\n",
      "llm_load_tensors: mem required  = 4893.11 MiB\n",
      "..................................................................................................\n",
      "llama_new_context_with_model: n_ctx      = 4000\n",
      "llama_new_context_with_model: freq_base  = 10000.0\n",
      "llama_new_context_with_model: freq_scale = 1\n",
      "llama_new_context_with_model: kv self size  =  500.00 MiB\n",
      "llama_build_graph: non-view tensors processed: 740/740\n",
      "ggml_metal_init: allocating\n",
      "ggml_metal_init: found device: Apple M2 Max\n",
      "ggml_metal_init: picking default device: Apple M2 Max\n",
      "ggml_metal_init: default.metallib not found, loading from source\n",
      "ggml_metal_init: loading '/opt/homebrew/anaconda3/envs/kgrag/lib/python3.11/site-packages/llama_cpp/ggml-metal.metal'\n",
      "ggml_metal_init: GPU name:   Apple M2 Max\n",
      "ggml_metal_init: GPU family: MTLGPUFamilyApple8 (1008)\n",
      "ggml_metal_init: hasUnifiedMemory              = true\n",
      "ggml_metal_init: recommendedMaxWorkingSetSize  = 49152.00 MiB\n",
      "ggml_metal_init: maxTransferRate               = built-in GPU\n",
      "llama_new_context_with_model: compute buffer total size = 284.88 MiB\n",
      "llama_new_context_with_model: max tensor size =   102.55 MiB\n",
      "ggml_metal_add_buffer: allocated 'data            ' buffer, size =  4893.72 MiB, ( 4894.22 / 49152.00)\n",
      "ggml_metal_add_buffer: allocated 'kv              ' buffer, size =   500.02 MiB, ( 5394.23 / 49152.00)\n",
      "ggml_metal_add_buffer: allocated 'alloc           ' buffer, size =   281.83 MiB, ( 5676.06 / 49152.00)\n",
      "AVX = 0 | AVX2 = 0 | AVX512 = 0 | AVX512_VBMI = 0 | AVX512_VNNI = 0 | FMA = 0 | NEON = 1 | ARM_FMA = 1 | F16C = 0 | FP16_VA = 1 | WASM_SIMD = 0 | BLAS = 1 | SSE3 = 0 | SSSE3 = 0 | VSX = 0 | \n"
     ]
    }
   ],
   "source": [
    "############### Initialize Large Language Model with Llana.cpp\n",
    "from llama_index.llms import LlamaCPP\n",
    "from llama_index.llms.llama_utils import messages_to_prompt, completion_to_prompt\n",
    "\n",
    "llm = LlamaCPP(\n",
    "    model_url=None,\n",
    "    model_path=model_path,\n",
    "    temperature=0.1,\n",
    "    max_new_tokens=2000,\n",
    "    context_window=4000,\n",
    "    # kwargs to pass to __call__()\n",
    "    generate_kwargs={},\n",
    "    # kwargs to pass to __init__()\n",
    "    # set to at least 1 to use GPU\n",
    "    model_kwargs={\"n_gpu_layers\": 1},\n",
    "    # transform inputs into Llama2 format\n",
    "    messages_to_prompt=messages_to_prompt,\n",
    "    completion_to_prompt=completion_to_prompt,\n",
    "    verbose=True,\n",
    ")"
   ]
  },
  {
   "cell_type": "code",
   "execution_count": 12,
   "id": "6bbab722-7298-4d60-a7e9-9f7d12ff3847",
   "metadata": {},
   "outputs": [],
   "source": [
    "#from llama_index.prompts.base import PromptTemplate\n",
    "#prompt_template = PromptTemplate(SYS_PROMPT)\n",
    "#prompt = prompt_template.format(max_knowledge_triplets=10, text=documents[0])\n",
    "\n",
    "def extract_concepts(user_prompt: str, llm, metadata={}):\n",
    "    SYS_PROMPT = (\n",
    "        \"Your task is extract the key concepts (and non personal entities) mentioned in the given context. \"\n",
    "        \"Extract only the most important and atomistic concepts, if  needed break the concepts down to the simpler concepts.\"\n",
    "        \"Categorize the concepts in one of the following categories: \"\n",
    "        \"[event, concept, place, object, document, organisation, condition, misc]\\n\"\n",
    "        \"Format your output as a list of json with the following format:\\n\"\n",
    "        \"[\\n\"\n",
    "        \"   {\\n\"\n",
    "        '       \"entity\": The Concept,\\n'\n",
    "        '       \"importance\": The concontextual importance of the concept on a scale of 1 to 5 (5 being the highest),\\n'\n",
    "        '       \"category\": The Type of Concept,\\n'\n",
    "        \"   }, \\n\"\n",
    "        \"{ }, \\n\"\n",
    "        \"]\\n\"\n",
    "    )\n",
    "\n",
    "    prompt_format = \"<|im_start|>system\\n{system_prompt}<|im_end|>\\n<|im_start|>user\\n{user_prompt}<|im_end|>\\n<|im_start|>assistant\\n\"\n",
    "    #prompt_format = \"system\\n{system_prompt}\\nuser\\n{user_prompt}\\nassistant\\n\"\n",
    "    \n",
    "    prompt = prompt_format.format(system_prompt=SYS_PROMPT, user_prompt=user_prompt)\n",
    "    \n",
    "    completion_response = llm.complete(prompt)\n",
    "    text = completion_response.text\n",
    "    text = text.strip(\"\\n\")\n",
    "\n",
    "    concepts = {}\n",
    "    try:\n",
    "        concepts = json.loads(text)\n",
    "    except Exception as e:\n",
    "        print(e)\n",
    "        print(\"\\n\\nERROR ### Here is the buggy response: \", text, \"\\n\\n\")\n",
    "        \n",
    "    result = [dict(item, **metadata) for item in concepts]\n",
    "\n",
    "    \n",
    "    return result"
   ]
  },
  {
   "cell_type": "code",
   "execution_count": 13,
   "id": "d0f6080e-c44a-4cec-986b-ccf6cc8fe637",
   "metadata": {},
   "outputs": [
    {
     "name": "stderr",
     "output_type": "stream",
     "text": [
      "\n",
      "llama_print_timings:        load time =    1392.36 ms\n",
      "llama_print_timings:      sample time =      18.42 ms /   213 runs   (    0.09 ms per token, 11562.26 tokens per second)\n",
      "llama_print_timings: prompt eval time =    1686.60 ms /   603 tokens (    2.80 ms per token,   357.52 tokens per second)\n",
      "llama_print_timings:        eval time =    6817.96 ms /   212 runs   (   32.16 ms per token,    31.09 tokens per second)\n",
      "llama_print_timings:       total time =    8789.19 ms\n"
     ]
    }
   ],
   "source": [
    "concepts = []\n",
    "chunk = chunk[0]\n",
    "response = extract_concepts(chunk.page_content, llm, metadata=chunk.metadata)\n",
    "concepts.extend(response)"
   ]
  },
  {
   "cell_type": "code",
   "execution_count": 76,
   "id": "d162327e-2d0e-4848-b85c-470f215c2488",
   "metadata": {},
   "outputs": [
    {
     "name": "stdout",
     "output_type": "stream",
     "text": [
      "Albert Einstein ( EYEN-styne; German: [ˈalbɛɐt ˈʔaɪnʃtaɪn] ; 14 March 1879 – 18 April 1955) was a German-born theoretical physicist who is widely held to be one of the greatest and most influential scientists of all time. Best known for developing the theory of relativity, Einstein also made important contributions to quantum mechanics, and was thus a central figure in the revolutionary reshaping of the scientific understanding of nature that modern physics accomplished in the first decades of the twentieth century. His mass–energy equivalence formula E = mc2, which arises from relativity theory, has been called \"the world's most famous equation\". He received the 1921 Nobel Prize in Physics \"for his services to theoretical physics, and especially for his discovery of the law of the photoelectric effect\", a pivotal step in the development of quantum theory. His work is also known for its influence on the philosophy of science. In a 1999 poll of 130 leading physicists worldwide by the British journal Physics World, Einstein was ranked the greatest physicist of all time. His intellectual achievements and originality have made the word Einstein broadly synonymous with genius.In 1905, a year sometimes described as his annus mirabilis (miracle year), Einstein published four groundbreaking papers. These outlined a theory of the photoelectric effect, explained Brownian motion, introduced his special theory of relativity—a theory which addressed the inability of classical mechanics to\n",
      "================================================================================\n",
      "[{'entity': 'Albert Einstein', 'importance': 5, 'category': 'person', 'doc_source': 'wikipedia', 'wikipedia_page': 'Albert Einstein', 'doc_lang': 'en', 'doc_size': 83894, 'timestamp': 1702632935.127987, 'uuid': '129db720-641e-4656-8310-a2b1afd04d37'}, {'entity': 'theory of relativity', 'importance': 4, 'category': 'concept', 'doc_source': 'wikipedia', 'wikipedia_page': 'Albert Einstein', 'doc_lang': 'en', 'doc_size': 83894, 'timestamp': 1702632935.127987, 'uuid': '129db720-641e-4656-8310-a2b1afd04d37'}, {'entity': 'quantum mechanics', 'importance': 3, 'category': 'concept', 'doc_source': 'wikipedia', 'wikipedia_page': 'Albert Einstein', 'doc_lang': 'en', 'doc_size': 83894, 'timestamp': 1702632935.127987, 'uuid': '129db720-641e-4656-8310-a2b1afd04d37'}, {'entity': 'photoelectric effect', 'importance': 2, 'category': 'event', 'doc_source': 'wikipedia', 'wikipedia_page': 'Albert Einstein', 'doc_lang': 'en', 'doc_size': 83894, 'timestamp': 1702632935.127987, 'uuid': '129db720-641e-4656-8310-a2b1afd04d37'}, {'entity': 'Brownian motion', 'importance': 1, 'category': 'concept', 'doc_source': 'wikipedia', 'wikipedia_page': 'Albert Einstein', 'doc_lang': 'en', 'doc_size': 83894, 'timestamp': 1702632935.127987, 'uuid': '129db720-641e-4656-8310-a2b1afd04d37'}, {'entity': 'special theory of relativity', 'importance': 2, 'category': 'concept', 'doc_source': 'wikipedia', 'wikipedia_page': 'Albert Einstein', 'doc_lang': 'en', 'doc_size': 83894, 'timestamp': 1702632935.127987, 'uuid': '129db720-641e-4656-8310-a2b1afd04d37'}]\n"
     ]
    }
   ],
   "source": [
    "print(chunk.page_content)\n",
    "print(\"=\"*80)\n",
    "print(concepts)"
   ]
  },
  {
   "cell_type": "code",
   "execution_count": 14,
   "id": "d169facb-6c91-479d-b958-07651defe4bc",
   "metadata": {},
   "outputs": [
    {
     "data": {
      "application/vnd.jupyter.widget-view+json": {
       "model_id": "7bb0ef25b4a445eab14fc8b29802aea0",
       "version_major": 2,
       "version_minor": 0
      },
      "text/plain": [
       "  0%|          | 0/97 [00:00<?, ?it/s]"
      ]
     },
     "metadata": {},
     "output_type": "display_data"
    },
    {
     "name": "stderr",
     "output_type": "stream",
     "text": [
      "Llama.generate: prefix-match hit\n",
      "\n",
      "llama_print_timings:        load time =    1392.36 ms\n",
      "llama_print_timings:      sample time =      21.47 ms /   251 runs   (    0.09 ms per token, 11692.37 tokens per second)\n",
      "llama_print_timings: prompt eval time =       0.00 ms /     1 tokens (    0.00 ms per token,      inf tokens per second)\n",
      "llama_print_timings:        eval time =    7871.62 ms /   251 runs   (   31.36 ms per token,    31.89 tokens per second)\n",
      "llama_print_timings:       total time =    8203.85 ms\n",
      "Llama.generate: prefix-match hit\n",
      "\n",
      "llama_print_timings:        load time =    1392.36 ms\n",
      "llama_print_timings:      sample time =      27.82 ms /   323 runs   (    0.09 ms per token, 11608.68 tokens per second)\n",
      "llama_print_timings: prompt eval time =     812.89 ms /   181 tokens (    4.49 ms per token,   222.66 tokens per second)\n",
      "llama_print_timings:        eval time =   12027.19 ms /   322 runs   (   37.35 ms per token,    26.77 tokens per second)\n",
      "llama_print_timings:       total time =   13277.64 ms\n",
      "Llama.generate: prefix-match hit\n",
      "\n",
      "llama_print_timings:        load time =    1392.36 ms\n",
      "llama_print_timings:      sample time =      15.45 ms /   182 runs   (    0.08 ms per token, 11779.17 tokens per second)\n",
      "llama_print_timings: prompt eval time =     662.85 ms /   130 tokens (    5.10 ms per token,   196.12 tokens per second)\n",
      "llama_print_timings:        eval time =    6755.67 ms /   181 runs   (   37.32 ms per token,    26.79 tokens per second)\n",
      "llama_print_timings:       total time =    7654.09 ms\n",
      "Llama.generate: prefix-match hit\n",
      "\n",
      "llama_print_timings:        load time =    1392.36 ms\n",
      "llama_print_timings:      sample time =      36.16 ms /   423 runs   (    0.09 ms per token, 11698.98 tokens per second)\n",
      "llama_print_timings: prompt eval time =    1467.19 ms /   371 tokens (    3.95 ms per token,   252.86 tokens per second)\n",
      "llama_print_timings:        eval time =   16594.80 ms /   422 runs   (   39.32 ms per token,    25.43 tokens per second)\n",
      "llama_print_timings:       total time =   18647.14 ms\n",
      "Llama.generate: prefix-match hit\n",
      "\n",
      "llama_print_timings:        load time =    1392.36 ms\n",
      "llama_print_timings:      sample time =       9.73 ms /   103 runs   (    0.09 ms per token, 10583.64 tokens per second)\n",
      "llama_print_timings: prompt eval time =     305.95 ms /    37 tokens (    8.27 ms per token,   120.93 tokens per second)\n",
      "llama_print_timings:        eval time =    3851.73 ms /   102 runs   (   37.76 ms per token,    26.48 tokens per second)\n",
      "llama_print_timings:       total time =    4293.01 ms\n",
      "Llama.generate: prefix-match hit\n"
     ]
    },
    {
     "ename": "KeyboardInterrupt",
     "evalue": "",
     "output_type": "error",
     "traceback": [
      "\u001b[0;31m---------------------------------------------------------------------------\u001b[0m",
      "\u001b[0;31mKeyboardInterrupt\u001b[0m                         Traceback (most recent call last)",
      "Cell \u001b[0;32mIn[14], line 5\u001b[0m\n\u001b[1;32m      3\u001b[0m concepts \u001b[38;5;241m=\u001b[39m []\n\u001b[1;32m      4\u001b[0m \u001b[38;5;28;01mfor\u001b[39;00m chunk \u001b[38;5;129;01min\u001b[39;00m tqdm(chunks):\n\u001b[0;32m----> 5\u001b[0m     response \u001b[38;5;241m=\u001b[39m \u001b[43mextract_concepts\u001b[49m\u001b[43m(\u001b[49m\u001b[43mchunk\u001b[49m\u001b[38;5;241;43m.\u001b[39;49m\u001b[43mpage_content\u001b[49m\u001b[43m,\u001b[49m\u001b[43m \u001b[49m\u001b[43mllm\u001b[49m\u001b[43m,\u001b[49m\u001b[43m \u001b[49m\u001b[43mmetadata\u001b[49m\u001b[38;5;241;43m=\u001b[39;49m\u001b[43mchunk\u001b[49m\u001b[38;5;241;43m.\u001b[39;49m\u001b[43mmetadata\u001b[49m\u001b[43m)\u001b[49m\n\u001b[1;32m      6\u001b[0m     concepts\u001b[38;5;241m.\u001b[39mextend(response)\n\u001b[1;32m      7\u001b[0m \u001b[38;5;28mprint\u001b[39m(\u001b[38;5;28mlen\u001b[39m(x))\n",
      "Cell \u001b[0;32mIn[12], line 27\u001b[0m, in \u001b[0;36mextract_concepts\u001b[0;34m(user_prompt, llm, metadata)\u001b[0m\n\u001b[1;32m     23\u001b[0m \u001b[38;5;66;03m#prompt_format = \"system\\n{system_prompt}\\nuser\\n{user_prompt}\\nassistant\\n\"\u001b[39;00m\n\u001b[1;32m     25\u001b[0m prompt \u001b[38;5;241m=\u001b[39m prompt_format\u001b[38;5;241m.\u001b[39mformat(system_prompt\u001b[38;5;241m=\u001b[39mSYS_PROMPT, user_prompt\u001b[38;5;241m=\u001b[39muser_prompt)\n\u001b[0;32m---> 27\u001b[0m completion_response \u001b[38;5;241m=\u001b[39m \u001b[43mllm\u001b[49m\u001b[38;5;241;43m.\u001b[39;49m\u001b[43mcomplete\u001b[49m\u001b[43m(\u001b[49m\u001b[43mprompt\u001b[49m\u001b[43m)\u001b[49m\n\u001b[1;32m     28\u001b[0m text \u001b[38;5;241m=\u001b[39m completion_response\u001b[38;5;241m.\u001b[39mtext\n\u001b[1;32m     29\u001b[0m text \u001b[38;5;241m=\u001b[39m text\u001b[38;5;241m.\u001b[39mstrip(\u001b[38;5;124m\"\u001b[39m\u001b[38;5;130;01m\\n\u001b[39;00m\u001b[38;5;124m\"\u001b[39m)\n",
      "File \u001b[0;32m/opt/homebrew/anaconda3/envs/kgrag/lib/python3.11/site-packages/llama_index/llms/base.py:313\u001b[0m, in \u001b[0;36mllm_completion_callback.<locals>.wrap.<locals>.wrapped_llm_predict\u001b[0;34m(_self, *args, **kwargs)\u001b[0m\n\u001b[1;32m    303\u001b[0m \u001b[38;5;28;01mwith\u001b[39;00m wrapper_logic(_self) \u001b[38;5;28;01mas\u001b[39;00m callback_manager:\n\u001b[1;32m    304\u001b[0m     event_id \u001b[38;5;241m=\u001b[39m callback_manager\u001b[38;5;241m.\u001b[39mon_event_start(\n\u001b[1;32m    305\u001b[0m         CBEventType\u001b[38;5;241m.\u001b[39mLLM,\n\u001b[1;32m    306\u001b[0m         payload\u001b[38;5;241m=\u001b[39m{\n\u001b[0;32m   (...)\u001b[0m\n\u001b[1;32m    310\u001b[0m         },\n\u001b[1;32m    311\u001b[0m     )\n\u001b[0;32m--> 313\u001b[0m     f_return_val \u001b[38;5;241m=\u001b[39m \u001b[43mf\u001b[49m\u001b[43m(\u001b[49m\u001b[43m_self\u001b[49m\u001b[43m,\u001b[49m\u001b[43m \u001b[49m\u001b[38;5;241;43m*\u001b[39;49m\u001b[43margs\u001b[49m\u001b[43m,\u001b[49m\u001b[43m \u001b[49m\u001b[38;5;241;43m*\u001b[39;49m\u001b[38;5;241;43m*\u001b[39;49m\u001b[43mkwargs\u001b[49m\u001b[43m)\u001b[49m\n\u001b[1;32m    314\u001b[0m     \u001b[38;5;28;01mif\u001b[39;00m \u001b[38;5;28misinstance\u001b[39m(f_return_val, Generator):\n\u001b[1;32m    315\u001b[0m         \u001b[38;5;66;03m# intercept the generator and add a callback to the end\u001b[39;00m\n\u001b[1;32m    316\u001b[0m         \u001b[38;5;28;01mdef\u001b[39;00m \u001b[38;5;21mwrapped_gen\u001b[39m() \u001b[38;5;241m-\u001b[39m\u001b[38;5;241m>\u001b[39m CompletionResponseGen:\n",
      "File \u001b[0;32m/opt/homebrew/anaconda3/envs/kgrag/lib/python3.11/site-packages/llama_index/llms/llama_cpp.py:237\u001b[0m, in \u001b[0;36mLlamaCPP.complete\u001b[0;34m(self, prompt, **kwargs)\u001b[0m\n\u001b[1;32m    234\u001b[0m \u001b[38;5;28;01mif\u001b[39;00m \u001b[38;5;129;01mnot\u001b[39;00m is_formatted:\n\u001b[1;32m    235\u001b[0m     prompt \u001b[38;5;241m=\u001b[39m \u001b[38;5;28mself\u001b[39m\u001b[38;5;241m.\u001b[39mcompletion_to_prompt(prompt)\n\u001b[0;32m--> 237\u001b[0m response \u001b[38;5;241m=\u001b[39m \u001b[38;5;28;43mself\u001b[39;49m\u001b[38;5;241;43m.\u001b[39;49m\u001b[43m_model\u001b[49m\u001b[43m(\u001b[49m\u001b[43mprompt\u001b[49m\u001b[38;5;241;43m=\u001b[39;49m\u001b[43mprompt\u001b[49m\u001b[43m,\u001b[49m\u001b[43m \u001b[49m\u001b[38;5;241;43m*\u001b[39;49m\u001b[38;5;241;43m*\u001b[39;49m\u001b[38;5;28;43mself\u001b[39;49m\u001b[38;5;241;43m.\u001b[39;49m\u001b[43mgenerate_kwargs\u001b[49m\u001b[43m)\u001b[49m\n\u001b[1;32m    239\u001b[0m \u001b[38;5;28;01mreturn\u001b[39;00m CompletionResponse(text\u001b[38;5;241m=\u001b[39mresponse[\u001b[38;5;124m\"\u001b[39m\u001b[38;5;124mchoices\u001b[39m\u001b[38;5;124m\"\u001b[39m][\u001b[38;5;241m0\u001b[39m][\u001b[38;5;124m\"\u001b[39m\u001b[38;5;124mtext\u001b[39m\u001b[38;5;124m\"\u001b[39m], raw\u001b[38;5;241m=\u001b[39mresponse)\n",
      "File \u001b[0;32m/opt/homebrew/anaconda3/envs/kgrag/lib/python3.11/site-packages/llama_cpp/llama.py:1940\u001b[0m, in \u001b[0;36mLlama.__call__\u001b[0;34m(self, prompt, suffix, max_tokens, temperature, top_p, min_p, typical_p, logprobs, echo, stop, frequency_penalty, presence_penalty, repeat_penalty, top_k, stream, seed, tfs_z, mirostat_mode, mirostat_tau, mirostat_eta, model, stopping_criteria, logits_processor, grammar, logit_bias)\u001b[0m\n\u001b[1;32m   1890\u001b[0m \u001b[38;5;28;01mdef\u001b[39;00m \u001b[38;5;21m__call__\u001b[39m(\n\u001b[1;32m   1891\u001b[0m     \u001b[38;5;28mself\u001b[39m,\n\u001b[1;32m   1892\u001b[0m     prompt: \u001b[38;5;28mstr\u001b[39m,\n\u001b[0;32m   (...)\u001b[0m\n\u001b[1;32m   1916\u001b[0m     logit_bias: Optional[Dict[\u001b[38;5;28mstr\u001b[39m, \u001b[38;5;28mfloat\u001b[39m]] \u001b[38;5;241m=\u001b[39m \u001b[38;5;28;01mNone\u001b[39;00m,\n\u001b[1;32m   1917\u001b[0m ) \u001b[38;5;241m-\u001b[39m\u001b[38;5;241m>\u001b[39m Union[CreateCompletionResponse, Iterator[CreateCompletionStreamResponse]]:\n\u001b[1;32m   1918\u001b[0m \u001b[38;5;250m    \u001b[39m\u001b[38;5;124;03m\"\"\"Generate text from a prompt.\u001b[39;00m\n\u001b[1;32m   1919\u001b[0m \n\u001b[1;32m   1920\u001b[0m \u001b[38;5;124;03m    Args:\u001b[39;00m\n\u001b[0;32m   (...)\u001b[0m\n\u001b[1;32m   1938\u001b[0m \u001b[38;5;124;03m        Response object containing the generated text.\u001b[39;00m\n\u001b[1;32m   1939\u001b[0m \u001b[38;5;124;03m    \"\"\"\u001b[39;00m\n\u001b[0;32m-> 1940\u001b[0m     \u001b[38;5;28;01mreturn\u001b[39;00m \u001b[38;5;28;43mself\u001b[39;49m\u001b[38;5;241;43m.\u001b[39;49m\u001b[43mcreate_completion\u001b[49m\u001b[43m(\u001b[49m\n\u001b[1;32m   1941\u001b[0m \u001b[43m        \u001b[49m\u001b[43mprompt\u001b[49m\u001b[38;5;241;43m=\u001b[39;49m\u001b[43mprompt\u001b[49m\u001b[43m,\u001b[49m\n\u001b[1;32m   1942\u001b[0m \u001b[43m        \u001b[49m\u001b[43msuffix\u001b[49m\u001b[38;5;241;43m=\u001b[39;49m\u001b[43msuffix\u001b[49m\u001b[43m,\u001b[49m\n\u001b[1;32m   1943\u001b[0m \u001b[43m        \u001b[49m\u001b[43mmax_tokens\u001b[49m\u001b[38;5;241;43m=\u001b[39;49m\u001b[43mmax_tokens\u001b[49m\u001b[43m,\u001b[49m\n\u001b[1;32m   1944\u001b[0m \u001b[43m        \u001b[49m\u001b[43mtemperature\u001b[49m\u001b[38;5;241;43m=\u001b[39;49m\u001b[43mtemperature\u001b[49m\u001b[43m,\u001b[49m\n\u001b[1;32m   1945\u001b[0m \u001b[43m        \u001b[49m\u001b[43mtop_p\u001b[49m\u001b[38;5;241;43m=\u001b[39;49m\u001b[43mtop_p\u001b[49m\u001b[43m,\u001b[49m\n\u001b[1;32m   1946\u001b[0m \u001b[43m        \u001b[49m\u001b[43mmin_p\u001b[49m\u001b[38;5;241;43m=\u001b[39;49m\u001b[43mmin_p\u001b[49m\u001b[43m,\u001b[49m\n\u001b[1;32m   1947\u001b[0m \u001b[43m        \u001b[49m\u001b[43mtypical_p\u001b[49m\u001b[38;5;241;43m=\u001b[39;49m\u001b[43mtypical_p\u001b[49m\u001b[43m,\u001b[49m\n\u001b[1;32m   1948\u001b[0m \u001b[43m        \u001b[49m\u001b[43mlogprobs\u001b[49m\u001b[38;5;241;43m=\u001b[39;49m\u001b[43mlogprobs\u001b[49m\u001b[43m,\u001b[49m\n\u001b[1;32m   1949\u001b[0m \u001b[43m        \u001b[49m\u001b[43mecho\u001b[49m\u001b[38;5;241;43m=\u001b[39;49m\u001b[43mecho\u001b[49m\u001b[43m,\u001b[49m\n\u001b[1;32m   1950\u001b[0m \u001b[43m        \u001b[49m\u001b[43mstop\u001b[49m\u001b[38;5;241;43m=\u001b[39;49m\u001b[43mstop\u001b[49m\u001b[43m,\u001b[49m\n\u001b[1;32m   1951\u001b[0m \u001b[43m        \u001b[49m\u001b[43mfrequency_penalty\u001b[49m\u001b[38;5;241;43m=\u001b[39;49m\u001b[43mfrequency_penalty\u001b[49m\u001b[43m,\u001b[49m\n\u001b[1;32m   1952\u001b[0m \u001b[43m        \u001b[49m\u001b[43mpresence_penalty\u001b[49m\u001b[38;5;241;43m=\u001b[39;49m\u001b[43mpresence_penalty\u001b[49m\u001b[43m,\u001b[49m\n\u001b[1;32m   1953\u001b[0m \u001b[43m        \u001b[49m\u001b[43mrepeat_penalty\u001b[49m\u001b[38;5;241;43m=\u001b[39;49m\u001b[43mrepeat_penalty\u001b[49m\u001b[43m,\u001b[49m\n\u001b[1;32m   1954\u001b[0m \u001b[43m        \u001b[49m\u001b[43mtop_k\u001b[49m\u001b[38;5;241;43m=\u001b[39;49m\u001b[43mtop_k\u001b[49m\u001b[43m,\u001b[49m\n\u001b[1;32m   1955\u001b[0m \u001b[43m        \u001b[49m\u001b[43mstream\u001b[49m\u001b[38;5;241;43m=\u001b[39;49m\u001b[43mstream\u001b[49m\u001b[43m,\u001b[49m\n\u001b[1;32m   1956\u001b[0m \u001b[43m        \u001b[49m\u001b[43mseed\u001b[49m\u001b[38;5;241;43m=\u001b[39;49m\u001b[43mseed\u001b[49m\u001b[43m,\u001b[49m\n\u001b[1;32m   1957\u001b[0m \u001b[43m        \u001b[49m\u001b[43mtfs_z\u001b[49m\u001b[38;5;241;43m=\u001b[39;49m\u001b[43mtfs_z\u001b[49m\u001b[43m,\u001b[49m\n\u001b[1;32m   1958\u001b[0m \u001b[43m        \u001b[49m\u001b[43mmirostat_mode\u001b[49m\u001b[38;5;241;43m=\u001b[39;49m\u001b[43mmirostat_mode\u001b[49m\u001b[43m,\u001b[49m\n\u001b[1;32m   1959\u001b[0m \u001b[43m        \u001b[49m\u001b[43mmirostat_tau\u001b[49m\u001b[38;5;241;43m=\u001b[39;49m\u001b[43mmirostat_tau\u001b[49m\u001b[43m,\u001b[49m\n\u001b[1;32m   1960\u001b[0m \u001b[43m        \u001b[49m\u001b[43mmirostat_eta\u001b[49m\u001b[38;5;241;43m=\u001b[39;49m\u001b[43mmirostat_eta\u001b[49m\u001b[43m,\u001b[49m\n\u001b[1;32m   1961\u001b[0m \u001b[43m        \u001b[49m\u001b[43mmodel\u001b[49m\u001b[38;5;241;43m=\u001b[39;49m\u001b[43mmodel\u001b[49m\u001b[43m,\u001b[49m\n\u001b[1;32m   1962\u001b[0m \u001b[43m        \u001b[49m\u001b[43mstopping_criteria\u001b[49m\u001b[38;5;241;43m=\u001b[39;49m\u001b[43mstopping_criteria\u001b[49m\u001b[43m,\u001b[49m\n\u001b[1;32m   1963\u001b[0m \u001b[43m        \u001b[49m\u001b[43mlogits_processor\u001b[49m\u001b[38;5;241;43m=\u001b[39;49m\u001b[43mlogits_processor\u001b[49m\u001b[43m,\u001b[49m\n\u001b[1;32m   1964\u001b[0m \u001b[43m        \u001b[49m\u001b[43mgrammar\u001b[49m\u001b[38;5;241;43m=\u001b[39;49m\u001b[43mgrammar\u001b[49m\u001b[43m,\u001b[49m\n\u001b[1;32m   1965\u001b[0m \u001b[43m        \u001b[49m\u001b[43mlogit_bias\u001b[49m\u001b[38;5;241;43m=\u001b[39;49m\u001b[43mlogit_bias\u001b[49m\u001b[43m,\u001b[49m\n\u001b[1;32m   1966\u001b[0m \u001b[43m    \u001b[49m\u001b[43m)\u001b[49m\n",
      "File \u001b[0;32m/opt/homebrew/anaconda3/envs/kgrag/lib/python3.11/site-packages/llama_cpp/llama.py:1887\u001b[0m, in \u001b[0;36mLlama.create_completion\u001b[0;34m(self, prompt, suffix, max_tokens, temperature, top_p, min_p, typical_p, logprobs, echo, stop, frequency_penalty, presence_penalty, repeat_penalty, top_k, stream, seed, tfs_z, mirostat_mode, mirostat_tau, mirostat_eta, model, stopping_criteria, logits_processor, grammar, logit_bias)\u001b[0m\n\u001b[1;32m   1885\u001b[0m     chunks: Iterator[CreateCompletionStreamResponse] \u001b[38;5;241m=\u001b[39m completion_or_chunks\n\u001b[1;32m   1886\u001b[0m     \u001b[38;5;28;01mreturn\u001b[39;00m chunks\n\u001b[0;32m-> 1887\u001b[0m completion: Completion \u001b[38;5;241m=\u001b[39m \u001b[38;5;28;43mnext\u001b[39;49m\u001b[43m(\u001b[49m\u001b[43mcompletion_or_chunks\u001b[49m\u001b[43m)\u001b[49m  \u001b[38;5;66;03m# type: ignore\u001b[39;00m\n\u001b[1;32m   1888\u001b[0m \u001b[38;5;28;01mreturn\u001b[39;00m completion\n",
      "File \u001b[0;32m/opt/homebrew/anaconda3/envs/kgrag/lib/python3.11/site-packages/llama_cpp/llama.py:1434\u001b[0m, in \u001b[0;36mLlama._create_completion\u001b[0;34m(self, prompt, suffix, max_tokens, temperature, top_p, min_p, typical_p, logprobs, echo, stop, frequency_penalty, presence_penalty, repeat_penalty, top_k, stream, seed, tfs_z, mirostat_mode, mirostat_tau, mirostat_eta, model, stopping_criteria, logits_processor, grammar, logit_bias)\u001b[0m\n\u001b[1;32m   1432\u001b[0m finish_reason \u001b[38;5;241m=\u001b[39m \u001b[38;5;124m\"\u001b[39m\u001b[38;5;124mlength\u001b[39m\u001b[38;5;124m\"\u001b[39m\n\u001b[1;32m   1433\u001b[0m multibyte_fix \u001b[38;5;241m=\u001b[39m \u001b[38;5;241m0\u001b[39m\n\u001b[0;32m-> 1434\u001b[0m \u001b[43m\u001b[49m\u001b[38;5;28;43;01mfor\u001b[39;49;00m\u001b[43m \u001b[49m\u001b[43mtoken\u001b[49m\u001b[43m \u001b[49m\u001b[38;5;129;43;01min\u001b[39;49;00m\u001b[43m \u001b[49m\u001b[38;5;28;43mself\u001b[39;49m\u001b[38;5;241;43m.\u001b[39;49m\u001b[43mgenerate\u001b[49m\u001b[43m(\u001b[49m\n\u001b[1;32m   1435\u001b[0m \u001b[43m    \u001b[49m\u001b[43mprompt_tokens\u001b[49m\u001b[43m,\u001b[49m\n\u001b[1;32m   1436\u001b[0m \u001b[43m    \u001b[49m\u001b[43mtop_k\u001b[49m\u001b[38;5;241;43m=\u001b[39;49m\u001b[43mtop_k\u001b[49m\u001b[43m,\u001b[49m\n\u001b[1;32m   1437\u001b[0m \u001b[43m    \u001b[49m\u001b[43mtop_p\u001b[49m\u001b[38;5;241;43m=\u001b[39;49m\u001b[43mtop_p\u001b[49m\u001b[43m,\u001b[49m\n\u001b[1;32m   1438\u001b[0m \u001b[43m    \u001b[49m\u001b[43mmin_p\u001b[49m\u001b[38;5;241;43m=\u001b[39;49m\u001b[43mmin_p\u001b[49m\u001b[43m,\u001b[49m\n\u001b[1;32m   1439\u001b[0m \u001b[43m    \u001b[49m\u001b[43mtypical_p\u001b[49m\u001b[38;5;241;43m=\u001b[39;49m\u001b[43mtypical_p\u001b[49m\u001b[43m,\u001b[49m\n\u001b[1;32m   1440\u001b[0m \u001b[43m    \u001b[49m\u001b[43mtemp\u001b[49m\u001b[38;5;241;43m=\u001b[39;49m\u001b[43mtemperature\u001b[49m\u001b[43m,\u001b[49m\n\u001b[1;32m   1441\u001b[0m \u001b[43m    \u001b[49m\u001b[43mtfs_z\u001b[49m\u001b[38;5;241;43m=\u001b[39;49m\u001b[43mtfs_z\u001b[49m\u001b[43m,\u001b[49m\n\u001b[1;32m   1442\u001b[0m \u001b[43m    \u001b[49m\u001b[43mmirostat_mode\u001b[49m\u001b[38;5;241;43m=\u001b[39;49m\u001b[43mmirostat_mode\u001b[49m\u001b[43m,\u001b[49m\n\u001b[1;32m   1443\u001b[0m \u001b[43m    \u001b[49m\u001b[43mmirostat_tau\u001b[49m\u001b[38;5;241;43m=\u001b[39;49m\u001b[43mmirostat_tau\u001b[49m\u001b[43m,\u001b[49m\n\u001b[1;32m   1444\u001b[0m \u001b[43m    \u001b[49m\u001b[43mmirostat_eta\u001b[49m\u001b[38;5;241;43m=\u001b[39;49m\u001b[43mmirostat_eta\u001b[49m\u001b[43m,\u001b[49m\n\u001b[1;32m   1445\u001b[0m \u001b[43m    \u001b[49m\u001b[43mfrequency_penalty\u001b[49m\u001b[38;5;241;43m=\u001b[39;49m\u001b[43mfrequency_penalty\u001b[49m\u001b[43m,\u001b[49m\n\u001b[1;32m   1446\u001b[0m \u001b[43m    \u001b[49m\u001b[43mpresence_penalty\u001b[49m\u001b[38;5;241;43m=\u001b[39;49m\u001b[43mpresence_penalty\u001b[49m\u001b[43m,\u001b[49m\n\u001b[1;32m   1447\u001b[0m \u001b[43m    \u001b[49m\u001b[43mrepeat_penalty\u001b[49m\u001b[38;5;241;43m=\u001b[39;49m\u001b[43mrepeat_penalty\u001b[49m\u001b[43m,\u001b[49m\n\u001b[1;32m   1448\u001b[0m \u001b[43m    \u001b[49m\u001b[43mstopping_criteria\u001b[49m\u001b[38;5;241;43m=\u001b[39;49m\u001b[43mstopping_criteria\u001b[49m\u001b[43m,\u001b[49m\n\u001b[1;32m   1449\u001b[0m \u001b[43m    \u001b[49m\u001b[43mlogits_processor\u001b[49m\u001b[38;5;241;43m=\u001b[39;49m\u001b[43mlogits_processor\u001b[49m\u001b[43m,\u001b[49m\n\u001b[1;32m   1450\u001b[0m \u001b[43m    \u001b[49m\u001b[43mgrammar\u001b[49m\u001b[38;5;241;43m=\u001b[39;49m\u001b[43mgrammar\u001b[49m\u001b[43m,\u001b[49m\n\u001b[1;32m   1451\u001b[0m \u001b[43m\u001b[49m\u001b[43m)\u001b[49m\u001b[43m:\u001b[49m\n\u001b[1;32m   1452\u001b[0m \u001b[43m    \u001b[49m\u001b[38;5;28;43;01mif\u001b[39;49;00m\u001b[43m \u001b[49m\u001b[43mtoken\u001b[49m\u001b[43m \u001b[49m\u001b[38;5;241;43m==\u001b[39;49m\u001b[43m \u001b[49m\u001b[38;5;28;43mself\u001b[39;49m\u001b[38;5;241;43m.\u001b[39;49m\u001b[43m_token_eos\u001b[49m\u001b[43m:\u001b[49m\n\u001b[1;32m   1453\u001b[0m \u001b[43m        \u001b[49m\u001b[43mtext\u001b[49m\u001b[43m \u001b[49m\u001b[38;5;241;43m=\u001b[39;49m\u001b[43m \u001b[49m\u001b[38;5;28;43mself\u001b[39;49m\u001b[38;5;241;43m.\u001b[39;49m\u001b[43mdetokenize\u001b[49m\u001b[43m(\u001b[49m\u001b[43mcompletion_tokens\u001b[49m\u001b[43m)\u001b[49m\n",
      "File \u001b[0;32m/opt/homebrew/anaconda3/envs/kgrag/lib/python3.11/site-packages/llama_cpp/llama.py:1209\u001b[0m, in \u001b[0;36mLlama.generate\u001b[0;34m(self, tokens, top_k, top_p, min_p, typical_p, temp, repeat_penalty, reset, frequency_penalty, presence_penalty, tfs_z, mirostat_mode, mirostat_tau, mirostat_eta, logits_processor, stopping_criteria, grammar)\u001b[0m\n\u001b[1;32m   1206\u001b[0m     grammar\u001b[38;5;241m.\u001b[39mreset()\n\u001b[1;32m   1208\u001b[0m \u001b[38;5;28;01mwhile\u001b[39;00m \u001b[38;5;28;01mTrue\u001b[39;00m:\n\u001b[0;32m-> 1209\u001b[0m     \u001b[38;5;28;43mself\u001b[39;49m\u001b[38;5;241;43m.\u001b[39;49m\u001b[43meval\u001b[49m\u001b[43m(\u001b[49m\u001b[43mtokens\u001b[49m\u001b[43m)\u001b[49m\n\u001b[1;32m   1210\u001b[0m     token \u001b[38;5;241m=\u001b[39m \u001b[38;5;28mself\u001b[39m\u001b[38;5;241m.\u001b[39msample(\n\u001b[1;32m   1211\u001b[0m         top_k\u001b[38;5;241m=\u001b[39mtop_k,\n\u001b[1;32m   1212\u001b[0m         top_p\u001b[38;5;241m=\u001b[39mtop_p,\n\u001b[0;32m   (...)\u001b[0m\n\u001b[1;32m   1224\u001b[0m         grammar\u001b[38;5;241m=\u001b[39mgrammar,\n\u001b[1;32m   1225\u001b[0m     )\n\u001b[1;32m   1226\u001b[0m     \u001b[38;5;28;01mif\u001b[39;00m stopping_criteria \u001b[38;5;129;01mis\u001b[39;00m \u001b[38;5;129;01mnot\u001b[39;00m \u001b[38;5;28;01mNone\u001b[39;00m \u001b[38;5;129;01mand\u001b[39;00m stopping_criteria(\n\u001b[1;32m   1227\u001b[0m         \u001b[38;5;28mself\u001b[39m\u001b[38;5;241m.\u001b[39m_input_ids, \u001b[38;5;28mself\u001b[39m\u001b[38;5;241m.\u001b[39m_scores[\u001b[38;5;241m-\u001b[39m\u001b[38;5;241m1\u001b[39m, :]\n\u001b[1;32m   1228\u001b[0m     ):\n",
      "File \u001b[0;32m/opt/homebrew/anaconda3/envs/kgrag/lib/python3.11/site-packages/llama_cpp/llama.py:1030\u001b[0m, in \u001b[0;36mLlama.eval\u001b[0;34m(self, tokens)\u001b[0m\n\u001b[1;32m   1026\u001b[0m n_tokens \u001b[38;5;241m=\u001b[39m \u001b[38;5;28mlen\u001b[39m(batch)\n\u001b[1;32m   1027\u001b[0m \u001b[38;5;28mself\u001b[39m\u001b[38;5;241m.\u001b[39m_batch\u001b[38;5;241m.\u001b[39mset_batch(\n\u001b[1;32m   1028\u001b[0m     batch\u001b[38;5;241m=\u001b[39mbatch, n_past\u001b[38;5;241m=\u001b[39mn_past, logits_all\u001b[38;5;241m=\u001b[39m\u001b[38;5;28mself\u001b[39m\u001b[38;5;241m.\u001b[39mcontext_params\u001b[38;5;241m.\u001b[39mlogits_all\n\u001b[1;32m   1029\u001b[0m )\n\u001b[0;32m-> 1030\u001b[0m \u001b[38;5;28;43mself\u001b[39;49m\u001b[38;5;241;43m.\u001b[39;49m\u001b[43m_ctx\u001b[49m\u001b[38;5;241;43m.\u001b[39;49m\u001b[43mdecode\u001b[49m\u001b[43m(\u001b[49m\u001b[38;5;28;43mself\u001b[39;49m\u001b[38;5;241;43m.\u001b[39;49m\u001b[43m_batch\u001b[49m\u001b[43m)\u001b[49m\n\u001b[1;32m   1031\u001b[0m \u001b[38;5;66;03m# Save tokens\u001b[39;00m\n\u001b[1;32m   1032\u001b[0m \u001b[38;5;28mself\u001b[39m\u001b[38;5;241m.\u001b[39minput_ids[n_past : n_past \u001b[38;5;241m+\u001b[39m n_tokens] \u001b[38;5;241m=\u001b[39m batch\n",
      "File \u001b[0;32m/opt/homebrew/anaconda3/envs/kgrag/lib/python3.11/site-packages/llama_cpp/llama.py:466\u001b[0m, in \u001b[0;36m_LlamaContext.decode\u001b[0;34m(self, batch)\u001b[0m\n\u001b[1;32m    464\u001b[0m \u001b[38;5;28;01massert\u001b[39;00m \u001b[38;5;28mself\u001b[39m\u001b[38;5;241m.\u001b[39mctx \u001b[38;5;129;01mis\u001b[39;00m \u001b[38;5;129;01mnot\u001b[39;00m \u001b[38;5;28;01mNone\u001b[39;00m\n\u001b[1;32m    465\u001b[0m \u001b[38;5;28;01massert\u001b[39;00m batch\u001b[38;5;241m.\u001b[39mbatch \u001b[38;5;129;01mis\u001b[39;00m \u001b[38;5;129;01mnot\u001b[39;00m \u001b[38;5;28;01mNone\u001b[39;00m\n\u001b[0;32m--> 466\u001b[0m return_code \u001b[38;5;241m=\u001b[39m \u001b[43mllama_cpp\u001b[49m\u001b[38;5;241;43m.\u001b[39;49m\u001b[43mllama_decode\u001b[49m\u001b[43m(\u001b[49m\n\u001b[1;32m    467\u001b[0m \u001b[43m    \u001b[49m\u001b[43mctx\u001b[49m\u001b[38;5;241;43m=\u001b[39;49m\u001b[38;5;28;43mself\u001b[39;49m\u001b[38;5;241;43m.\u001b[39;49m\u001b[43mctx\u001b[49m\u001b[43m,\u001b[49m\n\u001b[1;32m    468\u001b[0m \u001b[43m    \u001b[49m\u001b[43mbatch\u001b[49m\u001b[38;5;241;43m=\u001b[39;49m\u001b[43mbatch\u001b[49m\u001b[38;5;241;43m.\u001b[39;49m\u001b[43mbatch\u001b[49m\u001b[43m,\u001b[49m\n\u001b[1;32m    469\u001b[0m \u001b[43m\u001b[49m\u001b[43m)\u001b[49m\n\u001b[1;32m    470\u001b[0m \u001b[38;5;28;01mif\u001b[39;00m return_code \u001b[38;5;241m!=\u001b[39m \u001b[38;5;241m0\u001b[39m:\n\u001b[1;32m    471\u001b[0m     \u001b[38;5;28;01mraise\u001b[39;00m \u001b[38;5;167;01mRuntimeError\u001b[39;00m(\u001b[38;5;124mf\u001b[39m\u001b[38;5;124m\"\u001b[39m\u001b[38;5;124mllama_decode returned \u001b[39m\u001b[38;5;132;01m{\u001b[39;00mreturn_code\u001b[38;5;132;01m}\u001b[39;00m\u001b[38;5;124m\"\u001b[39m)\n",
      "File \u001b[0;32m/opt/homebrew/anaconda3/envs/kgrag/lib/python3.11/site-packages/llama_cpp/llama_cpp.py:1193\u001b[0m, in \u001b[0;36mllama_decode\u001b[0;34m(ctx, batch)\u001b[0m\n\u001b[1;32m   1192\u001b[0m \u001b[38;5;28;01mdef\u001b[39;00m \u001b[38;5;21mllama_decode\u001b[39m(ctx: llama_context_p, batch: llama_batch) \u001b[38;5;241m-\u001b[39m\u001b[38;5;241m>\u001b[39m \u001b[38;5;28mint\u001b[39m:\n\u001b[0;32m-> 1193\u001b[0m     \u001b[38;5;28;01mreturn\u001b[39;00m \u001b[43m_lib\u001b[49m\u001b[38;5;241;43m.\u001b[39;49m\u001b[43mllama_decode\u001b[49m\u001b[43m(\u001b[49m\u001b[43mctx\u001b[49m\u001b[43m,\u001b[49m\u001b[43m \u001b[49m\u001b[43mbatch\u001b[49m\u001b[43m)\u001b[49m\n",
      "\u001b[0;31mKeyboardInterrupt\u001b[0m: "
     ]
    }
   ],
   "source": [
    "###### This may take a while ....\n",
    "from tqdm.notebook import trange, tqdm\n",
    "concepts = []\n",
    "for chunk in tqdm(chunks):\n",
    "    response = extract_concepts(chunk.page_content, llm, metadata=chunk.metadata)\n",
    "    concepts.extend(response)\n",
    "print(len(x))"
   ]
  },
  {
   "cell_type": "code",
   "execution_count": 22,
   "id": "6de32022-dde9-475e-9962-c47ec2fef5f6",
   "metadata": {},
   "outputs": [
    {
     "name": "stdout",
     "output_type": "stream",
     "text": [
      "{'entity': 'Albert Einstein', 'importance': 5, 'category': 'person', 'doc_source': 'wikipedia', 'wikipedia_page': 'Albert Einstein', 'doc_lang': 'en', 'doc_size': 83894, 'timestamp': 1702572674.745187, 'uuid': '0af897c6-3391-496e-a93c-a5a18b350f50'}\n",
      "{'entity': 'Adolf Hitler', 'importance': 3, 'category': 'person', 'doc_source': 'wikipedia', 'wikipedia_page': 'Albert Einstein', 'doc_lang': 'en', 'doc_size': 83894, 'timestamp': 1702572674.745187, 'uuid': '7f9dbafe-f39b-4ae5-96d1-f58e72415df2'}\n",
      "{'entity': 'Franklin D. Roosevelt', 'importance': 3, 'category': 'person', 'doc_source': 'wikipedia', 'wikipedia_page': 'Albert Einstein', 'doc_lang': 'en', 'doc_size': 83894, 'timestamp': 1702572674.745187, 'uuid': '7f9dbafe-f39b-4ae5-96d1-f58e72415df2'}\n",
      "{'entity': 'Albert Einstein', 'importance': 5, 'category': 'person', 'doc_source': 'wikipedia', 'wikipedia_page': 'Albert Einstein', 'doc_lang': 'en', 'doc_size': 83894, 'timestamp': 1702572674.745187, 'uuid': '10326035-baa9-45c3-ad5f-58de2098b98a'}\n",
      "{'entity': 'Max Talmud', 'importance': 2, 'category': 'person', 'doc_source': 'wikipedia', 'wikipedia_page': 'Albert Einstein', 'doc_lang': 'en', 'doc_size': 83894, 'timestamp': 1702572674.745187, 'uuid': '2a4f0e50-a880-4858-b790-0a59e1cbf482'}\n",
      "{'entity': \"Marie (Winteler's daughter)\", 'importance': 2, 'category': 'person', 'doc_source': 'wikipedia', 'wikipedia_page': 'Albert Einstein', 'doc_lang': 'en', 'doc_size': 83894, 'timestamp': 1702572674.745187, 'uuid': '122cb065-9167-4803-95e5-aa557037c80f'}\n",
      "{'entity': 'Einstein', 'importance': 5, 'category': 'person', 'doc_source': 'wikipedia', 'wikipedia_page': 'Albert Einstein', 'doc_lang': 'en', 'doc_size': 83894, 'timestamp': 1702572674.745187, 'uuid': '95278120-b7a7-44d0-bfb6-b1c6c2914811'}\n",
      "{'entity': 'Marie Winteler', 'importance': 2, 'category': 'person', 'doc_source': 'wikipedia', 'wikipedia_page': 'Albert Einstein', 'doc_lang': 'en', 'doc_size': 83894, 'timestamp': 1702572674.745187, 'uuid': '95278120-b7a7-44d0-bfb6-b1c6c2914811'}\n",
      "{'entity': 'Mileva Marić', 'importance': 3, 'category': 'person', 'doc_source': 'wikipedia', 'wikipedia_page': 'Albert Einstein', 'doc_lang': 'en', 'doc_size': 83894, 'timestamp': 1702572674.745187, 'uuid': '95278120-b7a7-44d0-bfb6-b1c6c2914811'}\n",
      "{'entity': 'Marie Löwenthal', 'importance': 3, 'category': 'person', 'doc_source': 'wikipedia', 'wikipedia_page': 'Albert Einstein', 'doc_lang': 'en', 'doc_size': 83894, 'timestamp': 1702572674.745187, 'uuid': '9d7da357-c4b5-4bed-8db4-f0440804b5e6'}\n",
      "{'entity': 'Betty Neumann', 'importance': 2, 'category': 'person', 'doc_source': 'wikipedia', 'wikipedia_page': 'Albert Einstein', 'doc_lang': 'en', 'doc_size': 83894, 'timestamp': 1702572674.745187, 'uuid': '9d7da357-c4b5-4bed-8db4-f0440804b5e6'}\n",
      "{'entity': 'Hans Mühsam', 'importance': 1, 'category': 'person', 'doc_source': 'wikipedia', 'wikipedia_page': 'Albert Einstein', 'doc_lang': 'en', 'doc_size': 83894, 'timestamp': 1702572674.745187, 'uuid': '9d7da357-c4b5-4bed-8db4-f0440804b5e6'}\n",
      "{'entity': 'Margarete Lebach', 'importance': 1, 'category': 'person', 'doc_source': 'wikipedia', 'wikipedia_page': 'Albert Einstein', 'doc_lang': 'en', 'doc_size': 83894, 'timestamp': 1702572674.745187, 'uuid': '9d7da357-c4b5-4bed-8db4-f0440804b5e6'}\n",
      "{'entity': 'Estella Katzenellenbogen', 'importance': 1, 'category': 'person', 'doc_source': 'wikipedia', 'wikipedia_page': 'Albert Einstein', 'doc_lang': 'en', 'doc_size': 83894, 'timestamp': 1702572674.745187, 'uuid': '9d7da357-c4b5-4bed-8db4-f0440804b5e6'}\n",
      "{'entity': 'Toni Mendel', 'importance': 1, 'category': 'person', 'doc_source': 'wikipedia', 'wikipedia_page': 'Albert Einstein', 'doc_lang': 'en', 'doc_size': 83894, 'timestamp': 1702572674.745187, 'uuid': '9d7da357-c4b5-4bed-8db4-f0440804b5e6'}\n",
      "{'entity': 'Ethel Michanowski', 'importance': 1, 'category': 'person', 'doc_source': 'wikipedia', 'wikipedia_page': 'Albert Einstein', 'doc_lang': 'en', 'doc_size': 83894, 'timestamp': 1702572674.745187, 'uuid': '9d7da357-c4b5-4bed-8db4-f0440804b5e6'}\n",
      "{'entity': 'Margarita Konenkova', 'importance': 1, 'category': 'person', 'doc_source': 'wikipedia', 'wikipedia_page': 'Albert Einstein', 'doc_lang': 'en', 'doc_size': 83894, 'timestamp': 1702572674.745187, 'uuid': '9d7da357-c4b5-4bed-8db4-f0440804b5e6'}\n",
      "{'entity': 'Sergei Konenkov', 'importance': 1, 'category': 'person', 'doc_source': 'wikipedia', 'wikipedia_page': 'Albert Einstein', 'doc_lang': 'en', 'doc_size': 83894, 'timestamp': 1702572674.745187, 'uuid': '9d7da357-c4b5-4bed-8db4-f0440804b5e6'}\n",
      "{'entity': 'Eduard Einstein', 'importance': 2, 'category': 'person', 'doc_source': 'wikipedia', 'wikipedia_page': 'Albert Einstein', 'doc_lang': 'en', 'doc_size': 83894, 'timestamp': 1702572674.745187, 'uuid': '9d7da357-c4b5-4bed-8db4-f0440804b5e6'}\n",
      "{'entity': \"Einstein's son Eduard\", 'importance': 4, 'category': 'person', 'doc_source': 'wikipedia', 'wikipedia_page': 'Albert Einstein', 'doc_lang': 'en', 'doc_size': 83894, 'timestamp': 1702572674.745187, 'uuid': '96d9e34e-a973-4db6-894d-5aeb9a192d35'}\n",
      "{'entity': 'Henri Poincaré', 'importance': 4, 'category': 'person', 'doc_source': 'wikipedia', 'wikipedia_page': 'Albert Einstein', 'doc_lang': 'en', 'doc_size': 83894, 'timestamp': 1702572674.745187, 'uuid': '1cdac2b8-9309-4d81-9493-bbf2bbd5f297'}\n",
      "{'entity': 'Ernst Mach', 'importance': 4, 'category': 'person', 'doc_source': 'wikipedia', 'wikipedia_page': 'Albert Einstein', 'doc_lang': 'en', 'doc_size': 83894, 'timestamp': 1702572674.745187, 'uuid': '1cdac2b8-9309-4d81-9493-bbf2bbd5f297'}\n",
      "{'entity': 'David Hume', 'importance': 4, 'category': 'person', 'doc_source': 'wikipedia', 'wikipedia_page': 'Albert Einstein', 'doc_lang': 'en', 'doc_size': 83894, 'timestamp': 1702572674.745187, 'uuid': '1cdac2b8-9309-4d81-9493-bbf2bbd5f297'}\n",
      "{'entity': 'Alfred Kleiner', 'importance': 1, 'category': 'person', 'doc_source': 'wikipedia', 'wikipedia_page': 'Albert Einstein', 'doc_lang': 'en', 'doc_size': 83894, 'timestamp': 1702572674.745187, 'uuid': '9534708c-9ede-43c0-97f7-079eb49055d7'}\n",
      "{'entity': 'Alfred Kleiner', 'importance': 3, 'category': 'person', 'doc_source': 'wikipedia', 'wikipedia_page': 'Albert Einstein', 'doc_lang': 'en', 'doc_size': 83894, 'timestamp': 1702572674.745187, 'uuid': 'f39d3b32-8ea8-47e7-a38f-1b34829d2a92'}\n",
      "{'entity': 'Marcel Grossmann', 'importance': 2, 'category': 'person', 'doc_source': 'wikipedia', 'wikipedia_page': 'Albert Einstein', 'doc_lang': 'en', 'doc_size': 83894, 'timestamp': 1702572674.745187, 'uuid': 'b715a052-ff9a-48a7-9ba7-11ad20dac0cc'}\n",
      "{'entity': 'Max Planck', 'importance': 3, 'category': 'person', 'doc_source': 'wikipedia', 'wikipedia_page': 'Albert Einstein', 'doc_lang': 'en', 'doc_size': 83894, 'timestamp': 1702572674.745187, 'uuid': 'b715a052-ff9a-48a7-9ba7-11ad20dac0cc'}\n",
      "{'entity': 'Walther Nernst', 'importance': 2, 'category': 'person', 'doc_source': 'wikipedia', 'wikipedia_page': 'Albert Einstein', 'doc_lang': 'en', 'doc_size': 83894, 'timestamp': 1702572674.745187, 'uuid': 'b715a052-ff9a-48a7-9ba7-11ad20dac0cc'}\n",
      "{'entity': 'Elsa Löwenthal', 'importance': 2, 'category': 'person', 'doc_source': 'wikipedia', 'wikipedia_page': 'Albert Einstein', 'doc_lang': 'en', 'doc_size': 83894, 'timestamp': 1702572674.745187, 'uuid': 'b715a052-ff9a-48a7-9ba7-11ad20dac0cc'}\n",
      "{'entity': 'Albert Einstein', 'importance': 5, 'category': 'person', 'doc_source': 'wikipedia', 'wikipedia_page': 'Albert Einstein', 'doc_lang': 'en', 'doc_size': 83894, 'timestamp': 1702572674.745187, 'uuid': '54dc8c74-0933-4c47-9228-9b40070a6adc'}\n",
      "{'entity': 'S. N. Bose', 'importance': 3, 'category': 'person', 'doc_source': 'wikipedia', 'wikipedia_page': 'Albert Einstein', 'doc_lang': 'en', 'doc_size': 83894, 'timestamp': 1702572674.745187, 'uuid': 'b2a71437-f77e-4d84-ab11-a9654511e7cd'}\n",
      "{'entity': 'Einstein', 'importance': 5, 'category': 'person', 'doc_source': 'wikipedia', 'wikipedia_page': 'Albert Einstein', 'doc_lang': 'en', 'doc_size': 83894, 'timestamp': 1702572674.745187, 'uuid': '8be6b67d-7b7a-473d-a0a7-f42d2dddae15'}\n",
      "{'entity': 'Sir Arthur Eddington', 'importance': 2, 'category': 'person', 'doc_source': 'wikipedia', 'wikipedia_page': 'Albert Einstein', 'doc_lang': 'en', 'doc_size': 83894, 'timestamp': 1702572674.745187, 'uuid': '8be6b67d-7b7a-473d-a0a7-f42d2dddae15'}\n",
      "{'entity': 'Albert Einstein', 'importance': 5, 'category': 'person', 'doc_source': 'wikipedia', 'wikipedia_page': 'Albert Einstein', 'doc_lang': 'en', 'doc_size': 83894, 'timestamp': 1702572674.745187, 'uuid': 'fe7f8933-eaf1-4080-97bf-ab18cadff6de'}\n",
      "{'entity': 'Alexis de Tocqueville', 'importance': 2, 'category': 'person', 'doc_source': 'wikipedia', 'wikipedia_page': 'Albert Einstein', 'doc_lang': 'en', 'doc_size': 83894, 'timestamp': 1702572674.745187, 'uuid': 'fe7f8933-eaf1-4080-97bf-ab18cadff6de'}\n",
      "{'entity': 'Viscount Haldane', 'importance': 2, 'category': 'person', 'doc_source': 'wikipedia', 'wikipedia_page': 'Albert Einstein', 'doc_lang': 'en', 'doc_size': 83894, 'timestamp': 1702572674.745187, 'uuid': 'fe7f8933-eaf1-4080-97bf-ab18cadff6de'}\n",
      "{'entity': 'Einstein', 'importance': 5, 'category': 'person', 'doc_source': 'wikipedia', 'wikipedia_page': 'Albert Einstein', 'doc_lang': 'en', 'doc_size': 83894, 'timestamp': 1702572674.745187, 'uuid': '71a49377-af62-472c-9346-1ffab451a082'}\n",
      "{'entity': 'Emperor Yoshihito', 'importance': 3, 'category': 'person', 'doc_source': 'wikipedia', 'wikipedia_page': 'Albert Einstein', 'doc_lang': 'en', 'doc_size': 83894, 'timestamp': 1702572674.745187, 'uuid': '71a49377-af62-472c-9346-1ffab451a082'}\n",
      "{'entity': 'British High Commissioner', 'importance': 2, 'category': 'person', 'doc_source': 'wikipedia', 'wikipedia_page': 'Albert Einstein', 'doc_lang': 'en', 'doc_size': 83894, 'timestamp': 1702572674.745187, 'uuid': '71a49377-af62-472c-9346-1ffab451a082'}\n",
      "{'entity': 'Sir Herbert Samuel', 'importance': 2, 'category': 'person', 'doc_source': 'wikipedia', 'wikipedia_page': 'Albert Einstein', 'doc_lang': 'en', 'doc_size': 83894, 'timestamp': 1702572674.745187, 'uuid': '71a49377-af62-472c-9346-1ffab451a082'}\n",
      "{'entity': 'Alfonso XIII', 'importance': 4, 'category': 'person', 'doc_source': 'wikipedia', 'wikipedia_page': 'Albert Einstein', 'doc_lang': 'en', 'doc_size': 83894, 'timestamp': 1702572674.745187, 'uuid': 'ac727db6-9cf3-443a-8e9a-f763f4bd27df'}\n",
      "{'entity': 'Santiago Ramón y Cajal', 'importance': 2, 'category': 'person', 'doc_source': 'wikipedia', 'wikipedia_page': 'Albert Einstein', 'doc_lang': 'en', 'doc_size': 83894, 'timestamp': 1702572674.745187, 'uuid': 'ac727db6-9cf3-443a-8e9a-f763f4bd27df'}\n",
      "{'entity': 'Einstein', 'importance': 5, 'category': 'person', 'doc_source': 'wikipedia', 'wikipedia_page': 'Albert Einstein', 'doc_lang': 'en', 'doc_size': 83894, 'timestamp': 1702572674.745187, 'uuid': 'd2a45cca-5edc-4a41-8f92-aca428dff43e'}\n",
      "{'entity': 'Oskar Halecki', 'importance': 3, 'category': 'person', 'doc_source': 'wikipedia', 'wikipedia_page': 'Albert Einstein', 'doc_lang': 'en', 'doc_size': 83894, 'timestamp': 1702572674.745187, 'uuid': 'd2a45cca-5edc-4a41-8f92-aca428dff43e'}\n",
      "{'entity': 'Giuseppe Motta', 'importance': 3, 'category': 'person', 'doc_source': 'wikipedia', 'wikipedia_page': 'Albert Einstein', 'doc_lang': 'en', 'doc_size': 83894, 'timestamp': 1702572674.745187, 'uuid': 'd2a45cca-5edc-4a41-8f92-aca428dff43e'}\n",
      "{'entity': 'Eric Drummond', 'importance': 2, 'category': 'person', 'doc_source': 'wikipedia', 'wikipedia_page': 'Albert Einstein', 'doc_lang': 'en', 'doc_size': 83894, 'timestamp': 1702572674.745187, 'uuid': 'd2a45cca-5edc-4a41-8f92-aca428dff43e'}\n",
      "{'entity': 'Gonzague de Reynold', 'importance': 2, 'category': 'person', 'doc_source': 'wikipedia', 'wikipedia_page': 'Albert Einstein', 'doc_lang': 'en', 'doc_size': 83894, 'timestamp': 1702572674.745187, 'uuid': 'd2a45cca-5edc-4a41-8f92-aca428dff43e'}\n",
      "{'entity': 'Hendrik Lorentz', 'importance': 3, 'category': 'person', 'doc_source': 'wikipedia', 'wikipedia_page': 'Albert Einstein', 'doc_lang': 'en', 'doc_size': 83894, 'timestamp': 1702572674.745187, 'uuid': 'd2a45cca-5edc-4a41-8f92-aca428dff43e'}\n",
      "{'entity': 'Marie Curie', 'importance': 3, 'category': 'person', 'doc_source': 'wikipedia', 'wikipedia_page': 'Albert Einstein', 'doc_lang': 'en', 'doc_size': 83894, 'timestamp': 1702572674.745187, 'uuid': 'd2a45cca-5edc-4a41-8f92-aca428dff43e'}\n",
      "{'entity': 'Einstein', 'importance': 5, 'category': 'person', 'doc_source': 'wikipedia', 'wikipedia_page': 'Albert Einstein', 'doc_lang': 'en', 'doc_size': 83894, 'timestamp': 1702572674.745187, 'uuid': '501670b8-410c-4d0a-a49a-6f48a976f409'}\n",
      "{'entity': 'Jorge Duclout', 'importance': 3, 'category': 'person', 'doc_source': 'wikipedia', 'wikipedia_page': 'Albert Einstein', 'doc_lang': 'en', 'doc_size': 83894, 'timestamp': 1702572674.745187, 'uuid': '501670b8-410c-4d0a-a49a-6f48a976f409'}\n",
      "{'entity': 'Mauricio Nirenstein', 'importance': 3, 'category': 'person', 'doc_source': 'wikipedia', 'wikipedia_page': 'Albert Einstein', 'doc_lang': 'en', 'doc_size': 83894, 'timestamp': 1702572674.745187, 'uuid': '501670b8-410c-4d0a-a49a-6f48a976f409'}\n",
      "{'entity': 'Julio Rey Pastor', 'importance': 2, 'category': 'person', 'doc_source': 'wikipedia', 'wikipedia_page': 'Albert Einstein', 'doc_lang': 'en', 'doc_size': 83894, 'timestamp': 1702572674.745187, 'uuid': '501670b8-410c-4d0a-a49a-6f48a976f409'}\n",
      "{'entity': 'Jakob Laub', 'importance': 2, 'category': 'person', 'doc_source': 'wikipedia', 'wikipedia_page': 'Albert Einstein', 'doc_lang': 'en', 'doc_size': 83894, 'timestamp': 1702572674.745187, 'uuid': '501670b8-410c-4d0a-a49a-6f48a976f409'}\n",
      "{'entity': 'Leopoldo Lugones', 'importance': 2, 'category': 'person', 'doc_source': 'wikipedia', 'wikipedia_page': 'Albert Einstein', 'doc_lang': 'en', 'doc_size': 83894, 'timestamp': 1702572674.745187, 'uuid': '501670b8-410c-4d0a-a49a-6f48a976f409'}\n",
      "{'entity': 'Einstein', 'importance': 5, 'category': 'person', 'doc_source': 'wikipedia', 'wikipedia_page': 'Albert Einstein', 'doc_lang': 'en', 'doc_size': 83894, 'timestamp': 1702572674.745187, 'uuid': '4968c98c-d76f-4b18-ab99-20afd3c81b30'}\n",
      "{'entity': 'Robert A. Millikan', 'importance': 3, 'category': 'person', 'doc_source': 'wikipedia', 'wikipedia_page': 'Albert Einstein', 'doc_lang': 'en', 'doc_size': 83894, 'timestamp': 1702572674.745187, 'uuid': '4968c98c-d76f-4b18-ab99-20afd3c81b30'}\n",
      "{'entity': 'Upton Sinclair', 'importance': 2, 'category': 'person', 'doc_source': 'wikipedia', 'wikipedia_page': 'Albert Einstein', 'doc_lang': 'en', 'doc_size': 83894, 'timestamp': 1702572674.745187, 'uuid': '4968c98c-d76f-4b18-ab99-20afd3c81b30'}\n",
      "{'entity': 'Charlie Chaplin', 'importance': 3, 'category': 'person', 'doc_source': 'wikipedia', 'wikipedia_page': 'Albert Einstein', 'doc_lang': 'en', 'doc_size': 83894, 'timestamp': 1702572674.745187, 'uuid': '4968c98c-d76f-4b18-ab99-20afd3c81b30'}\n",
      "{'entity': 'Carl Laemmle', 'importance': 2, 'category': 'person', 'doc_source': 'wikipedia', 'wikipedia_page': 'Albert Einstein', 'doc_lang': 'en', 'doc_size': 83894, 'timestamp': 1702572674.745187, 'uuid': '4968c98c-d76f-4b18-ab99-20afd3c81b30'}\n",
      "{'entity': 'Einstein', 'importance': 5, 'category': 'person', 'doc_source': 'wikipedia', 'wikipedia_page': 'Albert Einstein', 'doc_lang': 'en', 'doc_size': 83894, 'timestamp': 1702572674.745187, 'uuid': '4e82a7e6-7431-47c3-a284-3b3f7b4af8c4'}\n",
      "{'entity': 'Adolf Hitler', 'importance': 4, 'category': 'person', 'doc_source': 'wikipedia', 'wikipedia_page': 'Albert Einstein', 'doc_lang': 'en', 'doc_size': 83894, 'timestamp': 1702572674.745187, 'uuid': '4e82a7e6-7431-47c3-a284-3b3f7b4af8c4'}\n",
      "{'entity': 'Einstein', 'importance': 5, 'category': 'person', 'doc_source': 'wikipedia', 'wikipedia_page': 'Albert Einstein', 'doc_lang': 'en', 'doc_size': 83894, 'timestamp': 1702572674.745187, 'uuid': '10cb7dac-917b-4b6a-a9a1-69de6fe1db2e'}\n",
      "{'entity': 'Joseph Goebbels', 'importance': 3, 'category': 'person', 'doc_source': 'wikipedia', 'wikipedia_page': 'Albert Einstein', 'doc_lang': 'en', 'doc_size': 83894, 'timestamp': 1702572674.745187, 'uuid': '10cb7dac-917b-4b6a-a9a1-69de6fe1db2e'}\n",
      "{'entity': 'William Beveridge', 'importance': 3, 'category': 'person', 'doc_source': 'wikipedia', 'wikipedia_page': 'Albert Einstein', 'doc_lang': 'en', 'doc_size': 83894, 'timestamp': 1702572674.745187, 'uuid': 'a16d684a-aad5-4a38-8ee5-d01d9387e147'}\n",
      "{'entity': 'Oliver Locker-Lampson', 'importance': 3, 'category': 'person', 'doc_source': 'wikipedia', 'wikipedia_page': 'Albert Einstein', 'doc_lang': 'en', 'doc_size': 83894, 'timestamp': 1702572674.745187, 'uuid': 'a16d684a-aad5-4a38-8ee5-d01d9387e147'}\n",
      "{'entity': 'Winston Churchill', 'importance': 4, 'category': 'person', 'doc_source': 'wikipedia', 'wikipedia_page': 'Albert Einstein', 'doc_lang': 'en', 'doc_size': 83894, 'timestamp': 1702572674.745187, 'uuid': 'a16d684a-aad5-4a38-8ee5-d01d9387e147'}\n",
      "{'entity': 'Frederick Lindemann', 'importance': 3, 'category': 'person', 'doc_source': 'wikipedia', 'wikipedia_page': 'Albert Einstein', 'doc_lang': 'en', 'doc_size': 83894, 'timestamp': 1702572674.745187, 'uuid': 'a16d684a-aad5-4a38-8ee5-d01d9387e147'}\n",
      "{'entity': 'Einstein', 'importance': 4, 'category': 'person', 'doc_source': 'wikipedia', 'wikipedia_page': 'Albert Einstein', 'doc_lang': 'en', 'doc_size': 83894, 'timestamp': 1702572674.745187, 'uuid': 'd4302c6e-78a6-487f-850c-2556e52710af'}\n",
      "{'entity': 'İsmet İnönü', 'importance': 3, 'category': 'person', 'doc_source': 'wikipedia', 'wikipedia_page': 'Albert Einstein', 'doc_lang': 'en', 'doc_size': 83894, 'timestamp': 1702572674.745187, 'uuid': 'd4302c6e-78a6-487f-850c-2556e52710af'}\n",
      "{'entity': 'Locker-Lampson', 'importance': 2, 'category': 'person', 'doc_source': 'wikipedia', 'wikipedia_page': 'Albert Einstein', 'doc_lang': 'en', 'doc_size': 83894, 'timestamp': 1702572674.745187, 'uuid': 'd4302c6e-78a6-487f-850c-2556e52710af'}\n",
      "{'entity': 'Einstein', 'importance': 5, 'category': 'person', 'doc_source': 'wikipedia', 'wikipedia_page': 'Albert Einstein', 'doc_lang': 'en', 'doc_size': 83894, 'timestamp': 1702572674.745187, 'uuid': '1a54004f-b105-44da-aceb-6fca789ee75e'}\n",
      "{'entity': 'John von Neumann', 'importance': 2, 'category': 'person', 'doc_source': 'wikipedia', 'wikipedia_page': 'Albert Einstein', 'doc_lang': 'en', 'doc_size': 83894, 'timestamp': 1702572674.745187, 'uuid': '1a54004f-b105-44da-aceb-6fca789ee75e'}\n",
      "{'entity': 'Kurt Gödel', 'importance': 3, 'category': 'person', 'doc_source': 'wikipedia', 'wikipedia_page': 'Albert Einstein', 'doc_lang': 'en', 'doc_size': 83894, 'timestamp': 1702572674.745187, 'uuid': '1a54004f-b105-44da-aceb-6fca789ee75e'}\n",
      "{'entity': 'Hermann Weyl', 'importance': 2, 'category': 'person', 'doc_source': 'wikipedia', 'wikipedia_page': 'Albert Einstein', 'doc_lang': 'en', 'doc_size': 83894, 'timestamp': 1702572674.745187, 'uuid': '1a54004f-b105-44da-aceb-6fca789ee75e'}\n",
      "{'entity': 'Bruria Kaufman', 'importance': 1, 'category': 'person', 'doc_source': 'wikipedia', 'wikipedia_page': 'Albert Einstein', 'doc_lang': 'en', 'doc_size': 83894, 'timestamp': 1702572674.745187, 'uuid': '1a54004f-b105-44da-aceb-6fca789ee75e'}\n",
      "{'entity': 'Albert Einstein', 'importance': 5, 'category': 'person', 'doc_source': 'wikipedia', 'wikipedia_page': 'Albert Einstein', 'doc_lang': 'en', 'doc_size': 83894, 'timestamp': 1702572674.745187, 'uuid': '3a198290-8dcd-4840-bb95-003e1be1b1c5'}\n",
      "{'entity': 'Leó Szilárd', 'importance': 4, 'category': 'person', 'doc_source': 'wikipedia', 'wikipedia_page': 'Albert Einstein', 'doc_lang': 'en', 'doc_size': 83894, 'timestamp': 1702572674.745187, 'uuid': '8cdfbd6b-c9eb-4ab8-8b3c-d3e88da68aa6'}\n",
      "{'entity': 'Albert Einstein', 'importance': 4, 'category': 'person', 'doc_source': 'wikipedia', 'wikipedia_page': 'Albert Einstein', 'doc_lang': 'en', 'doc_size': 83894, 'timestamp': 1702572674.745187, 'uuid': '8cdfbd6b-c9eb-4ab8-8b3c-d3e88da68aa6'}\n",
      "{'entity': 'Einstein', 'importance': 5, 'category': 'person', 'doc_source': 'wikipedia', 'wikipedia_page': 'Albert Einstein', 'doc_lang': 'en', 'doc_size': 83894, 'timestamp': 1702572674.745187, 'uuid': '2de98e83-0fe8-4cbb-b495-673162026359'}\n",
      "{'entity': 'Linus Pauling', 'importance': 3, 'category': 'person', 'doc_source': 'wikipedia', 'wikipedia_page': 'Albert Einstein', 'doc_lang': 'en', 'doc_size': 83894, 'timestamp': 1702572674.745187, 'uuid': '2de98e83-0fe8-4cbb-b495-673162026359'}\n",
      "{'entity': 'Bertrand Russell', 'importance': 3, 'category': 'person', 'doc_source': 'wikipedia', 'wikipedia_page': 'Albert Einstein', 'doc_lang': 'en', 'doc_size': 83894, 'timestamp': 1702572674.745187, 'uuid': '2de98e83-0fe8-4cbb-b495-673162026359'}\n",
      "{'entity': 'W. E. B. Du Bois', 'importance': 4, 'category': 'person', 'doc_source': 'wikipedia', 'wikipedia_page': 'Albert Einstein', 'doc_lang': 'en', 'doc_size': 83894, 'timestamp': 1702572674.745187, 'uuid': 'e9d9d390-dd9e-4eb7-9078-1bc4a406cf51'}\n",
      "{'entity': 'Einstein', 'importance': 4, 'category': 'person', 'doc_source': 'wikipedia', 'wikipedia_page': 'Albert Einstein', 'doc_lang': 'en', 'doc_size': 83894, 'timestamp': 1702572674.745187, 'uuid': 'd027cafe-83b2-4dd0-b970-359be51062fa'}\n",
      "{'entity': 'black student', 'importance': 4, 'category': 'person', 'doc_source': 'wikipedia', 'wikipedia_page': 'Albert Einstein', 'doc_lang': 'en', 'doc_size': 83894, 'timestamp': 1702572674.745187, 'uuid': 'd027cafe-83b2-4dd0-b970-359be51062fa'}\n",
      "{'entity': 'Vladimir Lenin', 'importance': 2, 'category': 'person', 'doc_source': 'wikipedia', 'wikipedia_page': 'Albert Einstein', 'doc_lang': 'en', 'doc_size': 83894, 'timestamp': 1702572674.745187, 'uuid': 'e65d5ba5-d1d2-414e-8a92-c8701487f706'}\n",
      "{'entity': 'Lenin', 'importance': 5, 'category': 'person', 'doc_source': 'wikipedia', 'wikipedia_page': 'Albert Einstein', 'doc_lang': 'en', 'doc_size': 83894, 'timestamp': 1702572674.745187, 'uuid': '06192650-6ef5-483b-b880-d70a799be401'}\n",
      "{'entity': 'Mahatma Gandhi', 'importance': 4, 'category': 'person', 'doc_source': 'wikipedia', 'wikipedia_page': 'Albert Einstein', 'doc_lang': 'en', 'doc_size': 83894, 'timestamp': 1702572674.745187, 'uuid': 'c55a3573-5f19-45ad-bfd9-b9dfae1bb0d4'}\n",
      "{'entity': 'Wilfrid Israel', 'importance': 3, 'category': 'person', 'doc_source': 'wikipedia', 'wikipedia_page': 'Albert Einstein', 'doc_lang': 'en', 'doc_size': 83894, 'timestamp': 1702572674.745187, 'uuid': 'c55a3573-5f19-45ad-bfd9-b9dfae1bb0d4'}\n",
      "{'entity': 'V. A. Sundaram', 'importance': 2, 'category': 'person', 'doc_source': 'wikipedia', 'wikipedia_page': 'Albert Einstein', 'doc_lang': 'en', 'doc_size': 83894, 'timestamp': 1702572674.745187, 'uuid': 'c55a3573-5f19-45ad-bfd9-b9dfae1bb0d4'}\n",
      "{'entity': 'Chaim Weizmann', 'importance': 4, 'category': 'person', 'doc_source': 'wikipedia', 'wikipedia_page': 'Albert Einstein', 'doc_lang': 'en', 'doc_size': 83894, 'timestamp': 1702572674.745187, 'uuid': '4bd1a0af-dd00-49b8-bfc7-c392a184b81e'}\n",
      "{'entity': 'David Ben-Gurion', 'importance': 3, 'category': 'person', 'doc_source': 'wikipedia', 'wikipedia_page': 'Albert Einstein', 'doc_lang': 'en', 'doc_size': 83894, 'timestamp': 1702572674.745187, 'uuid': '4bd1a0af-dd00-49b8-bfc7-c392a184b81e'}\n",
      "{'entity': 'Ezriel Carlebach', 'importance': 2, 'category': 'person', 'doc_source': 'wikipedia', 'wikipedia_page': 'Albert Einstein', 'doc_lang': 'en', 'doc_size': 83894, 'timestamp': 1702572674.745187, 'uuid': '4bd1a0af-dd00-49b8-bfc7-c392a184b81e'}\n",
      "{'entity': 'Abba Eban', 'importance': 2, 'category': 'person', 'doc_source': 'wikipedia', 'wikipedia_page': 'Albert Einstein', 'doc_lang': 'en', 'doc_size': 83894, 'timestamp': 1702572674.745187, 'uuid': '4bd1a0af-dd00-49b8-bfc7-c392a184b81e'}\n",
      "{'entity': 'Einstein', 'importance': 4, 'category': 'person', 'doc_source': 'wikipedia', 'wikipedia_page': 'Albert Einstein', 'doc_lang': 'en', 'doc_size': 83894, 'timestamp': 1702572674.745187, 'uuid': 'bfb3baaf-49aa-47cf-92e4-47c7f1bb58f6'}\n",
      "{'entity': 'Einstein', 'importance': 5, 'category': 'person', 'doc_source': 'wikipedia', 'wikipedia_page': 'Albert Einstein', 'doc_lang': 'en', 'doc_size': 83894, 'timestamp': 1702572674.745187, 'uuid': '23a05523-a9b4-4c8d-a6e0-a0468eb35348'}\n",
      "{'entity': 'Menachem Begin', 'importance': 3, 'category': 'person', 'doc_source': 'wikipedia', 'wikipedia_page': 'Albert Einstein', 'doc_lang': 'en', 'doc_size': 83894, 'timestamp': 1702572674.745187, 'uuid': '23a05523-a9b4-4c8d-a6e0-a0468eb35348'}\n",
      "{'entity': 'Einstein', 'importance': 5, 'category': 'person', 'doc_source': 'wikipedia', 'wikipedia_page': 'Albert Einstein', 'doc_lang': 'en', 'doc_size': 83894, 'timestamp': 1702572674.745187, 'uuid': '04873e67-9a61-4dfb-af5d-d3d5a0cec68d'}\n",
      "{'entity': 'Einstein', 'importance': 5, 'category': 'person', 'doc_source': 'wikipedia', 'wikipedia_page': 'Albert Einstein', 'doc_lang': 'en', 'doc_size': 83894, 'timestamp': 1702572674.745187, 'uuid': 'd5193c93-e75a-4006-a9d7-6e949b81147a'}\n",
      "{'entity': 'Eric Gutkind', 'importance': 3, 'category': 'person', 'doc_source': 'wikipedia', 'wikipedia_page': 'Albert Einstein', 'doc_lang': 'en', 'doc_size': 83894, 'timestamp': 1702572674.745187, 'uuid': 'd5193c93-e75a-4006-a9d7-6e949b81147a'}\n",
      "{'entity': 'Hermann Huth', 'importance': 3, 'category': 'person', 'doc_source': 'wikipedia', 'wikipedia_page': 'Albert Einstein', 'doc_lang': 'en', 'doc_size': 83894, 'timestamp': 1702572674.745187, 'uuid': 'd5193c93-e75a-4006-a9d7-6e949b81147a'}\n",
      "{'entity': 'Einstein', 'importance': 4, 'category': 'person', 'doc_source': 'wikipedia', 'wikipedia_page': 'Albert Einstein', 'doc_lang': 'en', 'doc_size': 83894, 'timestamp': 1702572674.745187, 'uuid': '8b7b89e0-5eff-4303-b146-ab72543e8312'}\n",
      "{'entity': 'Leon Botstein', 'importance': 2, 'category': 'person', 'doc_source': 'wikipedia', 'wikipedia_page': 'Albert Einstein', 'doc_lang': 'en', 'doc_size': 83894, 'timestamp': 1702572674.745187, 'uuid': '6e5e1ad1-9db9-4cf8-b9fb-39d12efaf45b'}\n",
      "{'entity': 'Max Planck', 'importance': 2, 'category': 'person', 'doc_source': 'wikipedia', 'wikipedia_page': 'Albert Einstein', 'doc_lang': 'en', 'doc_size': 83894, 'timestamp': 1702572674.745187, 'uuid': '6e5e1ad1-9db9-4cf8-b9fb-39d12efaf45b'}\n",
      "{'entity': 'Max Planck', 'importance': 3, 'category': 'person', 'doc_source': 'wikipedia', 'wikipedia_page': 'Albert Einstein', 'doc_lang': 'en', 'doc_size': 83894, 'timestamp': 1702572674.745187, 'uuid': 'c1cbe321-1f49-480a-8beb-e72de58d869f'}\n",
      "{'entity': 'Alfred Einstein', 'importance': 3, 'category': 'person', 'doc_source': 'wikipedia', 'wikipedia_page': 'Albert Einstein', 'doc_lang': 'en', 'doc_size': 83894, 'timestamp': 1702572674.745187, 'uuid': 'c1cbe321-1f49-480a-8beb-e72de58d869f'}\n",
      "{'entity': 'Albert Einstein', 'importance': 5, 'category': 'person', 'doc_source': 'wikipedia', 'wikipedia_page': 'Albert Einstein', 'doc_lang': 'en', 'doc_size': 83894, 'timestamp': 1702572674.745187, 'uuid': '2e41bbca-0790-4bd7-b778-c64819e1aba0'}\n",
      "{'entity': 'J. Robert Oppenheimer', 'importance': 2, 'category': 'person', 'doc_source': 'wikipedia', 'wikipedia_page': 'Albert Einstein', 'doc_lang': 'en', 'doc_size': 83894, 'timestamp': 1702572674.745187, 'uuid': '2e41bbca-0790-4bd7-b778-c64819e1aba0'}\n",
      "{'entity': 'Einstein', 'importance': 5, 'category': 'person', 'doc_source': 'wikipedia', 'wikipedia_page': 'Albert Einstein', 'doc_lang': 'en', 'doc_size': 83894, 'timestamp': 1702572674.745187, 'uuid': '7fbaffda-1bc8-4318-802a-b2aa1ab82b6e'}\n",
      "{'entity': 'Einstein', 'importance': 5, 'category': 'person', 'doc_source': 'wikipedia', 'wikipedia_page': 'Albert Einstein', 'doc_lang': 'en', 'doc_size': 83894, 'timestamp': 1702572674.745187, 'uuid': '9eb91315-380a-4bfd-8828-a597d138ce8a'}\n",
      "{'entity': 'Mileva Marić', 'importance': 3, 'category': 'person', 'doc_source': 'wikipedia', 'wikipedia_page': 'Albert Einstein', 'doc_lang': 'en', 'doc_size': 83894, 'timestamp': 1702572674.745187, 'uuid': '9eb91315-380a-4bfd-8828-a597d138ce8a'}\n",
      "{'entity': 'Edwin Hubble', 'importance': 2, 'category': 'person', 'doc_source': 'wikipedia', 'wikipedia_page': 'Albert Einstein', 'doc_lang': 'en', 'doc_size': 83894, 'timestamp': 1702572674.745187, 'uuid': 'd316d4e3-21b3-4656-95b9-ebef5a02d72b'}\n",
      "{'entity': 'astrophysicist Mario Livio', 'importance': 1, 'category': 'person', 'doc_source': 'wikipedia', 'wikipedia_page': 'Albert Einstein', 'doc_lang': 'en', 'doc_size': 83894, 'timestamp': 1702572674.745187, 'uuid': 'd316d4e3-21b3-4656-95b9-ebef5a02d72b'}\n",
      "{'entity': \"Cormac O'Raifeartaigh\", 'importance': 1, 'category': 'person', 'doc_source': 'wikipedia', 'wikipedia_page': 'Albert Einstein', 'doc_lang': 'en', 'doc_size': 83894, 'timestamp': 1702572674.745187, 'uuid': 'd316d4e3-21b3-4656-95b9-ebef5a02d72b'}\n",
      "{'entity': 'Einstein', 'importance': 5, 'category': 'person', 'doc_source': 'wikipedia', 'wikipedia_page': 'Albert Einstein', 'doc_lang': 'en', 'doc_size': 83894, 'timestamp': 1702572674.745187, 'uuid': '130c8dfa-eaa6-4c7b-8846-b546118ee18f'}\n",
      "{'entity': 'Einstein', 'importance': 5, 'category': 'person', 'doc_source': 'wikipedia', 'wikipedia_page': 'Albert Einstein', 'doc_lang': 'en', 'doc_size': 83894, 'timestamp': 1702572674.745187, 'uuid': 'eb4a6b27-9871-4bdf-b349-c78e3cce246e'}\n",
      "{'entity': 'Hoyle, Bondi and Gold', 'importance': 3, 'category': 'person', 'doc_source': 'wikipedia', 'wikipedia_page': 'Albert Einstein', 'doc_lang': 'en', 'doc_size': 83894, 'timestamp': 1702572674.745187, 'uuid': 'eb4a6b27-9871-4bdf-b349-c78e3cce246e'}\n",
      "{'entity': 'Einstein', 'importance': 2, 'category': 'person', 'doc_source': 'wikipedia', 'wikipedia_page': 'Albert Einstein', 'doc_lang': 'en', 'doc_size': 83894, 'timestamp': 1702572674.745187, 'uuid': '7df8f084-44a0-4ccb-a2ae-eece0f9776c2'}\n",
      "{'entity': 'Erwin Schrödinger', 'importance': 2, 'category': 'person', 'doc_source': 'wikipedia', 'wikipedia_page': 'Albert Einstein', 'doc_lang': 'en', 'doc_size': 83894, 'timestamp': 1702572674.745187, 'uuid': '7df8f084-44a0-4ccb-a2ae-eece0f9776c2'}\n",
      "{'entity': 'Lev Landau', 'importance': 2, 'category': 'person', 'doc_source': 'wikipedia', 'wikipedia_page': 'Albert Einstein', 'doc_lang': 'en', 'doc_size': 83894, 'timestamp': 1702572674.745187, 'uuid': '7df8f084-44a0-4ccb-a2ae-eece0f9776c2'}\n",
      "{'entity': 'Evgeny Lifshitz', 'importance': 2, 'category': 'person', 'doc_source': 'wikipedia', 'wikipedia_page': 'Albert Einstein', 'doc_lang': 'en', 'doc_size': 83894, 'timestamp': 1702572674.745187, 'uuid': '7df8f084-44a0-4ccb-a2ae-eece0f9776c2'}\n",
      "{'entity': 'Satyendra Nath Bose', 'importance': 4, 'category': 'person', 'doc_source': 'wikipedia', 'wikipedia_page': 'Albert Einstein', 'doc_lang': 'en', 'doc_size': 83894, 'timestamp': 1702572674.745187, 'uuid': 'dba31d63-76fe-4867-947e-82921472012f'}\n",
      "{'entity': 'Einstein', 'importance': 4, 'category': 'person', 'doc_source': 'wikipedia', 'wikipedia_page': 'Albert Einstein', 'doc_lang': 'en', 'doc_size': 83894, 'timestamp': 1702572674.745187, 'uuid': 'dba31d63-76fe-4867-947e-82921472012f'}\n",
      "{'entity': 'Eric Allin Cornell', 'importance': 3, 'category': 'person', 'doc_source': 'wikipedia', 'wikipedia_page': 'Albert Einstein', 'doc_lang': 'en', 'doc_size': 83894, 'timestamp': 1702572674.745187, 'uuid': 'dba31d63-76fe-4867-947e-82921472012f'}\n",
      "{'entity': 'Carl Wieman', 'importance': 3, 'category': 'person', 'doc_source': 'wikipedia', 'wikipedia_page': 'Albert Einstein', 'doc_lang': 'en', 'doc_size': 83894, 'timestamp': 1702572674.745187, 'uuid': 'dba31d63-76fe-4867-947e-82921472012f'}\n",
      "{'entity': 'Gilbert N. Lewis', 'importance': 1, 'category': 'person', 'doc_source': 'wikipedia', 'wikipedia_page': 'Albert Einstein', 'doc_lang': 'en', 'doc_size': 83894, 'timestamp': 1702572674.745187, 'uuid': '822ea8a5-9fcf-4bf0-95da-6619cf517c28'}\n",
      "{'entity': 'Einstein', 'importance': 5, 'category': 'person', 'doc_source': 'wikipedia', 'wikipedia_page': 'Albert Einstein', 'doc_lang': 'en', 'doc_size': 83894, 'timestamp': 1702572674.745187, 'uuid': 'a0793181-3f3d-44d6-b61b-7d5aa6c1fa71'}\n",
      "{'entity': 'Niels Bohr', 'importance': 3, 'category': 'person', 'doc_source': 'wikipedia', 'wikipedia_page': 'Albert Einstein', 'doc_lang': 'en', 'doc_size': 83894, 'timestamp': 1702572674.745187, 'uuid': 'a0793181-3f3d-44d6-b61b-7d5aa6c1fa71'}\n",
      "{'entity': 'Einstein', 'importance': 3, 'category': 'person', 'doc_source': 'wikipedia', 'wikipedia_page': 'Albert Einstein', 'doc_lang': 'en', 'doc_size': 83894, 'timestamp': 1702572674.745187, 'uuid': '22915677-51ee-46eb-887d-fa97dcab1567'}\n",
      "{'entity': 'Leopold Infeld', 'importance': 1, 'category': 'person', 'doc_source': 'wikipedia', 'wikipedia_page': 'Albert Einstein', 'doc_lang': 'en', 'doc_size': 83894, 'timestamp': 1702572674.745187, 'uuid': '19c731b3-4cd3-4f24-83c6-2a01da3d2787'}\n",
      "{'entity': 'Nathan Rosen', 'importance': 1, 'category': 'person', 'doc_source': 'wikipedia', 'wikipedia_page': 'Albert Einstein', 'doc_lang': 'en', 'doc_size': 83894, 'timestamp': 1702572674.745187, 'uuid': '19c731b3-4cd3-4f24-83c6-2a01da3d2787'}\n",
      "{'entity': 'Peter Bergmann', 'importance': 1, 'category': 'person', 'doc_source': 'wikipedia', 'wikipedia_page': 'Albert Einstein', 'doc_lang': 'en', 'doc_size': 83894, 'timestamp': 1702572674.745187, 'uuid': '19c731b3-4cd3-4f24-83c6-2a01da3d2787'}\n",
      "{'entity': 'Einstein', 'importance': 5, 'category': 'person', 'doc_source': 'wikipedia', 'wikipedia_page': 'Albert Einstein', 'doc_lang': 'en', 'doc_size': 83894, 'timestamp': 1702572674.745187, 'uuid': '7e9e284b-ace3-4b13-b66d-0cbf21b176ea'}\n",
      "{'entity': 'Elsa Einstein', 'importance': 3, 'category': 'person', 'doc_source': 'wikipedia', 'wikipedia_page': 'Albert Einstein', 'doc_lang': 'en', 'doc_size': 83894, 'timestamp': 1702572674.745187, 'uuid': '7e9e284b-ace3-4b13-b66d-0cbf21b176ea'}\n",
      "{'entity': 'Margot Einstein', 'importance': 3, 'category': 'person', 'doc_source': 'wikipedia', 'wikipedia_page': 'Albert Einstein', 'doc_lang': 'en', 'doc_size': 83894, 'timestamp': 1702572674.745187, 'uuid': '7e9e284b-ace3-4b13-b66d-0cbf21b176ea'}\n",
      "{'entity': 'Ilse Einstein', 'importance': 3, 'category': 'person', 'doc_source': 'wikipedia', 'wikipedia_page': 'Albert Einstein', 'doc_lang': 'en', 'doc_size': 83894, 'timestamp': 1702572674.745187, 'uuid': '7e9e284b-ace3-4b13-b66d-0cbf21b176ea'}\n",
      "{'entity': 'Einstein', 'importance': 5, 'category': 'person', 'doc_source': 'wikipedia', 'wikipedia_page': 'Albert Einstein', 'doc_lang': 'en', 'doc_size': 83894, 'timestamp': 1702572674.745187, 'uuid': '271f55e3-fd4b-447c-9f5d-ddae7f2395d3'}\n",
      "{'entity': 'Albert Einstein', 'importance': 5, 'category': 'person', 'doc_source': 'wikipedia', 'wikipedia_page': 'Albert Einstein', 'doc_lang': 'en', 'doc_size': 83894, 'timestamp': 1702572674.745187, 'uuid': '111129cc-c0e3-4d23-990a-9c0e92125e03'}\n"
     ]
    }
   ],
   "source": [
    "for i, concept in enumerate(concepts):\n",
    "    if concept['category'] == \"person\":\n",
    "        print(concept)"
   ]
  },
  {
   "cell_type": "code",
   "execution_count": 23,
   "id": "5c881e23-1c6e-4e52-b343-664cad4b3423",
   "metadata": {},
   "outputs": [],
   "source": [
    "with open(\"./output/db/concepts.json\", \"w\") as f:\n",
    "    f.write(json.dumps(concepts))"
   ]
  },
  {
   "cell_type": "code",
   "execution_count": 77,
   "id": "181ff70d-9a3c-4795-8e7e-b913d3fee561",
   "metadata": {},
   "outputs": [],
   "source": [
    "with open(\"./output/db/concepts.json\", \"r\") as f:\n",
    "    concepts = json.dumps(f.read())"
   ]
  },
  {
   "cell_type": "markdown",
   "id": "da8c1c9d-ba14-4a5d-93ef-f698579c0269",
   "metadata": {},
   "source": [
    "## Use a LLM to extract nodes and edges from chunked data"
   ]
  },
  {
   "cell_type": "code",
   "execution_count": 24,
   "id": "7762f72d-1f56-4d6d-b421-cafa58177a39",
   "metadata": {},
   "outputs": [],
   "source": [
    "def extract_nodes_and_edges(user_prompt: str, llm, metadata={}):\n",
    "\n",
    "    SYS_PROMPT = (\n",
    "        \"You are a network graph maker who extracts terms and their relations from a given context. \"\n",
    "        \"You are provided with a context chunk (delimited by ```) Your task is to extract the ontology \"\n",
    "        \"of terms mentioned in the given context. These terms should represent the key concepts as per the context. \\n\"\n",
    "        \"Thought 1: While traversing through each sentence, Think about the key terms mentioned in it.\\n\"\n",
    "            \"\\tTerms may include object, entity, location, organization, person, \\n\"\n",
    "            \"\\tcondition, acronym, documents, service, concept, etc.\\n\"\n",
    "            \"\\tTerms should be as atomistic as possible\\n\\n\"\n",
    "        \"Thought 2: Think about how these terms can have one on one relation with other terms.\\n\"\n",
    "            \"\\tTerms that are mentioned in the same sentence or the same paragraph are typically related to each other.\\n\"\n",
    "            \"\\tTerms can be related to many other terms\\n\\n\"\n",
    "        \"Thought 3: Find out the relation between each such related pair of terms. \\n\\n\"\n",
    "        \"Format your output as a list of json. Each element of the list contains a pair of terms\"\n",
    "        \"and the relation between them, like the follwing: \\n\"\n",
    "        \"[\\n\"\n",
    "        \"   {\\n\"\n",
    "        '       \"node_1\": \"A concept from extracted ontology\",\\n'\n",
    "        '       \"node_2\": \"A related concept from extracted ontology\",\\n'\n",
    "        '       \"edge\": \"relationship between the two concepts, node_1 and node_2 in one or two sentences\"\\n'\n",
    "        \"   }, {...}\\n\"\n",
    "        \"]\"\n",
    "    )\n",
    "\n",
    "    prompt_format = \"<|im_start|>system\\n{system_prompt}<|im_end|>\\n<|im_start|>user\\n{user_prompt}<|im_end|>\\n<|im_start|>assistant\\n\"\n",
    "    #prompt_format = \"system\\n{system_prompt}\\nuser\\n{user_prompt}\\nassistant\\n\"\n",
    "    \n",
    "    prompt = prompt_format.format(system_prompt=SYS_PROMPT, user_prompt=user_prompt)\n",
    "    \n",
    "    completion_response = llm.complete(prompt)\n",
    "    text = completion_response.text\n",
    "    text = text.strip(\"\\n\")\n",
    "\n",
    "    nodes = {}\n",
    "    try:\n",
    "        nodes = json.loads(text)\n",
    "    except Exception as e:\n",
    "        print(e)\n",
    "        print(\"\\n\\nERROR ### Here is the buggy response: \", text, \"\\n\\n\")\n",
    "        \n",
    "    result = [dict(item, **metadata) for item in nodes]\n",
    "    \n",
    "    return result\n"
   ]
  },
  {
   "cell_type": "code",
   "execution_count": 25,
   "id": "7814ba88-3910-4723-b1f8-ee496e0d7747",
   "metadata": {},
   "outputs": [
    {
     "data": {
      "application/vnd.jupyter.widget-view+json": {
       "model_id": "475501c5b067454f87d6046772180519",
       "version_major": 2,
       "version_minor": 0
      },
      "text/plain": [
       "  0%|          | 0/97 [00:00<?, ?it/s]"
      ]
     },
     "metadata": {},
     "output_type": "display_data"
    },
    {
     "name": "stdout",
     "output_type": "stream",
     "text": [
      "page_content='Albert Einstein ( EYEN-styne; German: [ˈalbɛɐt ˈʔaɪnʃtaɪn] ; 14 March 1879 – 18 April 1955) was a German-born theoretical physicist who is widely held to be one of the greatest and most influential scientists of all time. Best known for developing the theory of relativity, Einstein also made important contributions to quantum mechanics, and was thus a central figure in the revolutionary reshaping of the scientific understanding of nature that modern physics accomplished in the first decades of the twentieth century. His mass–energy equivalence formula E = mc2, which arises from relativity theory, has been called \"the world\\'s most famous equation\". He received the 1921 Nobel Prize in Physics \"for his services to theoretical physics, and especially for his discovery of the law of the photoelectric effect\", a pivotal step in the development of quantum theory. His work is also known for its influence on the philosophy of science. In a 1999 poll of 130 leading physicists worldwide by the British journal Physics World, Einstein was ranked the greatest physicist of all time. His intellectual achievements and originality have made the word Einstein broadly synonymous with genius.In 1905, a year sometimes described as his annus mirabilis (miracle year), Einstein published four groundbreaking papers. These outlined a theory of the photoelectric effect, explained Brownian motion, introduced his special theory of relativity—a theory which addressed the inability of classical mechanics to' metadata={'doc_source': 'wikipedia', 'wikipedia_page': 'Albert Einstein', 'doc_lang': 'en', 'doc_size': 83894, 'timestamp': 1702572674.745187, 'uuid': '0af897c6-3391-496e-a93c-a5a18b350f50'}\n"
     ]
    },
    {
     "name": "stderr",
     "output_type": "stream",
     "text": [
      "Llama.generate: prefix-match hit\n",
      "\n",
      "llama_print_timings:        load time =    8142.94 ms\n",
      "llama_print_timings:      sample time =      42.44 ms /   474 runs   (    0.09 ms per token, 11167.92 tokens per second)\n",
      "llama_print_timings: prompt eval time =    2067.02 ms /   689 tokens (    3.00 ms per token,   333.33 tokens per second)\n",
      "llama_print_timings:        eval time =   15234.95 ms /   473 runs   (   32.21 ms per token,    31.05 tokens per second)\n",
      "llama_print_timings:       total time =   17895.82 ms\n",
      "Llama.generate: prefix-match hit\n"
     ]
    },
    {
     "name": "stdout",
     "output_type": "stream",
     "text": [
      "page_content='effect, explained Brownian motion, introduced his special theory of relativity—a theory which addressed the inability of classical mechanics to account satisfactorily for the behavior of the electromagnetic field—and demonstrated that if the special theory is correct, mass and energy are equivalent to each other. In 1915, he proposed a general theory of relativity that extended his system of mechanics to incorporate gravitation. A cosmological paper that he published the following year laid out the implications of general relativity for the modeling of the structure and evolution of the universe as a whole. The middle part of his career also saw him making important contributions to statistical mechanics and quantum theory. Especially notable was his work on the quantum physics of radiation, in which light consists of particles, subsequently called photons.' metadata={'doc_source': 'wikipedia', 'wikipedia_page': 'Albert Einstein', 'doc_lang': 'en', 'doc_size': 83894, 'timestamp': 1702572674.745187, 'uuid': '4a87bc98-7290-4788-a482-0af3c1767dbf'}\n"
     ]
    },
    {
     "name": "stderr",
     "output_type": "stream",
     "text": [
      "\n",
      "llama_print_timings:        load time =    8142.94 ms\n",
      "llama_print_timings:      sample time =      33.47 ms /   379 runs   (    0.09 ms per token, 11324.59 tokens per second)\n",
      "llama_print_timings: prompt eval time =     712.75 ms /   181 tokens (    3.94 ms per token,   253.95 tokens per second)\n",
      "llama_print_timings:        eval time =   12845.98 ms /   378 runs   (   33.98 ms per token,    29.43 tokens per second)\n",
      "llama_print_timings:       total time =   14028.00 ms\n",
      "Llama.generate: prefix-match hit\n"
     ]
    },
    {
     "name": "stdout",
     "output_type": "stream",
     "text": [
      "page_content='For much of the last phase of his academic life, Einstein worked on two endeavors that proved ultimately unsuccessful. Firstly, he fought a long rearguard action against quantum theory\\'s introduction of fundamental randomness into science\\'s picture of the world, objecting that \"God does not play dice\". Secondly, he attempted to devise a unified field theory by generalizing his geometric theory of gravitation to include electromagnetism too. As a result, he became increasingly isolated from the mainstream of modern physics.' metadata={'doc_source': 'wikipedia', 'wikipedia_page': 'Albert Einstein', 'doc_lang': 'en', 'doc_size': 83894, 'timestamp': 1702572674.745187, 'uuid': 'a92380ed-183b-412b-953e-4e7039f9b30d'}\n"
     ]
    },
    {
     "name": "stderr",
     "output_type": "stream",
     "text": [
      "\n",
      "llama_print_timings:        load time =    8142.94 ms\n",
      "llama_print_timings:      sample time =      16.27 ms /   169 runs   (    0.10 ms per token, 10388.49 tokens per second)\n",
      "llama_print_timings: prompt eval time =     582.23 ms /   130 tokens (    4.48 ms per token,   223.28 tokens per second)\n",
      "llama_print_timings:        eval time =    5620.49 ms /   168 runs   (   33.46 ms per token,    29.89 tokens per second)\n",
      "llama_print_timings:       total time =    6405.22 ms\n",
      "Llama.generate: prefix-match hit\n"
     ]
    },
    {
     "name": "stdout",
     "output_type": "stream",
     "text": [
      "page_content='Born in the German Empire, Einstein moved to Switzerland in 1895, forsaking his German citizenship (as a subject of the Kingdom of Württemberg) the following year. In 1897, at the age of seventeen, he enrolled in the mathematics and physics teaching diploma program at the Swiss Federal polytechnic school in Zürich, graduating in 1900. In 1901, he acquired Swiss citizenship, which he kept for the rest of his life. In 1903, he secured a permanent position at the Swiss Patent Office in Bern. In 1905, he submitted a successful PhD dissertation to the University of Zurich. In 1914, he moved to Berlin in order to join the Prussian Academy of Sciences and the Humboldt University of Berlin. In 1917, he became director of the Kaiser Wilhelm Institute for Physics; he also became a German citizen again, this time as a subject of the Kingdom of Prussia. In 1933, while he was visiting the United States, Adolf Hitler came to power in Germany. Horrified by the Nazi \"war of extermination\" against his fellow Jews, Einstein decided to remain in the US, and was granted American citizenship in 1940. On the eve of World War II, he endorsed a letter to President Franklin D. Roosevelt alerting him to the potential German nuclear weapons program and recommending that the US begin similar research. Einstein supported the Allies but generally viewed the idea of nuclear weapons with great dismay.' metadata={'doc_source': 'wikipedia', 'wikipedia_page': 'Albert Einstein', 'doc_lang': 'en', 'doc_size': 83894, 'timestamp': 1702572674.745187, 'uuid': '7f9dbafe-f39b-4ae5-96d1-f58e72415df2'}\n"
     ]
    },
    {
     "name": "stderr",
     "output_type": "stream",
     "text": [
      "\n",
      "llama_print_timings:        load time =    8142.94 ms\n",
      "llama_print_timings:      sample time =      61.85 ms /   652 runs   (    0.09 ms per token, 10542.31 tokens per second)\n",
      "llama_print_timings: prompt eval time =    1353.07 ms /   371 tokens (    3.65 ms per token,   274.19 tokens per second)\n",
      "llama_print_timings:        eval time =   23049.99 ms /   651 runs   (   35.41 ms per token,    28.24 tokens per second)\n",
      "llama_print_timings:       total time =   25276.55 ms\n",
      "Llama.generate: prefix-match hit\n"
     ]
    },
    {
     "name": "stdout",
     "output_type": "stream",
     "text": [
      "page_content='== Life and career ==\\n\\n\\n=== Childhood, youth and education ===' metadata={'doc_source': 'wikipedia', 'wikipedia_page': 'Albert Einstein', 'doc_lang': 'en', 'doc_size': 83894, 'timestamp': 1702572674.745187, 'uuid': '57187cee-a334-4c5f-bfab-4551cf726c95'}\n"
     ]
    },
    {
     "name": "stderr",
     "output_type": "stream",
     "text": [
      "\n",
      "llama_print_timings:        load time =    8142.94 ms\n",
      "llama_print_timings:      sample time =      13.38 ms /   143 runs   (    0.09 ms per token, 10683.60 tokens per second)\n",
      "llama_print_timings: prompt eval time =     270.18 ms /    37 tokens (    7.30 ms per token,   136.95 tokens per second)\n",
      "llama_print_timings:        eval time =    4830.51 ms /   142 runs   (   34.02 ms per token,    29.40 tokens per second)\n",
      "llama_print_timings:       total time =    5269.49 ms\n",
      "Llama.generate: prefix-match hit\n"
     ]
    },
    {
     "name": "stdout",
     "output_type": "stream",
     "text": [
      "page_content=\"Albert Einstein was born in Ulm, in the Kingdom of Württemberg in the German Empire, on 14 March 1879. His parents, secular Ashkenazi Jews, were Hermann Einstein, a salesman and engineer, and Pauline Koch. In 1880, the family moved to Munich, where Einstein's father and his uncle Jakob founded Elektrotechnische Fabrik J. Einstein & Cie, a company that manufactured electrical equipment based on direct current.Albert attended a Catholic elementary school in Munich from the age of five. When he was eight, he was transferred to the Luitpold-Gymnasium (now known as the Albert-Einstein-Gymnasium) where he received advanced primary and then secondary school education.In 1894, Hermann and Jakob's company tendered for a contract to install electric lighting in Munich, but without success—they lacked the capital that would have been required to update their technology from direct current to the more efficient, alternating current alternative. The failure of their bid forced them to sell their Munich factory and search for new opportunities elsewhere. The Einstein family moved to Italy, first to Milan and a few months later to Pavia, where they settled in Palazzo Cornazzani. Einstein, then fifteen, stayed behind in Munich in order to finish his schooling. His father wanted him to study electrical engineering, but he was a fractious pupil who found the Gymnasium's regimen and teaching methods far from congenial. He later wrote that the school's policy of strict rote learning was harmful\" metadata={'doc_source': 'wikipedia', 'wikipedia_page': 'Albert Einstein', 'doc_lang': 'en', 'doc_size': 83894, 'timestamp': 1702572674.745187, 'uuid': '10326035-baa9-45c3-ad5f-58de2098b98a'}\n"
     ]
    },
    {
     "name": "stderr",
     "output_type": "stream",
     "text": [
      "\n",
      "llama_print_timings:        load time =    8142.94 ms\n",
      "llama_print_timings:      sample time =      47.14 ms /   533 runs   (    0.09 ms per token, 11307.71 tokens per second)\n",
      "llama_print_timings: prompt eval time =    1357.83 ms /   372 tokens (    3.65 ms per token,   273.97 tokens per second)\n",
      "llama_print_timings:        eval time =   19094.77 ms /   532 runs   (   35.89 ms per token,    27.86 tokens per second)\n",
      "llama_print_timings:       total time =   21135.68 ms\n",
      "Llama.generate: prefix-match hit\n"
     ]
    },
    {
     "name": "stdout",
     "output_type": "stream",
     "text": [
      "page_content='found the Gymnasium\\'s regimen and teaching methods far from congenial. He later wrote that the school\\'s policy of strict rote learning was harmful to creativity. At the end of December 1894, a letter from a doctor persuaded the Luitpold\\'s authorities to release him from its care, and he joined his family in Pavia. While in Italy as a teenager, he wrote an essay entitled \"On the Investigation of the State of the Ether in a Magnetic Field\".Einstein excelled at physics and mathematics from an early age, and soon acquired the mathematical expertise normally only found in a child several years his senior. He began teaching himself algebra, calculus and Euclidean geometry when he was twelve; he made such rapid progress that he discovered an original proof of the Pythagorean theorem before his thirteenth birthday. A family tutor, Max Talmud, said that only a short time after he had given the twelve year old Einstein a geometry textbook, the boy \"had worked through the whole book. He thereupon devoted himself to higher mathematics ... Soon the flight of his mathematical genius was so high I could not follow.\" Einstein recorded that he had \"mastered integral and differential calculus\" while still just fourteen. His love of algebra and geometry was so great that at twelve, he was already confident that nature could be understood as a \"mathematical structure\".' metadata={'doc_source': 'wikipedia', 'wikipedia_page': 'Albert Einstein', 'doc_lang': 'en', 'doc_size': 83894, 'timestamp': 1702572674.745187, 'uuid': '2a4f0e50-a880-4858-b790-0a59e1cbf482'}\n"
     ]
    },
    {
     "name": "stderr",
     "output_type": "stream",
     "text": [
      "\n",
      "llama_print_timings:        load time =    8142.94 ms\n",
      "llama_print_timings:      sample time =      44.96 ms /   465 runs   (    0.10 ms per token, 10342.99 tokens per second)\n",
      "llama_print_timings: prompt eval time =    1211.83 ms /   322 tokens (    3.76 ms per token,   265.71 tokens per second)\n",
      "llama_print_timings:        eval time =   16817.00 ms /   464 runs   (   36.24 ms per token,    27.59 tokens per second)\n",
      "llama_print_timings:       total time =   18629.75 ms\n",
      "Llama.generate: prefix-match hit\n"
     ]
    },
    {
     "name": "stdout",
     "output_type": "stream",
     "text": [
      "page_content='At thirteen, when his range of enthusiasms had broadened to include music and philosophy, Einstein was introduced to Kant\\'s Critique of Pure Reason. Kant became his favorite philosopher; according to his tutor, \"At the time he was still a child, only thirteen years old, yet Kant\\'s works, incomprehensible to ordinary mortals, seemed to be clear to him.\"\\nIn 1895, at the age of sixteen, Einstein sat the entrance examination for the Federal polytechnic school (later the Eidgenössische Technische Hochschule, ETH) in Zürich, Switzerland. He failed to reach the required standard in the general part of the test, but performed with distinction in physics and mathematics. On the advice of the polytechnic\\'s principal, he completed his secondary education at the Argovian cantonal school (a gymnasium) in Aarau, Switzerland, graduating in 1896. While lodging in Aarau with the family of Jost Winteler, he fell in love with Winteler\\'s daughter, Marie. (His sister, Maja, later married Winteler\\'s son Paul.)' metadata={'doc_source': 'wikipedia', 'wikipedia_page': 'Albert Einstein', 'doc_lang': 'en', 'doc_size': 83894, 'timestamp': 1702572674.745187, 'uuid': '122cb065-9167-4803-95e5-aa557037c80f'}\n"
     ]
    },
    {
     "name": "stderr",
     "output_type": "stream",
     "text": [
      "\n",
      "llama_print_timings:        load time =    8142.94 ms\n",
      "llama_print_timings:      sample time =      37.47 ms /   389 runs   (    0.10 ms per token, 10380.53 tokens per second)\n",
      "llama_print_timings: prompt eval time =    1051.44 ms /   281 tokens (    3.74 ms per token,   267.25 tokens per second)\n",
      "llama_print_timings:        eval time =   14147.35 ms /   388 runs   (   36.46 ms per token,    27.43 tokens per second)\n",
      "llama_print_timings:       total time =   15688.33 ms\n",
      "Llama.generate: prefix-match hit\n"
     ]
    },
    {
     "name": "stdout",
     "output_type": "stream",
     "text": [
      "page_content=\"In January 1896, with his father's approval, Einstein renounced his citizenship of the German Kingdom of Württemberg in order to avoid conscription into military service. The Matura (graduation for the successful completion of higher secondary schooling) awarded to him in the September of that year acknowledged him to have performed well across most of the curriculum, allotting him a top grade of 6 for history, physics, algebra, geometry, and descriptive geometry. At seventeen, he enrolled in the four-year mathematics and physics teaching diploma program at the Federal polytechnic school. Marie Winteler, a year older than him, took up a teaching post in Olsberg, Switzerland.The five other polytechnic school freshmen following the same course as Einstein included just one woman, a twenty year old Serbian, Mileva Marić. Over the next few years, the pair spent many hours discussing their shared interests and learning about topics in physics that the polytechnic school's lectures did not cover. In his letters to Marić, Einstein confessed that exploring science with her by his side was much more enjoyable than reading a textbook in solitude. Eventually the two students became not only friends but also lovers.Historians of physics are divided on the question of the extent to which Marić contributed to the insights of Einstein's annus mirabilis publications. There is at least some evidence that he was influenced by her scientific ideas, but there are scholars who doubt whether her\" metadata={'doc_source': 'wikipedia', 'wikipedia_page': 'Albert Einstein', 'doc_lang': 'en', 'doc_size': 83894, 'timestamp': 1702572674.745187, 'uuid': '95278120-b7a7-44d0-bfb6-b1c6c2914811'}\n"
     ]
    },
    {
     "name": "stderr",
     "output_type": "stream",
     "text": [
      "\n",
      "llama_print_timings:        load time =    8142.94 ms\n",
      "llama_print_timings:      sample time =      33.49 ms /   348 runs   (    0.10 ms per token, 10389.92 tokens per second)\n",
      "llama_print_timings: prompt eval time =    1248.96 ms /   342 tokens (    3.65 ms per token,   273.83 tokens per second)\n",
      "llama_print_timings:        eval time =   12773.43 ms /   347 runs   (   36.81 ms per token,    27.17 tokens per second)\n",
      "llama_print_timings:       total time =   14462.06 ms\n",
      "Llama.generate: prefix-match hit\n"
     ]
    },
    {
     "name": "stdout",
     "output_type": "stream",
     "text": [
      "page_content='mirabilis publications. There is at least some evidence that he was influenced by her scientific ideas, but there are scholars who doubt whether her impact on his thought was of any great significance at all.' metadata={'doc_source': 'wikipedia', 'wikipedia_page': 'Albert Einstein', 'doc_lang': 'en', 'doc_size': 83894, 'timestamp': 1702572674.745187, 'uuid': 'b5027fd7-0594-419a-8c6e-591fe3b63f3c'}\n"
     ]
    },
    {
     "name": "stderr",
     "output_type": "stream",
     "text": [
      "\n",
      "llama_print_timings:        load time =    8142.94 ms\n",
      "llama_print_timings:      sample time =       7.86 ms /    87 runs   (    0.09 ms per token, 11071.52 tokens per second)\n",
      "llama_print_timings: prompt eval time =     308.85 ms /    60 tokens (    5.15 ms per token,   194.27 tokens per second)\n",
      "llama_print_timings:        eval time =    3027.50 ms /    86 runs   (   35.20 ms per token,    28.41 tokens per second)\n",
      "llama_print_timings:       total time =    3438.82 ms\n",
      "Llama.generate: prefix-match hit\n"
     ]
    },
    {
     "name": "stdout",
     "output_type": "stream",
     "text": [
      "page_content='=== Marriages, relationships and children ===' metadata={'doc_source': 'wikipedia', 'wikipedia_page': 'Albert Einstein', 'doc_lang': 'en', 'doc_size': 83894, 'timestamp': 1702572674.745187, 'uuid': '773fed8f-332a-49dc-9099-52166219462a'}\n"
     ]
    },
    {
     "name": "stderr",
     "output_type": "stream",
     "text": [
      "\n",
      "llama_print_timings:        load time =    8142.94 ms\n",
      "llama_print_timings:      sample time =      12.02 ms /   137 runs   (    0.09 ms per token, 11399.57 tokens per second)\n",
      "llama_print_timings: prompt eval time =     201.38 ms /    29 tokens (    6.94 ms per token,   144.01 tokens per second)\n",
      "llama_print_timings:        eval time =    4848.16 ms /   136 runs   (   35.65 ms per token,    28.05 tokens per second)\n",
      "llama_print_timings:       total time =    5207.15 ms\n",
      "Llama.generate: prefix-match hit\n"
     ]
    },
    {
     "name": "stdout",
     "output_type": "stream",
     "text": [
      "page_content='Correspondence between Einstein and Marić, discovered and published in 1987, revealed that in early 1902, while Marić was visiting her parents in Novi Sad, she gave birth to a daughter, Lieserl. When Marić returned to Switzerland it was without the child, whose fate is uncertain. A letter of Einstein\\'s that he wrote in September 1903 suggests that the girl was either given up for adoption or died of scarlet fever in infancy.Einstein and Marić married in January 1903. In May 1904, their son Hans Albert was born in Bern, Switzerland. Their son Eduard was born in Zürich in July 1910. In letters that Einstein wrote to Marie Winteler in the months before Eduard\\'s arrival, he described his love for his wife as \"misguided\" and mourned the \"missed life\" that he imagined he would have enjoyed if he had married Winteler instead: \"I think of you in heartfelt love every spare minute and am so unhappy as only a man can be.\"In 1912, Einstein entered into a relationship with Elsa Löwenthal, who was both his first cousin on his mother\\'s side and his second cousin on his father\\'s. When Marić learned of his infidelity soon after moving to Berlin with him in April 1914, she returned to Zürich, taking Hans Albert and Eduard with her. Einstein and Marić were granted a divorce on 14 February 1919 on the grounds of having lived apart for five years. As part of the divorce settlement, Einstein agreed that if he were to win a Nobel Prize, he would give the money that he received to Marić; she had to' metadata={'doc_source': 'wikipedia', 'wikipedia_page': 'Albert Einstein', 'doc_lang': 'en', 'doc_size': 83894, 'timestamp': 1702572674.745187, 'uuid': '1beef3f4-ef5f-4a3b-aea5-2c4c7930b74b'}\n"
     ]
    },
    {
     "name": "stderr",
     "output_type": "stream",
     "text": [
      "\n",
      "llama_print_timings:        load time =    8142.94 ms\n",
      "llama_print_timings:      sample time =      32.85 ms /   354 runs   (    0.09 ms per token, 10775.60 tokens per second)\n",
      "llama_print_timings: prompt eval time =    1544.24 ms /   409 tokens (    3.78 ms per token,   264.85 tokens per second)\n",
      "llama_print_timings:        eval time =   12998.34 ms /   353 runs   (   36.82 ms per token,    27.16 tokens per second)\n",
      "llama_print_timings:       total time =   14984.57 ms\n",
      "Llama.generate: prefix-match hit\n"
     ]
    },
    {
     "name": "stdout",
     "output_type": "stream",
     "text": [
      "page_content=\"part of the divorce settlement, Einstein agreed that if he were to win a Nobel Prize, he would give the money that he received to Marić; she had to wait only two years before her foresight in extracting this promise from him was rewarded.Einstein married Löwenthal in 1919. In 1923, he began a relationship with a secretary named Betty Neumann, the niece of his close friend Hans Mühsam. Löwenthal nevertheless remained loyal to him, accompanying him when he emigrated to the United States in 1933. In 1935, she was diagnosed with heart and kidney problems. She died in December 1936.A volume of Einstein's letters released by Hebrew University of Jerusalem in 2006 added further names to the catalog of women with whom he was romantically involved. They included Margarete Lebach (a blonde Austrian), Estella Katzenellenbogen (the rich owner of a florist business), Toni Mendel (a wealthy Jewish widow) and Ethel Michanowski (a Berlin socialite), with whom he spent time and from whom he accepted gifts while married to Löwenthal. After being widowed, Einstein was briefly in a relationship with Margarita Konenkova, thought by some to be a Russian spy; her husband, the Russian sculptor Sergei Konenkov, created the bronze bust of Einstein at the Institute for Advanced Study at Princeton.Following an episode of acute mental illness at about the age of twenty, Einstein's son Eduard was diagnosed with schizophrenia. He spent the remainder of his life either in the care of his mother or in\" metadata={'doc_source': 'wikipedia', 'wikipedia_page': 'Albert Einstein', 'doc_lang': 'en', 'doc_size': 83894, 'timestamp': 1702572674.745187, 'uuid': '9d7da357-c4b5-4bed-8db4-f0440804b5e6'}\n"
     ]
    },
    {
     "name": "stderr",
     "output_type": "stream",
     "text": [
      "\n",
      "llama_print_timings:        load time =    8142.94 ms\n",
      "llama_print_timings:      sample time =      81.53 ms /   820 runs   (    0.10 ms per token, 10058.14 tokens per second)\n",
      "llama_print_timings: prompt eval time =    1557.46 ms /   399 tokens (    3.90 ms per token,   256.19 tokens per second)\n",
      "llama_print_timings:        eval time =   31222.07 ms /   819 runs   (   38.12 ms per token,    26.23 tokens per second)\n",
      "llama_print_timings:       total time =   33933.65 ms\n",
      "Llama.generate: prefix-match hit\n"
     ]
    },
    {
     "name": "stdout",
     "output_type": "stream",
     "text": [
      "page_content=\"the age of twenty, Einstein's son Eduard was diagnosed with schizophrenia. He spent the remainder of his life either in the care of his mother or in temporary confinement in an asylum. After her death, he was committed permanently to Burghölzli, the Psychiatric University Hospital in Zürich.\" metadata={'doc_source': 'wikipedia', 'wikipedia_page': 'Albert Einstein', 'doc_lang': 'en', 'doc_size': 83894, 'timestamp': 1702572674.745187, 'uuid': '96d9e34e-a973-4db6-894d-5aeb9a192d35'}\n"
     ]
    },
    {
     "name": "stderr",
     "output_type": "stream",
     "text": [
      "\n",
      "llama_print_timings:        load time =    8142.94 ms\n",
      "llama_print_timings:      sample time =      21.82 ms /   223 runs   (    0.10 ms per token, 10220.45 tokens per second)\n",
      "llama_print_timings: prompt eval time =     426.54 ms /    91 tokens (    4.69 ms per token,   213.34 tokens per second)\n",
      "llama_print_timings:        eval time =    7888.69 ms /   222 runs   (   35.53 ms per token,    28.14 tokens per second)\n",
      "llama_print_timings:       total time =    8584.91 ms\n",
      "Llama.generate: prefix-match hit\n"
     ]
    },
    {
     "name": "stdout",
     "output_type": "stream",
     "text": [
      "page_content='=== 1902–1909: Assistant at the Swiss Patent Office ===' metadata={'doc_source': 'wikipedia', 'wikipedia_page': 'Albert Einstein', 'doc_lang': 'en', 'doc_size': 83894, 'timestamp': 1702572674.745187, 'uuid': '66976e20-6d94-4fbe-9dac-6b2e2bb72b28'}\n"
     ]
    },
    {
     "name": "stderr",
     "output_type": "stream",
     "text": [
      "\n",
      "llama_print_timings:        load time =    8142.94 ms\n",
      "llama_print_timings:      sample time =       9.78 ms /   110 runs   (    0.09 ms per token, 11245.14 tokens per second)\n",
      "llama_print_timings: prompt eval time =     294.49 ms /    41 tokens (    7.18 ms per token,   139.22 tokens per second)\n",
      "llama_print_timings:        eval time =    3791.27 ms /   109 runs   (   34.78 ms per token,    28.75 tokens per second)\n",
      "llama_print_timings:       total time =    4211.78 ms\n",
      "Llama.generate: prefix-match hit\n"
     ]
    },
    {
     "name": "stdout",
     "output_type": "stream",
     "text": [
      "page_content='Einstein graduated from the Federal polytechnic school in 1900, duly certified as competent to teach mathematics and physics. His successful acquisition of Swiss citizenship in February 1901 was not followed by the usual sequel of conscription; the Swiss authorities deemed him medically unfit for military service. He found that Swiss schools too appeared to have no use for him, failing to offer him a teaching position despite the almost two years that he spent applying for one. Eventually it was with the help of Marcel Grossmann\\'s father that he secured a post in Bern at the Swiss Patent Office, as an assistant examiner – level III.Patent applications that landed on Einstein\\'s desk for his evaluation included ideas for a gravel sorter and an electric typewriter. His employers were pleased enough with his work to make his position permanent in 1903, although they did not think that he should be promoted until he had \"fully mastered machine technology\". It is conceivable that his labors at the patent office had a bearing on his development of his special theory of relativity. He arrived at his revolutionary ideas about space, time and light through thought experiments about the transmission of signals and the synchronization of clocks, matters which also figured in some of the inventions submitted to him for assessment.In 1902, Einstein and some friends whom he had met in Bern formed a group that held regular meetings to discuss science and philosophy. Their choice of a name' metadata={'doc_source': 'wikipedia', 'wikipedia_page': 'Albert Einstein', 'doc_lang': 'en', 'doc_size': 83894, 'timestamp': 1702572674.745187, 'uuid': 'ca1c77c2-3a30-4310-aeef-d07dc669bb64'}\n"
     ]
    },
    {
     "name": "stderr",
     "output_type": "stream",
     "text": [
      "\n",
      "llama_print_timings:        load time =    8142.94 ms\n",
      "llama_print_timings:      sample time =      20.93 ms /   229 runs   (    0.09 ms per token, 10942.28 tokens per second)\n",
      "llama_print_timings: prompt eval time =    1247.92 ms /   334 tokens (    3.74 ms per token,   267.65 tokens per second)\n",
      "llama_print_timings:        eval time =    7992.45 ms /   228 runs   (   35.05 ms per token,    28.53 tokens per second)\n",
      "llama_print_timings:       total time =    9517.95 ms\n",
      "Llama.generate: prefix-match hit\n"
     ]
    },
    {
     "name": "stdout",
     "output_type": "stream",
     "text": [
      "page_content=\"Einstein and some friends whom he had met in Bern formed a group that held regular meetings to discuss science and philosophy. Their choice of a name for their club, the Olympia Academy, was an ironic comment upon its far from Olympian status. Sometimes they were joined by Marić, who limited her participation in their proceedings to careful listening. The thinkers whose works they reflected upon included Henri Poincaré, Ernst Mach and David Hume, all of whom significantly influenced Einstein's own subsequent ideas and beliefs.\" metadata={'doc_source': 'wikipedia', 'wikipedia_page': 'Albert Einstein', 'doc_lang': 'en', 'doc_size': 83894, 'timestamp': 1702572674.745187, 'uuid': '1cdac2b8-9309-4d81-9493-bbf2bbd5f297'}\n"
     ]
    },
    {
     "name": "stderr",
     "output_type": "stream",
     "text": [
      "\n",
      "llama_print_timings:        load time =    8142.94 ms\n",
      "llama_print_timings:      sample time =      28.24 ms /   333 runs   (    0.08 ms per token, 11790.95 tokens per second)\n",
      "llama_print_timings: prompt eval time =     531.35 ms /   124 tokens (    4.29 ms per token,   233.37 tokens per second)\n",
      "llama_print_timings:        eval time =   11283.35 ms /   332 runs   (   33.99 ms per token,    29.42 tokens per second)\n",
      "llama_print_timings:       total time =   12224.28 ms\n",
      "Llama.generate: prefix-match hit\n"
     ]
    },
    {
     "name": "stdout",
     "output_type": "stream",
     "text": [
      "page_content='=== 1900–1905: First scientific papers ===\\nEinstein\\'s first paper, \"Folgerungen aus den Capillaritätserscheinungen\" (\"Conclusions drawn from the phenomena of capillarity\"), in which he proposed a model of intermolecular attraction that he afterwards disavowed as worthless, was published in the journal Annalen der Physik in 1900. His 24-page doctoral dissertation also addressed a topic in molecular physics. Titled \"Eine neue Bestimmung der Moleküldimensionen\" (\"A New Determination of Molecular Dimensions\") and dedicated to his friend Marcel Grossman, it was completed on 30 April 1905 and approved by Professor Alfred Kleiner of the University of Zurich three months later. (Einstein was formally awarded his PhD on 15 January 1906.) Four other pieces of work that Einstein completed in 1905—his famous papers on the photoelectric effect, Brownian motion, his special theory of relativity and the equivalence of mass and energy—have led to the year\\'s being celebrated as an annus mirabilis for physics almost as wonderful as 1666 (the year in which Isaac Newton experienced his greatest epiphanies). The publications deeply impressed Einstein\\'s contemporaries.' metadata={'doc_source': 'wikipedia', 'wikipedia_page': 'Albert Einstein', 'doc_lang': 'en', 'doc_size': 83894, 'timestamp': 1702572674.745187, 'uuid': '9534708c-9ede-43c0-97f7-079eb49055d7'}\n"
     ]
    },
    {
     "name": "stderr",
     "output_type": "stream",
     "text": [
      "\n",
      "llama_print_timings:        load time =    8142.94 ms\n",
      "llama_print_timings:      sample time =      43.06 ms /   459 runs   (    0.09 ms per token, 10658.31 tokens per second)\n",
      "llama_print_timings: prompt eval time =    1233.23 ms /   323 tokens (    3.82 ms per token,   261.91 tokens per second)\n",
      "llama_print_timings:        eval time =   16105.00 ms /   458 runs   (   35.16 ms per token,    28.44 tokens per second)\n",
      "llama_print_timings:       total time =   17922.06 ms\n",
      "Llama.generate: prefix-match hit\n"
     ]
    },
    {
     "name": "stdout",
     "output_type": "stream",
     "text": [
      "page_content=\"=== 1908–1933: Early academic career ===\\nEinstein's sabbatical as a civil servant approached its end in 1908, when he secured a junior teaching position at the University of Bern. In 1909, a lecture on relativistic electrodynamics that he gave at the University of Zurich, much admired by Alfred Kleiner, led to Zürich's luring him away from Bern with a newly created associate professorship. Promotion to a full professorship followed in April 1911, when he accepted a chair at the German Charles-Ferdinand University in Prague, a move which required him to become an Austrian citizen of the Austro-Hungarian Empire. His time in Prague saw him producing eleven research papers.\" metadata={'doc_source': 'wikipedia', 'wikipedia_page': 'Albert Einstein', 'doc_lang': 'en', 'doc_size': 83894, 'timestamp': 1702572674.745187, 'uuid': 'f39d3b32-8ea8-47e7-a38f-1b34829d2a92'}\n"
     ]
    },
    {
     "name": "stderr",
     "output_type": "stream",
     "text": [
      "\n",
      "llama_print_timings:        load time =    8142.94 ms\n",
      "llama_print_timings:      sample time =      56.02 ms /   586 runs   (    0.10 ms per token, 10461.11 tokens per second)\n",
      "llama_print_timings: prompt eval time =     732.21 ms /   188 tokens (    3.89 ms per token,   256.76 tokens per second)\n",
      "llama_print_timings:        eval time =   20405.97 ms /   585 runs   (   34.88 ms per token,    28.67 tokens per second)\n",
      "llama_print_timings:       total time =   21905.53 ms\n",
      "Llama.generate: prefix-match hit\n"
     ]
    },
    {
     "name": "stdout",
     "output_type": "stream",
     "text": [
      "page_content='In July 1912, he returned to his alma mater, the ETH Zurich, to take up a chair in theoretical physics. His teaching activities there centred on thermodynamics and analytical mechanics, and his research interests included the molecular theory of heat, continuum mechanics and the development of a relativistic theory of gravitation. In his work on the latter topic, he was assisted by his friend, Marcel Grossmann, whose knowledge of the kind of mathematics required was greater than his own.In the spring of 1913, two German visitors, Max Planck and Walther Nernst, called upon Einstein in Zürich in the hope of persuading him to relocate to Berlin. They offered him membership of the Prussian Academy of Sciences, the directorship of the planned Kaiser Wilhelm Institute for Physics and a chair at the Humboldt University of Berlin that would allow him to pursue his research supported by a professorial salary but with no teaching duties to burden him. Their invitation was all the more appealing to him because Berlin happened to be the home of his latest girlfriend, Elsa Löwenthal. He duly joined the Academy on 24' metadata={'doc_source': 'wikipedia', 'wikipedia_page': 'Albert Einstein', 'doc_lang': 'en', 'doc_size': 83894, 'timestamp': 1702572674.745187, 'uuid': 'b715a052-ff9a-48a7-9ba7-11ad20dac0cc'}\n"
     ]
    },
    {
     "name": "stderr",
     "output_type": "stream",
     "text": [
      "\n",
      "llama_print_timings:        load time =    8142.94 ms\n",
      "llama_print_timings:      sample time =      62.34 ms /   654 runs   (    0.10 ms per token, 10490.69 tokens per second)\n",
      "llama_print_timings: prompt eval time =    1014.20 ms /   271 tokens (    3.74 ms per token,   267.20 tokens per second)\n",
      "llama_print_timings:        eval time =   22943.33 ms /   653 runs   (   35.14 ms per token,    28.46 tokens per second)\n",
      "llama_print_timings:       total time =   24834.92 ms\n",
      "Llama.generate: prefix-match hit\n"
     ]
    },
    {
     "name": "stdout",
     "output_type": "stream",
     "text": [
      "page_content='July 1913, and moved into an apartment in the Berlin district of Dahlem on 1 April 1914. He was installed in his Humboldt University position shortly thereafter.The outbreak of the First World War in July 1914 marked the beginning of Einstein\\'s gradual estrangement from the nation of his birth. When the \"Manifesto of the Ninety-Three\" was published in October 1914—a document signed by a host of prominent German thinkers that justified Germany\\'s belligerence—Einstein was one of the few German intellectuals to distance himself from it and sign the alternative, eirenic \"Manifesto to the Europeans\" instead. But this expression of his doubts about German policy did not prevent him from being elected to a two-year term as president of the German Physical Society in 1916. And when the Kaiser Wilhelm Institute for Physics opened its doors the following year—its foundation delayed because of the war—Einstein was appointed its first director, just as Planck and Nernst had promised.Einstein was elected a Foreign Member of the Royal Netherlands Academy of Arts and Sciences in 1920, and a Foreign Member of the Royal Society in 1921. In 1922, he was awarded the 1921 Nobel Prize in Physics \"for his services to Theoretical Physics, and especially for his discovery of the law of the photoelectric effect\". At this point some physicists still regarded the general theory of relativity sceptically, and the Nobel citation displayed a degree of doubt even about the work on photoelectricity that it' metadata={'doc_source': 'wikipedia', 'wikipedia_page': 'Albert Einstein', 'doc_lang': 'en', 'doc_size': 83894, 'timestamp': 1702572674.745187, 'uuid': '54dc8c74-0933-4c47-9228-9b40070a6adc'}\n"
     ]
    },
    {
     "name": "stderr",
     "output_type": "stream",
     "text": [
      "\n",
      "llama_print_timings:        load time =    8142.94 ms\n",
      "llama_print_timings:      sample time =      45.59 ms /   483 runs   (    0.09 ms per token, 10595.36 tokens per second)\n",
      "llama_print_timings: prompt eval time =    1444.36 ms /   385 tokens (    3.75 ms per token,   266.55 tokens per second)\n",
      "llama_print_timings:        eval time =   17037.83 ms /   482 runs   (   35.35 ms per token,    28.29 tokens per second)\n",
      "llama_print_timings:       total time =   19105.18 ms\n",
      "Llama.generate: prefix-match hit\n"
     ]
    },
    {
     "name": "stdout",
     "output_type": "stream",
     "text": [
      "page_content=\"the general theory of relativity sceptically, and the Nobel citation displayed a degree of doubt even about the work on photoelectricity that it acknowledged: it did not assent to Einstein's notion of the particulate nature of light, which only won over the entire scientific community when S. N. Bose derived the Planck spectrum in 1924. That same year, Einstein was elected an International Honorary Member of the American Academy of Arts and Sciences. Britain's closest equivalent of the Nobel award, the Royal Society's Copley Medal, was not hung around Einstein's neck until 1925. He was elected an International Member of the American Philosophical Society in 1930.Einstein resigned from the Prussian Academy in March 1933. His accomplishments in Berlin had included the completion of the general theory of relativity, proving the Einstein–de Haas effect, contributing to the quantum theory of radiation, and the development of Bose–Einstein statistics.\" metadata={'doc_source': 'wikipedia', 'wikipedia_page': 'Albert Einstein', 'doc_lang': 'en', 'doc_size': 83894, 'timestamp': 1702572674.745187, 'uuid': 'b2a71437-f77e-4d84-ab11-a9654511e7cd'}\n"
     ]
    },
    {
     "name": "stderr",
     "output_type": "stream",
     "text": [
      "\n",
      "llama_print_timings:        load time =    8142.94 ms\n",
      "llama_print_timings:      sample time =      41.96 ms /   461 runs   (    0.09 ms per token, 10986.39 tokens per second)\n",
      "llama_print_timings: prompt eval time =     933.73 ms /   239 tokens (    3.91 ms per token,   255.96 tokens per second)\n",
      "llama_print_timings:        eval time =   15996.40 ms /   460 runs   (   34.77 ms per token,    28.76 tokens per second)\n",
      "llama_print_timings:       total time =   17516.61 ms\n",
      "Llama.generate: prefix-match hit\n"
     ]
    },
    {
     "name": "stdout",
     "output_type": "stream",
     "text": [
      "page_content='=== 1919: Putting general relativity to the test ===' metadata={'doc_source': 'wikipedia', 'wikipedia_page': 'Albert Einstein', 'doc_lang': 'en', 'doc_size': 83894, 'timestamp': 1702572674.745187, 'uuid': '9716e197-7f62-4670-b482-8d82de6cb9d1'}\n"
     ]
    },
    {
     "name": "stderr",
     "output_type": "stream",
     "text": [
      "\n",
      "llama_print_timings:        load time =    8142.94 ms\n",
      "llama_print_timings:      sample time =       9.65 ms /   104 runs   (    0.09 ms per token, 10778.32 tokens per second)\n",
      "llama_print_timings: prompt eval time =     272.38 ms /    37 tokens (    7.36 ms per token,   135.84 tokens per second)\n",
      "llama_print_timings:        eval time =    3460.93 ms /   103 runs   (   33.60 ms per token,    29.76 tokens per second)\n",
      "llama_print_timings:       total time =    3855.59 ms\n",
      "Llama.generate: prefix-match hit\n"
     ]
    },
    {
     "name": "stdout",
     "output_type": "stream",
     "text": [
      "page_content=\"In 1907, Einstein reached a milestone on his long journey from his special theory of relativity to a new idea of gravitation with the formulation of his equivalence principle, which asserts that an observer in an infinitesimally small box falling freely in a gravitational field would be unable to find any evidence that the field exists. In 1911, he used the principle to estimate the amount by which a ray of light from a distant star would be bent by the gravitational pull of the Sun as it passed close to the Sun's photosphere (that is, the Sun's apparent surface). He reworked his calculation in 1913, having now found a way to model gravitation with the Riemann curvature tensor of a non-Euclidean four-dimensional spacetime. By the fall of 1915, his reimagining of the mathematics of gravitation in terms of Riemannian geometry was complete, and he applied his new theory not just to the behavior of the Sun as a gravitational lens but also to another astronomical phenomenon, the precession of the perihelion of Mercury (a slow drift in the point in Mercury's elliptical orbit at which it approaches the Sun most closely). A total eclipse of the Sun that took place on 29 May 1919 provided an opportunity to put his theory of gravitational lensing to the test, and observations performed by Sir Arthur Eddington yielded results that were consistent with his calculations. Eddington's work was reported at length in newspapers around the world. On 7 November 1919, for example, the leading\" metadata={'doc_source': 'wikipedia', 'wikipedia_page': 'Albert Einstein', 'doc_lang': 'en', 'doc_size': 83894, 'timestamp': 1702572674.745187, 'uuid': '8be6b67d-7b7a-473d-a0a7-f42d2dddae15'}\n"
     ]
    },
    {
     "name": "stderr",
     "output_type": "stream",
     "text": [
      "\n",
      "llama_print_timings:        load time =    8142.94 ms\n",
      "llama_print_timings:      sample time =      44.90 ms /   444 runs   (    0.10 ms per token,  9889.08 tokens per second)\n",
      "llama_print_timings: prompt eval time =    1353.19 ms /   381 tokens (    3.55 ms per token,   281.56 tokens per second)\n",
      "llama_print_timings:        eval time =   15531.62 ms /   443 runs   (   35.06 ms per token,    28.52 tokens per second)\n",
      "llama_print_timings:       total time =   17456.09 ms\n",
      "Llama.generate: prefix-match hit\n"
     ]
    },
    {
     "name": "stdout",
     "output_type": "stream",
     "text": [
      "page_content='with his calculations. Eddington\\'s work was reported at length in newspapers around the world. On 7 November 1919, for example, the leading British newspaper, The Times, printed a banner headline that read: \"Revolution in Science – New Theory of the Universe – Newtonian Ideas Overthrown\".' metadata={'doc_source': 'wikipedia', 'wikipedia_page': 'Albert Einstein', 'doc_lang': 'en', 'doc_size': 83894, 'timestamp': 1702572674.745187, 'uuid': '44c92f68-754a-43d3-9ae2-072e3e820c64'}\n"
     ]
    },
    {
     "name": "stderr",
     "output_type": "stream",
     "text": [
      "\n",
      "llama_print_timings:        load time =    8142.94 ms\n",
      "llama_print_timings:      sample time =      34.42 ms /   380 runs   (    0.09 ms per token, 11039.13 tokens per second)\n",
      "llama_print_timings: prompt eval time =     370.75 ms /    90 tokens (    4.12 ms per token,   242.75 tokens per second)\n",
      "llama_print_timings:        eval time =   13001.40 ms /   379 runs   (   34.30 ms per token,    29.15 tokens per second)\n",
      "llama_print_timings:       total time =   13846.69 ms\n",
      "Llama.generate: prefix-match hit\n"
     ]
    },
    {
     "name": "stdout",
     "output_type": "stream",
     "text": [
      "page_content='=== 1921–1923: Coming to terms with fame ===' metadata={'doc_source': 'wikipedia', 'wikipedia_page': 'Albert Einstein', 'doc_lang': 'en', 'doc_size': 83894, 'timestamp': 1702572674.745187, 'uuid': '3bcb7c74-d1c9-4026-9d22-0bc703d726cc'}\n"
     ]
    },
    {
     "name": "stderr",
     "output_type": "stream",
     "text": [
      "\n",
      "llama_print_timings:        load time =    8142.94 ms\n",
      "llama_print_timings:      sample time =       9.11 ms /   100 runs   (    0.09 ms per token, 10973.33 tokens per second)\n",
      "llama_print_timings: prompt eval time =     280.78 ms /    40 tokens (    7.02 ms per token,   142.46 tokens per second)\n",
      "llama_print_timings:        eval time =    3315.98 ms /    99 runs   (   33.49 ms per token,    29.86 tokens per second)\n",
      "llama_print_timings:       total time =    3712.88 ms\n",
      "Llama.generate: prefix-match hit\n"
     ]
    },
    {
     "name": "stdout",
     "output_type": "stream",
     "text": [
      "page_content='With Eddington\\'s eclipse observations widely reported not just in academic journals but by the popular press as well, Einstein became \"perhaps the world\\'s first celebrity scientist\", a genius who had shattered a paradigm that had been basic to physicists\\' understanding of the universe since the seventeenth century.Einstein began his new life as an intellectual icon in America, where he arrived on 2 April 1921. He was welcomed to New York City by Mayor John Francis Hylan, and then spent three weeks giving lectures and attending receptions. He spoke several times at Columbia University and Princeton, and in Washington, he visited the White House with representatives of the National Academy of Sciences. He returned to Europe via London, where he was the guest of the philosopher and statesman Viscount Haldane. He used his time in the British capital to meet several people prominent in British scientific, political or intellectual life, and to deliver a lecture at King\\'s College. In July 1921, he published an essay, \"My First Impression of the U.S.A.\", in which he sought to sketch the American character, much as had Alexis de Tocqueville in Democracy in America (1835). He wrote of his transatlantic hosts in highly approving terms: \"What strikes a visitor is the joyous, positive attitude to life ... The American is friendly, self-confident, optimistic, and without envy.\"In 1922, Einstein\\'s travels were to the old world rather than the new. He devoted six months to a tour of Asia' metadata={'doc_source': 'wikipedia', 'wikipedia_page': 'Albert Einstein', 'doc_lang': 'en', 'doc_size': 83894, 'timestamp': 1702572674.745187, 'uuid': 'fe7f8933-eaf1-4080-97bf-ab18cadff6de'}\n"
     ]
    },
    {
     "name": "stderr",
     "output_type": "stream",
     "text": [
      "\n",
      "llama_print_timings:        load time =    8142.94 ms\n",
      "llama_print_timings:      sample time =      81.02 ms /   875 runs   (    0.09 ms per token, 10800.34 tokens per second)\n",
      "llama_print_timings: prompt eval time =    1339.85 ms /   365 tokens (    3.67 ms per token,   272.42 tokens per second)\n",
      "llama_print_timings:        eval time =   31129.41 ms /   874 runs   (   35.62 ms per token,    28.08 tokens per second)\n",
      "llama_print_timings:       total time =   33699.94 ms\n",
      "Llama.generate: prefix-match hit\n"
     ]
    },
    {
     "name": "stdout",
     "output_type": "stream",
     "text": [
      "page_content='optimistic, and without envy.\"In 1922, Einstein\\'s travels were to the old world rather than the new. He devoted six months to a tour of Asia that saw him speaking in Japan, Singapore and Sri Lanka (then known as Ceylon). After his first public lecture in Tokyo, he met Emperor Yoshihito and his wife at the Imperial Palace, with thousands of spectators thronging the streets in the hope of catching a glimpse of him. (In a letter to his sons, he wrote that Japanese people seemed to him to be generally modest, intelligent and considerate, and to have a true appreciation of art. But his picture of them in his diary was less flattering: \"[the] intellectual needs of this nation seem to be weaker than their artistic ones – natural disposition?\" His journal also contains views of China and India which were uncomplimentary. Of Chinese people, he wrote that \"even the children are spiritless and look obtuse... It would be a pity if these Chinese supplant all other races. For the likes of us the mere thought is unspeakably dreary\".) He was greeted with even greater enthusiasm on the last leg of his tour, in which he spent twelve days in Mandatory Palestine, newly entrusted to British rule by the League of Nations in the aftermath of the First World War. Sir Herbert Samuel, the British High Commissioner, welcomed him with a degree of ceremony normally only accorded to a visiting head of state, including a cannon salute. One reception held in his honor was stormed by people determined to' metadata={'doc_source': 'wikipedia', 'wikipedia_page': 'Albert Einstein', 'doc_lang': 'en', 'doc_size': 83894, 'timestamp': 1702572674.745187, 'uuid': '71a49377-af62-472c-9346-1ffab451a082'}\n"
     ]
    },
    {
     "name": "stderr",
     "output_type": "stream",
     "text": [
      "\n",
      "llama_print_timings:        load time =    8142.94 ms\n",
      "llama_print_timings:      sample time =      44.38 ms /   486 runs   (    0.09 ms per token, 10950.39 tokens per second)\n",
      "llama_print_timings: prompt eval time =    1326.42 ms /   355 tokens (    3.74 ms per token,   267.64 tokens per second)\n",
      "llama_print_timings:        eval time =   17037.57 ms /   485 runs   (   35.13 ms per token,    28.47 tokens per second)\n",
      "llama_print_timings:       total time =   18984.57 ms\n",
      "Llama.generate: prefix-match hit\n"
     ]
    },
    {
     "name": "stdout",
     "output_type": "stream",
     "text": [
      "page_content=\"normally only accorded to a visiting head of state, including a cannon salute. One reception held in his honor was stormed by people determined to hear him speak: he told them that he was happy that Jews were beginning to be recognized as a force in the world.Einstein's decision to tour the eastern hemisphere in 1922 meant that he was unable to go to Stockholm in the December of that year to participate in the Nobel prize ceremony. His place at the traditional Nobel banquet was taken by a German diplomat, who gave a speech praising him not only as a physicist but also as a campaigner for peace. A two week visit to Spain that he undertook in 1923 saw him collecting another award, a membership of the Spanish Academy of Sciences signified by a diploma handed to him by King Alfonso XIII. (His Spanish trip also gave him a chance to meet a fellow Nobel laureate, the neuroanatomist Santiago Ramón y Cajal.)\" metadata={'doc_source': 'wikipedia', 'wikipedia_page': 'Albert Einstein', 'doc_lang': 'en', 'doc_size': 83894, 'timestamp': 1702572674.745187, 'uuid': 'ac727db6-9cf3-443a-8e9a-f763f4bd27df'}\n"
     ]
    },
    {
     "name": "stderr",
     "output_type": "stream",
     "text": [
      "\n",
      "llama_print_timings:        load time =    8142.94 ms\n",
      "llama_print_timings:      sample time =      43.73 ms /   442 runs   (    0.10 ms per token, 10107.48 tokens per second)\n",
      "llama_print_timings: prompt eval time =     924.61 ms /   240 tokens (    3.85 ms per token,   259.57 tokens per second)\n",
      "llama_print_timings:        eval time =   15297.93 ms /   441 runs   (   34.69 ms per token,    28.83 tokens per second)\n",
      "llama_print_timings:       total time =   16788.93 ms\n",
      "Llama.generate: prefix-match hit\n"
     ]
    },
    {
     "name": "stdout",
     "output_type": "stream",
     "text": [
      "page_content=\"=== 1922–1932: Serving the League of Nations ===\\nFrom 1922 until 1932, with the exception of a few months in 1923 and 1924, Einstein was a member of the Geneva-based International Committee on Intellectual Cooperation of the League of Nations, a group set up by the League to encourage scientists, artists, scholars, teachers and other people engaged in the life of the mind to work more closely with their counterparts in other countries. He was appointed as a German delegate rather than as a representative of Switzerland because of the machinations of two Catholic activists, Oskar Halecki and Giuseppe Motta. By persuading Secretary General Eric Drummond to deny Einstein the place on the committee reserved for a Swiss thinker, they created an opening for Gonzague de Reynold, who used his League of Nations position as a platform from which to promote traditional Catholic doctrine. Einstein's former physics professor Hendrik Lorentz and the Polish chemist Marie Curie were also members of the committee.\" metadata={'doc_source': 'wikipedia', 'wikipedia_page': 'Albert Einstein', 'doc_lang': 'en', 'doc_size': 83894, 'timestamp': 1702572674.745187, 'uuid': 'd2a45cca-5edc-4a41-8f92-aca428dff43e'}\n"
     ]
    },
    {
     "name": "stderr",
     "output_type": "stream",
     "text": [
      "\n",
      "llama_print_timings:        load time =    8142.94 ms\n",
      "llama_print_timings:      sample time =      36.04 ms /   407 runs   (    0.09 ms per token, 11293.01 tokens per second)\n",
      "llama_print_timings: prompt eval time =     935.39 ms /   253 tokens (    3.70 ms per token,   270.47 tokens per second)\n",
      "llama_print_timings:        eval time =   14171.81 ms /   406 runs   (   34.91 ms per token,    28.65 tokens per second)\n",
      "llama_print_timings:       total time =   15617.20 ms\n",
      "Llama.generate: prefix-match hit\n"
     ]
    },
    {
     "name": "stdout",
     "output_type": "stream",
     "text": [
      "page_content='=== 1925: Touring South America ===\\nIn March and April 1925, Einstein and his wife visited South America, where they spent about a week in Brazil, a week in Uruguay and a month in Argentina. Their tour was suggested by Jorge Duclout (1856–1927) and Mauricio Nirenstein (1877–1935) with the support of several Argentine scholars, including Julio Rey Pastor, Jakob Laub, and Leopoldo Lugones. and was financed primarily by the Council of the University of Buenos Aires and the Asociación Hebraica Argentina (Argentine Hebraic Association) with a smaller contribution from the Argentine-Germanic Cultural Institution.' metadata={'doc_source': 'wikipedia', 'wikipedia_page': 'Albert Einstein', 'doc_lang': 'en', 'doc_size': 83894, 'timestamp': 1702572674.745187, 'uuid': '501670b8-410c-4d0a-a49a-6f48a976f409'}\n"
     ]
    },
    {
     "name": "stderr",
     "output_type": "stream",
     "text": [
      "\n",
      "llama_print_timings:        load time =    8142.94 ms\n",
      "llama_print_timings:      sample time =      36.13 ms /   409 runs   (    0.09 ms per token, 11320.55 tokens per second)\n",
      "llama_print_timings: prompt eval time =     729.06 ms /   183 tokens (    3.98 ms per token,   251.01 tokens per second)\n",
      "llama_print_timings:        eval time =   14135.70 ms /   408 runs   (   34.65 ms per token,    28.86 tokens per second)\n",
      "llama_print_timings:       total time =   15381.42 ms\n",
      "Llama.generate: prefix-match hit\n"
     ]
    },
    {
     "name": "stdout",
     "output_type": "stream",
     "text": [
      "page_content='=== 1930–1931: Touring the US ===\\nIn December 1930, Einstein began another significant sojourn in the United States, drawn back to the US by the offer of a two month research fellowship at the California Institute of Technology. Caltech supported him in his wish that he should not be exposed to quite as much attention from the media as he had experienced when visiting the US in 1921, and he therefore declined all the invitations to receive prizes or make speeches that his admirers poured down upon him. But he remained willing to allow his fans at least some of the time with him that they requested.After arriving in New York City, Einstein was taken to various places and events, including Chinatown, a lunch with the editors of The New York Times, and a performance of Carmen at the Metropolitan Opera, where he was cheered by the audience on his arrival. During the days following, he was given the keys to the city by Mayor Jimmy Walker and met Nicholas Murray Butler, the president of Columbia University, who described Einstein as \"the ruling monarch of the mind\". Harry Emerson Fosdick, pastor at New York\\'s Riverside Church, gave Einstein a tour of the church and showed him a full-size statue that the church made of Einstein, standing at the entrance. Also during his stay in New York, he joined a crowd of 15,000 people at Madison Square Garden during a Hanukkah celebration.' metadata={'doc_source': 'wikipedia', 'wikipedia_page': 'Albert Einstein', 'doc_lang': 'en', 'doc_size': 83894, 'timestamp': 1702572674.745187, 'uuid': '0031244c-c220-4796-8630-f6fe4b059d7e'}\n"
     ]
    },
    {
     "name": "stderr",
     "output_type": "stream",
     "text": [
      "\n",
      "llama_print_timings:        load time =    8142.94 ms\n",
      "llama_print_timings:      sample time =      33.87 ms /   379 runs   (    0.09 ms per token, 11190.83 tokens per second)\n",
      "llama_print_timings: prompt eval time =    1198.67 ms /   338 tokens (    3.55 ms per token,   281.98 tokens per second)\n",
      "llama_print_timings:        eval time =   13240.01 ms /   378 runs   (   35.03 ms per token,    28.55 tokens per second)\n",
      "llama_print_timings:       total time =   14911.34 ms\n",
      "Llama.generate: prefix-match hit\n"
     ]
    },
    {
     "name": "stdout",
     "output_type": "stream",
     "text": [
      "page_content='Einstein next traveled to California, where he met Caltech president and Nobel laureate Robert A. Millikan. His friendship with Millikan was \"awkward\", as Millikan \"had a penchant for patriotic militarism\", where Einstein was a pronounced pacifist. During an address to Caltech\\'s students, Einstein noted that science was often inclined to do more harm than good.This aversion to war also led Einstein to befriend author Upton Sinclair and film star Charlie Chaplin, both noted for their pacifism. Carl Laemmle, head of Universal Studios, gave Einstein a tour of his studio and introduced him to Chaplin. They had an instant rapport, with Chaplin inviting Einstein and his wife, Elsa, to his home for dinner. Chaplin said Einstein\\'s outward persona, calm and gentle, seemed to conceal a \"highly emotional temperament\", from which came his \"extraordinary intellectual energy\".Chaplin\\'s film, City Lights, was to premiere a few days later in Hollywood, and Chaplin invited Einstein and Elsa to join him as his special guests. Walter Isaacson, Einstein\\'s biographer, described this as \"one of the most memorable scenes in the new era of celebrity\". Chaplin visited Einstein at his home on a later trip to Berlin and recalled his \"modest little flat\" and the piano at which he had begun writing his theory. Chaplin speculated that it was \"possibly used as kindling wood by the Nazis\".' metadata={'doc_source': 'wikipedia', 'wikipedia_page': 'Albert Einstein', 'doc_lang': 'en', 'doc_size': 83894, 'timestamp': 1702572674.745187, 'uuid': '4968c98c-d76f-4b18-ab99-20afd3c81b30'}\n"
     ]
    },
    {
     "name": "stderr",
     "output_type": "stream",
     "text": [
      "\n",
      "llama_print_timings:        load time =    8142.94 ms\n",
      "llama_print_timings:      sample time =      38.10 ms /   397 runs   (    0.10 ms per token, 10419.67 tokens per second)\n",
      "llama_print_timings: prompt eval time =    1239.92 ms /   343 tokens (    3.61 ms per token,   276.63 tokens per second)\n",
      "llama_print_timings:        eval time =   13846.73 ms /   396 runs   (   34.97 ms per token,    28.60 tokens per second)\n",
      "llama_print_timings:       total time =   15589.34 ms\n",
      "Llama.generate: prefix-match hit\n"
     ]
    },
    {
     "name": "stdout",
     "output_type": "stream",
     "text": [
      "page_content=\"=== 1933: Emigration to the US ===\\nIn February 1933, while on a visit to the United States, Einstein knew he could not return to Germany with the rise to power of the Nazis under Germany's new chancellor, Adolf Hitler.While at American universities in early 1933, he undertook his third two-month visiting professorship at the California Institute of Technology in Pasadena. In February and March 1933, the Gestapo repeatedly raided his family's apartment in Berlin. He and his wife Elsa returned to Europe in March, and during the trip, they learned that the German Reichstag had passed the Enabling Act on 23 March, transforming Hitler's government into a de facto legal dictatorship, and that they would not be able to proceed to Berlin. Later on, they heard that their cottage had been raided by the Nazis and Einstein's personal sailboat confiscated. Upon landing in Antwerp, Belgium on 28 March, Einstein immediately went to the German consulate and surrendered his passport, formally renouncing his German citizenship. The Nazis later sold his boat and converted his cottage into a Hitler Youth camp.\" metadata={'doc_source': 'wikipedia', 'wikipedia_page': 'Albert Einstein', 'doc_lang': 'en', 'doc_size': 83894, 'timestamp': 1702572674.745187, 'uuid': '4e82a7e6-7431-47c3-a284-3b3f7b4af8c4'}\n"
     ]
    },
    {
     "name": "stderr",
     "output_type": "stream",
     "text": [
      "\n",
      "llama_print_timings:        load time =    8142.94 ms\n",
      "llama_print_timings:      sample time =      24.73 ms /   257 runs   (    0.10 ms per token, 10390.14 tokens per second)\n",
      "llama_print_timings: prompt eval time =    1028.27 ms /   288 tokens (    3.57 ms per token,   280.08 tokens per second)\n",
      "llama_print_timings:        eval time =    8883.76 ms /   256 runs   (   34.70 ms per token,    28.82 tokens per second)\n",
      "llama_print_timings:       total time =   10221.43 ms\n",
      "Llama.generate: prefix-match hit\n"
     ]
    },
    {
     "name": "stdout",
     "output_type": "stream",
     "text": [
      "page_content='==== Refugee status ====' metadata={'doc_source': 'wikipedia', 'wikipedia_page': 'Albert Einstein', 'doc_lang': 'en', 'doc_size': 83894, 'timestamp': 1702572674.745187, 'uuid': '48c5654c-9729-4774-9106-9fa069ecc4e0'}\n"
     ]
    },
    {
     "name": "stderr",
     "output_type": "stream",
     "text": [
      "\n",
      "llama_print_timings:        load time =    8142.94 ms\n",
      "llama_print_timings:      sample time =      20.57 ms /   211 runs   (    0.10 ms per token, 10257.16 tokens per second)\n",
      "llama_print_timings: prompt eval time =     179.84 ms /    28 tokens (    6.42 ms per token,   155.69 tokens per second)\n",
      "llama_print_timings:        eval time =    7120.23 ms /   210 runs   (   33.91 ms per token,    29.49 tokens per second)\n",
      "llama_print_timings:       total time =    7555.45 ms\n",
      "Llama.generate: prefix-match hit\n"
     ]
    },
    {
     "name": "stdout",
     "output_type": "stream",
     "text": [
      "page_content='In April 1933, Einstein discovered that the new German government had passed laws barring Jews from holding any official positions, including teaching at universities. Historian Gerald Holton describes how, with \"virtually no audible protest being raised by their colleagues\", thousands of Jewish scientists were suddenly forced to give up their university positions and their names were removed from the rolls of institutions where they were employed.A month later, Einstein\\'s works were among those targeted by the German Student Union in the Nazi book burnings, with Nazi propaganda minister Joseph Goebbels proclaiming, \"Jewish intellectualism is dead.\" One German magazine included him in a list of enemies of the German regime with the phrase, \"not yet hanged\", offering a $5,000 bounty on his head. In a subsequent letter to physicist and friend Max Born, who had already emigrated from Germany to England, Einstein wrote, \"... I must confess that the degree of their brutality and cowardice came as something of a surprise.\" After moving to the US, he described the book burnings as a \"spontaneous emotional outburst\" by those who \"shun popular enlightenment\", and \"more than anything else in the world, fear the influence of men of intellectual independence\".Einstein was now without a permanent home, unsure where he would live and work, and equally worried about the fate of countless other scientists still in Germany. Aided by the Academic Assistance Council, founded in April 1933 by' metadata={'doc_source': 'wikipedia', 'wikipedia_page': 'Albert Einstein', 'doc_lang': 'en', 'doc_size': 83894, 'timestamp': 1702572674.745187, 'uuid': '10cb7dac-917b-4b6a-a9a1-69de6fe1db2e'}\n"
     ]
    },
    {
     "name": "stderr",
     "output_type": "stream",
     "text": [
      "\n",
      "llama_print_timings:        load time =    8142.94 ms\n",
      "llama_print_timings:      sample time =      41.74 ms /   417 runs   (    0.10 ms per token,  9989.94 tokens per second)\n",
      "llama_print_timings: prompt eval time =    1260.01 ms /   345 tokens (    3.65 ms per token,   273.81 tokens per second)\n",
      "llama_print_timings:        eval time =   14582.84 ms /   416 runs   (   35.05 ms per token,    28.53 tokens per second)\n",
      "llama_print_timings:       total time =   16374.54 ms\n",
      "Llama.generate: prefix-match hit\n"
     ]
    },
    {
     "name": "stdout",
     "output_type": "stream",
     "text": [
      "page_content='and equally worried about the fate of countless other scientists still in Germany. Aided by the Academic Assistance Council, founded in April 1933 by British Liberal politician William Beveridge to help academics escape Nazi persecution, Einstein was able to leave Germany. He rented a house in De Haan, Belgium, where he lived for a few months. In late July 1933, he visited England for about six weeks at the invitation of the British Member of Parliament Commander Oliver Locker-Lampson, who had become friends with him in the preceding years. Locker-Lampson invited him to stay near his Cromer home in a secluded wooden cabin on Roughton Heath in the Parish of Roughton, Norfolk. To protect Einstein, Locker-Lampson had two bodyguards watch over him; a photo of them carrying shotguns and guarding Einstein was published in the Daily Herald on 24 July 1933.Locker-Lampson took Einstein to meet Winston Churchill at his home, and later, Austen Chamberlain and former Prime Minister Lloyd George. Einstein asked them to help bring Jewish scientists out of Germany. British historian Martin Gilbert notes that Churchill responded immediately, and sent his friend, physicist Frederick Lindemann, to Germany to seek out Jewish scientists and place them in British universities. Churchill later observed that as a result of Germany having driven the Jews out, they had lowered their \"technical standards\" and put the Allies\\' technology ahead of theirs.Einstein later contacted leaders of other' metadata={'doc_source': 'wikipedia', 'wikipedia_page': 'Albert Einstein', 'doc_lang': 'en', 'doc_size': 83894, 'timestamp': 1702572674.745187, 'uuid': 'a16d684a-aad5-4a38-8ee5-d01d9387e147'}\n"
     ]
    },
    {
     "name": "stderr",
     "output_type": "stream",
     "text": [
      "\n",
      "llama_print_timings:        load time =    8142.94 ms\n",
      "llama_print_timings:      sample time =      38.32 ms /   410 runs   (    0.09 ms per token, 10699.37 tokens per second)\n",
      "llama_print_timings: prompt eval time =    1312.37 ms /   358 tokens (    3.67 ms per token,   272.79 tokens per second)\n",
      "llama_print_timings:        eval time =   14377.18 ms /   409 runs   (   35.15 ms per token,    28.45 tokens per second)\n",
      "llama_print_timings:       total time =   16208.56 ms\n",
      "Llama.generate: prefix-match hit\n"
     ]
    },
    {
     "name": "stdout",
     "output_type": "stream",
     "text": [
      "page_content='the Jews out, they had lowered their \"technical standards\" and put the Allies\\' technology ahead of theirs.Einstein later contacted leaders of other nations, including Turkey\\'s Prime Minister, İsmet İnönü, to whom he wrote in September 1933 requesting placement of unemployed German-Jewish scientists. As a result of Einstein\\'s letter, Jewish invitees to Turkey eventually totaled over \"1,000 saved individuals\".Locker-Lampson also submitted a bill to parliament to extend British citizenship to Einstein, during which period Einstein made a number of public appearances describing the crisis brewing in Europe. In one of his speeches he denounced Germany\\'s treatment of Jews, while at the same time he introduced a bill promoting Jewish citizenship in Palestine, as they were being denied citizenship elsewhere. In his speech he described Einstein as a \"citizen of the world\" who should be offered a temporary shelter in the UK. Both bills failed, however, and Einstein then accepted an earlier offer from the Institute for Advanced Study, in Princeton, New Jersey, US, to become a resident scholar.' metadata={'doc_source': 'wikipedia', 'wikipedia_page': 'Albert Einstein', 'doc_lang': 'en', 'doc_size': 83894, 'timestamp': 1702572674.745187, 'uuid': 'd4302c6e-78a6-487f-850c-2556e52710af'}\n"
     ]
    },
    {
     "name": "stderr",
     "output_type": "stream",
     "text": [
      "\n",
      "llama_print_timings:        load time =    8142.94 ms\n",
      "llama_print_timings:      sample time =      45.00 ms /   473 runs   (    0.10 ms per token, 10511.34 tokens per second)\n",
      "llama_print_timings: prompt eval time =    1011.31 ms /   265 tokens (    3.82 ms per token,   262.04 tokens per second)\n",
      "llama_print_timings:        eval time =   16494.34 ms /   472 runs   (   34.95 ms per token,    28.62 tokens per second)\n",
      "llama_print_timings:       total time =   18110.03 ms\n",
      "Llama.generate: prefix-match hit\n"
     ]
    },
    {
     "name": "stdout",
     "output_type": "stream",
     "text": [
      "page_content='==== Resident scholar at the Institute for Advanced Study ====' metadata={'doc_source': 'wikipedia', 'wikipedia_page': 'Albert Einstein', 'doc_lang': 'en', 'doc_size': 83894, 'timestamp': 1702572674.745187, 'uuid': '4cb1e427-dac0-433b-bbfc-a04e606ed601'}\n"
     ]
    },
    {
     "name": "stderr",
     "output_type": "stream",
     "text": [
      "\n",
      "llama_print_timings:        load time =    8142.94 ms\n",
      "llama_print_timings:      sample time =       5.74 ms /    58 runs   (    0.10 ms per token, 10108.05 tokens per second)\n",
      "llama_print_timings: prompt eval time =     269.29 ms /    33 tokens (    8.16 ms per token,   122.54 tokens per second)\n",
      "llama_print_timings:        eval time =    1875.44 ms /    57 runs   (   32.90 ms per token,    30.39 tokens per second)\n",
      "llama_print_timings:       total time =    2211.83 ms\n",
      "Llama.generate: prefix-match hit\n"
     ]
    },
    {
     "name": "stdout",
     "output_type": "stream",
     "text": [
      "page_content='On 3 October 1933, Einstein delivered a speech on the importance of academic freedom before a packed audience at the Royal Albert Hall in London, with The Times reporting he was wildly cheered throughout. Four days later he returned to the US and took up a position at the Institute for Advanced Study, noted for having become a refuge for scientists fleeing Nazi Germany. At the time, most American universities, including Harvard, Princeton and Yale, had minimal or no Jewish faculty or students, as a result of their Jewish quotas, which lasted until the late 1940s.Einstein was still undecided on his future. He had offers from several European universities, including Christ Church, Oxford, where he stayed for three short periods between May 1931 and June 1933 and was offered a five-year research fellowship (called a \"studentship\" at Christ Church), but in 1935, he arrived at the decision to remain permanently in the United States and apply for citizenship.Einstein\\'s affiliation with the Institute for Advanced Study would last until his death in 1955. He was one of the four first selected (along with John von Neumann, Kurt Gödel, and Hermann Weyl) at the new Institute. He soon developed a close friendship with Gödel; the two would take long walks together discussing their work. Bruria Kaufman, his assistant, later became a physicist. During this period, Einstein tried to develop a unified field theory and to refute the accepted interpretation of quantum physics, both' metadata={'doc_source': 'wikipedia', 'wikipedia_page': 'Albert Einstein', 'doc_lang': 'en', 'doc_size': 83894, 'timestamp': 1702572674.745187, 'uuid': '1a54004f-b105-44da-aceb-6fca789ee75e'}\n"
     ]
    },
    {
     "name": "stderr",
     "output_type": "stream",
     "text": [
      "\n",
      "llama_print_timings:        load time =    8142.94 ms\n",
      "llama_print_timings:      sample time =      42.59 ms /   464 runs   (    0.09 ms per token, 10895.34 tokens per second)\n",
      "llama_print_timings: prompt eval time =    1329.20 ms /   362 tokens (    3.67 ms per token,   272.35 tokens per second)\n",
      "llama_print_timings:        eval time =   16353.54 ms /   463 runs   (   35.32 ms per token,    28.31 tokens per second)\n",
      "llama_print_timings:       total time =   18277.48 ms\n",
      "Llama.generate: prefix-match hit\n"
     ]
    },
    {
     "name": "stdout",
     "output_type": "stream",
     "text": [
      "page_content='a physicist. During this period, Einstein tried to develop a unified field theory and to refute the accepted interpretation of quantum physics, both unsuccessfully. He lived in Princeton at his home from 1935 onwards. The Albert Einstein House was made a National Historic Landmark in 1976.' metadata={'doc_source': 'wikipedia', 'wikipedia_page': 'Albert Einstein', 'doc_lang': 'en', 'doc_size': 83894, 'timestamp': 1702572674.745187, 'uuid': '3a198290-8dcd-4840-bb95-003e1be1b1c5'}\n"
     ]
    },
    {
     "name": "stderr",
     "output_type": "stream",
     "text": [
      "\n",
      "llama_print_timings:        load time =    8142.94 ms\n",
      "llama_print_timings:      sample time =      20.07 ms /   246 runs   (    0.08 ms per token, 12260.15 tokens per second)\n",
      "llama_print_timings: prompt eval time =     395.14 ms /    89 tokens (    4.44 ms per token,   225.23 tokens per second)\n",
      "llama_print_timings:        eval time =    8437.51 ms /   245 runs   (   34.44 ms per token,    29.04 tokens per second)\n",
      "llama_print_timings:       total time =    9122.70 ms\n",
      "Llama.generate: prefix-match hit\n"
     ]
    },
    {
     "name": "stdout",
     "output_type": "stream",
     "text": [
      "page_content='==== World War II and the Manhattan Project ====' metadata={'doc_source': 'wikipedia', 'wikipedia_page': 'Albert Einstein', 'doc_lang': 'en', 'doc_size': 83894, 'timestamp': 1702572674.745187, 'uuid': '033841e0-656c-4fc4-9f89-10771f66da42'}\n"
     ]
    },
    {
     "name": "stderr",
     "output_type": "stream",
     "text": [
      "\n",
      "llama_print_timings:        load time =    8142.94 ms\n",
      "llama_print_timings:      sample time =      17.99 ms /   198 runs   (    0.09 ms per token, 11004.89 tokens per second)\n",
      "llama_print_timings: prompt eval time =     185.26 ms /    31 tokens (    5.98 ms per token,   167.34 tokens per second)\n",
      "llama_print_timings:        eval time =    6770.25 ms /   197 runs   (   34.37 ms per token,    29.10 tokens per second)\n",
      "llama_print_timings:       total time =    7195.37 ms\n",
      "Llama.generate: prefix-match hit\n"
     ]
    },
    {
     "name": "stdout",
     "output_type": "stream",
     "text": [
      "page_content='In 1939, a group of Hungarian scientists that included émigré physicist Leó Szilárd attempted to alert Washington to ongoing Nazi atomic bomb research. The group\\'s warnings were discounted. Einstein and Szilárd, along with other refugees such as Edward Teller and Eugene Wigner, \"regarded it as their responsibility to alert Americans to the possibility that German scientists might win the race to build an atomic bomb, and to warn that Hitler would be more than willing to resort to such a weapon.\" To make certain the US was aware of the danger, in July 1939, a few months before the beginning of World War II in Europe, Szilárd and Wigner visited Einstein to explain the possibility of atomic bombs, which Einstein, a pacifist, said he had never considered. He was asked to lend his support by writing a letter, with Szilárd, to President Roosevelt, recommending the US pay attention and engage in its own nuclear weapons research.' metadata={'doc_source': 'wikipedia', 'wikipedia_page': 'Albert Einstein', 'doc_lang': 'en', 'doc_size': 83894, 'timestamp': 1702572674.745187, 'uuid': '8cdfbd6b-c9eb-4ab8-8b3c-d3e88da68aa6'}\n"
     ]
    },
    {
     "name": "stderr",
     "output_type": "stream",
     "text": [
      "\n",
      "llama_print_timings:        load time =    8142.94 ms\n",
      "llama_print_timings:      sample time =      31.99 ms /   348 runs   (    0.09 ms per token, 10879.08 tokens per second)\n",
      "llama_print_timings: prompt eval time =     918.22 ms /   235 tokens (    3.91 ms per token,   255.93 tokens per second)\n",
      "llama_print_timings:        eval time =   12045.55 ms /   347 runs   (   34.71 ms per token,    28.81 tokens per second)\n",
      "llama_print_timings:       total time =   13396.48 ms\n",
      "Llama.generate: prefix-match hit\n"
     ]
    },
    {
     "name": "stdout",
     "output_type": "stream",
     "text": [
      "page_content='The letter is believed to be \"arguably the key stimulus for the U.S. adoption of serious investigations into nuclear weapons on the eve of the U.S. entry into World War II\". In addition to the letter, Einstein used his connections with the Belgian royal family and the Belgian queen mother to get access with a personal envoy to the White House\\'s Oval Office. Some say that as a result of Einstein\\'s letter and his meetings with Roosevelt, the US entered the \"race\" to develop the bomb, drawing on its \"immense material, financial, and scientific resources\" to initiate the Manhattan Project.' metadata={'doc_source': 'wikipedia', 'wikipedia_page': 'Albert Einstein', 'doc_lang': 'en', 'doc_size': 83894, 'timestamp': 1702572674.745187, 'uuid': '09095660-9c9e-451a-b880-1355db029428'}\n"
     ]
    },
    {
     "name": "stderr",
     "output_type": "stream",
     "text": [
      "\n",
      "llama_print_timings:        load time =    8142.94 ms\n",
      "llama_print_timings:      sample time =      33.63 ms /   343 runs   (    0.10 ms per token, 10200.44 tokens per second)\n",
      "llama_print_timings: prompt eval time =     621.57 ms /   155 tokens (    4.01 ms per token,   249.37 tokens per second)\n",
      "llama_print_timings:        eval time =   11805.04 ms /   342 runs   (   34.52 ms per token,    28.97 tokens per second)\n",
      "llama_print_timings:       total time =   12852.40 ms\n",
      "Llama.generate: prefix-match hit\n"
     ]
    },
    {
     "name": "stdout",
     "output_type": "stream",
     "text": [
      "page_content='For Einstein, \"war was a disease ... [and] he called for resistance to war.\" By signing the letter to Roosevelt, some argue he went against his pacifist principles. In 1954, a year before his death, Einstein said to his old friend, Linus Pauling, \"I made one great mistake in my life—when I signed the letter to President Roosevelt recommending that atom bombs be made; but there was some justification—the danger that the Germans would make them ...\" In 1955, Einstein and ten other intellectuals and scientists, including British philosopher Bertrand Russell, signed a manifesto highlighting the danger of nuclear weapons. In 1960 Einstein was included posthumously as a charter member of the World Academy of Art and Science (WAAS), an organization founded by distinguished scientists and intellectuals who committed themselves to the responsible and ethical advances of science, particularly in light of the development of nuclear weapons.' metadata={'doc_source': 'wikipedia', 'wikipedia_page': 'Albert Einstein', 'doc_lang': 'en', 'doc_size': 83894, 'timestamp': 1702572674.745187, 'uuid': '2de98e83-0fe8-4cbb-b495-673162026359'}\n"
     ]
    },
    {
     "name": "stderr",
     "output_type": "stream",
     "text": [
      "\n",
      "llama_print_timings:        load time =    8142.94 ms\n",
      "llama_print_timings:      sample time =      42.73 ms /   425 runs   (    0.10 ms per token,  9945.01 tokens per second)\n",
      "llama_print_timings: prompt eval time =     810.51 ms /   222 tokens (    3.65 ms per token,   273.90 tokens per second)\n",
      "llama_print_timings:        eval time =   14745.57 ms /   424 runs   (   34.78 ms per token,    28.75 tokens per second)\n",
      "llama_print_timings:       total time =   16101.90 ms\n",
      "Llama.generate: prefix-match hit\n"
     ]
    },
    {
     "name": "stdout",
     "output_type": "stream",
     "text": [
      "page_content='==== US citizenship ====' metadata={'doc_source': 'wikipedia', 'wikipedia_page': 'Albert Einstein', 'doc_lang': 'en', 'doc_size': 83894, 'timestamp': 1702572674.745187, 'uuid': '081b1a03-6956-4eda-96d9-fe1dea489584'}\n"
     ]
    },
    {
     "name": "stderr",
     "output_type": "stream",
     "text": [
      "\n",
      "llama_print_timings:        load time =    8142.94 ms\n",
      "llama_print_timings:      sample time =       4.84 ms /    50 runs   (    0.10 ms per token, 10339.12 tokens per second)\n",
      "llama_print_timings: prompt eval time =     176.82 ms /    27 tokens (    6.55 ms per token,   152.70 tokens per second)\n",
      "llama_print_timings:        eval time =    1638.26 ms /    49 runs   (   33.43 ms per token,    29.91 tokens per second)\n",
      "llama_print_timings:       total time =    1874.28 ms\n",
      "Llama.generate: prefix-match hit\n"
     ]
    },
    {
     "name": "stdout",
     "output_type": "stream",
     "text": [
      "page_content='Einstein became an American citizen in 1940. Not long after settling into his career at the Institute for Advanced Study in Princeton, New Jersey, he expressed his appreciation of the meritocracy in American culture compared to Europe. He recognized the \"right of individuals to say and think what they pleased\" without social barriers. As a result, individuals were encouraged, he said, to be more creative, a trait he valued from his early education.Einstein joined the National Association for the Advancement of Colored People (NAACP) in Princeton, where he campaigned for the civil rights of African Americans. He considered racism America\\'s \"worst disease\", seeing it as \"handed down from one generation to the next\". As part of his involvement, he corresponded with civil rights activist W. E. B. Du Bois and was prepared to testify on his behalf during his trial as an alleged foreign agent in 1951. When Einstein offered to be a character witness for Du Bois, the judge decided to drop the case.In 1946, Einstein visited Lincoln University in Pennsylvania, a historically black college, where he was awarded an honorary degree. Lincoln was the first university in the United States to grant college degrees to African Americans; alumni include Langston Hughes and Thurgood Marshall. Einstein gave a speech about racism in America, adding, \"I do not intend to be quiet about it.\" A resident of Princeton recalls that Einstein had once paid the college tuition for a black student. Einstein' metadata={'doc_source': 'wikipedia', 'wikipedia_page': 'Albert Einstein', 'doc_lang': 'en', 'doc_size': 83894, 'timestamp': 1702572674.745187, 'uuid': 'e9d9d390-dd9e-4eb7-9078-1bc4a406cf51'}\n"
     ]
    },
    {
     "name": "stderr",
     "output_type": "stream",
     "text": [
      "\n",
      "llama_print_timings:        load time =    8142.94 ms\n",
      "llama_print_timings:      sample time =      54.87 ms /   568 runs   (    0.10 ms per token, 10351.36 tokens per second)\n",
      "llama_print_timings: prompt eval time =    1203.67 ms /   350 tokens (    3.44 ms per token,   290.78 tokens per second)\n",
      "llama_print_timings:        eval time =   20207.71 ms /   567 runs   (   35.64 ms per token,    28.06 tokens per second)\n",
      "llama_print_timings:       total time =   22167.61 ms\n",
      "Llama.generate: prefix-match hit\n"
     ]
    },
    {
     "name": "stdout",
     "output_type": "stream",
     "text": [
      "page_content='\"I do not intend to be quiet about it.\" A resident of Princeton recalls that Einstein had once paid the college tuition for a black student. Einstein has said, \"Being a Jew myself, perhaps I can understand and empathize with how black people feel as victims of discrimination\".' metadata={'doc_source': 'wikipedia', 'wikipedia_page': 'Albert Einstein', 'doc_lang': 'en', 'doc_size': 83894, 'timestamp': 1702572674.745187, 'uuid': 'd027cafe-83b2-4dd0-b970-359be51062fa'}\n"
     ]
    },
    {
     "name": "stderr",
     "output_type": "stream",
     "text": [
      "\n",
      "llama_print_timings:        load time =    8142.94 ms\n",
      "llama_print_timings:      sample time =      16.23 ms /   182 runs   (    0.09 ms per token, 11217.26 tokens per second)\n",
      "llama_print_timings: prompt eval time =     387.54 ms /    82 tokens (    4.73 ms per token,   211.59 tokens per second)\n",
      "llama_print_timings:        eval time =    6148.57 ms /   181 runs   (   33.97 ms per token,    29.44 tokens per second)\n",
      "llama_print_timings:       total time =    6754.23 ms\n",
      "Llama.generate: prefix-match hit\n"
     ]
    },
    {
     "name": "stdout",
     "output_type": "stream",
     "text": [
      "page_content='=== Personal views ===\\n\\n\\n==== Political views ====\\n\\nIn 1918, Einstein was one of the founding members of the German Democratic Party, a liberal party. Later in his life, Einstein\\'s political view was in favor of socialism and critical of capitalism, which he detailed in his essays such as \"Why Socialism?\". His opinions on the Bolsheviks also changed with time. In 1925, he criticized them for not having a \"well-regulated system of government\" and called their rule a \"regime of terror and a tragedy in human history\". He later adopted a more moderated view, criticizing their methods but praising them, which is shown by his 1929 remark on Vladimir Lenin:' metadata={'doc_source': 'wikipedia', 'wikipedia_page': 'Albert Einstein', 'doc_lang': 'en', 'doc_size': 83894, 'timestamp': 1702572674.745187, 'uuid': 'e65d5ba5-d1d2-414e-8a92-c8701487f706'}\n"
     ]
    },
    {
     "name": "stderr",
     "output_type": "stream",
     "text": [
      "\n",
      "llama_print_timings:        load time =    8142.94 ms\n",
      "llama_print_timings:      sample time =      26.52 ms /   288 runs   (    0.09 ms per token, 10860.14 tokens per second)\n",
      "llama_print_timings: prompt eval time =     732.81 ms /   183 tokens (    4.00 ms per token,   249.72 tokens per second)\n",
      "llama_print_timings:        eval time =    9911.85 ms /   287 runs   (   34.54 ms per token,    28.96 tokens per second)\n",
      "llama_print_timings:       total time =   10993.79 ms\n",
      "Llama.generate: prefix-match hit\n"
     ]
    },
    {
     "name": "stdout",
     "output_type": "stream",
     "text": [
      "page_content=\"In Lenin I honor a man, who in total sacrifice of his own person has committed his entire energy to realizing social justice. I do not find his methods advisable. One thing is certain, however: men like him are the guardians and renewers of mankind's conscience.\" metadata={'doc_source': 'wikipedia', 'wikipedia_page': 'Albert Einstein', 'doc_lang': 'en', 'doc_size': 83894, 'timestamp': 1702572674.745187, 'uuid': '06192650-6ef5-483b-b880-d70a799be401'}\n"
     ]
    },
    {
     "name": "stderr",
     "output_type": "stream",
     "text": [
      "\n",
      "llama_print_timings:        load time =    8142.94 ms\n",
      "llama_print_timings:      sample time =      14.17 ms /   154 runs   (    0.09 ms per token, 10870.33 tokens per second)\n",
      "llama_print_timings: prompt eval time =     402.60 ms /    79 tokens (    5.10 ms per token,   196.22 tokens per second)\n",
      "llama_print_timings:        eval time =    5175.93 ms /   153 runs   (   33.83 ms per token,    29.56 tokens per second)\n",
      "llama_print_timings:       total time =    5761.17 ms\n",
      "Llama.generate: prefix-match hit\n"
     ]
    },
    {
     "name": "stdout",
     "output_type": "stream",
     "text": [
      "page_content='Einstein offered and was called on to give judgments and opinions on matters often unrelated to theoretical physics or mathematics. He strongly advocated the idea of a democratic global government that would check the power of nation-states in the framework of a world federation. He wrote \"I advocate world government because I am convinced that there is no other possible way of eliminating the most terrible danger in which man has ever found himself.\" The FBI created a secret dossier on Einstein in 1932; by the time of his death, it was 1,427 pages long.Einstein was deeply impressed by Mahatma Gandhi, with whom he corresponded. He described Gandhi as \"a role model for the generations to come\". The initial connection was established on 27 September 1931, when Wilfrid Israel took his Indian guest V. A. Sundaram to meet his friend Einstein at his summer home in the town of Caputh. Sundaram was Gandhi\\'s disciple and special envoy, whom Wilfrid Israel met while visiting India and visiting the Indian leader\\'s home in 1925. During the visit, Einstein wrote a short letter to Gandhi that was delivered to him through his envoy, and Gandhi responded quickly with his own letter. Although in the end Einstein and Gandhi were unable to meet as they had hoped, the direct connection between them was established through Wilfrid Israel.' metadata={'doc_source': 'wikipedia', 'wikipedia_page': 'Albert Einstein', 'doc_lang': 'en', 'doc_size': 83894, 'timestamp': 1702572674.745187, 'uuid': 'c55a3573-5f19-45ad-bfd9-b9dfae1bb0d4'}\n"
     ]
    },
    {
     "name": "stderr",
     "output_type": "stream",
     "text": [
      "\n",
      "llama_print_timings:        load time =    8142.94 ms\n",
      "llama_print_timings:      sample time =      46.38 ms /   496 runs   (    0.09 ms per token, 10695.19 tokens per second)\n",
      "llama_print_timings: prompt eval time =    1217.41 ms /   324 tokens (    3.76 ms per token,   266.14 tokens per second)\n",
      "llama_print_timings:        eval time =   17411.46 ms /   495 runs   (   35.17 ms per token,    28.43 tokens per second)\n",
      "llama_print_timings:       total time =   19270.49 ms\n",
      "Llama.generate: prefix-match hit\n"
     ]
    },
    {
     "name": "stdout",
     "output_type": "stream",
     "text": [
      "page_content='==== Relationship with Zionism ====' metadata={'doc_source': 'wikipedia', 'wikipedia_page': 'Albert Einstein', 'doc_lang': 'en', 'doc_size': 83894, 'timestamp': 1702572674.745187, 'uuid': 'b033e098-9b51-4a79-8317-bf3fa3049593'}\n"
     ]
    },
    {
     "name": "stderr",
     "output_type": "stream",
     "text": [
      "\n",
      "llama_print_timings:        load time =    8142.94 ms\n",
      "llama_print_timings:      sample time =      18.62 ms /   210 runs   (    0.09 ms per token, 11280.62 tokens per second)\n",
      "llama_print_timings: prompt eval time =     173.93 ms /    30 tokens (    5.80 ms per token,   172.48 tokens per second)\n",
      "llama_print_timings:        eval time =    7124.52 ms /   209 runs   (   34.09 ms per token,    29.34 tokens per second)\n",
      "llama_print_timings:       total time =    7548.60 ms\n",
      "Llama.generate: prefix-match hit\n"
     ]
    },
    {
     "name": "stdout",
     "output_type": "stream",
     "text": [
      "page_content='Einstein was a figurehead leader in the establishment of the Hebrew University of Jerusalem, which opened in 1925. Earlier, in 1921, he was asked by the biochemist and president of the World Zionist Organization, Chaim Weizmann, to help raise funds for the planned university. He made suggestions for the creation of an Institute of Agriculture, a Chemical Institute and an Institute of Microbiology in order to fight the various ongoing epidemics such as malaria, which he called an \"evil\" that was undermining a third of the country\\'s development. He also promoted the establishment of an Oriental Studies Institute, to include language courses given in both Hebrew and Arabic.Einstein was not a nationalist and opposed the creation of an independent Jewish state. He felt that the waves of arriving Jews of the Aliyah could live alongside existing Arabs in Palestine. The state of Israel was established without his help in 1948; Einstein was limited to a marginal role in the Zionist movement. Upon the death of Israeli president Weizmann in November 1952, Prime Minister David Ben-Gurion offered Einstein the largely ceremonial position of President of Israel at the urging of Ezriel Carlebach. The offer was presented by Israel\\'s ambassador in Washington, Abba Eban, who explained that the offer \"embodies the deepest respect which the Jewish people can repose in any of its sons\". Einstein wrote that he was \"deeply moved\", but \"at once saddened and ashamed\" that he could not accept it.On' metadata={'doc_source': 'wikipedia', 'wikipedia_page': 'Albert Einstein', 'doc_lang': 'en', 'doc_size': 83894, 'timestamp': 1702572674.745187, 'uuid': '4bd1a0af-dd00-49b8-bfc7-c392a184b81e'}\n"
     ]
    },
    {
     "name": "stderr",
     "output_type": "stream",
     "text": [
      "\n",
      "llama_print_timings:        load time =    8142.94 ms\n",
      "llama_print_timings:      sample time =      49.09 ms /   520 runs   (    0.09 ms per token, 10593.22 tokens per second)\n",
      "llama_print_timings: prompt eval time =    1327.13 ms /   370 tokens (    3.59 ms per token,   278.80 tokens per second)\n",
      "llama_print_timings:        eval time =   18333.81 ms /   519 runs   (   35.33 ms per token,    28.31 tokens per second)\n",
      "llama_print_timings:       total time =   20338.41 ms\n",
      "Llama.generate: prefix-match hit\n"
     ]
    },
    {
     "name": "stdout",
     "output_type": "stream",
     "text": [
      "page_content='people can repose in any of its sons\". Einstein wrote that he was \"deeply moved\", but \"at once saddened and ashamed\" that he could not accept it.On April 9th, 1948, a month before Israel declared independence, just over one hundred residents of Deir Yassin were massacred by members of two militant Zionist groups – Lehi and Irgun – as part of an effort to cleanse the area of its Arab population. The next day, Einstein wrote a passionate letter to Shepard Rifkin, a New York-based representative of Lehi who had recently written to Einstein in the hope of garnering some high-profile support for the group’s efforts. He believed that since Einstein publicly backed the creation of a Jewish homeland in the British Mandate of Palestine, he would agree to his suggestion but that didn\\'t happen.Einstein wrote:' metadata={'doc_source': 'wikipedia', 'wikipedia_page': 'Albert Einstein', 'doc_lang': 'en', 'doc_size': 83894, 'timestamp': 1702572674.745187, 'uuid': 'bfb3baaf-49aa-47cf-92e4-47c7f1bb58f6'}\n"
     ]
    },
    {
     "name": "stderr",
     "output_type": "stream",
     "text": [
      "\n",
      "llama_print_timings:        load time =    8142.94 ms\n",
      "llama_print_timings:      sample time =      24.62 ms /   271 runs   (    0.09 ms per token, 11007.31 tokens per second)\n",
      "llama_print_timings: prompt eval time =     821.36 ms /   217 tokens (    3.79 ms per token,   264.20 tokens per second)\n",
      "llama_print_timings:        eval time =    9332.54 ms /   270 runs   (   34.56 ms per token,    28.93 tokens per second)\n",
      "llama_print_timings:       total time =   10481.53 ms\n",
      "Llama.generate: prefix-match hit\n"
     ]
    },
    {
     "name": "stdout",
     "output_type": "stream",
     "text": [
      "page_content='When a real and final catastrophe should befall us in Palestine the first responsible for it would be the British and the second responsible for it would be the Terrorist organizations build up from our own ranks. I am not willing to see anybody associated with those mislead and criminal people.' metadata={'doc_source': 'wikipedia', 'wikipedia_page': 'Albert Einstein', 'doc_lang': 'en', 'doc_size': 83894, 'timestamp': 1702572674.745187, 'uuid': 'f1771fe4-2ce5-4cc8-9507-d962146911de'}\n"
     ]
    },
    {
     "name": "stderr",
     "output_type": "stream",
     "text": [
      "\n",
      "llama_print_timings:        load time =    8142.94 ms\n",
      "llama_print_timings:      sample time =      14.14 ms /   150 runs   (    0.09 ms per token, 10609.70 tokens per second)\n",
      "llama_print_timings: prompt eval time =     389.12 ms /    82 tokens (    4.75 ms per token,   210.73 tokens per second)\n",
      "llama_print_timings:        eval time =    5045.51 ms /   149 runs   (   33.86 ms per token,    29.53 tokens per second)\n",
      "llama_print_timings:       total time =    5613.36 ms\n",
      "Llama.generate: prefix-match hit\n"
     ]
    },
    {
     "name": "stdout",
     "output_type": "stream",
     "text": [
      "page_content='Einstein was one of the authors of an open letter to the New York Times in 1948 which deeply criticized Menachem Begin\\'s Herut (Freedom) Party for the Deir Yassin massacre attributed to \"terrorist bands\", and likened Herut to \"the Nazi and Fascist parties\".\\n\\n\\n==== Religious and philosophical views ====' metadata={'doc_source': 'wikipedia', 'wikipedia_page': 'Albert Einstein', 'doc_lang': 'en', 'doc_size': 83894, 'timestamp': 1702572674.745187, 'uuid': '23a05523-a9b4-4c8d-a6e0-a0468eb35348'}\n"
     ]
    },
    {
     "name": "stderr",
     "output_type": "stream",
     "text": [
      "\n",
      "llama_print_timings:        load time =    8142.94 ms\n",
      "llama_print_timings:      sample time =      18.31 ms /   193 runs   (    0.09 ms per token, 10538.96 tokens per second)\n",
      "llama_print_timings: prompt eval time =     520.89 ms /   105 tokens (    4.96 ms per token,   201.58 tokens per second)\n",
      "llama_print_timings:        eval time =    6578.70 ms /   192 runs   (   34.26 ms per token,    29.19 tokens per second)\n",
      "llama_print_timings:       total time =    7332.12 ms\n",
      "Llama.generate: prefix-match hit\n"
     ]
    },
    {
     "name": "stdout",
     "output_type": "stream",
     "text": [
      "page_content='Einstein expounded his spiritual outlook in a wide array of writings and interviews. He said he had sympathy for the impersonal pantheistic God of Baruch Spinoza\\'s philosophy. He did not believe in a personal god who concerns himself with fates and actions of human beings, a view which he described as naïve. He clarified, however, that \"I am not an atheist\", preferring to call himself an agnostic, or a \"deeply religious nonbeliever\". When asked if he believed in an afterlife, Einstein replied, \"No. And one life is enough for me.\"Einstein was primarily affiliated with non-religious humanist and Ethical Culture groups in both the UK and US. He served on the advisory board of the First Humanist Society of New York, and was an honorary associate of the Rationalist Association, which publishes New Humanist in Britain. For the 75th anniversary of the New York Society for Ethical Culture, he stated that the idea of Ethical Culture embodied his personal conception of what is most valuable and enduring in religious idealism. He observed, \"Without \\'ethical culture\\' there is no salvation for humanity.\"' metadata={'doc_source': 'wikipedia', 'wikipedia_page': 'Albert Einstein', 'doc_lang': 'en', 'doc_size': 83894, 'timestamp': 1702572674.745187, 'uuid': '04873e67-9a61-4dfb-af5d-d3d5a0cec68d'}\n"
     ]
    },
    {
     "name": "stderr",
     "output_type": "stream",
     "text": [
      "\n",
      "llama_print_timings:        load time =    8142.94 ms\n",
      "llama_print_timings:      sample time =      48.45 ms /   537 runs   (    0.09 ms per token, 11083.82 tokens per second)\n",
      "llama_print_timings: prompt eval time =    1042.23 ms /   282 tokens (    3.70 ms per token,   270.57 tokens per second)\n",
      "llama_print_timings:        eval time =   18870.85 ms /   536 runs   (   35.21 ms per token,    28.40 tokens per second)\n",
      "llama_print_timings:       total time =   20606.85 ms\n",
      "Llama.generate: prefix-match hit\n"
     ]
    },
    {
     "name": "stdout",
     "output_type": "stream",
     "text": [
      "page_content=\"In a German-language letter to philosopher Eric Gutkind, dated 3 January 1954, Einstein wrote:The word God is for me nothing more than the expression and product of human weaknesses, the Bible a collection of honorable, but still primitive legends which are nevertheless pretty childish. No interpretation no matter how subtle can (for me) change this. ... For me the Jewish religion like all other religions is an incarnation of the most childish superstitions. And the Jewish people to whom I gladly belong and with whose mentality I have a deep affinity have no different quality for me than all other people. ... I cannot see anything 'chosen' about them.\\nEinstein had been sympathetic toward vegetarianism for a long time. In a letter in 1930 to Hermann Huth, vice-president of the German Vegetarian Federation (Deutsche Vegetarier-Bund), he wrote:Although I have been prevented by outward circumstances from observing a strictly vegetarian diet, I have long been an adherent to the cause in principle. Besides agreeing with the aims of vegetarianism for aesthetic and moral reasons, it is my view that a vegetarian manner of living by its purely physical effect on the human temperament would most beneficially influence the lot of mankind.\" metadata={'doc_source': 'wikipedia', 'wikipedia_page': 'Albert Einstein', 'doc_lang': 'en', 'doc_size': 83894, 'timestamp': 1702572674.745187, 'uuid': 'd5193c93-e75a-4006-a9d7-6e949b81147a'}\n"
     ]
    },
    {
     "name": "stderr",
     "output_type": "stream",
     "text": [
      "\n",
      "llama_print_timings:        load time =    8142.94 ms\n",
      "llama_print_timings:      sample time =      35.78 ms /   385 runs   (    0.09 ms per token, 10759.90 tokens per second)\n",
      "llama_print_timings: prompt eval time =    1103.69 ms /   306 tokens (    3.61 ms per token,   277.25 tokens per second)\n",
      "llama_print_timings:        eval time =   13456.15 ms /   384 runs   (   35.04 ms per token,    28.54 tokens per second)\n",
      "llama_print_timings:       total time =   15043.56 ms\n",
      "Llama.generate: prefix-match hit\n"
     ]
    },
    {
     "name": "stdout",
     "output_type": "stream",
     "text": [
      "page_content='He became a vegetarian himself only during the last part of his life. In March 1954 he wrote in a letter: \"So I am living without fats, without meat, without fish, but am feeling quite well this way. It almost seems to me that man was not born to be a carnivore.\"' metadata={'doc_source': 'wikipedia', 'wikipedia_page': 'Albert Einstein', 'doc_lang': 'en', 'doc_size': 83894, 'timestamp': 1702572674.745187, 'uuid': '0b60a7db-2286-4d98-bcec-e5ec8b189d9a'}\n"
     ]
    },
    {
     "name": "stderr",
     "output_type": "stream",
     "text": [
      "\n",
      "llama_print_timings:        load time =    8142.94 ms\n",
      "llama_print_timings:      sample time =      26.75 ms /   320 runs   (    0.08 ms per token, 11962.62 tokens per second)\n",
      "llama_print_timings: prompt eval time =     379.13 ms /    90 tokens (    4.21 ms per token,   237.39 tokens per second)\n",
      "llama_print_timings:        eval time =   11547.93 ms /   319 runs   (   36.20 ms per token,    27.62 tokens per second)\n",
      "llama_print_timings:       total time =   12322.43 ms\n",
      "Llama.generate: prefix-match hit\n"
     ]
    },
    {
     "name": "stdout",
     "output_type": "stream",
     "text": [
      "page_content='==== Love of music ====\\nEinstein developed an appreciation for music at an early age. In his late journals he wrote:' metadata={'doc_source': 'wikipedia', 'wikipedia_page': 'Albert Einstein', 'doc_lang': 'en', 'doc_size': 83894, 'timestamp': 1702572674.745187, 'uuid': '8b7b89e0-5eff-4303-b146-ab72543e8312'}\n"
     ]
    },
    {
     "name": "stderr",
     "output_type": "stream",
     "text": [
      "\n",
      "llama_print_timings:        load time =    8142.94 ms\n",
      "llama_print_timings:      sample time =       8.25 ms /    86 runs   (    0.10 ms per token, 10426.77 tokens per second)\n",
      "llama_print_timings: prompt eval time =     277.63 ms /    49 tokens (    5.67 ms per token,   176.49 tokens per second)\n",
      "llama_print_timings:        eval time =    2868.72 ms /    85 runs   (   33.75 ms per token,    29.63 tokens per second)\n",
      "llama_print_timings:       total time =    3247.73 ms\n",
      "Llama.generate: prefix-match hit\n"
     ]
    },
    {
     "name": "stdout",
     "output_type": "stream",
     "text": [
      "page_content='If I were not a physicist, I would probably be a musician. I often think in music. I live my daydreams in music. I see my life in terms of music ... I get most joy in life out of music.' metadata={'doc_source': 'wikipedia', 'wikipedia_page': 'Albert Einstein', 'doc_lang': 'en', 'doc_size': 83894, 'timestamp': 1702572674.745187, 'uuid': 'acc7b1ba-1e58-4ab8-ab1f-6f9e22e3a676'}\n"
     ]
    },
    {
     "name": "stderr",
     "output_type": "stream",
     "text": [
      "\n",
      "llama_print_timings:        load time =    8142.94 ms\n",
      "llama_print_timings:      sample time =      15.12 ms /   163 runs   (    0.09 ms per token, 10781.14 tokens per second)\n",
      "llama_print_timings: prompt eval time =     388.47 ms /    71 tokens (    5.47 ms per token,   182.77 tokens per second)\n",
      "llama_print_timings:        eval time =    5499.27 ms /   162 runs   (   33.95 ms per token,    29.46 tokens per second)\n",
      "llama_print_timings:       total time =    6081.26 ms\n",
      "Llama.generate: prefix-match hit\n"
     ]
    },
    {
     "name": "stdout",
     "output_type": "stream",
     "text": [
      "page_content='His mother played the piano reasonably well and wanted her son to learn the violin, not only to instill in him a love of music but also to help him assimilate into German culture. According to conductor Leon Botstein, Einstein began playing when he was 5. However, he did not enjoy it at that age.When he turned 13, he discovered the violin sonatas of Mozart, whereupon he became enamored of Mozart\\'s compositions and studied music more willingly. Einstein taught himself to play without \"ever practicing systematically\". He said that \"love is a better teacher than a sense of duty\". At the age of 17, he was heard by a school examiner in Aarau while playing Beethoven\\'s violin sonatas. The examiner stated afterward that his playing was \"remarkable and revealing of \\'great insight\\'\". What struck the examiner, writes Botstein, was that Einstein \"displayed a deep love of the music, a quality that was and remains in short supply. Music possessed an unusual meaning for this student.\"Music took on a pivotal and permanent role in Einstein\\'s life from that period on. Although the idea of becoming a professional musician himself was not on his mind at any time, among those with whom Einstein played chamber music were a few professionals, including Kurt Appelbaum, and he performed for private audiences and friends. Chamber music had also become a regular part of his social life while living in Bern, Zürich, and Berlin, where he played with Max Planck and his son, among others. He is sometimes' metadata={'doc_source': 'wikipedia', 'wikipedia_page': 'Albert Einstein', 'doc_lang': 'en', 'doc_size': 83894, 'timestamp': 1702572674.745187, 'uuid': '6e5e1ad1-9db9-4cf8-b9fb-39d12efaf45b'}\n"
     ]
    },
    {
     "name": "stderr",
     "output_type": "stream",
     "text": [
      "\n",
      "llama_print_timings:        load time =    8142.94 ms\n",
      "llama_print_timings:      sample time =      28.64 ms /   320 runs   (    0.09 ms per token, 11174.35 tokens per second)\n",
      "llama_print_timings: prompt eval time =    1371.64 ms /   361 tokens (    3.80 ms per token,   263.19 tokens per second)\n",
      "llama_print_timings:        eval time =   11234.37 ms /   319 runs   (   35.22 ms per token,    28.40 tokens per second)\n",
      "llama_print_timings:       total time =   12997.01 ms\n",
      "Llama.generate: prefix-match hit\n"
     ]
    },
    {
     "name": "stdout",
     "output_type": "stream",
     "text": [
      "page_content='regular part of his social life while living in Bern, Zürich, and Berlin, where he played with Max Planck and his son, among others. He is sometimes erroneously credited as the editor of the 1937 edition of the Köchel catalog of Mozart\\'s work; that edition was prepared by Alfred Einstein, who may have been a distant relation.In 1931, while engaged in research at the California Institute of Technology, he visited the Zoellner family conservatory in Los Angeles, where he played some of Beethoven and Mozart\\'s works with members of the Zoellner Quartet. Near the end of his life, when the young Juilliard Quartet visited him in Princeton, he played his violin with them, and the quartet was \"impressed by Einstein\\'s level of coordination and intonation\".' metadata={'doc_source': 'wikipedia', 'wikipedia_page': 'Albert Einstein', 'doc_lang': 'en', 'doc_size': 83894, 'timestamp': 1702572674.745187, 'uuid': 'c1cbe321-1f49-480a-8beb-e72de58d869f'}\n"
     ]
    },
    {
     "name": "stderr",
     "output_type": "stream",
     "text": [
      "\n",
      "llama_print_timings:        load time =    8142.94 ms\n",
      "llama_print_timings:      sample time =      28.64 ms /   314 runs   (    0.09 ms per token, 10964.45 tokens per second)\n",
      "llama_print_timings: prompt eval time =     807.21 ms /   210 tokens (    3.84 ms per token,   260.15 tokens per second)\n",
      "llama_print_timings:        eval time =   11007.12 ms /   313 runs   (   35.17 ms per token,    28.44 tokens per second)\n",
      "llama_print_timings:       total time =   12195.06 ms\n",
      "Llama.generate: prefix-match hit\n"
     ]
    },
    {
     "name": "stdout",
     "output_type": "stream",
     "text": [
      "page_content='=== Death ===' metadata={'doc_source': 'wikipedia', 'wikipedia_page': 'Albert Einstein', 'doc_lang': 'en', 'doc_size': 83894, 'timestamp': 1702572674.745187, 'uuid': 'd4c6af81-9440-4cd8-9a9f-3af668902b7a'}\n"
     ]
    },
    {
     "name": "stderr",
     "output_type": "stream",
     "text": [
      "\n",
      "llama_print_timings:        load time =    8142.94 ms\n",
      "llama_print_timings:      sample time =       3.75 ms /    41 runs   (    0.09 ms per token, 10942.09 tokens per second)\n",
      "llama_print_timings: prompt eval time =     179.11 ms /    24 tokens (    7.46 ms per token,   134.00 tokens per second)\n",
      "llama_print_timings:        eval time =    1318.70 ms /    40 runs   (   32.97 ms per token,    30.33 tokens per second)\n",
      "llama_print_timings:       total time =    1544.69 ms\n",
      "Llama.generate: prefix-match hit\n"
     ]
    },
    {
     "name": "stdout",
     "output_type": "stream",
     "text": [
      "page_content='On 17 April 1955, Einstein experienced internal bleeding caused by the rupture of an abdominal aortic aneurysm, which had previously been reinforced surgically by Rudolph Nissen in 1948. He took the draft of a speech he was preparing for a television appearance commemorating the state of Israel\\'s seventh anniversary with him to the hospital, but he did not live to complete it.Einstein refused surgery, saying, \"I want to go when I want. It is tasteless to prolong life artificially. I have done my share; it is time to go. I will do it elegantly.\" He died in the University Medical Center of Princeton at Plainsboro early the next morning at the age of 76, having continued to work until near the end.During the autopsy, the pathologist Thomas Stoltz Harvey removed Einstein\\'s brain for preservation without the permission of his family, in the hope that the neuroscience of the future would be able to discover what made Einstein so intelligent. Einstein\\'s remains were cremated in Trenton, New Jersey, and his ashes were scattered at an undisclosed location.In a memorial lecture delivered on 13 December 1965 at UNESCO headquarters, nuclear physicist J. Robert Oppenheimer summarized his impression of Einstein as a person: \"He was almost wholly without sophistication and wholly without worldliness ... There was always with him a wonderful purity at once childlike and profoundly stubborn.\"Einstein bequeathed his personal archives, library, and intellectual assets to the Hebrew University' metadata={'doc_source': 'wikipedia', 'wikipedia_page': 'Albert Einstein', 'doc_lang': 'en', 'doc_size': 83894, 'timestamp': 1702572674.745187, 'uuid': '2e41bbca-0790-4bd7-b778-c64819e1aba0'}\n"
     ]
    },
    {
     "name": "stderr",
     "output_type": "stream",
     "text": [
      "\n",
      "llama_print_timings:        load time =    8142.94 ms\n",
      "llama_print_timings:      sample time =      42.81 ms /   454 runs   (    0.09 ms per token, 10605.99 tokens per second)\n",
      "llama_print_timings: prompt eval time =    1357.62 ms /   377 tokens (    3.60 ms per token,   277.69 tokens per second)\n",
      "llama_print_timings:        eval time =   16039.37 ms /   453 runs   (   35.41 ms per token,    28.24 tokens per second)\n",
      "llama_print_timings:       total time =   17971.40 ms\n",
      "Llama.generate: prefix-match hit\n"
     ]
    },
    {
     "name": "stdout",
     "output_type": "stream",
     "text": [
      "page_content='at once childlike and profoundly stubborn.\"Einstein bequeathed his personal archives, library, and intellectual assets to the Hebrew University of Jerusalem in Israel.' metadata={'doc_source': 'wikipedia', 'wikipedia_page': 'Albert Einstein', 'doc_lang': 'en', 'doc_size': 83894, 'timestamp': 1702572674.745187, 'uuid': '7fbaffda-1bc8-4318-802a-b2aa1ab82b6e'}\n"
     ]
    },
    {
     "name": "stderr",
     "output_type": "stream",
     "text": [
      "\n",
      "llama_print_timings:        load time =    8142.94 ms\n",
      "llama_print_timings:      sample time =      10.68 ms /   112 runs   (    0.10 ms per token, 10485.91 tokens per second)\n",
      "llama_print_timings: prompt eval time =     288.91 ms /    57 tokens (    5.07 ms per token,   197.30 tokens per second)\n",
      "llama_print_timings:        eval time =    3722.35 ms /   111 runs   (   33.53 ms per token,    29.82 tokens per second)\n",
      "llama_print_timings:       total time =    4143.31 ms\n",
      "Llama.generate: prefix-match hit\n"
     ]
    },
    {
     "name": "stdout",
     "output_type": "stream",
     "text": [
      "page_content='== Scientific career ==\\nThroughout his life, Einstein published hundreds of books and articles. He published more than 300 scientific papers and 150 non-scientific ones. On 5 December 2014, universities and archives announced the release of Einstein\\'s papers, comprising more than 30,000 unique documents. Einstein\\'s intellectual achievements and originality have made the word \"Einstein\" synonymous with \"genius\". In addition to the work he did by himself he also collaborated with other scientists on additional projects including the Bose–Einstein statistics, the Einstein refrigerator and others.There is some evidence from Einstein\\'s writings that he collaborated with his first wife, Mileva Marić. In 13 December 1900, a first article on capillarity signed only under his name was submitted. The decision to publish only under his name seems to have been mutual, but the exact reason is unknown.\\n\\n\\n=== 1905 – Annus Mirabilis papers ===\\nThe Annus Mirabilis papers are four articles pertaining to the photoelectric effect (which gave rise to quantum theory), Brownian motion, the special theory of relativity, and E = mc2 that Einstein published in the Annalen der Physik scientific journal in 1905. These four works contributed substantially to the foundation of modern physics and changed views on space, time, and matter. The four papers are:\\n\\n\\n=== Statistical mechanics ===\\n\\n\\n==== Thermodynamic fluctuations and statistical physics ====' metadata={'doc_source': 'wikipedia', 'wikipedia_page': 'Albert Einstein', 'doc_lang': 'en', 'doc_size': 83894, 'timestamp': 1702572674.745187, 'uuid': '9eb91315-380a-4bfd-8828-a597d138ce8a'}\n"
     ]
    },
    {
     "name": "stderr",
     "output_type": "stream",
     "text": [
      "\n",
      "llama_print_timings:        load time =    8142.94 ms\n",
      "llama_print_timings:      sample time =      43.97 ms /   485 runs   (    0.09 ms per token, 11031.25 tokens per second)\n",
      "llama_print_timings: prompt eval time =    1360.96 ms /   364 tokens (    3.74 ms per token,   267.46 tokens per second)\n",
      "llama_print_timings:        eval time =   17104.43 ms /   484 runs   (   35.34 ms per token,    28.30 tokens per second)\n",
      "llama_print_timings:       total time =   19084.50 ms\n",
      "Llama.generate: prefix-match hit\n"
     ]
    },
    {
     "name": "stdout",
     "output_type": "stream",
     "text": [
      "page_content='=== Statistical mechanics ===\\n\\n\\n==== Thermodynamic fluctuations and statistical physics ====\\n\\nEinstein\\'s first paper submitted in 1900 to Annalen der Physik was on capillary attraction. It was published in 1901 with the title \"Folgerungen aus den Capillaritätserscheinungen\", which translates as \"Conclusions from the capillarity phenomena\". Two papers he published in 1902–1903 (thermodynamics) attempted to interpret atomic phenomena from a statistical point of view. These papers were the foundation for the 1905 paper on Brownian motion, which showed that Brownian movement can be construed as firm evidence that molecules exist. His research in 1903 and 1904 was mainly concerned with the effect of finite atomic size on diffusion phenomena.\\n\\n\\n==== Theory of critical opalescence ====' metadata={'doc_source': 'wikipedia', 'wikipedia_page': 'Albert Einstein', 'doc_lang': 'en', 'doc_size': 83894, 'timestamp': 1702572674.745187, 'uuid': 'a5fe19b3-fef2-44e3-8064-373ce6e81bfb'}\n"
     ]
    },
    {
     "name": "stderr",
     "output_type": "stream",
     "text": [
      "\n",
      "llama_print_timings:        load time =    8142.94 ms\n",
      "llama_print_timings:      sample time =      33.87 ms /   378 runs   (    0.09 ms per token, 11159.99 tokens per second)\n",
      "llama_print_timings: prompt eval time =     917.12 ms /   227 tokens (    4.04 ms per token,   247.51 tokens per second)\n",
      "llama_print_timings:        eval time =   13234.70 ms /   377 runs   (   35.11 ms per token,    28.49 tokens per second)\n",
      "llama_print_timings:       total time =   14610.15 ms\n",
      "Llama.generate: prefix-match hit\n"
     ]
    },
    {
     "name": "stdout",
     "output_type": "stream",
     "text": [
      "page_content='==== Theory of critical opalescence ====\\n\\nEinstein returned to the problem of thermodynamic fluctuations, giving a treatment of the density variations in a fluid at its critical point. Ordinarily the density fluctuations are controlled by the second derivative of the free energy with respect to the density. At the critical point, this derivative is zero, leading to large fluctuations. The effect of density fluctuations is that light of all wavelengths is scattered, making the fluid look milky white. Einstein relates this to Rayleigh scattering, which is what happens when the fluctuation size is much smaller than the wavelength, and which explains why the sky is blue. Einstein quantitatively derived critical opalescence from a treatment of density fluctuations, and demonstrated how both the effect and Rayleigh scattering originate from the atomistic constitution of matter.\\n\\n\\n=== Special relativity ===' metadata={'doc_source': 'wikipedia', 'wikipedia_page': 'Albert Einstein', 'doc_lang': 'en', 'doc_size': 83894, 'timestamp': 1702572674.745187, 'uuid': '90dde5b6-ccd6-4aed-9c43-bcb349a1e2a8'}\n"
     ]
    },
    {
     "name": "stderr",
     "output_type": "stream",
     "text": [
      "\n",
      "llama_print_timings:        load time =    8142.94 ms\n",
      "llama_print_timings:      sample time =      27.43 ms /   295 runs   (    0.09 ms per token, 10754.26 tokens per second)\n",
      "llama_print_timings: prompt eval time =     808.94 ms /   204 tokens (    3.97 ms per token,   252.18 tokens per second)\n",
      "llama_print_timings:        eval time =   10197.07 ms /   294 runs   (   34.68 ms per token,    28.83 tokens per second)\n",
      "llama_print_timings:       total time =   11365.06 ms\n",
      "Llama.generate: prefix-match hit\n"
     ]
    },
    {
     "name": "stdout",
     "output_type": "stream",
     "text": [
      "page_content='Einstein\\'s \"Zur Elektrodynamik bewegter Körper\" (\"On the Electrodynamics of Moving Bodies\") was received on 30 June 1905 and published 26 September of that same year. It reconciled conflicts between Maxwell\\'s equations (the laws of electricity and magnetism) and the laws of Newtonian mechanics by introducing changes to the laws of mechanics. Observationally, the effects of these changes are most apparent at high speeds (where objects are moving at speeds close to the speed of light). The theory developed in this paper later became known as Einstein\\'s special theory of relativity.\\nThis paper predicted that, when measured in the frame of a relatively moving observer, a clock carried by a moving body would appear to slow down, and the body itself would contract in its direction of motion. This paper also argued that the idea of a luminiferous aether—one of the leading theoretical entities in physics at the time—was superfluous.In his paper on mass–energy equivalence, Einstein produced E = mc2 as a consequence of his special relativity equations. Einstein\\'s 1905 work on relativity remained controversial for many years, but was accepted by leading physicists, starting with Max Planck.Einstein originally framed special relativity in terms of kinematics (the study of moving bodies). In 1908, Hermann Minkowski reinterpreted special relativity in geometric terms as a theory of spacetime. Einstein adopted Minkowski\\'s formalism in his 1915 general theory of relativity.' metadata={'doc_source': 'wikipedia', 'wikipedia_page': 'Albert Einstein', 'doc_lang': 'en', 'doc_size': 83894, 'timestamp': 1702572674.745187, 'uuid': '6d99c126-c632-4f44-91e7-2be48e166efb'}\n"
     ]
    },
    {
     "name": "stderr",
     "output_type": "stream",
     "text": [
      "\n",
      "llama_print_timings:        load time =    8142.94 ms\n",
      "llama_print_timings:      sample time =      39.46 ms /   418 runs   (    0.09 ms per token, 10592.20 tokens per second)\n",
      "llama_print_timings: prompt eval time =    1312.41 ms /   366 tokens (    3.59 ms per token,   278.88 tokens per second)\n",
      "llama_print_timings:        eval time =   14726.41 ms /   417 runs   (   35.32 ms per token,    28.32 tokens per second)\n",
      "llama_print_timings:       total time =   16564.14 ms\n",
      "Llama.generate: prefix-match hit\n"
     ]
    },
    {
     "name": "stdout",
     "output_type": "stream",
     "text": [
      "page_content='=== General relativity ===\\n\\n\\n==== General relativity and the equivalence principle ====' metadata={'doc_source': 'wikipedia', 'wikipedia_page': 'Albert Einstein', 'doc_lang': 'en', 'doc_size': 83894, 'timestamp': 1702572674.745187, 'uuid': '339c4ca6-2637-4dea-acc9-2d9ac01df88a'}\n"
     ]
    },
    {
     "name": "stderr",
     "output_type": "stream",
     "text": [
      "\n",
      "llama_print_timings:        load time =    8142.94 ms\n",
      "llama_print_timings:      sample time =       6.46 ms /    60 runs   (    0.11 ms per token,  9292.24 tokens per second)\n",
      "llama_print_timings: prompt eval time =     281.45 ms /    40 tokens (    7.04 ms per token,   142.12 tokens per second)\n",
      "llama_print_timings:        eval time =    1921.21 ms /    59 runs   (   32.56 ms per token,    30.71 tokens per second)\n",
      "llama_print_timings:       total time =    2281.73 ms\n",
      "Llama.generate: prefix-match hit\n"
     ]
    },
    {
     "name": "stdout",
     "output_type": "stream",
     "text": [
      "page_content='General relativity (GR) is a theory of gravitation that was developed by Einstein between 1907 and 1915. According to it, the observed gravitational attraction between masses results from the warping of spacetime by those masses. General relativity has developed into an essential tool in modern astrophysics; it provides the foundation for the current understanding of black holes, regions of space where gravitational attraction is so strong that not even light can escape.As Einstein later said, the reason for the development of general relativity was that the preference of inertial motions within special relativity was unsatisfactory, while a theory which from the outset prefers no state of motion (even accelerated ones) should appear more satisfactory. Consequently, in 1907 he published an article on acceleration under special relativity. In that article titled \"On the Relativity Principle and the Conclusions Drawn from It\", he argued that free fall is really inertial motion, and that for a free-falling observer the rules of special relativity must apply. This argument is called the equivalence principle. In the same article, Einstein also predicted the phenomena of gravitational time dilation, gravitational redshift and gravitational lensing.In 1911, Einstein published another article \"On the Influence of Gravitation on the Propagation of Light\" expanding on the 1907 article, in which he estimated the amount of deflection of light by massive bodies. Thus, the theoretical' metadata={'doc_source': 'wikipedia', 'wikipedia_page': 'Albert Einstein', 'doc_lang': 'en', 'doc_size': 83894, 'timestamp': 1702572674.745187, 'uuid': '8c88be16-9cc2-4685-ac4b-935215add7bd'}\n"
     ]
    },
    {
     "name": "stderr",
     "output_type": "stream",
     "text": [
      "\n",
      "llama_print_timings:        load time =    8142.94 ms\n",
      "llama_print_timings:      sample time =      38.71 ms /   440 runs   (    0.09 ms per token, 11366.87 tokens per second)\n",
      "llama_print_timings: prompt eval time =    1128.01 ms /   346 tokens (    3.26 ms per token,   306.74 tokens per second)\n",
      "llama_print_timings:        eval time =   15491.66 ms /   439 runs   (   35.29 ms per token,    28.34 tokens per second)\n",
      "llama_print_timings:       total time =   17174.64 ms\n",
      "Llama.generate: prefix-match hit\n"
     ]
    },
    {
     "name": "stdout",
     "output_type": "stream",
     "text": [
      "page_content='Propagation of Light\" expanding on the 1907 article, in which he estimated the amount of deflection of light by massive bodies. Thus, the theoretical prediction of general relativity could for the first time be tested experimentally.' metadata={'doc_source': 'wikipedia', 'wikipedia_page': 'Albert Einstein', 'doc_lang': 'en', 'doc_size': 83894, 'timestamp': 1702572674.745187, 'uuid': '9c25b5e9-ed73-41b1-884c-c47eb0460bb0'}\n"
     ]
    },
    {
     "name": "stderr",
     "output_type": "stream",
     "text": [
      "\n",
      "llama_print_timings:        load time =    8142.94 ms\n",
      "llama_print_timings:      sample time =       9.76 ms /   109 runs   (    0.09 ms per token, 11173.76 tokens per second)\n",
      "llama_print_timings: prompt eval time =     389.38 ms /    69 tokens (    5.64 ms per token,   177.21 tokens per second)\n",
      "llama_print_timings:        eval time =    3654.94 ms /   108 runs   (   33.84 ms per token,    29.55 tokens per second)\n",
      "llama_print_timings:       total time =    4169.36 ms\n",
      "Llama.generate: prefix-match hit\n"
     ]
    },
    {
     "name": "stdout",
     "output_type": "stream",
     "text": [
      "page_content=\"==== Gravitational waves ====\\nIn 1916, Einstein predicted gravitational waves, ripples in the curvature of spacetime which propagate as waves, traveling outward from the source, transporting energy as gravitational radiation. The existence of gravitational waves is possible under general relativity due to its Lorentz invariance which brings the concept of a finite speed of propagation of the physical interactions of gravity with it. By contrast, gravitational waves cannot exist in the Newtonian theory of gravitation, which postulates that the physical interactions of gravity propagate at infinite speed.\\nThe first, indirect, detection of gravitational waves came in the 1970s through observation of a pair of closely orbiting neutron stars, PSR B1913+16. The explanation for the decay in their orbital period was that they were emitting gravitational waves. Einstein's prediction was confirmed on 11 February 2016, when researchers at LIGO published the first observation of gravitational waves, detected on Earth on 14 September 2015, nearly one hundred years after the prediction.\" metadata={'doc_source': 'wikipedia', 'wikipedia_page': 'Albert Einstein', 'doc_lang': 'en', 'doc_size': 83894, 'timestamp': 1702572674.745187, 'uuid': 'e7601851-2111-4b54-8711-f41e622ad562'}\n"
     ]
    },
    {
     "name": "stderr",
     "output_type": "stream",
     "text": [
      "\n",
      "llama_print_timings:        load time =    8142.94 ms\n",
      "llama_print_timings:      sample time =      32.95 ms /   337 runs   (    0.10 ms per token, 10228.24 tokens per second)\n",
      "llama_print_timings: prompt eval time =    1042.36 ms /   263 tokens (    3.96 ms per token,   252.31 tokens per second)\n",
      "llama_print_timings:        eval time =   11709.44 ms /   336 runs   (   34.85 ms per token,    28.69 tokens per second)\n",
      "llama_print_timings:       total time =   13176.92 ms\n",
      "Llama.generate: prefix-match hit\n"
     ]
    },
    {
     "name": "stdout",
     "output_type": "stream",
     "text": [
      "page_content=\"==== Hole argument and Entwurf theory ====\\nWhile developing general relativity, Einstein became confused about the gauge invariance in the theory. He formulated an argument that led him to conclude that a general relativistic field theory is impossible. He gave up looking for fully generally covariant tensor equations and searched for equations that would be invariant under general linear transformations only.In June 1913, the Entwurf ('draft') theory was the result of these investigations. As its name suggests, it was a sketch of a theory, less elegant and more difficult than general relativity, with the equations of motion supplemented by additional gauge fixing conditions. After more than two years of intensive work, Einstein realized that the hole argument was mistaken and abandoned the theory in November 1915.\\n\\n\\n==== Physical cosmology ====\" metadata={'doc_source': 'wikipedia', 'wikipedia_page': 'Albert Einstein', 'doc_lang': 'en', 'doc_size': 83894, 'timestamp': 1702572674.745187, 'uuid': 'c52ccb47-e664-4c81-9f55-c78e2708d6fa'}\n"
     ]
    },
    {
     "name": "stderr",
     "output_type": "stream",
     "text": [
      "\n",
      "llama_print_timings:        load time =    8142.94 ms\n",
      "llama_print_timings:      sample time =      26.55 ms /   292 runs   (    0.09 ms per token, 10997.70 tokens per second)\n",
      "llama_print_timings: prompt eval time =     812.74 ms /   199 tokens (    4.08 ms per token,   244.85 tokens per second)\n",
      "llama_print_timings:        eval time =   10078.45 ms /   291 runs   (   34.63 ms per token,    28.87 tokens per second)\n",
      "llama_print_timings:       total time =   11248.60 ms\n",
      "Llama.generate: prefix-match hit\n"
     ]
    },
    {
     "name": "stdout",
     "output_type": "stream",
     "text": [
      "page_content='In 1917, Einstein applied the general theory of relativity to the structure of the universe as a whole. He discovered that the general field equations predicted a universe that was dynamic, either contracting or expanding. As observational evidence for a dynamic universe was lacking at the time, Einstein introduced a new term, the cosmological constant, into the field equations, in order to allow the theory to predict a static universe. The modified field equations predicted a static universe of closed curvature, in accordance with Einstein\\'s understanding of Mach\\'s principle in these years. This model became known as the Einstein World or Einstein\\'s static universe.Following the discovery of the recession of the galaxies by Edwin Hubble in 1929, Einstein abandoned his static model of the universe, and proposed two dynamic models of the cosmos, the Friedmann–Einstein universe of 1931 and the Einstein–de Sitter universe of 1932. In each of these models, Einstein discarded the cosmological constant, claiming that it was \"in any case theoretically unsatisfactory\".In many Einstein biographies, it is claimed that Einstein referred to the cosmological constant in later years as his \"biggest blunder\", based on a letter George Gamow claimed to have received from him. The astrophysicist Mario Livio has cast doubt on this claim.In late 2013, a team led by the Irish physicist Cormac O\\'Raifeartaigh discovered evidence that, shortly after learning of Hubble\\'s observations of the' metadata={'doc_source': 'wikipedia', 'wikipedia_page': 'Albert Einstein', 'doc_lang': 'en', 'doc_size': 83894, 'timestamp': 1702572674.745187, 'uuid': 'd316d4e3-21b3-4656-95b9-ebef5a02d72b'}\n"
     ]
    },
    {
     "name": "stderr",
     "output_type": "stream",
     "text": [
      "\n",
      "llama_print_timings:        load time =    8142.94 ms\n",
      "llama_print_timings:      sample time =      62.79 ms /   653 runs   (    0.10 ms per token, 10400.24 tokens per second)\n",
      "llama_print_timings: prompt eval time =    1255.27 ms /   352 tokens (    3.57 ms per token,   280.42 tokens per second)\n",
      "llama_print_timings:        eval time =   23195.58 ms /   652 runs   (   35.58 ms per token,    28.11 tokens per second)\n",
      "llama_print_timings:       total time =   25325.27 ms\n",
      "Llama.generate: prefix-match hit\n"
     ]
    },
    {
     "name": "stdout",
     "output_type": "stream",
     "text": [
      "page_content='late 2013, a team led by the Irish physicist Cormac O\\'Raifeartaigh discovered evidence that, shortly after learning of Hubble\\'s observations of the recession of the galaxies, Einstein considered a steady-state model of the universe. In a hitherto overlooked manuscript, apparently written in early 1931, Einstein explored a model of the expanding universe in which the density of matter remains constant due to a continuous creation of matter, a process that he associated with the cosmological constant. As he stated in the paper, \"In what follows, I would like to draw attention to a solution to equation (1) that can account for Hubbel\\'s [sic] facts, and in which the density is constant over time\" ... \"If one considers a physically bounded volume, particles of matter will be continually leaving it. For the density to remain constant, new particles of matter must be continually formed in the volume from space.\"' metadata={'doc_source': 'wikipedia', 'wikipedia_page': 'Albert Einstein', 'doc_lang': 'en', 'doc_size': 83894, 'timestamp': 1702572674.745187, 'uuid': '130c8dfa-eaa6-4c7b-8846-b546118ee18f'}\n"
     ]
    },
    {
     "name": "stderr",
     "output_type": "stream",
     "text": [
      "\n",
      "llama_print_timings:        load time =    8142.94 ms\n",
      "llama_print_timings:      sample time =      30.53 ms /   314 runs   (    0.10 ms per token, 10286.65 tokens per second)\n",
      "llama_print_timings: prompt eval time =     835.39 ms /   223 tokens (    3.75 ms per token,   266.94 tokens per second)\n",
      "llama_print_timings:        eval time =   10877.39 ms /   313 runs   (   34.75 ms per token,    28.78 tokens per second)\n",
      "llama_print_timings:       total time =   12097.90 ms\n",
      "Llama.generate: prefix-match hit\n"
     ]
    },
    {
     "name": "stdout",
     "output_type": "stream",
     "text": [
      "page_content=\"It thus appears that Einstein considered a steady-state model of the expanding universe many years before Hoyle, Bondi and Gold. However, Einstein's steady-state model contained a fundamental flaw and he quickly abandoned the idea.\" metadata={'doc_source': 'wikipedia', 'wikipedia_page': 'Albert Einstein', 'doc_lang': 'en', 'doc_size': 83894, 'timestamp': 1702572674.745187, 'uuid': 'eb4a6b27-9871-4bdf-b349-c78e3cce246e'}\n"
     ]
    },
    {
     "name": "stderr",
     "output_type": "stream",
     "text": [
      "\n",
      "llama_print_timings:        load time =    8142.94 ms\n",
      "llama_print_timings:      sample time =      17.45 ms /   184 runs   (    0.09 ms per token, 10544.41 tokens per second)\n",
      "llama_print_timings: prompt eval time =     382.52 ms /    66 tokens (    5.80 ms per token,   172.54 tokens per second)\n",
      "llama_print_timings:        eval time =    6242.18 ms /   183 runs   (   34.11 ms per token,    29.32 tokens per second)\n",
      "llama_print_timings:       total time =    6843.95 ms\n",
      "Llama.generate: prefix-match hit\n"
     ]
    },
    {
     "name": "stdout",
     "output_type": "stream",
     "text": [
      "page_content=\"==== Energy momentum pseudotensor ====\\n\\nGeneral relativity includes a dynamical spacetime, so it is difficult to see how to identify the conserved energy and momentum. Noether's theorem allows these quantities to be determined from a Lagrangian with translation invariance, but general covariance makes translation invariance into something of a gauge symmetry. The energy and momentum derived within general relativity by Noether's prescriptions do not make a real tensor for this reason.Einstein argued that this is true for a fundamental reason: the gravitational field could be made to vanish by a choice of coordinates. He maintained that the non-covariant energy momentum pseudotensor was, in fact, the best description of the energy momentum distribution in a gravitational field. While the use of non-covariant objects like pseudotensors was criticized by Erwin Schrödinger and others, Einstein's approach has been echoed by physicists including Lev Landau and Evgeny Lifshitz.\" metadata={'doc_source': 'wikipedia', 'wikipedia_page': 'Albert Einstein', 'doc_lang': 'en', 'doc_size': 83894, 'timestamp': 1702572674.745187, 'uuid': '7df8f084-44a0-4ccb-a2ae-eece0f9776c2'}\n"
     ]
    },
    {
     "name": "stderr",
     "output_type": "stream",
     "text": [
      "\n",
      "llama_print_timings:        load time =    8142.94 ms\n",
      "llama_print_timings:      sample time =      49.58 ms /   522 runs   (    0.09 ms per token, 10527.80 tokens per second)\n",
      "llama_print_timings: prompt eval time =     897.91 ms /   238 tokens (    3.77 ms per token,   265.06 tokens per second)\n",
      "llama_print_timings:        eval time =   18328.39 ms /   521 runs   (   35.18 ms per token,    28.43 tokens per second)\n",
      "llama_print_timings:       total time =   19901.42 ms\n",
      "Llama.generate: prefix-match hit\n"
     ]
    },
    {
     "name": "stdout",
     "output_type": "stream",
     "text": [
      "page_content='==== Wormholes ====\\nIn 1935, Einstein collaborated with Nathan Rosen to produce a model of a wormhole, often called Einstein–Rosen bridges. His motivation was to model elementary particles with charge as a solution of gravitational field equations, in line with the program outlined in the paper \"Do Gravitational Fields play an Important Role in the Constitution of the Elementary Particles?\". These solutions cut and pasted Schwarzschild black holes to make a bridge between two patches. Because these solutions included spacetime curvature without the presence of a physical body, Einstein and Rosen suggested that they could provide the beginnings of a theory that avoided the notion of point particles. However, it was later found that Einstein–Rosen bridges are not stable.\\n\\n\\n==== Einstein–Cartan theory ====\\n\\nIn order to incorporate spinning point particles into general relativity, the affine connection needed to be generalized to include an antisymmetric part, called the torsion. This modification was made by Einstein and Cartan in the 1920s.\\n\\n\\n==== Equations of motion ====' metadata={'doc_source': 'wikipedia', 'wikipedia_page': 'Albert Einstein', 'doc_lang': 'en', 'doc_size': 83894, 'timestamp': 1702572674.745187, 'uuid': 'e34674c3-85ef-4acc-86ce-194a568c646a'}\n"
     ]
    },
    {
     "name": "stderr",
     "output_type": "stream",
     "text": [
      "\n",
      "llama_print_timings:        load time =    8142.94 ms\n",
      "llama_print_timings:      sample time =      39.62 ms /   418 runs   (    0.09 ms per token, 10550.49 tokens per second)\n",
      "llama_print_timings: prompt eval time =    1021.19 ms /   262 tokens (    3.90 ms per token,   256.56 tokens per second)\n",
      "llama_print_timings:        eval time =   14560.14 ms /   417 runs   (   34.92 ms per token,    28.64 tokens per second)\n",
      "llama_print_timings:       total time =   16114.16 ms\n",
      "Llama.generate: prefix-match hit\n"
     ]
    },
    {
     "name": "stdout",
     "output_type": "stream",
     "text": [
      "page_content='In general relativity, gravitational force is reimagined as curvature of spacetime. A curved path like an orbit is not the result of a force deflecting a body from an ideal straight-line path, but rather the body\\'s attempt to fall freely through a background that is itself curved by the presence of other masses. A remark by John Archibald Wheeler that has become proverbial among physicists summarizes the theory: \"Spacetime tells matter how to move; matter tells spacetime how to curve.\" The Einstein field equations cover the latter aspect of the theory, relating the curvature of spacetime to the distribution of matter and energy. The geodesic equation covers the former aspect, stating that freely falling bodies follow lines that are as straight as possible in a curved spacetime. Einstein regarded this as an \"independent fundamental assumption\" that had to be postulated in addition to the field equations in order to complete the theory. Believing this to be a shortcoming in how general relativity was originally presented, he wished to derive it from the field equations themselves. Since the equations of general relativity are non-linear, a lump of energy made out of pure gravitational fields, like a black hole, would move on a trajectory which is determined by the Einstein field equations themselves, not by a new law. Accordingly, Einstein proposed that the field equations would determine the path of a singular solution, like a black hole, to be a geodesic. Both physicists and' metadata={'doc_source': 'wikipedia', 'wikipedia_page': 'Albert Einstein', 'doc_lang': 'en', 'doc_size': 83894, 'timestamp': 1702572674.745187, 'uuid': '4b59603c-bc59-4740-9aef-cb23789adf38'}\n"
     ]
    },
    {
     "name": "stderr",
     "output_type": "stream",
     "text": [
      "\n",
      "llama_print_timings:        load time =    8142.94 ms\n",
      "llama_print_timings:      sample time =      44.23 ms /   459 runs   (    0.10 ms per token, 10376.40 tokens per second)\n",
      "llama_print_timings: prompt eval time =    1228.14 ms /   341 tokens (    3.60 ms per token,   277.65 tokens per second)\n",
      "llama_print_timings:        eval time =   16142.01 ms /   458 runs   (   35.24 ms per token,    28.37 tokens per second)\n",
      "llama_print_timings:       total time =   17958.97 ms\n",
      "Llama.generate: prefix-match hit\n"
     ]
    },
    {
     "name": "stdout",
     "output_type": "stream",
     "text": [
      "page_content='Einstein proposed that the field equations would determine the path of a singular solution, like a black hole, to be a geodesic. Both physicists and philosophers have often repeated the assertion that the geodesic equation can be obtained from applying the field equations to the motion of a gravitational singularity, but this claim remains disputed.' metadata={'doc_source': 'wikipedia', 'wikipedia_page': 'Albert Einstein', 'doc_lang': 'en', 'doc_size': 83894, 'timestamp': 1702572674.745187, 'uuid': '35de3dd2-43ef-43fb-8274-49daebb62480'}\n"
     ]
    },
    {
     "name": "stderr",
     "output_type": "stream",
     "text": [
      "\n",
      "llama_print_timings:        load time =    8142.94 ms\n",
      "llama_print_timings:      sample time =      22.84 ms /   258 runs   (    0.09 ms per token, 11296.96 tokens per second)\n",
      "llama_print_timings: prompt eval time =     401.30 ms /    93 tokens (    4.32 ms per token,   231.75 tokens per second)\n",
      "llama_print_timings:        eval time =    8799.14 ms /   257 runs   (   34.24 ms per token,    29.21 tokens per second)\n",
      "llama_print_timings:       total time =    9512.78 ms\n",
      "Llama.generate: prefix-match hit\n"
     ]
    },
    {
     "name": "stdout",
     "output_type": "stream",
     "text": [
      "page_content=\"=== Old quantum theory ===\\n\\n\\n==== Photons and energy quanta ====\\nIn a 1905 paper, Einstein postulated that light itself consists of localized particles (quanta). Einstein's light quanta were nearly universally rejected by all physicists, including Max Planck and Niels Bohr. This idea only became universally accepted in 1919, with Robert Millikan's detailed experiments on the photoelectric effect, and with the measurement of Compton scattering.\\nEinstein concluded that each wave of frequency f is associated with a collection of photons with energy hf each, where h is Planck's constant. He did not say much more, because he was not sure how the particles were related to the wave. But he did suggest that this idea would explain certain experimental results, notably the photoelectric effect.\\n\\n\\n==== Quantized atomic vibrations ====\\n\\nIn 1907, Einstein proposed a model of matter where each atom in a lattice structure is an independent harmonic oscillator. In the Einstein model, each atom oscillates independently—a series of equally spaced quantized states for each oscillator. Einstein was aware that getting the frequency of the actual oscillations would be difficult, but he nevertheless proposed this theory because it was a particularly clear demonstration that quantum mechanics could solve the specific heat problem in classical mechanics. Peter Debye refined this model.\\n\\n\\n==== Bose–Einstein statistics ====\" metadata={'doc_source': 'wikipedia', 'wikipedia_page': 'Albert Einstein', 'doc_lang': 'en', 'doc_size': 83894, 'timestamp': 1702572674.745187, 'uuid': 'e611fee9-8aa7-43b4-b5a6-8ccb2099b264'}\n"
     ]
    },
    {
     "name": "stderr",
     "output_type": "stream",
     "text": [
      "\n",
      "llama_print_timings:        load time =    8142.94 ms\n",
      "llama_print_timings:      sample time =      37.30 ms /   379 runs   (    0.10 ms per token, 10160.31 tokens per second)\n",
      "llama_print_timings: prompt eval time =    1219.92 ms /   332 tokens (    3.67 ms per token,   272.15 tokens per second)\n",
      "llama_print_timings:        eval time =   13284.77 ms /   378 runs   (   35.14 ms per token,    28.45 tokens per second)\n",
      "llama_print_timings:       total time =   14981.68 ms\n",
      "Llama.generate: prefix-match hit\n"
     ]
    },
    {
     "name": "stdout",
     "output_type": "stream",
     "text": [
      "page_content=\"==== Bose–Einstein statistics ====\\n\\nIn 1924, Einstein received a description of a statistical model from Indian physicist Satyendra Nath Bose, based on a counting method that assumed that light could be understood as a gas of indistinguishable particles. Einstein noted that Bose's statistics applied to some atoms as well as to the proposed light particles, and submitted his translation of Bose's paper to the Zeitschrift für Physik. Einstein also published his own articles describing the model and its implications, among them the Bose–Einstein condensate phenomenon that some particulates should appear at very low temperatures. It was not until 1995 that the first such condensate was produced experimentally by Eric Allin Cornell and Carl Wieman using ultra-cooling equipment built at the NIST–JILA laboratory at the University of Colorado at Boulder. Bose–Einstein statistics are now used to describe the behaviors of any assembly of bosons. Einstein's sketches for this project may be seen in the Einstein Archive in the library of the Leiden University.\" metadata={'doc_source': 'wikipedia', 'wikipedia_page': 'Albert Einstein', 'doc_lang': 'en', 'doc_size': 83894, 'timestamp': 1702572674.745187, 'uuid': 'dba31d63-76fe-4867-947e-82921472012f'}\n"
     ]
    },
    {
     "name": "stderr",
     "output_type": "stream",
     "text": [
      "\n",
      "llama_print_timings:        load time =    8142.94 ms\n",
      "llama_print_timings:      sample time =      43.87 ms /   449 runs   (    0.10 ms per token, 10234.78 tokens per second)\n",
      "llama_print_timings: prompt eval time =    1003.11 ms /   266 tokens (    3.77 ms per token,   265.18 tokens per second)\n",
      "llama_print_timings:        eval time =   15705.58 ms /   448 runs   (   35.06 ms per token,    28.52 tokens per second)\n",
      "llama_print_timings:       total time =   17286.51 ms\n",
      "Llama.generate: prefix-match hit\n"
     ]
    },
    {
     "name": "stdout",
     "output_type": "stream",
     "text": [
      "page_content='==== Wave–particle duality ====\\nAlthough the patent office promoted Einstein to Technical Examiner Second Class in 1906, he had not given up on academia. In 1908, he became a Privatdozent at the University of Bern. In \"Über die Entwicklung unserer Anschauungen über das Wesen und die Konstitution der Strahlung\" (\"The Development of our Views on the Composition and Essence of Radiation\"), on the quantization of light, and in an earlier 1909 paper, Einstein showed that Max Planck\\'s energy quanta must have well-defined momenta and act in some respects as independent, point-like particles. This paper introduced the photon concept (although the name photon was introduced later by Gilbert N. Lewis in 1926) and inspired the notion of wave–particle duality in quantum mechanics. Einstein saw this wave–particle duality in radiation as concrete evidence for his conviction that physics needed a new, unified foundation.' metadata={'doc_source': 'wikipedia', 'wikipedia_page': 'Albert Einstein', 'doc_lang': 'en', 'doc_size': 83894, 'timestamp': 1702572674.745187, 'uuid': '822ea8a5-9fcf-4bf0-95da-6619cf517c28'}\n"
     ]
    },
    {
     "name": "stderr",
     "output_type": "stream",
     "text": [
      "\n",
      "llama_print_timings:        load time =    8142.94 ms\n",
      "llama_print_timings:      sample time =      27.91 ms /   277 runs   (    0.10 ms per token,  9924.05 tokens per second)\n",
      "llama_print_timings: prompt eval time =     936.38 ms /   246 tokens (    3.81 ms per token,   262.71 tokens per second)\n",
      "llama_print_timings:        eval time =    9552.35 ms /   276 runs   (   34.61 ms per token,    28.89 tokens per second)\n",
      "llama_print_timings:       total time =   10833.27 ms\n",
      "Llama.generate: prefix-match hit\n"
     ]
    },
    {
     "name": "stdout",
     "output_type": "stream",
     "text": [
      "page_content='==== Zero-point energy ====\\nIn a series of works completed from 1911 to 1913, Planck reformulated his 1900 quantum theory and introduced the idea of zero-point energy in his \"second quantum theory\". Soon, this idea attracted the attention of Einstein and his assistant Otto Stern. Assuming the energy of rotating diatomic molecules contains zero-point energy, they then compared the theoretical specific heat of hydrogen gas with the experimental data. The numbers matched nicely. However, after publishing the findings, they promptly withdrew their support, because they no longer had confidence in the correctness of the idea of zero-point energy.\\n\\n\\n==== Stimulated emission ====\\nIn 1917, at the height of his work on relativity, Einstein published an article in Physikalische Zeitschrift that proposed the possibility of stimulated emission, the physical process that makes possible the maser and the laser.\\nThis article showed that the statistics of absorption and emission of light would only be consistent with Planck\\'s distribution law if the emission of light into a mode with n photons would be enhanced statistically compared to the emission of light into an empty mode. This paper was enormously influential in the later development of quantum mechanics, because it was the first paper to show that the statistics of atomic transitions had simple laws.' metadata={'doc_source': 'wikipedia', 'wikipedia_page': 'Albert Einstein', 'doc_lang': 'en', 'doc_size': 83894, 'timestamp': 1702572674.745187, 'uuid': '94246ae1-ba39-4a40-acc5-bf85c07a234e'}\n"
     ]
    },
    {
     "name": "stderr",
     "output_type": "stream",
     "text": [
      "\n",
      "llama_print_timings:        load time =    8142.94 ms\n",
      "llama_print_timings:      sample time =      28.51 ms /   298 runs   (    0.10 ms per token, 10451.37 tokens per second)\n",
      "llama_print_timings: prompt eval time =    1137.92 ms /   308 tokens (    3.69 ms per token,   270.67 tokens per second)\n",
      "llama_print_timings:        eval time =   10390.61 ms /   297 runs   (   34.99 ms per token,    28.58 tokens per second)\n",
      "llama_print_timings:       total time =   11893.97 ms\n",
      "Llama.generate: prefix-match hit\n"
     ]
    },
    {
     "name": "stdout",
     "output_type": "stream",
     "text": [
      "page_content='==== Matter waves ====\\nEinstein discovered Louis de Broglie\\'s work and supported his ideas, which were received skeptically at first. In another major paper from this era, Einstein observed that de Broglie waves could explain the quantization rules of Bohr and Sommerfeld. This paper would inspire Schrödinger\\'s work of 1926.\\n\\n\\n=== Quantum mechanics ===\\n\\n\\n==== Einstein\\'s objections to quantum mechanics ====\\nEinstein played a major role in developing quantum theory, beginning with his 1905 paper on the photoelectric effect. However, he became displeased with modern quantum mechanics as it had evolved after 1925, despite its acceptance by other physicists. He was skeptical that the randomness of quantum mechanics was fundamental rather than the result of determinism, stating that God \"is not playing at dice\". Until the end of his life, he continued to maintain that quantum mechanics was incomplete.\\n\\n\\n==== Bohr versus Einstein ====\\n\\n The Bohr–Einstein debates were a series of public disputes about quantum mechanics between Einstein and Niels Bohr, who were two of its founders. Their debates are remembered because of their importance to the philosophy of science. Their debates would influence later interpretations of quantum mechanics.\\n\\n\\n==== Einstein–Podolsky–Rosen paradox ====' metadata={'doc_source': 'wikipedia', 'wikipedia_page': 'Albert Einstein', 'doc_lang': 'en', 'doc_size': 83894, 'timestamp': 1702572674.745187, 'uuid': 'a0793181-3f3d-44d6-b61b-7d5aa6c1fa71'}\n"
     ]
    },
    {
     "name": "stderr",
     "output_type": "stream",
     "text": [
      "\n",
      "llama_print_timings:        load time =    8142.94 ms\n",
      "llama_print_timings:      sample time =      32.88 ms /   361 runs   (    0.09 ms per token, 10980.65 tokens per second)\n",
      "llama_print_timings: prompt eval time =    1225.90 ms /   324 tokens (    3.78 ms per token,   264.30 tokens per second)\n",
      "llama_print_timings:        eval time =   12676.09 ms /   360 runs   (   35.21 ms per token,    28.40 tokens per second)\n",
      "llama_print_timings:       total time =   14352.14 ms\n",
      "Llama.generate: prefix-match hit\n"
     ]
    },
    {
     "name": "stdout",
     "output_type": "stream",
     "text": [
      "page_content='Einstein never fully accepted quantum mechanics. While he recognized that it made correct predictions, he believed a more fundamental description of nature must be possible. Over the years he presented multiple arguments to this effect, but the one he preferred most dated to a debate with Bohr in 1930. Einstein suggested a thought experiment in which two objects are allowed to interact and then moved apart a great distance from each other. The quantum-mechanical description of the two objects is a mathematical entity known as a wavefunction. If the wavefunction that describes the two objects before their interaction is given, then the Schrödinger equation provides the wavefunction that describes them after their interaction. But because of what would later be called quantum entanglement, measuring one object would lead to an instantaneous change of the wavefunction describing the other object, no matter how far away it is. Moreover, the choice of which measurement to perform upon the first object would affect what wavefunction could result for the second object. Einstein reasoned that no influence could propagate from the first object to the second instantaneously fast. Indeed, he argued, physics depends on being able to tell one thing apart from another, and such instantaneous influences would call that into question. Because the true \"physical condition\" of the second object could not be immediately altered by an action done to the first, Einstein concluded, the' metadata={'doc_source': 'wikipedia', 'wikipedia_page': 'Albert Einstein', 'doc_lang': 'en', 'doc_size': 83894, 'timestamp': 1702572674.745187, 'uuid': '165f11fa-35e5-4b92-894b-e12eaabfa123'}\n"
     ]
    },
    {
     "name": "stderr",
     "output_type": "stream",
     "text": [
      "\n",
      "llama_print_timings:        load time =    8142.94 ms\n",
      "llama_print_timings:      sample time =      43.59 ms /   460 runs   (    0.09 ms per token, 10552.88 tokens per second)\n",
      "llama_print_timings: prompt eval time =    1116.23 ms /   305 tokens (    3.66 ms per token,   273.24 tokens per second)\n",
      "llama_print_timings:        eval time =   16120.07 ms /   459 runs   (   35.12 ms per token,    28.47 tokens per second)\n",
      "llama_print_timings:       total time =   17821.20 ms\n",
      "Llama.generate: prefix-match hit\n"
     ]
    },
    {
     "name": "stdout",
     "output_type": "stream",
     "text": [
      "page_content='Because the true \"physical condition\" of the second object could not be immediately altered by an action done to the first, Einstein concluded, the wavefunction could not be that true physical condition, only an incomplete description of it.A more famous version of this argument came in 1935, when Einstein published a paper with Boris Podolsky and Nathan Rosen that laid out what would become known as the EPR paradox. In this thought experiment, two particles interact in such a way that the wavefunction describing them is entangled. Then, no matter how far the two particles were separated, a precise position measurement on one particle would imply the ability to predict, perfectly, the result of measuring the position of the other particle. Likewise, a precise momentum measurement of one particle would result in an equally precise prediction for of the momentum of the other particle, without needing to disturb the other particle in any way. They argued that no action taken on the first particle could instantaneously affect the other, since this would involve information being transmitted faster than light, which is forbidden by the theory of relativity. They invoked a principle, later known as the \"EPR criterion of reality\", positing that: \"If, without in any way disturbing a system, we can predict with certainty (i.e., with probability equal to unity) the value of a physical quantity, then there exists an element of reality corresponding to that quantity.\" From this, they' metadata={'doc_source': 'wikipedia', 'wikipedia_page': 'Albert Einstein', 'doc_lang': 'en', 'doc_size': 83894, 'timestamp': 1702572674.745187, 'uuid': 'c1a57e83-bfed-429a-99b2-04b988f60d4b'}\n"
     ]
    },
    {
     "name": "stderr",
     "output_type": "stream",
     "text": [
      "\n",
      "llama_print_timings:        load time =    8142.94 ms\n",
      "llama_print_timings:      sample time =      29.30 ms /   300 runs   (    0.10 ms per token, 10237.86 tokens per second)\n",
      "llama_print_timings: prompt eval time =    1208.82 ms /   324 tokens (    3.73 ms per token,   268.03 tokens per second)\n",
      "llama_print_timings:        eval time =   10423.11 ms /   299 runs   (   34.86 ms per token,    28.69 tokens per second)\n",
      "llama_print_timings:       total time =   12003.18 ms\n",
      "Llama.generate: prefix-match hit\n"
     ]
    },
    {
     "name": "stdout",
     "output_type": "stream",
     "text": [
      "page_content='equal to unity) the value of a physical quantity, then there exists an element of reality corresponding to that quantity.\" From this, they inferred that the second particle must have a definite value of both position and of momentum prior to either quantity being measured. But quantum mechanics considers these two observables incompatible and thus does not associate simultaneous values for both to any system. Einstein, Podolsky, and Rosen therefore concluded that quantum theory does not provide a complete description of reality.In 1964, John Stewart Bell carried the analysis of quantum entanglement much further. He deduced that if measurements are performed independently on the two separated particles of an entangled pair, then the assumption that the outcomes depend upon hidden variables within each half implies a mathematical constraint on how the outcomes on the two measurements are correlated. This constraint would later be called a Bell inequality. Bell then showed that quantum physics predicts correlations that violate this inequality. Consequently, the only way that hidden variables could explain the predictions of quantum physics is if they are \"nonlocal\", which is to say that somehow the two particles are able to interact instantaneously no matter how widely they ever become separated. Bell argued that because an explanation of quantum phenomena in terms of hidden variables would require nonlocality, the EPR paradox \"is resolved in the way which Einstein would have' metadata={'doc_source': 'wikipedia', 'wikipedia_page': 'Albert Einstein', 'doc_lang': 'en', 'doc_size': 83894, 'timestamp': 1702572674.745187, 'uuid': '8ca26e22-b467-4faa-94f3-0529801e5fa3'}\n"
     ]
    },
    {
     "name": "stderr",
     "output_type": "stream",
     "text": [
      "\n",
      "llama_print_timings:        load time =    8142.94 ms\n",
      "llama_print_timings:      sample time =      37.39 ms /   394 runs   (    0.09 ms per token, 10538.14 tokens per second)\n",
      "llama_print_timings: prompt eval time =    1122.17 ms /   300 tokens (    3.74 ms per token,   267.34 tokens per second)\n",
      "llama_print_timings:        eval time =   13746.40 ms /   393 runs   (   34.98 ms per token,    28.59 tokens per second)\n",
      "llama_print_timings:       total time =   15364.92 ms\n",
      "Llama.generate: prefix-match hit\n"
     ]
    },
    {
     "name": "stdout",
     "output_type": "stream",
     "text": [
      "page_content='of quantum phenomena in terms of hidden variables would require nonlocality, the EPR paradox \"is resolved in the way which Einstein would have liked least\".Despite this, and although Einstein personally found the argument in the EPR paper overly complicated, that paper became among the most influential papers published in Physical Review. It is considered a centerpiece of the development of quantum information theory.' metadata={'doc_source': 'wikipedia', 'wikipedia_page': 'Albert Einstein', 'doc_lang': 'en', 'doc_size': 83894, 'timestamp': 1702572674.745187, 'uuid': '22915677-51ee-46eb-887d-fa97dcab1567'}\n"
     ]
    },
    {
     "name": "stderr",
     "output_type": "stream",
     "text": [
      "\n",
      "llama_print_timings:        load time =    8142.94 ms\n",
      "llama_print_timings:      sample time =      12.21 ms /   136 runs   (    0.09 ms per token, 11133.85 tokens per second)\n",
      "llama_print_timings: prompt eval time =     499.20 ms /   100 tokens (    4.99 ms per token,   200.32 tokens per second)\n",
      "llama_print_timings:        eval time =    4573.69 ms /   135 runs   (   33.88 ms per token,    29.52 tokens per second)\n",
      "llama_print_timings:       total time =    5232.85 ms\n",
      "Llama.generate: prefix-match hit\n"
     ]
    },
    {
     "name": "stdout",
     "output_type": "stream",
     "text": [
      "page_content='=== Unified field theory ===\\n\\nEncouraged by his success with general relativity, Einstein sought an even more ambitious geometrical theory that would treat gravitation and electromagnetism as aspects of a single entity. In 1950, he described his unified field theory in a Scientific American article titled \"On the Generalized Theory of Gravitation\". His attempt to find the most fundamental laws of nature won him praise but not success: a particularly conspicuous blemish of his model was that it did not accommodate the strong and weak nuclear forces, neither of which was well understood until many years after his death. Although most researchers now believe that Einstein\\'s approach to unifying physics was mistaken, his goal of a theory of everything is one to which his successors still aspire.\\n\\n\\n=== Other investigations ===\\n\\nEinstein conducted other investigations that were unsuccessful and abandoned. These pertain to force, superconductivity, and other research.\\n\\n\\n=== Collaboration with other scientists ===\\nIn addition to longtime collaborators Leopold Infeld, Nathan Rosen, Peter Bergmann and others, Einstein also had some one-shot collaborations with various scientists.\\n\\n\\n==== Einstein–de Haas experiment ====' metadata={'doc_source': 'wikipedia', 'wikipedia_page': 'Albert Einstein', 'doc_lang': 'en', 'doc_size': 83894, 'timestamp': 1702572674.745187, 'uuid': '19c731b3-4cd3-4f24-83c6-2a01da3d2787'}\n"
     ]
    },
    {
     "name": "stderr",
     "output_type": "stream",
     "text": [
      "\n",
      "llama_print_timings:        load time =    8142.94 ms\n",
      "llama_print_timings:      sample time =      43.49 ms /   470 runs   (    0.09 ms per token, 10807.33 tokens per second)\n",
      "llama_print_timings: prompt eval time =    1028.83 ms /   285 tokens (    3.61 ms per token,   277.01 tokens per second)\n",
      "llama_print_timings:        eval time =   16440.43 ms /   469 runs   (   35.05 ms per token,    28.53 tokens per second)\n",
      "llama_print_timings:       total time =   18066.54 ms\n",
      "Llama.generate: prefix-match hit\n"
     ]
    },
    {
     "name": "stdout",
     "output_type": "stream",
     "text": [
      "page_content='==== Einstein–de Haas experiment ====\\n\\nIn 1908, Owen Willans Richardson predicted that a change in the magnetic moment of a free body will cause this body to rotate. This effect is a consequence of the conservation of angular momentum and is strong enough to be observable in ferromagnetic materials. Einstein and Wander Johannes de Haas published two papers in 1915 claiming the first experimental observation of the effect. Measurements of this kind demonstrate that the phenomenon of magnetization is caused by the alignment (polarization) of the angular momenta of the electrons in the material along the axis of magnetization. These measurements also allow the separation of the two contributions to the magnetization: that which is associated with the spin and with the orbital motion of the electrons.\\n\\n\\n==== Einstein as an inventor ====\\nIn 1926, Einstein and his former student Leó Szilárd co-invented (and in 1930, patented) the Einstein refrigerator. This absorption refrigerator was then revolutionary for having no moving parts and using only heat as an input. On 11 November 1930, U.S. Patent 1,781,541 was awarded to Einstein and Leó Szilárd for the refrigerator. Their invention was not immediately put into commercial production, but the most promising of their patents were acquired by the Swedish company Electrolux.Einstein also invented an electromagnetic pump, sound reproduction device, and several other household devices.' metadata={'doc_source': 'wikipedia', 'wikipedia_page': 'Albert Einstein', 'doc_lang': 'en', 'doc_size': 83894, 'timestamp': 1702572674.745187, 'uuid': '39c62fe1-a913-4e48-b636-79454a759b31'}\n"
     ]
    },
    {
     "name": "stderr",
     "output_type": "stream",
     "text": [
      "\n",
      "llama_print_timings:        load time =    8142.94 ms\n",
      "llama_print_timings:      sample time =      56.82 ms /   594 runs   (    0.10 ms per token, 10454.62 tokens per second)\n",
      "llama_print_timings: prompt eval time =    1300.83 ms /   354 tokens (    3.67 ms per token,   272.13 tokens per second)\n",
      "llama_print_timings:        eval time =   20970.11 ms /   593 runs   (   35.36 ms per token,    28.28 tokens per second)\n",
      "llama_print_timings:       total time =   23058.17 ms\n",
      "Llama.generate: prefix-match hit\n"
     ]
    },
    {
     "name": "stdout",
     "output_type": "stream",
     "text": [
      "page_content=\"== Non-scientific legacy ==\\nWhile traveling, Einstein wrote daily to his wife Elsa and adopted stepdaughters Margot and Ilse. The letters were included in the papers bequeathed to the Hebrew University of Jerusalem. Margot Einstein permitted the personal letters to be made available to the public, but requested that it not be done until twenty years after her death (she died in 1986). Barbara Wolff, of the Hebrew University's Albert Einstein Archives, told the BBC that there are about 3,500 pages of private correspondence written between 1912 and 1955.Einstein's right of publicity was litigated in 2015 in a federal district court in California. Although the court initially held that the right had expired, that ruling was immediately appealed, and the decision was later vacated in its entirety. The underlying claims between the parties in that lawsuit were ultimately settled. The right is enforceable, and the Hebrew University of Jerusalem is the exclusive representative of that right. Corbis, successor to The Roger Richman Agency, licenses the use of his name and associated imagery, as agent for the university.Mount Einstein in the Chugach Mountains of Alaska was named in 1955.\\nMount Einstein in New Zealand's Paparoa Range was named after him in 1970 by the Department of Scientific and Industrial Research.\\n\\n\\n== In popular culture ==\" metadata={'doc_source': 'wikipedia', 'wikipedia_page': 'Albert Einstein', 'doc_lang': 'en', 'doc_size': 83894, 'timestamp': 1702572674.745187, 'uuid': '7e9e284b-ace3-4b13-b66d-0cbf21b176ea'}\n"
     ]
    },
    {
     "name": "stderr",
     "output_type": "stream",
     "text": [
      "\n",
      "llama_print_timings:        load time =    8142.94 ms\n",
      "llama_print_timings:      sample time =      39.80 ms /   444 runs   (    0.09 ms per token, 11155.50 tokens per second)\n",
      "llama_print_timings: prompt eval time =    1223.78 ms /   335 tokens (    3.65 ms per token,   273.74 tokens per second)\n",
      "llama_print_timings:        eval time =   15576.28 ms /   443 runs   (   35.16 ms per token,    28.44 tokens per second)\n",
      "llama_print_timings:       total time =   17360.01 ms\n",
      "Llama.generate: prefix-match hit\n"
     ]
    },
    {
     "name": "stdout",
     "output_type": "stream",
     "text": [
      "page_content='== In popular culture ==\\n\\nEinstein became one of the most famous scientific celebrities after the confirmation of his general theory of relativity in 1919. Although most of the public had little understanding of his work, he was widely recognized and admired. In the period before World War II, The New Yorker published a vignette in their \"The Talk of the Town\" feature saying that Einstein was so well known in America that he would be stopped on the street by people wanting him to explain \"that theory\". Eventually he came to cope with unwanted enquirers by pretending to be someone else: \"Pardon me, sorry! Always I am mistaken for Professor Einstein.\"Einstein has been the subject of or inspiration for many novels, films, plays, and works of music. He is a favorite model for depictions of absent-minded professors; his expressive face and distinctive hairstyle have been widely copied and exaggerated. Time magazine\\'s Frederic Golden wrote that Einstein was \"a cartoonist\\'s dream come true\".Many popular quotations are often misattributed to him. For example, it is often claimed, erroneously, that he said, \"The definition of insanity is doing the same thing over and over and expecting different results.\"\\n\\n\\n== Awards and honors ==' metadata={'doc_source': 'wikipedia', 'wikipedia_page': 'Albert Einstein', 'doc_lang': 'en', 'doc_size': 83894, 'timestamp': 1702572674.745187, 'uuid': '271f55e3-fd4b-447c-9f5d-ddae7f2395d3'}\n"
     ]
    },
    {
     "name": "stderr",
     "output_type": "stream",
     "text": [
      "\n",
      "llama_print_timings:        load time =    8142.94 ms\n",
      "llama_print_timings:      sample time =      28.47 ms /   290 runs   (    0.10 ms per token, 10187.23 tokens per second)\n",
      "llama_print_timings: prompt eval time =    1113.15 ms /   300 tokens (    3.71 ms per token,   269.50 tokens per second)\n",
      "llama_print_timings:        eval time =   10067.11 ms /   289 runs   (   34.83 ms per token,    28.71 tokens per second)\n",
      "llama_print_timings:       total time =   11537.95 ms\n",
      "Llama.generate: prefix-match hit\n"
     ]
    },
    {
     "name": "stdout",
     "output_type": "stream",
     "text": [
      "page_content='== Awards and honors ==\\n\\nEinstein received numerous awards and honors, and in 1922, he was awarded the 1921 Nobel Prize in Physics \"for his services to Theoretical Physics, and especially for his discovery of the law of the photoelectric effect\". None of the nominations in 1921 met the criteria set by Alfred Nobel, so the 1921 prize was carried forward and awarded to Einstein in 1922.Einsteinium, one of the synthetic elements in the periodic table, was named in his honor.\\n\\n\\n== Publications ==\\n\\n\\n=== Scientific ===\\n\\n\\n=== Others ===\\n\\n\\n== See also ==\\n\\n\\n== Notes ==\\n\\n\\n== References ==\\n\\n\\n=== Works cited ===\\n\\n\\n== Further reading ==\\n\\n\\n== External links ==' metadata={'doc_source': 'wikipedia', 'wikipedia_page': 'Albert Einstein', 'doc_lang': 'en', 'doc_size': 83894, 'timestamp': 1702572674.745187, 'uuid': '1d96c770-8f60-4850-8c20-075fefa6cfee'}\n"
     ]
    },
    {
     "name": "stderr",
     "output_type": "stream",
     "text": [
      "\n",
      "llama_print_timings:        load time =    8142.94 ms\n",
      "llama_print_timings:      sample time =       9.17 ms /   102 runs   (    0.09 ms per token, 11124.44 tokens per second)\n",
      "llama_print_timings: prompt eval time =     820.15 ms /   212 tokens (    3.87 ms per token,   258.49 tokens per second)\n",
      "llama_print_timings:        eval time =    3442.42 ms /   101 runs   (   34.08 ms per token,    29.34 tokens per second)\n",
      "llama_print_timings:       total time =    4380.67 ms\n",
      "Llama.generate: prefix-match hit\n"
     ]
    },
    {
     "name": "stdout",
     "output_type": "stream",
     "text": [
      "page_content='=== Others ===\\n\\n\\n== See also ==\\n\\n\\n== Notes ==\\n\\n\\n== References ==\\n\\n\\n=== Works cited ===\\n\\n\\n== Further reading ==\\n\\n\\n== External links ==\\n\\nAlbert Einstein at Curlie\\nWorks by Albert Einstein at Project Gutenberg\\nWorks by or about Albert Einstein at Internet Archive\\nWorks by Albert Einstein at LibriVox (public domain audiobooks) \\nEinstein\\'s Personal Correspondence: Religion, Politics, The Holocaust, and Philosophy Shapell Manuscript Foundation\\nFederal Bureau of Investigation file on Albert Einstein\\nEinstein and his love of music, Physics World\\nAlbert Einstein on Nobelprize.org  including the Nobel Lecture 11 July 1923 Fundamental ideas and problems of the theory of relativity\\nAlbert Einstein Archives Online (80,000+ Documents) Archived 11 August 2011 at the Wayback Machine (MSNBC, 19 March 2012)\\nEinstein\\'s declaration of intention for American citizenship on the World Digital Library\\nAlbert Einstein Collection at Brandeis University\\nThe Collected Papers of Albert Einstein \"Digital Einstein\" at Princeton University\\nNewspaper clippings about Albert Einstein in the 20th Century Press Archives of the ZBW\\nHome page of Albert Einstein at The Institute for Advanced Study\\nAlbert – The Digital Repository of the IAS, which contains many digitized original documents and photographs' metadata={'doc_source': 'wikipedia', 'wikipedia_page': 'Albert Einstein', 'doc_lang': 'en', 'doc_size': 83894, 'timestamp': 1702572674.745187, 'uuid': '111129cc-c0e3-4d23-990a-9c0e92125e03'}\n"
     ]
    },
    {
     "name": "stderr",
     "output_type": "stream",
     "text": [
      "\n",
      "llama_print_timings:        load time =    8142.94 ms\n",
      "llama_print_timings:      sample time =      66.33 ms /   714 runs   (    0.09 ms per token, 10764.52 tokens per second)\n",
      "llama_print_timings: prompt eval time =    1323.31 ms /   366 tokens (    3.62 ms per token,   276.58 tokens per second)\n",
      "llama_print_timings:        eval time =   25400.15 ms /   713 runs   (   35.62 ms per token,    28.07 tokens per second)\n",
      "llama_print_timings:       total time =   27692.44 ms\n"
     ]
    }
   ],
   "source": [
    "###### This may take a while ....\n",
    "from tqdm.notebook import trange, tqdm\n",
    "nodes_edges = {}\n",
    "for chunk in tqdm(chunks):\n",
    "    print(chunk)\n",
    "    uuid = chunk.metadata[\"uuid\"]\n",
    "    nodes_edges[uuid] = {}\n",
    "    nodes_edges[uuid]['content'] = chunk.page_content\n",
    "    nodes_edges[uuid]['metadata'] = chunk.metadata\n",
    "    response = extract_nodes_and_edges(chunk.page_content, llm, metadata=chunk.metadata)\n",
    "    nodes_edges[uuid]['node_edges'] = response\n"
   ]
  },
  {
   "cell_type": "code",
   "execution_count": 26,
   "id": "13adfe11-120d-480b-9e42-6871aeefa214",
   "metadata": {},
   "outputs": [],
   "source": [
    "with open(\"./output/db/einstein_nodes_edges.json\", \"w\") as f:\n",
    "    f.write(json.dumps(nodes_edges))"
   ]
  },
  {
   "cell_type": "code",
   "execution_count": 15,
   "id": "756e8526-bef5-4e03-8883-d964395e68a9",
   "metadata": {},
   "outputs": [],
   "source": [
    "with open(\"./output/db/einstein_nodes_edges.json\", \"r\") as f:\n",
    "    nodes_edges = json.loads(f.read())"
   ]
  },
  {
   "cell_type": "code",
   "execution_count": 16,
   "id": "abacbaae-9f91-48b5-a5c0-284abdeabe2f",
   "metadata": {},
   "outputs": [
    {
     "name": "stdout",
     "output_type": "stream",
     "text": [
      "[{'node_1': 'Albert Einstein', 'node_2': 'theory of relativity', 'edge': 'developed the theory of relativity', 'doc_source': 'wikipedia', 'wikipedia_page': 'Albert Einstein', 'doc_lang': 'en', 'doc_size': 83894, 'timestamp': 1702572674.745187, 'uuid': '0af897c6-3391-496e-a93c-a5a18b350f50'}, {'node_1': 'Albert Einstein', 'node_2': 'quantum mechanics', 'edge': 'made important contributions to quantum mechanics', 'doc_source': 'wikipedia', 'wikipedia_page': 'Albert Einstein', 'doc_lang': 'en', 'doc_size': 83894, 'timestamp': 1702572674.745187, 'uuid': '0af897c6-3391-496e-a93c-a5a18b350f50'}, {'node_1': 'Albert Einstein', 'node_2': 'mass–energy equivalence formula E=mc2', 'edge': 'developed the mass–energy equivalence formula E=mc2', 'doc_source': 'wikipedia', 'wikipedia_page': 'Albert Einstein', 'doc_lang': 'en', 'doc_size': 83894, 'timestamp': 1702572674.745187, 'uuid': '0af897c6-3391-496e-a93c-a5a18b350f50'}, {'node_1': 'Albert Einstein', 'node_2': 'photoelectric effect', 'edge': 'discovered the law of the photoelectric effect', 'doc_source': 'wikipedia', 'wikipedia_page': 'Albert Einstein', 'doc_lang': 'en', 'doc_size': 83894, 'timestamp': 1702572674.745187, 'uuid': '0af897c6-3391-496e-a93c-a5a18b350f50'}, {'node_1': 'Albert Einstein', 'node_2': 'quantum theory', 'edge': 'took a pivotal step in the development of quantum theory', 'doc_source': 'wikipedia', 'wikipedia_page': 'Albert Einstein', 'doc_lang': 'en', 'doc_size': 83894, 'timestamp': 1702572674.745187, 'uuid': '0af897c6-3391-496e-a93c-a5a18b350f50'}, {'node_1': 'Albert Einstein', 'node_2': 'Nobel Prize in Physics', 'edge': 'received the Nobel Prize in Physics for his services to theoretical physics and discovery of the photoelectric effect', 'doc_source': 'wikipedia', 'wikipedia_page': 'Albert Einstein', 'doc_lang': 'en', 'doc_size': 83894, 'timestamp': 1702572674.745187, 'uuid': '0af897c6-3391-496e-a93c-a5a18b350f50'}, {'node_1': 'Albert Einstein', 'node_2': 'philosophy of science', 'edge': 'influenced the philosophy of science', 'doc_source': 'wikipedia', 'wikipedia_page': 'Albert Einstein', 'doc_lang': 'en', 'doc_size': 83894, 'timestamp': 1702572674.745187, 'uuid': '0af897c6-3391-496e-a93c-a5a18b350f50'}, {'node_1': 'Albert Einstein', 'node_2': 'annus mirabilis', 'edge': 'published four groundbreaking papers in 1905, his annus mirabilis', 'doc_source': 'wikipedia', 'wikipedia_page': 'Albert Einstein', 'doc_lang': 'en', 'doc_size': 83894, 'timestamp': 1702572674.745187, 'uuid': '0af897c6-3391-496e-a93c-a5a18b350f50'}, {'node_1': 'Albert Einstein', 'node_2': 'classical mechanics', 'edge': 'addressed the inability of classical mechanics to explain certain phenomena with his special theory of relativity', 'doc_source': 'wikipedia', 'wikipedia_page': 'Albert Einstein', 'doc_lang': 'en', 'doc_size': 83894, 'timestamp': 1702572674.745187, 'uuid': '0af897c6-3391-496e-a93c-a5a18b350f50'}]\n"
     ]
    }
   ],
   "source": [
    "test = [nodes_edges[key]  for key in nodes_edges]\n",
    "print(test[0]['node_edges'])"
   ]
  },
  {
   "cell_type": "markdown",
   "id": "6e26ca7b-75d0-477a-9aac-1ac3d2e95548",
   "metadata": {},
   "source": [
    "## Understand Proximity"
   ]
  },
  {
   "cell_type": "markdown",
   "id": "51322b79-6528-4d85-be10-326ecd1327ff",
   "metadata": {},
   "source": [
    "### Semantic Proximity"
   ]
  },
  {
   "cell_type": "code",
   "execution_count": 17,
   "id": "a450030b-e10c-4956-9248-7b315bfd0204",
   "metadata": {},
   "outputs": [],
   "source": [
    "################ compute semantic proximity ###############\n",
    "import pandas as pd\n",
    "import numpy as np\n",
    "def semantic_proximity(nodes_edges) -> pd.DataFrame:\n",
    "    # index, source, target, relation, weight, uuid \" \n",
    "    data = {'source': [], 'target': [], 'relation': [], 'weight': [], 'uuids':[] }\n",
    "\n",
    "    for uuid in nodes_edges:\n",
    "        node_edges_list = nodes_edges[uuid]['node_edges']\n",
    "        for item in node_edges_list:\n",
    "            data['source'].append(item['node_1'])\n",
    "            data['target'].append(item['node_2'])\n",
    "            data['relation'].append(item.get('edge', np.nan))\n",
    "            data['weight'].append(1)\n",
    "            data['uuids'].append([uuid])\n",
    "            \n",
    "    ## Remove all NaN entities\n",
    "    graph_dataframe = pd.DataFrame.from_dict(data)\n",
    "    graph_dataframe = graph_dataframe.replace(\" \", np.nan)\n",
    "    graph_dataframe = graph_dataframe.replace(\"\", np.nan)\n",
    "    \n",
    "    graph_dataframe = graph_dataframe.dropna(subset=[\"source\", \"target\"])\n",
    "    \n",
    "    #graph_dataframe[\"source\"] = graph_dataframe[\"source\"].apply(lambda x: x.lower())\n",
    "    #graph_dataframe[\"target\"] = graph_dataframe[\"target\"].apply(lambda x: x.lower())\n",
    "\n",
    "    return graph_dataframe"
   ]
  },
  {
   "cell_type": "code",
   "execution_count": 18,
   "id": "d77590fb-1882-45a6-a6e7-006858655525",
   "metadata": {},
   "outputs": [
    {
     "name": "stdout",
     "output_type": "stream",
     "text": [
      "635\n"
     ]
    },
    {
     "data": {
      "text/html": [
       "<div>\n",
       "<style scoped>\n",
       "    .dataframe tbody tr th:only-of-type {\n",
       "        vertical-align: middle;\n",
       "    }\n",
       "\n",
       "    .dataframe tbody tr th {\n",
       "        vertical-align: top;\n",
       "    }\n",
       "\n",
       "    .dataframe thead th {\n",
       "        text-align: right;\n",
       "    }\n",
       "</style>\n",
       "<table border=\"1\" class=\"dataframe\">\n",
       "  <thead>\n",
       "    <tr style=\"text-align: right;\">\n",
       "      <th></th>\n",
       "      <th>source</th>\n",
       "      <th>target</th>\n",
       "      <th>relation</th>\n",
       "      <th>weight</th>\n",
       "      <th>uuids</th>\n",
       "    </tr>\n",
       "  </thead>\n",
       "  <tbody>\n",
       "    <tr>\n",
       "      <th>0</th>\n",
       "      <td>Albert Einstein</td>\n",
       "      <td>theory of relativity</td>\n",
       "      <td>developed the theory of relativity</td>\n",
       "      <td>1</td>\n",
       "      <td>[0af897c6-3391-496e-a93c-a5a18b350f50]</td>\n",
       "    </tr>\n",
       "    <tr>\n",
       "      <th>1</th>\n",
       "      <td>Albert Einstein</td>\n",
       "      <td>quantum mechanics</td>\n",
       "      <td>made important contributions to quantum mechanics</td>\n",
       "      <td>1</td>\n",
       "      <td>[0af897c6-3391-496e-a93c-a5a18b350f50]</td>\n",
       "    </tr>\n",
       "    <tr>\n",
       "      <th>2</th>\n",
       "      <td>Albert Einstein</td>\n",
       "      <td>mass–energy equivalence formula E=mc2</td>\n",
       "      <td>developed the mass–energy equivalence formula ...</td>\n",
       "      <td>1</td>\n",
       "      <td>[0af897c6-3391-496e-a93c-a5a18b350f50]</td>\n",
       "    </tr>\n",
       "    <tr>\n",
       "      <th>3</th>\n",
       "      <td>Albert Einstein</td>\n",
       "      <td>photoelectric effect</td>\n",
       "      <td>discovered the law of the photoelectric effect</td>\n",
       "      <td>1</td>\n",
       "      <td>[0af897c6-3391-496e-a93c-a5a18b350f50]</td>\n",
       "    </tr>\n",
       "    <tr>\n",
       "      <th>4</th>\n",
       "      <td>Albert Einstein</td>\n",
       "      <td>quantum theory</td>\n",
       "      <td>took a pivotal step in the development of quan...</td>\n",
       "      <td>1</td>\n",
       "      <td>[0af897c6-3391-496e-a93c-a5a18b350f50]</td>\n",
       "    </tr>\n",
       "  </tbody>\n",
       "</table>\n",
       "</div>"
      ],
      "text/plain": [
       "            source                                 target  \\\n",
       "0  Albert Einstein                   theory of relativity   \n",
       "1  Albert Einstein                      quantum mechanics   \n",
       "2  Albert Einstein  mass–energy equivalence formula E=mc2   \n",
       "3  Albert Einstein                   photoelectric effect   \n",
       "4  Albert Einstein                         quantum theory   \n",
       "\n",
       "                                            relation  weight  \\\n",
       "0                 developed the theory of relativity       1   \n",
       "1  made important contributions to quantum mechanics       1   \n",
       "2  developed the mass–energy equivalence formula ...       1   \n",
       "3     discovered the law of the photoelectric effect       1   \n",
       "4  took a pivotal step in the development of quan...       1   \n",
       "\n",
       "                                    uuids  \n",
       "0  [0af897c6-3391-496e-a93c-a5a18b350f50]  \n",
       "1  [0af897c6-3391-496e-a93c-a5a18b350f50]  \n",
       "2  [0af897c6-3391-496e-a93c-a5a18b350f50]  \n",
       "3  [0af897c6-3391-496e-a93c-a5a18b350f50]  \n",
       "4  [0af897c6-3391-496e-a93c-a5a18b350f50]  "
      ]
     },
     "execution_count": 18,
     "metadata": {},
     "output_type": "execute_result"
    }
   ],
   "source": [
    "df_sp = semantic_proximity(nodes_edges)\n",
    "print(len(df_sp))\n",
    "df_sp.head()"
   ]
  },
  {
   "cell_type": "code",
   "execution_count": 19,
   "id": "944a9ced-1350-4edb-a2b7-89a0bc8f44ca",
   "metadata": {},
   "outputs": [],
   "source": [
    "df_sp.to_csv(\"./output/db/einstein_semantic_proximity.csv\")\n",
    "df_sp.to_excel(\"./output/db/einstein_semantic_proximity.xlsx\")"
   ]
  },
  {
   "cell_type": "markdown",
   "id": "7bd23984-5f95-4150-afdf-41be2e7ae802",
   "metadata": {},
   "source": [
    "### Contextual Proximity"
   ]
  },
  {
   "cell_type": "code",
   "execution_count": 20,
   "id": "816bf6a6-31ac-472c-aeea-cd0e0280158c",
   "metadata": {},
   "outputs": [],
   "source": [
    "################ compute contextual proximity ###############\n",
    "#\n",
    "# look at each chunk and get a list of all concepts (nodes) \n",
    "# nodes that occure in the same chunk have contextual proximity\n",
    "# compute weight, if node - node pairs occure in many chunks.\n",
    "#\n",
    "#############################################################\n",
    "import pandas as pd\n",
    "import numpy as np\n",
    "import networkx as nx\n",
    "def contextual_proximity2Df(nodes_edges) -> pd.DataFrame:\n",
    "\n",
    "    projection = {}\n",
    "    \n",
    "    for uuid in nodes_edges:\n",
    "        node_edges_list = nodes_edges[uuid]['node_edges']\n",
    "        nodes = set()\n",
    "        for item in node_edges_list:\n",
    "            nodes.add(item['node_1'])\n",
    "            nodes.add(item['node_2'])\n",
    "            \n",
    "        for source in nodes:\n",
    "            for target in nodes:\n",
    "                if source != target:\n",
    "                    _key = (source, target)\n",
    "                    if _key not in projection:\n",
    "                        projection[_key] = set()\n",
    "                    projection[_key].add(uuid)\n",
    "\n",
    "    print(len(projection))\n",
    "    \n",
    "    # index, source, target, relation, weight, uuid \" \n",
    "    data = {'source': [], 'target': [], 'relation': [], 'weight': [], 'uuids':[] }\n",
    "    \n",
    "    for (source, target) in projection:\n",
    "                     \n",
    "        data['source'].append(source)\n",
    "        data['target'].append(target)\n",
    "        data['relation'].append(\"contextual proximity\")\n",
    "        data['weight'].append(len(projection[(source, target)]))\n",
    "        data['uuids'].append(list(projection[(source, target)]))\n",
    "\n",
    "    \n",
    "    ## Remove all NaN entities\n",
    "    graph_dataframe = pd.DataFrame.from_dict(data)\n",
    "    graph_dataframe = graph_dataframe.replace(\" \", np.nan)\n",
    "    graph_dataframe = graph_dataframe.replace(\"\", np.nan)\n",
    "    \n",
    "    graph_dataframe = graph_dataframe.dropna(subset=[\"source\", \"target\"])\n",
    "    \n",
    "    #graph_dataframe[\"source\"] = graph_dataframe[\"source\"].apply(lambda x: x.lower())\n",
    "    #graph_dataframe[\"target\"] = graph_dataframe[\"target\"].apply(lambda x: x.lower())\n",
    "\n",
    "    return graph_dataframe"
   ]
  },
  {
   "cell_type": "code",
   "execution_count": 21,
   "id": "9a15086a-64c8-476c-a9d3-cc3bc5400f97",
   "metadata": {},
   "outputs": [
    {
     "name": "stdout",
     "output_type": "stream",
     "text": [
      "8480\n"
     ]
    },
    {
     "data": {
      "text/html": [
       "<div>\n",
       "<style scoped>\n",
       "    .dataframe tbody tr th:only-of-type {\n",
       "        vertical-align: middle;\n",
       "    }\n",
       "\n",
       "    .dataframe tbody tr th {\n",
       "        vertical-align: top;\n",
       "    }\n",
       "\n",
       "    .dataframe thead th {\n",
       "        text-align: right;\n",
       "    }\n",
       "</style>\n",
       "<table border=\"1\" class=\"dataframe\">\n",
       "  <thead>\n",
       "    <tr style=\"text-align: right;\">\n",
       "      <th></th>\n",
       "      <th>source</th>\n",
       "      <th>target</th>\n",
       "      <th>relation</th>\n",
       "      <th>weight</th>\n",
       "      <th>uuids</th>\n",
       "    </tr>\n",
       "  </thead>\n",
       "  <tbody>\n",
       "    <tr>\n",
       "      <th>0</th>\n",
       "      <td>quantum theory</td>\n",
       "      <td>quantum mechanics</td>\n",
       "      <td>contextual proximity</td>\n",
       "      <td>1</td>\n",
       "      <td>[0af897c6-3391-496e-a93c-a5a18b350f50]</td>\n",
       "    </tr>\n",
       "    <tr>\n",
       "      <th>1</th>\n",
       "      <td>quantum theory</td>\n",
       "      <td>Albert Einstein</td>\n",
       "      <td>contextual proximity</td>\n",
       "      <td>1</td>\n",
       "      <td>[0af897c6-3391-496e-a93c-a5a18b350f50]</td>\n",
       "    </tr>\n",
       "    <tr>\n",
       "      <th>2</th>\n",
       "      <td>quantum theory</td>\n",
       "      <td>Nobel Prize in Physics</td>\n",
       "      <td>contextual proximity</td>\n",
       "      <td>1</td>\n",
       "      <td>[0af897c6-3391-496e-a93c-a5a18b350f50]</td>\n",
       "    </tr>\n",
       "    <tr>\n",
       "      <th>3</th>\n",
       "      <td>quantum theory</td>\n",
       "      <td>mass–energy equivalence formula E=mc2</td>\n",
       "      <td>contextual proximity</td>\n",
       "      <td>1</td>\n",
       "      <td>[0af897c6-3391-496e-a93c-a5a18b350f50]</td>\n",
       "    </tr>\n",
       "    <tr>\n",
       "      <th>4</th>\n",
       "      <td>quantum theory</td>\n",
       "      <td>theory of relativity</td>\n",
       "      <td>contextual proximity</td>\n",
       "      <td>1</td>\n",
       "      <td>[0af897c6-3391-496e-a93c-a5a18b350f50]</td>\n",
       "    </tr>\n",
       "  </tbody>\n",
       "</table>\n",
       "</div>"
      ],
      "text/plain": [
       "           source                                 target  \\\n",
       "0  quantum theory                      quantum mechanics   \n",
       "1  quantum theory                        Albert Einstein   \n",
       "2  quantum theory                 Nobel Prize in Physics   \n",
       "3  quantum theory  mass–energy equivalence formula E=mc2   \n",
       "4  quantum theory                   theory of relativity   \n",
       "\n",
       "               relation  weight                                   uuids  \n",
       "0  contextual proximity       1  [0af897c6-3391-496e-a93c-a5a18b350f50]  \n",
       "1  contextual proximity       1  [0af897c6-3391-496e-a93c-a5a18b350f50]  \n",
       "2  contextual proximity       1  [0af897c6-3391-496e-a93c-a5a18b350f50]  \n",
       "3  contextual proximity       1  [0af897c6-3391-496e-a93c-a5a18b350f50]  \n",
       "4  contextual proximity       1  [0af897c6-3391-496e-a93c-a5a18b350f50]  "
      ]
     },
     "execution_count": 21,
     "metadata": {},
     "output_type": "execute_result"
    }
   ],
   "source": [
    "df_cp = contextual_proximity2Df(nodes_edges)\n",
    "df_cp.head()"
   ]
  },
  {
   "cell_type": "code",
   "execution_count": 22,
   "id": "289e12eb-aeaa-46b0-a56f-957cb4b66f50",
   "metadata": {},
   "outputs": [],
   "source": [
    "### Visualize Proximity with Heatmap"
   ]
  },
  {
   "cell_type": "code",
   "execution_count": 23,
   "id": "e937179c-91a2-4682-bbb6-dc649bdd061c",
   "metadata": {},
   "outputs": [],
   "source": [
    "df_cp.to_csv(\"./output/db/einstein_contextual_proximity.csv\")\n",
    "df_cp.to_excel(\"./output/db/einstein_contextual_proximity.xlsx\")"
   ]
  },
  {
   "cell_type": "code",
   "execution_count": 24,
   "id": "3b4ab0af-834e-43fc-86cd-673927d34a56",
   "metadata": {},
   "outputs": [
    {
     "name": "stdout",
     "output_type": "stream",
     "text": [
      "9115\n"
     ]
    },
    {
     "data": {
      "text/html": [
       "<div>\n",
       "<style scoped>\n",
       "    .dataframe tbody tr th:only-of-type {\n",
       "        vertical-align: middle;\n",
       "    }\n",
       "\n",
       "    .dataframe tbody tr th {\n",
       "        vertical-align: top;\n",
       "    }\n",
       "\n",
       "    .dataframe thead th {\n",
       "        text-align: right;\n",
       "    }\n",
       "</style>\n",
       "<table border=\"1\" class=\"dataframe\">\n",
       "  <thead>\n",
       "    <tr style=\"text-align: right;\">\n",
       "      <th></th>\n",
       "      <th>source</th>\n",
       "      <th>target</th>\n",
       "      <th>relation</th>\n",
       "      <th>weight</th>\n",
       "      <th>uuids</th>\n",
       "    </tr>\n",
       "  </thead>\n",
       "  <tbody>\n",
       "    <tr>\n",
       "      <th>0</th>\n",
       "      <td>Albert Einstein</td>\n",
       "      <td>theory of relativity</td>\n",
       "      <td>developed the theory of relativity</td>\n",
       "      <td>1</td>\n",
       "      <td>[0af897c6-3391-496e-a93c-a5a18b350f50]</td>\n",
       "    </tr>\n",
       "    <tr>\n",
       "      <th>1</th>\n",
       "      <td>Albert Einstein</td>\n",
       "      <td>quantum mechanics</td>\n",
       "      <td>made important contributions to quantum mechanics</td>\n",
       "      <td>1</td>\n",
       "      <td>[0af897c6-3391-496e-a93c-a5a18b350f50]</td>\n",
       "    </tr>\n",
       "    <tr>\n",
       "      <th>2</th>\n",
       "      <td>Albert Einstein</td>\n",
       "      <td>mass–energy equivalence formula E=mc2</td>\n",
       "      <td>developed the mass–energy equivalence formula ...</td>\n",
       "      <td>1</td>\n",
       "      <td>[0af897c6-3391-496e-a93c-a5a18b350f50]</td>\n",
       "    </tr>\n",
       "    <tr>\n",
       "      <th>3</th>\n",
       "      <td>Albert Einstein</td>\n",
       "      <td>photoelectric effect</td>\n",
       "      <td>discovered the law of the photoelectric effect</td>\n",
       "      <td>1</td>\n",
       "      <td>[0af897c6-3391-496e-a93c-a5a18b350f50]</td>\n",
       "    </tr>\n",
       "    <tr>\n",
       "      <th>4</th>\n",
       "      <td>Albert Einstein</td>\n",
       "      <td>quantum theory</td>\n",
       "      <td>took a pivotal step in the development of quan...</td>\n",
       "      <td>1</td>\n",
       "      <td>[0af897c6-3391-496e-a93c-a5a18b350f50]</td>\n",
       "    </tr>\n",
       "  </tbody>\n",
       "</table>\n",
       "</div>"
      ],
      "text/plain": [
       "            source                                 target  \\\n",
       "0  Albert Einstein                   theory of relativity   \n",
       "1  Albert Einstein                      quantum mechanics   \n",
       "2  Albert Einstein  mass–energy equivalence formula E=mc2   \n",
       "3  Albert Einstein                   photoelectric effect   \n",
       "4  Albert Einstein                         quantum theory   \n",
       "\n",
       "                                            relation  weight  \\\n",
       "0                 developed the theory of relativity       1   \n",
       "1  made important contributions to quantum mechanics       1   \n",
       "2  developed the mass–energy equivalence formula ...       1   \n",
       "3     discovered the law of the photoelectric effect       1   \n",
       "4  took a pivotal step in the development of quan...       1   \n",
       "\n",
       "                                    uuids  \n",
       "0  [0af897c6-3391-496e-a93c-a5a18b350f50]  \n",
       "1  [0af897c6-3391-496e-a93c-a5a18b350f50]  \n",
       "2  [0af897c6-3391-496e-a93c-a5a18b350f50]  \n",
       "3  [0af897c6-3391-496e-a93c-a5a18b350f50]  \n",
       "4  [0af897c6-3391-496e-a93c-a5a18b350f50]  "
      ]
     },
     "execution_count": 24,
     "metadata": {},
     "output_type": "execute_result"
    }
   ],
   "source": [
    "################ Concat dataframe ################\n",
    "df = pd.concat([df_sp,df_cp])\n",
    "print(len(df))\n",
    "df.head()"
   ]
  },
  {
   "cell_type": "code",
   "execution_count": 25,
   "id": "334c42e6-e44d-410f-aec0-1ecbd0b85ceb",
   "metadata": {},
   "outputs": [],
   "source": [
    "df.to_csv(\"./output/db/einstein_graph_data.csv\")\n",
    "df.to_excel(\"./output/db/einstein_graph_data.xlsx\")"
   ]
  },
  {
   "cell_type": "markdown",
   "id": "8f3ebe4f-debd-4474-8cc2-c5587739ddcf",
   "metadata": {},
   "source": [
    "## Build a Graph with NetworkX"
   ]
  },
  {
   "cell_type": "code",
   "execution_count": 26,
   "id": "df86d6b8-16e6-44a9-862d-2ea8d63caf6d",
   "metadata": {},
   "outputs": [
    {
     "data": {
      "text/html": [
       "<div>\n",
       "<style scoped>\n",
       "    .dataframe tbody tr th:only-of-type {\n",
       "        vertical-align: middle;\n",
       "    }\n",
       "\n",
       "    .dataframe tbody tr th {\n",
       "        vertical-align: top;\n",
       "    }\n",
       "\n",
       "    .dataframe thead th {\n",
       "        text-align: right;\n",
       "    }\n",
       "</style>\n",
       "<table border=\"1\" class=\"dataframe\">\n",
       "  <thead>\n",
       "    <tr style=\"text-align: right;\">\n",
       "      <th></th>\n",
       "      <th>source</th>\n",
       "      <th>target</th>\n",
       "      <th>relation</th>\n",
       "      <th>weight</th>\n",
       "      <th>uuids</th>\n",
       "    </tr>\n",
       "  </thead>\n",
       "  <tbody>\n",
       "    <tr>\n",
       "      <th>0</th>\n",
       "      <td>Albert Einstein</td>\n",
       "      <td>theory of relativity</td>\n",
       "      <td>developed the theory of relativity</td>\n",
       "      <td>1</td>\n",
       "      <td>[0af897c6-3391-496e-a93c-a5a18b350f50]</td>\n",
       "    </tr>\n",
       "    <tr>\n",
       "      <th>1</th>\n",
       "      <td>Albert Einstein</td>\n",
       "      <td>quantum mechanics</td>\n",
       "      <td>made important contributions to quantum mechanics</td>\n",
       "      <td>1</td>\n",
       "      <td>[0af897c6-3391-496e-a93c-a5a18b350f50]</td>\n",
       "    </tr>\n",
       "    <tr>\n",
       "      <th>2</th>\n",
       "      <td>Albert Einstein</td>\n",
       "      <td>mass–energy equivalence formula E=mc2</td>\n",
       "      <td>developed the mass–energy equivalence formula ...</td>\n",
       "      <td>1</td>\n",
       "      <td>[0af897c6-3391-496e-a93c-a5a18b350f50]</td>\n",
       "    </tr>\n",
       "    <tr>\n",
       "      <th>3</th>\n",
       "      <td>Albert Einstein</td>\n",
       "      <td>photoelectric effect</td>\n",
       "      <td>discovered the law of the photoelectric effect</td>\n",
       "      <td>1</td>\n",
       "      <td>[0af897c6-3391-496e-a93c-a5a18b350f50]</td>\n",
       "    </tr>\n",
       "    <tr>\n",
       "      <th>4</th>\n",
       "      <td>Albert Einstein</td>\n",
       "      <td>quantum theory</td>\n",
       "      <td>took a pivotal step in the development of quan...</td>\n",
       "      <td>1</td>\n",
       "      <td>[0af897c6-3391-496e-a93c-a5a18b350f50]</td>\n",
       "    </tr>\n",
       "  </tbody>\n",
       "</table>\n",
       "</div>"
      ],
      "text/plain": [
       "            source                                 target  \\\n",
       "0  Albert Einstein                   theory of relativity   \n",
       "1  Albert Einstein                      quantum mechanics   \n",
       "2  Albert Einstein  mass–energy equivalence formula E=mc2   \n",
       "3  Albert Einstein                   photoelectric effect   \n",
       "4  Albert Einstein                         quantum theory   \n",
       "\n",
       "                                            relation  weight  \\\n",
       "0                 developed the theory of relativity       1   \n",
       "1  made important contributions to quantum mechanics       1   \n",
       "2  developed the mass–energy equivalence formula ...       1   \n",
       "3     discovered the law of the photoelectric effect       1   \n",
       "4  took a pivotal step in the development of quan...       1   \n",
       "\n",
       "                                    uuids  \n",
       "0  [0af897c6-3391-496e-a93c-a5a18b350f50]  \n",
       "1  [0af897c6-3391-496e-a93c-a5a18b350f50]  \n",
       "2  [0af897c6-3391-496e-a93c-a5a18b350f50]  \n",
       "3  [0af897c6-3391-496e-a93c-a5a18b350f50]  \n",
       "4  [0af897c6-3391-496e-a93c-a5a18b350f50]  "
      ]
     },
     "execution_count": 26,
     "metadata": {},
     "output_type": "execute_result"
    }
   ],
   "source": [
    "################ Correct some data in dataframe\n",
    "# \"Albert Einstein\" and \"Einstein\" should be the same node / concept\n",
    "df = df.replace(\"Einstein\", \"Albert Einstein\")\n",
    "df.head()"
   ]
  },
  {
   "cell_type": "code",
   "execution_count": 27,
   "id": "1a79718c-34f8-4250-af5c-367f08458a2d",
   "metadata": {},
   "outputs": [],
   "source": [
    "df.to_csv(\"./output/db/einstein_graph_data_cleaned.csv\")\n",
    "df.to_excel(\"./output/db/einstein_graph_data_cleaned.xlsx\")"
   ]
  },
  {
   "cell_type": "code",
   "execution_count": 28,
   "id": "13507721-5719-42fb-981b-b91087626697",
   "metadata": {},
   "outputs": [
    {
     "name": "stdout",
     "output_type": "stream",
     "text": [
      "(720,)\n",
      "MultiDiGraph with 720 nodes and 9115 edges\n"
     ]
    }
   ],
   "source": [
    "################ Build the graph with networkx #################\n",
    "nodes = pd.concat([df['source'], df['target']], axis=0).unique()\n",
    "print(nodes.shape)\n",
    "\n",
    "G = nx.MultiDiGraph()\n",
    "\n",
    "## Add nodes to the graph\n",
    "for node in nodes:\n",
    "    G.add_node(\n",
    "        str(node),\n",
    "        title=str(node)\n",
    "    )\n",
    "\n",
    "## Add edges to the graph\n",
    "for index, row in df.iterrows():\n",
    "    relation_type = \"contextual proximity\" if row[\"relation\"] == \"contextual proximity\" else \"semantic proximity\"\n",
    "    G.add_edge(\n",
    "        str(row[\"source\"]),\n",
    "        str(row[\"target\"]),\n",
    "        title=str(row[\"relation\"]),\n",
    "        type=relation_type,\n",
    "        weight=row['weight'],\n",
    "        uuid=row['uuids']\n",
    "    )\n",
    "print(G)"
   ]
  },
  {
   "cell_type": "code",
   "execution_count": 30,
   "id": "46141f1e-1990-4ded-9822-2aa656ea7327",
   "metadata": {},
   "outputs": [
    {
     "name": "stdout",
     "output_type": "stream",
     "text": [
      "MultiDiGraph with 720 nodes and 8478 edges\n"
     ]
    }
   ],
   "source": [
    "# Condense multi directed graph to directed graph\n",
    "# which proximity should be used?\n",
    "# first strategy: eliminate contextual proximity, if there is semantic proximity in place\n",
    "\n",
    "edge_dict = {}\n",
    "\n",
    "for (source, target, key, data) in G.edges(keys=True, data=True):\n",
    "    edge_key = (source, target)\n",
    "    if edge_key not in edge_dict:\n",
    "        edge_dict[edge_key] = []\n",
    "    edge_dict[edge_key].append((source, target, key, data))\n",
    "\n",
    "to_be_deleted = []\n",
    "\n",
    "for edge_key in edge_dict:\n",
    "    if len(edge_dict[edge_key]) > 1:\n",
    "        edges = edge_dict[edge_key]\n",
    "        # delete all contextual proximity edges\n",
    "        for (source, target, key, data) in edges:\n",
    "            if data['type'] == 'contextual proximity':\n",
    "                to_be_deleted.append((source, target, key))\n",
    "                #print(source, target, key)\n",
    "\n",
    "for source, target, key in to_be_deleted:\n",
    "    G.remove_edge(source, target, key=key)\n",
    "\n",
    "print(G)"
   ]
  },
  {
   "cell_type": "code",
   "execution_count": 31,
   "id": "1afae46b-a659-443d-810c-9848084dfbe2",
   "metadata": {},
   "outputs": [
    {
     "name": "stdout",
     "output_type": "stream",
     "text": [
      "Number of Communities =  19\n",
      "[['15 January 1906', '1666', '1902–1909', '1905', 'A New Determination of Molecular Dimensions', 'Abba Eban', 'Academic Assistance Council', 'Adolf Hitler', 'Albert Einstein', 'Albert Einstein House', 'Alexis de Tocqueville', 'Alfred Einstein', 'Alfred Kleiner', \"Allies' technology\", 'America', 'American Academy of Arts and Sciences', 'American Philosophical Society', 'American character', 'American citizen', 'American citizenship', 'Annus Mirabilis papers', 'Anti-Semitism', 'Argentina', 'Argentine scholars', 'Argentine-Germanic Cultural Institution', 'Argovian cantonal school (a gymnasium) in Aarau, Switzerland', 'Asia', 'Asociación Hebraica Argentina', 'Assistant', 'Atomistic constitution of matter', 'Austro-Hungarian Empire', \"Beethoven and Mozart's works\", \"Beethoven's violin sonatas\", 'Bell inequality', \"Bell's argument\", 'Berlin', 'Betty Neumann', 'Bible', 'Bohr', 'Bolsheviks', 'Bondi and Gold', 'Boris Podolsky and Nathan Rosen', 'Bose–Einstein condensate phenomenon', 'Bose–Einstein statistics', 'Brandeis University', 'Brazil', 'British citizenship', 'British universities', 'Brownian motion', 'Bruria Kaufman', 'California Institute of Technology', 'California federal district court', 'Caltech president', 'Carl Laemmle', 'Catholic elementary school', 'Chaim Weizmann', 'Charlie Chaplin', 'Chemical Institute', 'Chinatown', 'Chinese people', 'Christ Church, Oxford', 'City Lights film', 'Collaborations', 'Columbia University', 'Commander Oliver Locker-Lampson', 'Conclusions from the capillarity phenomena', 'Continuum Mechanics', 'Corbis', \"Cormac O'Raifeartaigh\", 'Council of the University of Buenos Aires', 'Critical opalescence', 'David Hume', 'De Haan, Belgium', 'Death', 'Debate with Bohr in 1930', 'Deir Yassin', 'Deir Yassin massacre', 'Democracy in America (1835)', 'Democratic global government', 'Density variations in a fluid', 'Deutsche Vegetarier-Bund', 'Digital Repository of the IAS', 'Director', 'E=mc^2', 'EPR criterion of reality', 'EPR paper', 'EPR paradox', 'ETH Zurich', \"Eddington's eclipse observations\", 'Eduard', 'Edwin Hubble', 'Effect of density fluctuations', 'Einstein World', 'Einstein field equations', 'Einstein refrigerator', \"Einstein's 1905 work on relativity\", \"Einstein's PhD\", \"Einstein's absence\", \"Einstein's approach\", \"Einstein's brain\", \"Einstein's doctoral dissertation\", \"Einstein's essay\", \"Einstein's first paper\", \"Einstein's letters\", \"Einstein's level of coordination and intonation\", \"Einstein's new life\", \"Einstein's notion of light\", \"Einstein's personal archives, library, and intellectual assets\", \"Einstein's prediction\", \"Einstein's right of publicity\", \"Einstein's sabbatical as a civil servant\", \"Einstein's special theory of relativity\", \"Einstein's static universe\", \"Einstein's steady-state model\", \"Einstein's translation of Bose's paper\", \"Einstein's travels\", \"Einstein's visit\", \"Einstein's works\", 'Einstein-Podolsky-Rosen paradox', 'Einsteinium', 'Einstein–de Haas effect', 'Einstein–de Haas experiment', 'Einstein–de Sitter universe', 'Electrolux', 'Elektrotechnische Fabrik J. Einstein & Cie', 'Elsa', 'Elsa Löwenthal', 'Enabling Act', 'Endorsement of letter', 'Enemies of the German regime', 'Energy momentum pseudotensor', 'Entwurf theory', 'Equivalence principle', 'Eric Drummond', 'Ernst Mach', 'Erwin Schrödinger', 'Estella Katzenellenbogen', 'Ethel Michanowski', 'Ethical Culture', 'Evgeny Lifshitz', 'FBI', 'Federal Bureau of Investigation file on Albert Einstein', 'Federal polytechnic school', 'Federal polytechnic school (later ETH) in Zürich, Switzerland', 'First Humanist Society of New York', 'First World War', 'Folgerungen aus den Capillaritätserscheinungen', 'Founded in April 1933', 'Frederick Lindemann', 'Friedmann–Einstein universe', \"Gandhi's disciple\", 'General covariance', 'General relativity', 'General theory of relativity', 'German Charles-Ferdinand University in Prague', 'German Democratic Party', 'German Empire', 'German Kingdom of Württemberg', 'German Physical Society', 'German Student Union', 'German citizenship', 'German delegate', 'German diplomat', 'German government', 'German regime', 'German-language letter to philosopher Eric Gutkind', 'Germany', 'Gestapo', 'Gonzague de Reynold', \"Gymnasium's regimen and teaching methods\", 'Hans Albert', 'Hans Mühsam', 'Heart and kidney problems', 'Hebrew University', 'Hebrew University of Jerusalem', 'Hendrik Lorentz', 'Henri Poincaré', 'Hermann Einstein', 'Herut (Freedom) Party', 'His mother', 'Historians of physics', 'Hoyle', \"Hubble's observations of the universe\", 'Humboldt University', 'Humboldt University of Berlin', 'Hungarian scientists group', 'Ilse', 'Imperial Palace', 'India', 'Indian people', 'Instantaneous influence', 'Institute for Advanced Study', 'Institute for Advanced Study, Princeton, New Jersey, US', 'Institute of Agriculture', 'Institute of Microbiology', 'International Committee on Intellectual Cooperation', 'International Honorary Member', 'International Member', 'Internet Archive', 'Irgun', 'Isaac Newton', 'Israel', 'Israeli president Weizmann', 'J. Robert Oppenheimer', 'Jakob', 'Japan', 'Jewish', 'Jewish citizenship in Palestine', 'Jewish invitees to Turkey', 'Jewish nationalism', 'Jewish religion', 'Jewish scientists', 'Jews', 'John Stewart Bell', 'John von Neumann, Kurt Gödel, Hermann Weyl', 'Jorge Duclout', 'Joseph Goebbels', \"Jost Winteler's family\", 'Juilliard Quartet', 'July 1921', 'Kaiser Wilhelm Institute for Physics', \"Kant's Critique of Pure Reason\", 'King Alfonso XIII', \"King's College\", 'Kingdom of Prussia', 'Kingdom of Württemberg', 'Kurt Gödel', 'LIGO', 'Laws barring Jews', 'League of Nations', 'League of Nations position', 'Lehi', 'Leopold Infeld', 'Lev Landau', 'Leó Szilárd', 'LibriVox', 'Lincoln University', 'London', 'Lorentz invariance', \"Louis de Broglie's work\", 'Love of music', \"Luitpold's authorities\", 'Luitpold-Gymnasium', 'Löwenthal', 'Madison Square Garden', 'Mahatma Gandhi', 'Mandatory Palestine', 'Manifesto of the Ninety-Three', 'Marcel Grossman', 'Marcel Grossmann', 'Margarete Lebach', 'Margarita Konenkova', 'Margot', 'Margot Einstein', \"Marie (Winteler's daughter)\", 'Marie Curie', 'Marie Winteler', 'Marić', 'Mathematics', 'Mathematics and physics teaching diploma program', 'Matura', 'Mauricio Nirenstein', 'Max Born', 'Max Planck', 'Max Planck and Walther Nernst', \"Maxwell's equations\", 'Mayor Jimmy Walker', 'Mayor John Francis Hylan', 'Metropolitan Opera', 'Mileva Marić', \"Milić's contribution to Einstein's insights\", 'Molecular Theory of Heat', 'More fundamental description of nature', 'Mount Einstein', 'Mount Einstein in Alaska', \"Mozart's compositions\", 'Music', 'NIST-JILA laboratory', 'Nathan Rosen', 'National Academy of Sciences', 'National Association for the Advancement of Colored People (NAACP)', 'National Historic Landmark', 'Nazi and Fascist parties', 'Nazi atomic bomb research', 'Nazi propaganda minister', 'Nazi regime', 'Nazis', 'New Humanist', 'New York City', 'New York Times', 'New Yorker', \"New Zealand's Paparoa Range\", 'Newtonian mechanics', 'Newtonian theory of gravitation', 'Nobel Prize', 'Nobel Prize in Physics', 'Nobel citation', 'Nobel prize ceremony', 'Nobelprize.org', \"Noether's theorem\", 'Non-covariant energy momentum pseudotensor', 'Non-covariant objects', 'Novi Sad', 'Old quantum theory', 'Olsberg, Switzerland', 'Olympia Academy', 'Oriental Studies Institute', 'Oskar Halecki', 'Other scientists', 'PSR B1913+16', 'Pacifist', 'Pauline Koch', 'Permanent position', 'Peter Bergmann', 'PhD dissertation', 'Photoelectric effect', 'Photons and energy quanta', 'Physical Review', 'Physicist and friend', 'Physics', 'Physics World', 'Planck spectrum', 'Podolsky', 'President Roosevelt', 'Prime Minister David Ben-Gurion', 'Princeton', 'Princeton University', 'Project Gutenberg', 'Prussian Academy', 'Prussian Academy of Sciences', 'Published works', 'Pythagorean theorem', 'Quantized atomic vibrations', 'Quantum Mechanics', 'Quantum entanglement', 'Quantum physics', 'Rationalist Association', 'Rayleigh scattering', 'Relativistic Theory of Gravitation', 'Resident Scholar', 'Riverside Church', 'Robert A. Millikan', 'Royal Albert Hall', 'Royal Netherlands Academy of Arts and Sciences', 'Royal Society', \"Royal Society's Copley Medal\", 'Rudolph Nissen', 'Santiago Ramón y Cajal', 'Schizophrenia', 'Schrödinger equation', 'Scientific American article', 'Scientific career', 'Shapell Manuscript Foundation', 'Singapore', 'Sir Herbert Samuel', 'South America', 'Spanish Academy of Sciences', 'Special theory of relativity', \"Spinoza's philosophy\", 'Sri Lanka', 'Statistical mechanics', 'Strong and weak nuclear forces', 'Swiss Federal polytechnic school in Zürich', 'Swiss Patent Office', 'Swiss citizenship', 'Swiss thinker', 'Switzerland', 'Telling one thing apart from another', 'Territorial claims', 'The Institute for Advanced Study', 'The New York Times', 'Theoretical Physics', 'Theoretical physics', 'Theory of everything', 'Thermodynamic fluctuations', 'Thermodynamic fluctuations and statistical physics', 'Thermodynamics and Analytical Mechanics', 'Thomas Stoltz Harvey', 'Thought experiment', 'Toni Mendel', 'Translation invariance', 'True physical condition of the second object', 'Two objects', 'U.S. Patent 1,781,541', 'Ulm', 'Unified field theory', 'United States', 'University of Zurich', 'Upton Sinclair', 'Uruguay', 'V. A. Sundaram', 'Viscount Haldane', 'Vladimir Lenin', 'W. E. B. Du Bois', 'Walter Isaacson', 'Wavefunction', 'White House', 'Wilfrid Israel', 'William Beveridge', 'Winston Churchill', 'Works by Albert Einstein', 'World Academy of Art and Science (WAAS)', 'World Digital Library', 'World War II', 'World federation', 'ZBW', 'Zionism', 'Zoellner family conservatory', 'Zürich', 'abandoned the Entwurf theory', 'abandoned the idea', 'abdominal aortic aneurysm', 'absent-minded professors', 'absorption refrigerator', 'academic journals', 'acceleration', 'accomplishments in Berlin', 'action taken on the first particle', 'aesthetic and moral reasons', 'affecting the other particle', 'afterlife', 'agnostic', 'algebra and geometry', 'angular momentum of electrons', 'annus mirabilis', 'annus mirabilis for physics', 'applying the field equations to the motion of a gravitational singularity', 'associate professorship', 'astrophysicist Mario Livio', 'atomic phenomena', 'black hole', 'black holes', 'black people', 'black student', 'bosons', 'capillary attraction', 'capitalism', \"cartoonist's dream come true\", 'celebrity scientist', 'chamber music', 'childlike', 'citizen of the world', 'civil rights of African Americans', 'claim', \"claim about Einstein's letter\", 'classical mechanics', 'closely orbiting neutron stars', 'conservation of angular momentum', 'cosmological constant', 'cosmological paper', 'crisis brewing in Europe', 'curvature of spacetime', 'curved path', 'danger that Germans would make atom bombs', 'de Broglie waves', 'death', 'deflection of light', 'determinism', 'diffusion phenomena', 'diploma handover', 'direct current', 'disputed', 'divorce settlement', 'dynamic, either contracting or expanding', 'editor of the 1937 edition of the Köchel catalog', 'element of reality', 'eleven research papers', 'entangled particles', 'equivalence principle', 'equivalent to each other', 'existence of molecules', 'experimental production', 'family tutor Max Talmud', 'fellow Nobel laureate', 'ferromagnetic materials', 'field equations', 'finite atomic size', 'first observation of gravitational waves', 'force in the world', 'freely falling bodies', 'friendly, self-confident, optimistic, and without envy', 'full professorship', 'fundamental flaw', 'general linear transformations', 'general relativistic field theory', 'general relativity', 'general theory of relativity', 'genius', 'geodesic equation', 'gravitation', 'gravitational force', 'gravitational lensing', 'gravitational redshift', 'gravitational time dilation', 'gravitational waves', 'hidden variables', 'high speeds', 'higher mathematics', 'his son', 'hole argument', 'impressed by', 'integral and differential calculus', 'intellectual icon', 'intellectuals and scientists', 'joy', 'junior teaching position at the University of Bern', 'kinematics', 'lecture on relativistic electrodynamics', 'life', 'light particles', 'luminiferous aether', 'mainstream of modern physics', 'mass and energy', 'mass–energy equivalence', 'mass–energy equivalence formula E=mc2', 'matter', 'membership award', 'meritocracy', 'middle part of his career', 'modern quantum mechanics', 'molecular physics', 'music', 'musician', 'named after Einstein', 'non-religious humanist', 'nonlocality', 'nuclear weapons development', 'optimistic', 'pacifist principles', 'path of a singular solution', 'personal god', 'philosophy of science', 'photoelectric effect', 'photoelectricity', 'photon', 'physical condition', 'physical interactions of gravity propagate at infinite speed', 'physicist', 'physicists and philosophers', \"physicists' understanding of the universe\", 'physics and mathematics', 'played with members of the Zoellner Quartet', 'popular press', 'popular quotations', 'profoundly stubborn', 'prominent people in British scientific, political or intellectual life', 'public access to private letters', 'purely physical effect on human temperament', 'quantization rules of Bohr and Sommerfeld', 'quantum entanglement', 'quantum information theory', 'quantum mechanics', 'quantum physics', 'quantum physics predictions', 'quantum theory', 'quantum theory of radiation', 'racism', 'racism in America', 'randomness', 'randomness of quantum mechanics', 'recession of galaxies', 'release from its care', 'representatives of the National Academy of Sciences', 'responsible and ethical advances of science', 'revolutionary', 'ripples in the curvature of spacetime', 'salvation for humanity', 'science and philosophy group', 'scientific celebrities', 'scientific community', 'seventeenth century', 'signing the letter to Roosevelt', 'socialism', 'son', 'spacetime', 'special relativity', 'special theory of relativity', 'speech', 'speech at Nobel banquet', 'spin and orbital motion of electrons', 'static universe of closed curvature', 'statistical mechanics', 'statistical model', 'statistical physics', 'statistical point of view', 'steady-state model of the expanding universe', 'straight-line path', 'strict rote learning', 'strictly vegetarian diet', 'structure and evolution of the universe as a whole', 'technical standards', 'terrorist bands', 'test', 'theory of critical opalescence', 'theory of relativity', 'thought process', 'time in Prague', 'unified field theory', 'universe', 'vegetarianism', 'very low temperatures', 'violin', 'visited', 'visited him in Princeton', 'visiting head of state', 'wavefunction', 'work on quantum physics of radiation', 'year 1919', 'Émigré physicist', 'İsmet İnönü'], ['7 November 1919', \"Eddington's work\", 'Newtonian ideas overthrown', 'The Times', 'banner headline', 'calculations', 'new theory of the universe', 'newspapers around the world', 'revolution in science'], ['Atomic bomb', \"Einstein's connections\", \"Einstein's meetings with Roosevelt\", 'Manhattan Project', 'U.S. adoption of serious investigations into nuclear weapons', 'US entering the race to develop the bomb', 'US entry into World War II', 'US resources', \"access with a personal envoy to the White House's Oval Office\", 'letter'], ['British', 'Catastrophe', 'Mislead and criminal people', 'Palestine', 'Terrorist organizations'], ['Burghölzli, the Psychiatric University Hospital in Zürich', \"Einstein's son Eduard\", 'care of his mother', 'schizophrenia', 'temporary confinement in an asylum'], ['Career', 'Childhood', 'Education', 'Life', 'Life and career', 'Youth'], ['Constant density', 'Cosmological constant', \"Einstein's expanding universe model\", \"Einstein's manuscript\", \"Einstein's steady-state model of the universe\", 'Equation (1)', 'Expanding universe model', \"Hubble's observations\", 'Physically bounded volume', \"Solution to account for Hubble's facts\"], ['Einstein and Otto Stern', \"Einstein's article in Physikalische Zeitschrift\", \"Planck's distribution law\", \"Planck's quantum theory\", 'experimental data', 'specific heat of hydrogen gas', 'statistics of atomic transitions', 'stimulated emission', 'zero-point energy'], [\"Einstein's equivalence principle\", \"Einstein's new theory\", 'Observations by Sir Arthur Eddington', 'Observer in an infinitesimally small box falling freely', 'Precession of the perihelion of Mercury', 'Ray of light from a distant star', 'Riemann curvature tensor', 'Sun as a gravitational lens', 'Total eclipse of the Sun on 29 May 1919'], ['Einstein–Cartan theory', 'Einstein–Rosen bridges', 'affine connection', 'gravitational field equations', 'spacetime curvature', 'theory avoiding point particles', 'torsion', 'unstable solutions'], ['Lenin', \"guardians and renewers of mankind's conscience\", 'men like him', 'methods', 'social justice'], ['Marriages', 'children', 'relationships'], [\"Max Planck's energy quanta\", 'photon concept', 'physics', 'wave-particle duality'], ['Persecution', 'Refugee', 'Refugee status', 'Status', 'Violence', 'War'], ['Propagation of Light', 'deflection of light by massive bodies', 'experimental testing', 'theoretical prediction of general relativity'], ['US', 'US citizenship'], ['carnivore', 'diet', 'fats', 'fish', 'health', 'meat', 'person', 'vegetarian'], ['coming to terms', 'fame', 'terms'], ['her impact on his thought', 'her scientific ideas', 'mirabilis publications', 'scholars']]\n"
     ]
    }
   ],
   "source": [
    "communities_generator = nx.community.girvan_newman(G)\n",
    "top_level_communities = next(communities_generator)\n",
    "next_level_communities = next(communities_generator)\n",
    "communities = sorted(map(sorted, next_level_communities))\n",
    "print(\"Number of Communities = \", len(communities))\n",
    "print(communities)"
   ]
  },
  {
   "cell_type": "code",
   "execution_count": 32,
   "id": "a0d857b8-95cc-47ca-9040-3e5f43ad0625",
   "metadata": {},
   "outputs": [
    {
     "name": "stdout",
     "output_type": "stream",
     "text": [
      "Albert Einstein {'title': 'Albert Einstein'}\n"
     ]
    }
   ],
   "source": [
    "for node in G.nodes():\n",
    "    print(node, G.nodes[node])\n",
    "    break"
   ]
  },
  {
   "cell_type": "code",
   "execution_count": 33,
   "id": "b81271f0-b122-45e7-be3d-bfdbecac8084",
   "metadata": {},
   "outputs": [],
   "source": [
    "################ Adding Communities to the graph #####\n",
    "import seaborn as sns\n",
    "import random\n",
    "palette = \"hls\"\n",
    "\n",
    "## Now add these colors to communities and make another dataframe\n",
    "def colors2Community(communities) -> pd.DataFrame:\n",
    "    ## Define a color palette\n",
    "    p = sns.color_palette(palette, len(communities)).as_hex()\n",
    "    random.shuffle(p)\n",
    "    rows = []\n",
    "    group = 0\n",
    "    for community in communities:\n",
    "        color = p.pop()\n",
    "        group += 1\n",
    "        for node in community:\n",
    "            rows += [{\"node\": node, \"color\": color, \"group\": group}]\n",
    "    df_colors = pd.DataFrame(rows)\n",
    "    return df_colors\n",
    "\n",
    "\n",
    "colors = colors2Community(communities)\n",
    "\n",
    "for index, row in colors.iterrows():\n",
    "    G.nodes[row['node']]['group'] = row['group']\n",
    "    G.nodes[row['node']]['color'] = row['color']\n",
    "    G.nodes[row['node']]['size'] = min(G.degree[row['node']],100)"
   ]
  },
  {
   "cell_type": "code",
   "execution_count": 34,
   "id": "f3b6f837-13bf-4b83-bcd2-26a0b603efc6",
   "metadata": {},
   "outputs": [
    {
     "name": "stdout",
     "output_type": "stream",
     "text": [
      "Albert Einstein {'title': 'Albert Einstein', 'group': 1, 'color': '#b0db57', 'size': 100}\n"
     ]
    }
   ],
   "source": [
    "for node in G.nodes():\n",
    "    print(node, G.nodes[node])\n",
    "    break"
   ]
  },
  {
   "cell_type": "markdown",
   "id": "88dfafdb-b33c-41a1-bd21-8703ade854ba",
   "metadata": {},
   "source": [
    "## Visualize the Knowledge Graph"
   ]
  },
  {
   "cell_type": "code",
   "execution_count": 407,
   "id": "bd0478ec-043a-409c-8e87-b17a3fa5eb56",
   "metadata": {},
   "outputs": [
    {
     "name": "stdout",
     "output_type": "stream",
     "text": [
      "./output/index.html\n"
     ]
    },
    {
     "name": "stderr",
     "output_type": "stream",
     "text": [
      "huggingface/tokenizers: The current process just got forked, after parallelism has already been used. Disabling parallelism to avoid deadlocks...\n",
      "To disable this warning, you can either:\n",
      "\t- Avoid using `tokenizers` before the fork if possible\n",
      "\t- Explicitly set the environment variable TOKENIZERS_PARALLELISM=(true | false)\n"
     ]
    }
   ],
   "source": [
    "################ Visualize the graph #################\n",
    "from pyvis.network import Network\n",
    "\n",
    "graph_output_directory = \"./output/index.html\"\n",
    "\n",
    "net = Network(\n",
    "    notebook=False,\n",
    "    cdn_resources=\"remote\",\n",
    "    height=\"900px\",\n",
    "    width=\"100%\",\n",
    "    select_menu=True,\n",
    "    filter_menu=True,\n",
    "    bgcolor=\"#222222\", \n",
    "    font_color=\"white\"\n",
    ")\n",
    "\n",
    "net.from_nx(G)\n",
    "# net.repulsion(node_distance=150, spring_length=400)\n",
    "net.force_atlas_2based(central_gravity=0.015, gravity=-31)\n",
    "# net.barnes_hut(gravity=-18100, central_gravity=5.05, spring_length=380)\n",
    "net.show_buttons(filter_=[\"physics\"])\n",
    "\n",
    "net.show(graph_output_directory, notebook=False)"
   ]
  },
  {
   "cell_type": "code",
   "execution_count": null,
   "id": "8a8e3bfe-416a-4a48-8d03-cd34cf232814",
   "metadata": {},
   "outputs": [],
   "source": []
  }
 ],
 "metadata": {
  "kernelspec": {
   "display_name": "Python 3 (ipykernel)",
   "language": "python",
   "name": "python3"
  },
  "language_info": {
   "codemirror_mode": {
    "name": "ipython",
    "version": 3
   },
   "file_extension": ".py",
   "mimetype": "text/x-python",
   "name": "python",
   "nbconvert_exporter": "python",
   "pygments_lexer": "ipython3",
   "version": "3.11.5"
  }
 },
 "nbformat": 4,
 "nbformat_minor": 5
}
